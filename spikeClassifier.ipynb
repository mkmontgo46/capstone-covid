{
 "cells": [
  {
   "cell_type": "code",
   "execution_count": 1,
   "id": "a02ed21b-a28d-4bf9-98c1-b3539408f47e",
   "metadata": {},
   "outputs": [],
   "source": [
    "# Python ≥3.5 is required\n",
    "import sys\n",
    "assert sys.version_info >= (3, 5)\n",
    "\n",
    "# Is this notebook running on Colab or Kaggle?\n",
    "IS_COLAB = \"google.colab\" in sys.modules\n",
    "IS_KAGGLE = \"kaggle_secrets\" in sys.modules\n",
    "\n",
    "# Scikit-Learn ≥0.20 is required\n",
    "import sklearn\n",
    "assert sklearn.__version__ >= \"0.20\"\n",
    "\n",
    "# Common imports\n",
    "import numpy as np\n",
    "import os\n",
    "import pandas as pd\n",
    "\n",
    "# to make this notebook's output stable across runs\n",
    "np.random.seed(42)\n",
    "\n",
    "# To plot pretty figures\n",
    "%matplotlib inline\n",
    "import matplotlib as mpl\n",
    "import matplotlib.pyplot as plt\n",
    "mpl.rc('axes', labelsize=14)\n",
    "mpl.rc('xtick', labelsize=12)\n",
    "mpl.rc('ytick', labelsize=12)\n",
    "\n",
    "# Where to save the figures\n",
    "PROJECT_ROOT_DIR = \".\"\n",
    "CHAPTER_ID = \"classification\"\n",
    "IMAGES_PATH = os.path.join(PROJECT_ROOT_DIR, \"images\", CHAPTER_ID)\n",
    "os.makedirs(IMAGES_PATH, exist_ok=True)\n",
    "\n",
    "def save_fig(fig_id, tight_layout=True, fig_extension=\"png\", resolution=300):\n",
    "    path = os.path.join(IMAGES_PATH, fig_id + \".\" + fig_extension)\n",
    "    print(\"Saving figure\", fig_id)\n",
    "    if tight_layout:\n",
    "        plt.tight_layout()\n",
    "    plt.savefig(path, format=fig_extension, dpi=resolution)"
   ]
  },
  {
   "cell_type": "code",
   "execution_count": 2,
   "id": "966b67ca-eb92-49f2-b86d-0a3999c00a70",
   "metadata": {},
   "outputs": [],
   "source": [
    "open_df = pd.read_csv('./FinalExtractedFeature_open.csv',).assign(label = 1).iloc[:,1:]"
   ]
  },
  {
   "cell_type": "code",
   "execution_count": 3,
   "id": "b931a59c-d05a-48cc-9f8d-0de89c7155b2",
   "metadata": {},
   "outputs": [
    {
     "name": "stdout",
     "output_type": "stream",
     "text": [
      "open dcd size : (1725, 69)\n"
     ]
    },
    {
     "data": {
      "text/html": [
       "<div>\n",
       "<style scoped>\n",
       "    .dataframe tbody tr th:only-of-type {\n",
       "        vertical-align: middle;\n",
       "    }\n",
       "\n",
       "    .dataframe tbody tr th {\n",
       "        vertical-align: top;\n",
       "    }\n",
       "\n",
       "    .dataframe thead th {\n",
       "        text-align: right;\n",
       "    }\n",
       "</style>\n",
       "<table border=\"1\" class=\"dataframe\">\n",
       "  <thead>\n",
       "    <tr style=\"text-align: right;\">\n",
       "      <th></th>\n",
       "      <th>frame</th>\n",
       "      <th>RBD_CA0:ROF</th>\n",
       "      <th>RBD_CA0:DNS</th>\n",
       "      <th>RBD_CA0:RMSD</th>\n",
       "      <th>RBD__2__CH_CA0</th>\n",
       "      <th>CH_CA0:ROF</th>\n",
       "      <th>CH_CA0:DNS</th>\n",
       "      <th>CH_CA0:RMSD</th>\n",
       "      <th>RBD__2__GLY10</th>\n",
       "      <th>GLY10:ROF</th>\n",
       "      <th>...</th>\n",
       "      <th>GLY56:RMSD</th>\n",
       "      <th>RBD__2__GLY58</th>\n",
       "      <th>GLY58:ROF</th>\n",
       "      <th>GLY58:DNS</th>\n",
       "      <th>GLY58:RMSD</th>\n",
       "      <th>RBD__2__backbone0</th>\n",
       "      <th>backbone0:ROF</th>\n",
       "      <th>backbone0:DNS</th>\n",
       "      <th>backbone0:RMSD</th>\n",
       "      <th>label</th>\n",
       "    </tr>\n",
       "  </thead>\n",
       "  <tbody>\n",
       "    <tr>\n",
       "      <th>0</th>\n",
       "      <td>frame_0</td>\n",
       "      <td>2.105982</td>\n",
       "      <td>0.839280</td>\n",
       "      <td>0.128618</td>\n",
       "      <td>8.828175</td>\n",
       "      <td>2.437207</td>\n",
       "      <td>0.296462</td>\n",
       "      <td>0.061250</td>\n",
       "      <td>3.157971</td>\n",
       "      <td>2.113537</td>\n",
       "      <td>...</td>\n",
       "      <td>0.262969</td>\n",
       "      <td>3.948743</td>\n",
       "      <td>3.192792</td>\n",
       "      <td>0.423470</td>\n",
       "      <td>0.215539</td>\n",
       "      <td>4.409722</td>\n",
       "      <td>4.913590</td>\n",
       "      <td>63.391320</td>\n",
       "      <td>0.103145</td>\n",
       "      <td>1</td>\n",
       "    </tr>\n",
       "    <tr>\n",
       "      <th>1</th>\n",
       "      <td>frame_1</td>\n",
       "      <td>2.103642</td>\n",
       "      <td>0.838257</td>\n",
       "      <td>0.094569</td>\n",
       "      <td>8.787868</td>\n",
       "      <td>2.437787</td>\n",
       "      <td>0.296101</td>\n",
       "      <td>0.075301</td>\n",
       "      <td>3.196104</td>\n",
       "      <td>2.142439</td>\n",
       "      <td>...</td>\n",
       "      <td>0.350527</td>\n",
       "      <td>3.964091</td>\n",
       "      <td>3.199213</td>\n",
       "      <td>0.422954</td>\n",
       "      <td>0.210782</td>\n",
       "      <td>4.387363</td>\n",
       "      <td>4.901446</td>\n",
       "      <td>63.314102</td>\n",
       "      <td>0.109079</td>\n",
       "      <td>1</td>\n",
       "    </tr>\n",
       "    <tr>\n",
       "      <th>2</th>\n",
       "      <td>frame_2</td>\n",
       "      <td>2.107826</td>\n",
       "      <td>0.839102</td>\n",
       "      <td>0.157485</td>\n",
       "      <td>8.770026</td>\n",
       "      <td>2.451860</td>\n",
       "      <td>0.296399</td>\n",
       "      <td>0.080360</td>\n",
       "      <td>3.165538</td>\n",
       "      <td>2.145147</td>\n",
       "      <td>...</td>\n",
       "      <td>0.451907</td>\n",
       "      <td>4.007900</td>\n",
       "      <td>3.134043</td>\n",
       "      <td>0.423381</td>\n",
       "      <td>0.224196</td>\n",
       "      <td>4.393290</td>\n",
       "      <td>4.903788</td>\n",
       "      <td>63.377930</td>\n",
       "      <td>0.130064</td>\n",
       "      <td>1</td>\n",
       "    </tr>\n",
       "    <tr>\n",
       "      <th>3</th>\n",
       "      <td>frame_3</td>\n",
       "      <td>2.119081</td>\n",
       "      <td>0.838189</td>\n",
       "      <td>0.179901</td>\n",
       "      <td>8.834404</td>\n",
       "      <td>2.428568</td>\n",
       "      <td>0.296077</td>\n",
       "      <td>0.073703</td>\n",
       "      <td>3.149749</td>\n",
       "      <td>2.103324</td>\n",
       "      <td>...</td>\n",
       "      <td>0.554632</td>\n",
       "      <td>4.024270</td>\n",
       "      <td>3.201054</td>\n",
       "      <td>0.422920</td>\n",
       "      <td>0.302514</td>\n",
       "      <td>4.424200</td>\n",
       "      <td>4.904225</td>\n",
       "      <td>63.308914</td>\n",
       "      <td>0.131233</td>\n",
       "      <td>1</td>\n",
       "    </tr>\n",
       "    <tr>\n",
       "      <th>4</th>\n",
       "      <td>frame_4</td>\n",
       "      <td>2.113981</td>\n",
       "      <td>0.837809</td>\n",
       "      <td>0.190200</td>\n",
       "      <td>8.836429</td>\n",
       "      <td>2.417723</td>\n",
       "      <td>0.295942</td>\n",
       "      <td>0.076017</td>\n",
       "      <td>3.113932</td>\n",
       "      <td>2.143304</td>\n",
       "      <td>...</td>\n",
       "      <td>0.617099</td>\n",
       "      <td>3.972770</td>\n",
       "      <td>3.110396</td>\n",
       "      <td>0.422728</td>\n",
       "      <td>0.451556</td>\n",
       "      <td>4.446843</td>\n",
       "      <td>4.906005</td>\n",
       "      <td>63.280200</td>\n",
       "      <td>0.128164</td>\n",
       "      <td>1</td>\n",
       "    </tr>\n",
       "  </tbody>\n",
       "</table>\n",
       "<p>5 rows × 69 columns</p>\n",
       "</div>"
      ],
      "text/plain": [
       "     frame  RBD_CA0:ROF  RBD_CA0:DNS  RBD_CA0:RMSD  RBD__2__CH_CA0  \\\n",
       "0  frame_0     2.105982     0.839280      0.128618        8.828175   \n",
       "1  frame_1     2.103642     0.838257      0.094569        8.787868   \n",
       "2  frame_2     2.107826     0.839102      0.157485        8.770026   \n",
       "3  frame_3     2.119081     0.838189      0.179901        8.834404   \n",
       "4  frame_4     2.113981     0.837809      0.190200        8.836429   \n",
       "\n",
       "   CH_CA0:ROF  CH_CA0:DNS  CH_CA0:RMSD  RBD__2__GLY10  GLY10:ROF  ...  \\\n",
       "0    2.437207    0.296462     0.061250       3.157971   2.113537  ...   \n",
       "1    2.437787    0.296101     0.075301       3.196104   2.142439  ...   \n",
       "2    2.451860    0.296399     0.080360       3.165538   2.145147  ...   \n",
       "3    2.428568    0.296077     0.073703       3.149749   2.103324  ...   \n",
       "4    2.417723    0.295942     0.076017       3.113932   2.143304  ...   \n",
       "\n",
       "   GLY56:RMSD  RBD__2__GLY58  GLY58:ROF  GLY58:DNS  GLY58:RMSD  \\\n",
       "0    0.262969       3.948743   3.192792   0.423470    0.215539   \n",
       "1    0.350527       3.964091   3.199213   0.422954    0.210782   \n",
       "2    0.451907       4.007900   3.134043   0.423381    0.224196   \n",
       "3    0.554632       4.024270   3.201054   0.422920    0.302514   \n",
       "4    0.617099       3.972770   3.110396   0.422728    0.451556   \n",
       "\n",
       "   RBD__2__backbone0  backbone0:ROF  backbone0:DNS  backbone0:RMSD  label  \n",
       "0           4.409722       4.913590      63.391320        0.103145      1  \n",
       "1           4.387363       4.901446      63.314102        0.109079      1  \n",
       "2           4.393290       4.903788      63.377930        0.130064      1  \n",
       "3           4.424200       4.904225      63.308914        0.131233      1  \n",
       "4           4.446843       4.906005      63.280200        0.128164      1  \n",
       "\n",
       "[5 rows x 69 columns]"
      ]
     },
     "execution_count": 3,
     "metadata": {},
     "output_type": "execute_result"
    }
   ],
   "source": [
    "print(f'open dcd size : {open_df.shape}')\n",
    "open_df.head()"
   ]
  },
  {
   "cell_type": "code",
   "execution_count": 4,
   "id": "1ec8c9bc-10f4-4dc7-9cf4-f75b59e11b75",
   "metadata": {},
   "outputs": [],
   "source": [
    "closed_df = pd.read_csv('./FinalExtractedFeature_close.csv').assign(label = 0).iloc[:,1:]"
   ]
  },
  {
   "cell_type": "code",
   "execution_count": 5,
   "id": "d07d649b-8fba-414a-897c-d570f09f0655",
   "metadata": {},
   "outputs": [
    {
     "name": "stdout",
     "output_type": "stream",
     "text": [
      "closed dcd size : (5435, 49)\n"
     ]
    },
    {
     "data": {
      "text/html": [
       "<div>\n",
       "<style scoped>\n",
       "    .dataframe tbody tr th:only-of-type {\n",
       "        vertical-align: middle;\n",
       "    }\n",
       "\n",
       "    .dataframe tbody tr th {\n",
       "        vertical-align: top;\n",
       "    }\n",
       "\n",
       "    .dataframe thead th {\n",
       "        text-align: right;\n",
       "    }\n",
       "</style>\n",
       "<table border=\"1\" class=\"dataframe\">\n",
       "  <thead>\n",
       "    <tr style=\"text-align: right;\">\n",
       "      <th></th>\n",
       "      <th>frame</th>\n",
       "      <th>RBD_CA0:ROF</th>\n",
       "      <th>RBD_CA0:DNS</th>\n",
       "      <th>RBD_CA0:RMSD</th>\n",
       "      <th>RBD__2__CH_CA0</th>\n",
       "      <th>CH_CA0:ROF</th>\n",
       "      <th>CH_CA0:DNS</th>\n",
       "      <th>CH_CA0:RMSD</th>\n",
       "      <th>RBD__2__GLY12</th>\n",
       "      <th>GLY12:ROF</th>\n",
       "      <th>...</th>\n",
       "      <th>GLY49:RMSD</th>\n",
       "      <th>RBD__2__GLY50</th>\n",
       "      <th>GLY50:ROF</th>\n",
       "      <th>GLY50:DNS</th>\n",
       "      <th>GLY50:RMSD</th>\n",
       "      <th>RBD__2__backbone0</th>\n",
       "      <th>backbone0:ROF</th>\n",
       "      <th>backbone0:DNS</th>\n",
       "      <th>backbone0:RMSD</th>\n",
       "      <th>label</th>\n",
       "    </tr>\n",
       "  </thead>\n",
       "  <tbody>\n",
       "    <tr>\n",
       "      <th>0</th>\n",
       "      <td>frame_0</td>\n",
       "      <td>2.064992</td>\n",
       "      <td>0.245476</td>\n",
       "      <td>0.104537</td>\n",
       "      <td>7.011860</td>\n",
       "      <td>2.440622</td>\n",
       "      <td>0.133119</td>\n",
       "      <td>0.071946</td>\n",
       "      <td>3.802652</td>\n",
       "      <td>2.051790</td>\n",
       "      <td>...</td>\n",
       "      <td>0.134942</td>\n",
       "      <td>2.697315</td>\n",
       "      <td>4.052563</td>\n",
       "      <td>0.123859</td>\n",
       "      <td>0.265223</td>\n",
       "      <td>6.132472</td>\n",
       "      <td>7.333359</td>\n",
       "      <td>20.699986</td>\n",
       "      <td>0.137631</td>\n",
       "      <td>0</td>\n",
       "    </tr>\n",
       "    <tr>\n",
       "      <th>1</th>\n",
       "      <td>frame_1</td>\n",
       "      <td>2.082220</td>\n",
       "      <td>0.245485</td>\n",
       "      <td>0.142265</td>\n",
       "      <td>7.059966</td>\n",
       "      <td>2.451281</td>\n",
       "      <td>0.133124</td>\n",
       "      <td>0.067347</td>\n",
       "      <td>3.886217</td>\n",
       "      <td>2.006260</td>\n",
       "      <td>...</td>\n",
       "      <td>0.167273</td>\n",
       "      <td>2.680130</td>\n",
       "      <td>4.009193</td>\n",
       "      <td>0.123863</td>\n",
       "      <td>0.262429</td>\n",
       "      <td>6.172430</td>\n",
       "      <td>7.338856</td>\n",
       "      <td>20.700733</td>\n",
       "      <td>0.161682</td>\n",
       "      <td>0</td>\n",
       "    </tr>\n",
       "    <tr>\n",
       "      <th>2</th>\n",
       "      <td>frame_2</td>\n",
       "      <td>2.079883</td>\n",
       "      <td>0.245602</td>\n",
       "      <td>0.168931</td>\n",
       "      <td>7.061981</td>\n",
       "      <td>2.428138</td>\n",
       "      <td>0.133187</td>\n",
       "      <td>0.075575</td>\n",
       "      <td>3.975016</td>\n",
       "      <td>1.967352</td>\n",
       "      <td>...</td>\n",
       "      <td>0.173768</td>\n",
       "      <td>2.751318</td>\n",
       "      <td>4.020995</td>\n",
       "      <td>0.123922</td>\n",
       "      <td>0.287602</td>\n",
       "      <td>6.154211</td>\n",
       "      <td>7.331262</td>\n",
       "      <td>20.710602</td>\n",
       "      <td>0.173915</td>\n",
       "      <td>0</td>\n",
       "    </tr>\n",
       "    <tr>\n",
       "      <th>3</th>\n",
       "      <td>frame_3</td>\n",
       "      <td>2.105020</td>\n",
       "      <td>0.245436</td>\n",
       "      <td>0.156687</td>\n",
       "      <td>7.035488</td>\n",
       "      <td>2.423324</td>\n",
       "      <td>0.133097</td>\n",
       "      <td>0.076875</td>\n",
       "      <td>3.819205</td>\n",
       "      <td>2.034110</td>\n",
       "      <td>...</td>\n",
       "      <td>0.142312</td>\n",
       "      <td>2.686773</td>\n",
       "      <td>4.048179</td>\n",
       "      <td>0.123838</td>\n",
       "      <td>0.359175</td>\n",
       "      <td>6.143025</td>\n",
       "      <td>7.325061</td>\n",
       "      <td>20.696592</td>\n",
       "      <td>0.189567</td>\n",
       "      <td>0</td>\n",
       "    </tr>\n",
       "    <tr>\n",
       "      <th>4</th>\n",
       "      <td>frame_4</td>\n",
       "      <td>2.107028</td>\n",
       "      <td>0.245459</td>\n",
       "      <td>0.128242</td>\n",
       "      <td>6.968371</td>\n",
       "      <td>2.426547</td>\n",
       "      <td>0.133109</td>\n",
       "      <td>0.086771</td>\n",
       "      <td>3.884356</td>\n",
       "      <td>1.992679</td>\n",
       "      <td>...</td>\n",
       "      <td>0.170484</td>\n",
       "      <td>2.742874</td>\n",
       "      <td>4.042894</td>\n",
       "      <td>0.123850</td>\n",
       "      <td>0.385640</td>\n",
       "      <td>6.106590</td>\n",
       "      <td>7.313821</td>\n",
       "      <td>20.698494</td>\n",
       "      <td>0.198229</td>\n",
       "      <td>0</td>\n",
       "    </tr>\n",
       "  </tbody>\n",
       "</table>\n",
       "<p>5 rows × 49 columns</p>\n",
       "</div>"
      ],
      "text/plain": [
       "     frame  RBD_CA0:ROF  RBD_CA0:DNS  RBD_CA0:RMSD  RBD__2__CH_CA0  \\\n",
       "0  frame_0     2.064992     0.245476      0.104537        7.011860   \n",
       "1  frame_1     2.082220     0.245485      0.142265        7.059966   \n",
       "2  frame_2     2.079883     0.245602      0.168931        7.061981   \n",
       "3  frame_3     2.105020     0.245436      0.156687        7.035488   \n",
       "4  frame_4     2.107028     0.245459      0.128242        6.968371   \n",
       "\n",
       "   CH_CA0:ROF  CH_CA0:DNS  CH_CA0:RMSD  RBD__2__GLY12  GLY12:ROF  ...  \\\n",
       "0    2.440622    0.133119     0.071946       3.802652   2.051790  ...   \n",
       "1    2.451281    0.133124     0.067347       3.886217   2.006260  ...   \n",
       "2    2.428138    0.133187     0.075575       3.975016   1.967352  ...   \n",
       "3    2.423324    0.133097     0.076875       3.819205   2.034110  ...   \n",
       "4    2.426547    0.133109     0.086771       3.884356   1.992679  ...   \n",
       "\n",
       "   GLY49:RMSD  RBD__2__GLY50  GLY50:ROF  GLY50:DNS  GLY50:RMSD  \\\n",
       "0    0.134942       2.697315   4.052563   0.123859    0.265223   \n",
       "1    0.167273       2.680130   4.009193   0.123863    0.262429   \n",
       "2    0.173768       2.751318   4.020995   0.123922    0.287602   \n",
       "3    0.142312       2.686773   4.048179   0.123838    0.359175   \n",
       "4    0.170484       2.742874   4.042894   0.123850    0.385640   \n",
       "\n",
       "   RBD__2__backbone0  backbone0:ROF  backbone0:DNS  backbone0:RMSD  label  \n",
       "0           6.132472       7.333359      20.699986        0.137631      0  \n",
       "1           6.172430       7.338856      20.700733        0.161682      0  \n",
       "2           6.154211       7.331262      20.710602        0.173915      0  \n",
       "3           6.143025       7.325061      20.696592        0.189567      0  \n",
       "4           6.106590       7.313821      20.698494        0.198229      0  \n",
       "\n",
       "[5 rows x 49 columns]"
      ]
     },
     "execution_count": 5,
     "metadata": {},
     "output_type": "execute_result"
    }
   ],
   "source": [
    "print(f'closed dcd size : {closed_df.shape}')\n",
    "closed_df.head()"
   ]
  },
  {
   "cell_type": "code",
   "execution_count": 6,
   "id": "b885654e-f111-4eaf-8b3d-b6ae525ca3f6",
   "metadata": {},
   "outputs": [
    {
     "name": "stderr",
     "output_type": "stream",
     "text": [
      "<ipython-input-6-c2737a41af19>:2: FutureWarning: Passing a set as an indexer is deprecated and will raise in a future version. Use a list instead.\n",
      "  full_df = open_df.loc[:,common_cols].append(closed_df.loc[:,common_cols]).drop(['frame'],axis=1)\n",
      "<ipython-input-6-c2737a41af19>:2: FutureWarning: Passing a set as an indexer is deprecated and will raise in a future version. Use a list instead.\n",
      "  full_df = open_df.loc[:,common_cols].append(closed_df.loc[:,common_cols]).drop(['frame'],axis=1)\n",
      "<ipython-input-6-c2737a41af19>:2: FutureWarning: The frame.append method is deprecated and will be removed from pandas in a future version. Use pandas.concat instead.\n",
      "  full_df = open_df.loc[:,common_cols].append(closed_df.loc[:,common_cols]).drop(['frame'],axis=1)\n"
     ]
    },
    {
     "data": {
      "text/plain": [
       "(7160, 28)"
      ]
     },
     "execution_count": 6,
     "metadata": {},
     "output_type": "execute_result"
    }
   ],
   "source": [
    "common_cols = set(open_df.columns.to_list()).intersection(closed_df.columns.to_list())\n",
    "full_df = open_df.loc[:,common_cols].append(closed_df.loc[:,common_cols]).drop(['frame'],axis=1)\n",
    "full_df.shape"
   ]
  },
  {
   "cell_type": "markdown",
   "id": "104dfaeb-174b-4957-a8de-2c332b6f111e",
   "metadata": {},
   "source": [
    "## Looking for Correlations"
   ]
  },
  {
   "cell_type": "code",
   "execution_count": 8,
   "id": "6645ae0e-801a-4a15-bb99-bd143aca31ff",
   "metadata": {},
   "outputs": [],
   "source": [
    "corr_matrix = full_df.corr()\n",
    "final_features = corr_matrix['RBD_CA0:RMSD'][(corr_matrix['RBD_CA0:RMSD'] < 0.65) & (corr_matrix['RBD_CA0:RMSD'] > -0.65)].reset_index().loc[:,'index'].to_list()\n",
    "clf_df = full_df.loc[:,final_features]"
   ]
  },
  {
   "cell_type": "code",
   "execution_count": 9,
   "id": "4a0d92a3-89ec-4c58-80c9-ebf4ba851c14",
   "metadata": {},
   "outputs": [
    {
     "name": "stdout",
     "output_type": "stream",
     "text": [
      "Train set : (5012, 27), Test set : (2148, 27)\n"
     ]
    }
   ],
   "source": [
    "from sklearn.model_selection import train_test_split\n",
    "train_set, test_set = train_test_split(clf_df,test_size=0.3, random_state=42,stratify=full_df.label)\n",
    "print(f'Train set : {train_set.shape}, Test set : {test_set.shape}')"
   ]
  },
  {
   "cell_type": "markdown",
   "id": "0eda6938-3b4d-48f1-8386-847fce32375f",
   "metadata": {},
   "source": [
    "# Prepare the Data for Machine Learning Algorithms"
   ]
  },
  {
   "cell_type": "code",
   "execution_count": 10,
   "id": "282dc6ee-6e66-4a5c-b175-be965c60f0f4",
   "metadata": {},
   "outputs": [
    {
     "data": {
      "text/plain": [
       "((5012, 26), (5012,))"
      ]
     },
     "execution_count": 10,
     "metadata": {},
     "output_type": "execute_result"
    }
   ],
   "source": [
    "train_X = train_set.drop(\"label\", axis=1) # drop labels for training set\n",
    "train_labels = train_set[\"label\"].copy()\n",
    "train_X.shape,train_labels.shape"
   ]
  },
  {
   "cell_type": "code",
   "execution_count": 20,
   "id": "808a68b5-7113-431a-92e7-b50317cc0cd9",
   "metadata": {},
   "outputs": [
    {
     "data": {
      "text/plain": [
       "((2148, 26), (2148,))"
      ]
     },
     "execution_count": 20,
     "metadata": {},
     "output_type": "execute_result"
    }
   ],
   "source": [
    "test_X = test_set.drop(\"label\", axis=1) # drop labels for training set\n",
    "test_labels = test_set[\"label\"].copy()\n",
    "test_X.shape, test_labels.shape"
   ]
  },
  {
   "cell_type": "code",
   "execution_count": 52,
   "id": "23f4e771-2ece-4781-afd9-2300d2531e0e",
   "metadata": {},
   "outputs": [],
   "source": [
    "from sklearn.pipeline import Pipeline\n",
    "from sklearn.preprocessing import StandardScaler\n",
    "\n",
    "num_pipeline = Pipeline([\n",
    "       ('std_scaler', StandardScaler()),\n",
    "    ])\n",
    "\n",
    "train_X_prepared = num_pipeline.fit_transform(train_X)\n",
    "test_X_prepared = num_pipeline.transform(test_X)"
   ]
  },
  {
   "cell_type": "code",
   "execution_count": 36,
   "id": "3366204e-1081-4904-a05d-733fa15628ce",
   "metadata": {},
   "outputs": [],
   "source": [
    "from sklearn.linear_model import SGDClassifier\n",
    "sgd_clf = SGDClassifier(max_iter=100, tol=1e-3, random_state=42)"
   ]
  },
  {
   "cell_type": "code",
   "execution_count": 53,
   "id": "aba14996-5bcf-401f-b067-ae6bcce5a33c",
   "metadata": {},
   "outputs": [
    {
     "data": {
      "text/plain": [
       "array([1., 1., 1., 1., 1., 1., 1., 1., 1., 1.])"
      ]
     },
     "execution_count": 53,
     "metadata": {},
     "output_type": "execute_result"
    }
   ],
   "source": [
    "from sklearn.model_selection import cross_val_score,cross_val_predict\n",
    "y_train_pred = cross_val_predict(sgd_clf,train_X_prepared, train_labels, cv=10)\n",
    "cross_val_score(sgd_clf, train_X_prepared, train_labels, cv=10, scoring=\"accuracy\")"
   ]
  },
  {
   "cell_type": "markdown",
   "id": "3750eaaf-8215-4f7c-a3fc-21fdee87b7ef",
   "metadata": {},
   "source": [
    "## Precision and Recall"
   ]
  },
  {
   "cell_type": "code",
   "execution_count": 73,
   "id": "9f81fb9c-934d-4d0d-a1e8-c04a04d34227",
   "metadata": {},
   "outputs": [
    {
     "name": "stdout",
     "output_type": "stream",
     "text": [
      " Train precison : 1.0, train recall 1.0\n"
     ]
    }
   ],
   "source": [
    "from sklearn.metrics import confusion_matrix\n",
    "from sklearn.metrics import precision_score, recall_score\n",
    "confusion_matrix(train_labels, y_train_pred)\n",
    "print(f' Train precison : {precision_score(train_labels, y_train_pred)}, train recall {recall_score(train_labels, y_train_pred)}')"
   ]
  },
  {
   "cell_type": "code",
   "execution_count": 74,
   "id": "b12e888f-b861-43a8-bdf4-2ec963f8263d",
   "metadata": {},
   "outputs": [
    {
     "name": "stdout",
     "output_type": "stream",
     "text": [
      " Test precison : 1.0, Test recall 1.0\n"
     ]
    },
    {
     "data": {
      "application/vnd.plotly.v1+json": {
       "config": {
        "plotlyServerURL": "https://plot.ly"
       },
       "data": [
        {
         "alignmentgroup": "True",
         "hovertemplate": "x=%{x}<br>y=%{y}<br>color=%{marker.color}<extra></extra>",
         "legendgroup": "",
         "marker": {
          "color": [
           1.4959904799141786,
           1.0161607228761813,
           0.1794080658218396,
           0.08789234099267915,
           1.2962422355185506,
           -0.4193298143610982,
           1.5264963630132304,
           -0.4174506214881762,
           -1.1890977864579984,
           1.2960099621306735,
           -1.2950340244135092,
           0.60677300107382,
           -1.083758642109388,
           1.2960186117559844,
           1.524488750283437,
           0.30961837435518036,
           -0.3974686727134429,
           0.44574197090210504,
           1.2960100988465548,
           1.2961494031410778,
           -0.5809384819761264,
           0.18635691032844323,
           1.729854933246515,
           1.296010157231802,
           1.2960576700828064,
           -0.15924669271612735
          ],
          "coloraxis": "coloraxis",
          "pattern": {
           "shape": ""
          }
         },
         "name": "",
         "offsetgroup": "",
         "orientation": "v",
         "showlegend": false,
         "textposition": "auto",
         "type": "bar",
         "x": [
          "RBD__2__GLY14",
          "RBD__2__GLY13",
          "CH_CA0:ROF",
          "GLY13:ROF",
          "GLY14:DNS",
          "GLY14:ROF",
          "RBD_CA0:ROF",
          "RBD__2__backbone0",
          "GLY14:RMSD",
          "RBD_CA0:DNS",
          "backbone0:ROF",
          "CH_CA0:RMSD",
          "GLY12:RMSD",
          "backbone0:DNS",
          "GLY12:ROF",
          "GLY4:RMSD",
          "GLY4:ROF",
          "RBD__2__GLY4",
          "GLY4:DNS",
          "GLY13:DNS",
          "GLY13:RMSD",
          "RBD__2__GLY12",
          "RBD__2__CH_CA0",
          "GLY12:DNS",
          "CH_CA0:DNS",
          "backbone0:RMSD"
         ],
         "xaxis": "x",
         "y": [
          1.4959904799141786,
          1.0161607228761813,
          0.1794080658218396,
          0.08789234099267915,
          1.2962422355185506,
          -0.4193298143610982,
          1.5264963630132304,
          -0.4174506214881762,
          -1.1890977864579984,
          1.2960099621306735,
          -1.2950340244135092,
          0.60677300107382,
          -1.083758642109388,
          1.2960186117559844,
          1.524488750283437,
          0.30961837435518036,
          -0.3974686727134429,
          0.44574197090210504,
          1.2960100988465548,
          1.2961494031410778,
          -0.5809384819761264,
          0.18635691032844323,
          1.729854933246515,
          1.296010157231802,
          1.2960576700828064,
          -0.15924669271612735
         ],
         "yaxis": "y"
        }
       ],
       "layout": {
        "autosize": true,
        "barmode": "relative",
        "coloraxis": {
         "colorbar": {
          "title": {
           "text": "color"
          }
         },
         "colorscale": [
          [
           0,
           "#0d0887"
          ],
          [
           0.1111111111111111,
           "#46039f"
          ],
          [
           0.2222222222222222,
           "#7201a8"
          ],
          [
           0.3333333333333333,
           "#9c179e"
          ],
          [
           0.4444444444444444,
           "#bd3786"
          ],
          [
           0.5555555555555556,
           "#d8576b"
          ],
          [
           0.6666666666666666,
           "#ed7953"
          ],
          [
           0.7777777777777778,
           "#fb9f3a"
          ],
          [
           0.8888888888888888,
           "#fdca26"
          ],
          [
           1,
           "#f0f921"
          ]
         ]
        },
        "legend": {
         "tracegroupgap": 0
        },
        "margin": {
         "t": 60
        },
        "template": {
         "data": {
          "bar": [
           {
            "error_x": {
             "color": "#2a3f5f"
            },
            "error_y": {
             "color": "#2a3f5f"
            },
            "marker": {
             "line": {
              "color": "#E5ECF6",
              "width": 0.5
             },
             "pattern": {
              "fillmode": "overlay",
              "size": 10,
              "solidity": 0.2
             }
            },
            "type": "bar"
           }
          ],
          "barpolar": [
           {
            "marker": {
             "line": {
              "color": "#E5ECF6",
              "width": 0.5
             },
             "pattern": {
              "fillmode": "overlay",
              "size": 10,
              "solidity": 0.2
             }
            },
            "type": "barpolar"
           }
          ],
          "carpet": [
           {
            "aaxis": {
             "endlinecolor": "#2a3f5f",
             "gridcolor": "white",
             "linecolor": "white",
             "minorgridcolor": "white",
             "startlinecolor": "#2a3f5f"
            },
            "baxis": {
             "endlinecolor": "#2a3f5f",
             "gridcolor": "white",
             "linecolor": "white",
             "minorgridcolor": "white",
             "startlinecolor": "#2a3f5f"
            },
            "type": "carpet"
           }
          ],
          "choropleth": [
           {
            "colorbar": {
             "outlinewidth": 0,
             "ticks": ""
            },
            "type": "choropleth"
           }
          ],
          "contour": [
           {
            "colorbar": {
             "outlinewidth": 0,
             "ticks": ""
            },
            "colorscale": [
             [
              0,
              "#0d0887"
             ],
             [
              0.1111111111111111,
              "#46039f"
             ],
             [
              0.2222222222222222,
              "#7201a8"
             ],
             [
              0.3333333333333333,
              "#9c179e"
             ],
             [
              0.4444444444444444,
              "#bd3786"
             ],
             [
              0.5555555555555556,
              "#d8576b"
             ],
             [
              0.6666666666666666,
              "#ed7953"
             ],
             [
              0.7777777777777778,
              "#fb9f3a"
             ],
             [
              0.8888888888888888,
              "#fdca26"
             ],
             [
              1,
              "#f0f921"
             ]
            ],
            "type": "contour"
           }
          ],
          "contourcarpet": [
           {
            "colorbar": {
             "outlinewidth": 0,
             "ticks": ""
            },
            "type": "contourcarpet"
           }
          ],
          "heatmap": [
           {
            "colorbar": {
             "outlinewidth": 0,
             "ticks": ""
            },
            "colorscale": [
             [
              0,
              "#0d0887"
             ],
             [
              0.1111111111111111,
              "#46039f"
             ],
             [
              0.2222222222222222,
              "#7201a8"
             ],
             [
              0.3333333333333333,
              "#9c179e"
             ],
             [
              0.4444444444444444,
              "#bd3786"
             ],
             [
              0.5555555555555556,
              "#d8576b"
             ],
             [
              0.6666666666666666,
              "#ed7953"
             ],
             [
              0.7777777777777778,
              "#fb9f3a"
             ],
             [
              0.8888888888888888,
              "#fdca26"
             ],
             [
              1,
              "#f0f921"
             ]
            ],
            "type": "heatmap"
           }
          ],
          "heatmapgl": [
           {
            "colorbar": {
             "outlinewidth": 0,
             "ticks": ""
            },
            "colorscale": [
             [
              0,
              "#0d0887"
             ],
             [
              0.1111111111111111,
              "#46039f"
             ],
             [
              0.2222222222222222,
              "#7201a8"
             ],
             [
              0.3333333333333333,
              "#9c179e"
             ],
             [
              0.4444444444444444,
              "#bd3786"
             ],
             [
              0.5555555555555556,
              "#d8576b"
             ],
             [
              0.6666666666666666,
              "#ed7953"
             ],
             [
              0.7777777777777778,
              "#fb9f3a"
             ],
             [
              0.8888888888888888,
              "#fdca26"
             ],
             [
              1,
              "#f0f921"
             ]
            ],
            "type": "heatmapgl"
           }
          ],
          "histogram": [
           {
            "marker": {
             "pattern": {
              "fillmode": "overlay",
              "size": 10,
              "solidity": 0.2
             }
            },
            "type": "histogram"
           }
          ],
          "histogram2d": [
           {
            "colorbar": {
             "outlinewidth": 0,
             "ticks": ""
            },
            "colorscale": [
             [
              0,
              "#0d0887"
             ],
             [
              0.1111111111111111,
              "#46039f"
             ],
             [
              0.2222222222222222,
              "#7201a8"
             ],
             [
              0.3333333333333333,
              "#9c179e"
             ],
             [
              0.4444444444444444,
              "#bd3786"
             ],
             [
              0.5555555555555556,
              "#d8576b"
             ],
             [
              0.6666666666666666,
              "#ed7953"
             ],
             [
              0.7777777777777778,
              "#fb9f3a"
             ],
             [
              0.8888888888888888,
              "#fdca26"
             ],
             [
              1,
              "#f0f921"
             ]
            ],
            "type": "histogram2d"
           }
          ],
          "histogram2dcontour": [
           {
            "colorbar": {
             "outlinewidth": 0,
             "ticks": ""
            },
            "colorscale": [
             [
              0,
              "#0d0887"
             ],
             [
              0.1111111111111111,
              "#46039f"
             ],
             [
              0.2222222222222222,
              "#7201a8"
             ],
             [
              0.3333333333333333,
              "#9c179e"
             ],
             [
              0.4444444444444444,
              "#bd3786"
             ],
             [
              0.5555555555555556,
              "#d8576b"
             ],
             [
              0.6666666666666666,
              "#ed7953"
             ],
             [
              0.7777777777777778,
              "#fb9f3a"
             ],
             [
              0.8888888888888888,
              "#fdca26"
             ],
             [
              1,
              "#f0f921"
             ]
            ],
            "type": "histogram2dcontour"
           }
          ],
          "mesh3d": [
           {
            "colorbar": {
             "outlinewidth": 0,
             "ticks": ""
            },
            "type": "mesh3d"
           }
          ],
          "parcoords": [
           {
            "line": {
             "colorbar": {
              "outlinewidth": 0,
              "ticks": ""
             }
            },
            "type": "parcoords"
           }
          ],
          "pie": [
           {
            "automargin": true,
            "type": "pie"
           }
          ],
          "scatter": [
           {
            "marker": {
             "colorbar": {
              "outlinewidth": 0,
              "ticks": ""
             }
            },
            "type": "scatter"
           }
          ],
          "scatter3d": [
           {
            "line": {
             "colorbar": {
              "outlinewidth": 0,
              "ticks": ""
             }
            },
            "marker": {
             "colorbar": {
              "outlinewidth": 0,
              "ticks": ""
             }
            },
            "type": "scatter3d"
           }
          ],
          "scattercarpet": [
           {
            "marker": {
             "colorbar": {
              "outlinewidth": 0,
              "ticks": ""
             }
            },
            "type": "scattercarpet"
           }
          ],
          "scattergeo": [
           {
            "marker": {
             "colorbar": {
              "outlinewidth": 0,
              "ticks": ""
             }
            },
            "type": "scattergeo"
           }
          ],
          "scattergl": [
           {
            "marker": {
             "colorbar": {
              "outlinewidth": 0,
              "ticks": ""
             }
            },
            "type": "scattergl"
           }
          ],
          "scattermapbox": [
           {
            "marker": {
             "colorbar": {
              "outlinewidth": 0,
              "ticks": ""
             }
            },
            "type": "scattermapbox"
           }
          ],
          "scatterpolar": [
           {
            "marker": {
             "colorbar": {
              "outlinewidth": 0,
              "ticks": ""
             }
            },
            "type": "scatterpolar"
           }
          ],
          "scatterpolargl": [
           {
            "marker": {
             "colorbar": {
              "outlinewidth": 0,
              "ticks": ""
             }
            },
            "type": "scatterpolargl"
           }
          ],
          "scatterternary": [
           {
            "marker": {
             "colorbar": {
              "outlinewidth": 0,
              "ticks": ""
             }
            },
            "type": "scatterternary"
           }
          ],
          "surface": [
           {
            "colorbar": {
             "outlinewidth": 0,
             "ticks": ""
            },
            "colorscale": [
             [
              0,
              "#0d0887"
             ],
             [
              0.1111111111111111,
              "#46039f"
             ],
             [
              0.2222222222222222,
              "#7201a8"
             ],
             [
              0.3333333333333333,
              "#9c179e"
             ],
             [
              0.4444444444444444,
              "#bd3786"
             ],
             [
              0.5555555555555556,
              "#d8576b"
             ],
             [
              0.6666666666666666,
              "#ed7953"
             ],
             [
              0.7777777777777778,
              "#fb9f3a"
             ],
             [
              0.8888888888888888,
              "#fdca26"
             ],
             [
              1,
              "#f0f921"
             ]
            ],
            "type": "surface"
           }
          ],
          "table": [
           {
            "cells": {
             "fill": {
              "color": "#EBF0F8"
             },
             "line": {
              "color": "white"
             }
            },
            "header": {
             "fill": {
              "color": "#C8D4E3"
             },
             "line": {
              "color": "white"
             }
            },
            "type": "table"
           }
          ]
         },
         "layout": {
          "annotationdefaults": {
           "arrowcolor": "#2a3f5f",
           "arrowhead": 0,
           "arrowwidth": 1
          },
          "autotypenumbers": "strict",
          "coloraxis": {
           "colorbar": {
            "outlinewidth": 0,
            "ticks": ""
           }
          },
          "colorscale": {
           "diverging": [
            [
             0,
             "#8e0152"
            ],
            [
             0.1,
             "#c51b7d"
            ],
            [
             0.2,
             "#de77ae"
            ],
            [
             0.3,
             "#f1b6da"
            ],
            [
             0.4,
             "#fde0ef"
            ],
            [
             0.5,
             "#f7f7f7"
            ],
            [
             0.6,
             "#e6f5d0"
            ],
            [
             0.7,
             "#b8e186"
            ],
            [
             0.8,
             "#7fbc41"
            ],
            [
             0.9,
             "#4d9221"
            ],
            [
             1,
             "#276419"
            ]
           ],
           "sequential": [
            [
             0,
             "#0d0887"
            ],
            [
             0.1111111111111111,
             "#46039f"
            ],
            [
             0.2222222222222222,
             "#7201a8"
            ],
            [
             0.3333333333333333,
             "#9c179e"
            ],
            [
             0.4444444444444444,
             "#bd3786"
            ],
            [
             0.5555555555555556,
             "#d8576b"
            ],
            [
             0.6666666666666666,
             "#ed7953"
            ],
            [
             0.7777777777777778,
             "#fb9f3a"
            ],
            [
             0.8888888888888888,
             "#fdca26"
            ],
            [
             1,
             "#f0f921"
            ]
           ],
           "sequentialminus": [
            [
             0,
             "#0d0887"
            ],
            [
             0.1111111111111111,
             "#46039f"
            ],
            [
             0.2222222222222222,
             "#7201a8"
            ],
            [
             0.3333333333333333,
             "#9c179e"
            ],
            [
             0.4444444444444444,
             "#bd3786"
            ],
            [
             0.5555555555555556,
             "#d8576b"
            ],
            [
             0.6666666666666666,
             "#ed7953"
            ],
            [
             0.7777777777777778,
             "#fb9f3a"
            ],
            [
             0.8888888888888888,
             "#fdca26"
            ],
            [
             1,
             "#f0f921"
            ]
           ]
          },
          "colorway": [
           "#636efa",
           "#EF553B",
           "#00cc96",
           "#ab63fa",
           "#FFA15A",
           "#19d3f3",
           "#FF6692",
           "#B6E880",
           "#FF97FF",
           "#FECB52"
          ],
          "font": {
           "color": "#2a3f5f"
          },
          "geo": {
           "bgcolor": "white",
           "lakecolor": "white",
           "landcolor": "#E5ECF6",
           "showlakes": true,
           "showland": true,
           "subunitcolor": "white"
          },
          "hoverlabel": {
           "align": "left"
          },
          "hovermode": "closest",
          "mapbox": {
           "style": "light"
          },
          "paper_bgcolor": "white",
          "plot_bgcolor": "#E5ECF6",
          "polar": {
           "angularaxis": {
            "gridcolor": "white",
            "linecolor": "white",
            "ticks": ""
           },
           "bgcolor": "#E5ECF6",
           "radialaxis": {
            "gridcolor": "white",
            "linecolor": "white",
            "ticks": ""
           }
          },
          "scene": {
           "xaxis": {
            "backgroundcolor": "#E5ECF6",
            "gridcolor": "white",
            "gridwidth": 2,
            "linecolor": "white",
            "showbackground": true,
            "ticks": "",
            "zerolinecolor": "white"
           },
           "yaxis": {
            "backgroundcolor": "#E5ECF6",
            "gridcolor": "white",
            "gridwidth": 2,
            "linecolor": "white",
            "showbackground": true,
            "ticks": "",
            "zerolinecolor": "white"
           },
           "zaxis": {
            "backgroundcolor": "#E5ECF6",
            "gridcolor": "white",
            "gridwidth": 2,
            "linecolor": "white",
            "showbackground": true,
            "ticks": "",
            "zerolinecolor": "white"
           }
          },
          "shapedefaults": {
           "line": {
            "color": "#2a3f5f"
           }
          },
          "ternary": {
           "aaxis": {
            "gridcolor": "white",
            "linecolor": "white",
            "ticks": ""
           },
           "baxis": {
            "gridcolor": "white",
            "linecolor": "white",
            "ticks": ""
           },
           "bgcolor": "#E5ECF6",
           "caxis": {
            "gridcolor": "white",
            "linecolor": "white",
            "ticks": ""
           }
          },
          "title": {
           "x": 0.05
          },
          "xaxis": {
           "automargin": true,
           "gridcolor": "white",
           "linecolor": "white",
           "ticks": "",
           "title": {
            "standoff": 15
           },
           "zerolinecolor": "white",
           "zerolinewidth": 2
          },
          "yaxis": {
           "automargin": true,
           "gridcolor": "white",
           "linecolor": "white",
           "ticks": "",
           "title": {
            "standoff": 15
           },
           "zerolinecolor": "white",
           "zerolinewidth": 2
          }
         }
        },
        "xaxis": {
         "anchor": "y",
         "autorange": true,
         "domain": [
          0,
          1
         ],
         "range": [
          -0.5,
          25.5
         ],
         "title": {
          "text": "x"
         },
         "type": "category"
        },
        "yaxis": {
         "anchor": "x",
         "autorange": true,
         "domain": [
          0,
          1
         ],
         "range": [
          -1.4630834109501771,
          1.8979043197831829
         ],
         "title": {
          "text": "y"
         },
         "type": "linear"
        }
       }
      },
      "image/png": "[encoded data removed]",
      "text/html": [
       "<div>                            <div id=\"f759af8c-f53e-4e58-b9f3-6f04c6f65861\" class=\"plotly-graph-div\" style=\"height:525px; width:100%;\"></div>            <script type=\"text/javascript\">                require([\"plotly\"], function(Plotly) {                    window.PLOTLYENV=window.PLOTLYENV || {};                                    if (document.getElementById(\"f759af8c-f53e-4e58-b9f3-6f04c6f65861\")) {                    Plotly.newPlot(                        \"f759af8c-f53e-4e58-b9f3-6f04c6f65861\",                        [{\"alignmentgroup\":\"True\",\"hovertemplate\":\"x=%{x}<br>y=%{y}<br>color=%{marker.color}<extra></extra>\",\"legendgroup\":\"\",\"marker\":{\"color\":[1.4959904799141786,1.0161607228761813,0.1794080658218396,0.08789234099267915,1.2962422355185506,-0.4193298143610982,1.5264963630132304,-0.4174506214881762,-1.1890977864579984,1.2960099621306735,-1.2950340244135092,0.60677300107382,-1.083758642109388,1.2960186117559844,1.524488750283437,0.30961837435518036,-0.3974686727134429,0.44574197090210504,1.2960100988465548,1.2961494031410778,-0.5809384819761264,0.18635691032844323,1.729854933246515,1.296010157231802,1.2960576700828064,-0.15924669271612735],\"coloraxis\":\"coloraxis\",\"pattern\":{\"shape\":\"\"}},\"name\":\"\",\"offsetgroup\":\"\",\"orientation\":\"v\",\"showlegend\":false,\"textposition\":\"auto\",\"x\":[\"RBD__2__GLY14\",\"RBD__2__GLY13\",\"CH_CA0:ROF\",\"GLY13:ROF\",\"GLY14:DNS\",\"GLY14:ROF\",\"RBD_CA0:ROF\",\"RBD__2__backbone0\",\"GLY14:RMSD\",\"RBD_CA0:DNS\",\"backbone0:ROF\",\"CH_CA0:RMSD\",\"GLY12:RMSD\",\"backbone0:DNS\",\"GLY12:ROF\",\"GLY4:RMSD\",\"GLY4:ROF\",\"RBD__2__GLY4\",\"GLY4:DNS\",\"GLY13:DNS\",\"GLY13:RMSD\",\"RBD__2__GLY12\",\"RBD__2__CH_CA0\",\"GLY12:DNS\",\"CH_CA0:DNS\",\"backbone0:RMSD\"],\"xaxis\":\"x\",\"y\":[1.4959904799141786,1.0161607228761813,0.1794080658218396,0.08789234099267915,1.2962422355185506,-0.4193298143610982,1.5264963630132304,-0.4174506214881762,-1.1890977864579984,1.2960099621306735,-1.2950340244135092,0.60677300107382,-1.083758642109388,1.2960186117559844,1.524488750283437,0.30961837435518036,-0.3974686727134429,0.44574197090210504,1.2960100988465548,1.2961494031410778,-0.5809384819761264,0.18635691032844323,1.729854933246515,1.296010157231802,1.2960576700828064,-0.15924669271612735],\"yaxis\":\"y\",\"type\":\"bar\"}],                        {\"template\":{\"data\":{\"bar\":[{\"error_x\":{\"color\":\"#2a3f5f\"},\"error_y\":{\"color\":\"#2a3f5f\"},\"marker\":{\"line\":{\"color\":\"#E5ECF6\",\"width\":0.5},\"pattern\":{\"fillmode\":\"overlay\",\"size\":10,\"solidity\":0.2}},\"type\":\"bar\"}],\"barpolar\":[{\"marker\":{\"line\":{\"color\":\"#E5ECF6\",\"width\":0.5},\"pattern\":{\"fillmode\":\"overlay\",\"size\":10,\"solidity\":0.2}},\"type\":\"barpolar\"}],\"carpet\":[{\"aaxis\":{\"endlinecolor\":\"#2a3f5f\",\"gridcolor\":\"white\",\"linecolor\":\"white\",\"minorgridcolor\":\"white\",\"startlinecolor\":\"#2a3f5f\"},\"baxis\":{\"endlinecolor\":\"#2a3f5f\",\"gridcolor\":\"white\",\"linecolor\":\"white\",\"minorgridcolor\":\"white\",\"startlinecolor\":\"#2a3f5f\"},\"type\":\"carpet\"}],\"choropleth\":[{\"colorbar\":{\"outlinewidth\":0,\"ticks\":\"\"},\"type\":\"choropleth\"}],\"contour\":[{\"colorbar\":{\"outlinewidth\":0,\"ticks\":\"\"},\"colorscale\":[[0.0,\"#0d0887\"],[0.1111111111111111,\"#46039f\"],[0.2222222222222222,\"#7201a8\"],[0.3333333333333333,\"#9c179e\"],[0.4444444444444444,\"#bd3786\"],[0.5555555555555556,\"#d8576b\"],[0.6666666666666666,\"#ed7953\"],[0.7777777777777778,\"#fb9f3a\"],[0.8888888888888888,\"#fdca26\"],[1.0,\"#f0f921\"]],\"type\":\"contour\"}],\"contourcarpet\":[{\"colorbar\":{\"outlinewidth\":0,\"ticks\":\"\"},\"type\":\"contourcarpet\"}],\"heatmap\":[{\"colorbar\":{\"outlinewidth\":0,\"ticks\":\"\"},\"colorscale\":[[0.0,\"#0d0887\"],[0.1111111111111111,\"#46039f\"],[0.2222222222222222,\"#7201a8\"],[0.3333333333333333,\"#9c179e\"],[0.4444444444444444,\"#bd3786\"],[0.5555555555555556,\"#d8576b\"],[0.6666666666666666,\"#ed7953\"],[0.7777777777777778,\"#fb9f3a\"],[0.8888888888888888,\"#fdca26\"],[1.0,\"#f0f921\"]],\"type\":\"heatmap\"}],\"heatmapgl\":[{\"colorbar\":{\"outlinewidth\":0,\"ticks\":\"\"},\"colorscale\":[[0.0,\"#0d0887\"],[0.1111111111111111,\"#46039f\"],[0.2222222222222222,\"#7201a8\"],[0.3333333333333333,\"#9c179e\"],[0.4444444444444444,\"#bd3786\"],[0.5555555555555556,\"#d8576b\"],[0.6666666666666666,\"#ed7953\"],[0.7777777777777778,\"#fb9f3a\"],[0.8888888888888888,\"#fdca26\"],[1.0,\"#f0f921\"]],\"type\":\"heatmapgl\"}],\"histogram\":[{\"marker\":{\"pattern\":{\"fillmode\":\"overlay\",\"size\":10,\"solidity\":0.2}},\"type\":\"histogram\"}],\"histogram2d\":[{\"colorbar\":{\"outlinewidth\":0,\"ticks\":\"\"},\"colorscale\":[[0.0,\"#0d0887\"],[0.1111111111111111,\"#46039f\"],[0.2222222222222222,\"#7201a8\"],[0.3333333333333333,\"#9c179e\"],[0.4444444444444444,\"#bd3786\"],[0.5555555555555556,\"#d8576b\"],[0.6666666666666666,\"#ed7953\"],[0.7777777777777778,\"#fb9f3a\"],[0.8888888888888888,\"#fdca26\"],[1.0,\"#f0f921\"]],\"type\":\"histogram2d\"}],\"histogram2dcontour\":[{\"colorbar\":{\"outlinewidth\":0,\"ticks\":\"\"},\"colorscale\":[[0.0,\"#0d0887\"],[0.1111111111111111,\"#46039f\"],[0.2222222222222222,\"#7201a8\"],[0.3333333333333333,\"#9c179e\"],[0.4444444444444444,\"#bd3786\"],[0.5555555555555556,\"#d8576b\"],[0.6666666666666666,\"#ed7953\"],[0.7777777777777778,\"#fb9f3a\"],[0.8888888888888888,\"#fdca26\"],[1.0,\"#f0f921\"]],\"type\":\"histogram2dcontour\"}],\"mesh3d\":[{\"colorbar\":{\"outlinewidth\":0,\"ticks\":\"\"},\"type\":\"mesh3d\"}],\"parcoords\":[{\"line\":{\"colorbar\":{\"outlinewidth\":0,\"ticks\":\"\"}},\"type\":\"parcoords\"}],\"pie\":[{\"automargin\":true,\"type\":\"pie\"}],\"scatter\":[{\"marker\":{\"colorbar\":{\"outlinewidth\":0,\"ticks\":\"\"}},\"type\":\"scatter\"}],\"scatter3d\":[{\"line\":{\"colorbar\":{\"outlinewidth\":0,\"ticks\":\"\"}},\"marker\":{\"colorbar\":{\"outlinewidth\":0,\"ticks\":\"\"}},\"type\":\"scatter3d\"}],\"scattercarpet\":[{\"marker\":{\"colorbar\":{\"outlinewidth\":0,\"ticks\":\"\"}},\"type\":\"scattercarpet\"}],\"scattergeo\":[{\"marker\":{\"colorbar\":{\"outlinewidth\":0,\"ticks\":\"\"}},\"type\":\"scattergeo\"}],\"scattergl\":[{\"marker\":{\"colorbar\":{\"outlinewidth\":0,\"ticks\":\"\"}},\"type\":\"scattergl\"}],\"scattermapbox\":[{\"marker\":{\"colorbar\":{\"outlinewidth\":0,\"ticks\":\"\"}},\"type\":\"scattermapbox\"}],\"scatterpolar\":[{\"marker\":{\"colorbar\":{\"outlinewidth\":0,\"ticks\":\"\"}},\"type\":\"scatterpolar\"}],\"scatterpolargl\":[{\"marker\":{\"colorbar\":{\"outlinewidth\":0,\"ticks\":\"\"}},\"type\":\"scatterpolargl\"}],\"scatterternary\":[{\"marker\":{\"colorbar\":{\"outlinewidth\":0,\"ticks\":\"\"}},\"type\":\"scatterternary\"}],\"surface\":[{\"colorbar\":{\"outlinewidth\":0,\"ticks\":\"\"},\"colorscale\":[[0.0,\"#0d0887\"],[0.1111111111111111,\"#46039f\"],[0.2222222222222222,\"#7201a8\"],[0.3333333333333333,\"#9c179e\"],[0.4444444444444444,\"#bd3786\"],[0.5555555555555556,\"#d8576b\"],[0.6666666666666666,\"#ed7953\"],[0.7777777777777778,\"#fb9f3a\"],[0.8888888888888888,\"#fdca26\"],[1.0,\"#f0f921\"]],\"type\":\"surface\"}],\"table\":[{\"cells\":{\"fill\":{\"color\":\"#EBF0F8\"},\"line\":{\"color\":\"white\"}},\"header\":{\"fill\":{\"color\":\"#C8D4E3\"},\"line\":{\"color\":\"white\"}},\"type\":\"table\"}]},\"layout\":{\"annotationdefaults\":{\"arrowcolor\":\"#2a3f5f\",\"arrowhead\":0,\"arrowwidth\":1},\"autotypenumbers\":\"strict\",\"coloraxis\":{\"colorbar\":{\"outlinewidth\":0,\"ticks\":\"\"}},\"colorscale\":{\"diverging\":[[0,\"#8e0152\"],[0.1,\"#c51b7d\"],[0.2,\"#de77ae\"],[0.3,\"#f1b6da\"],[0.4,\"#fde0ef\"],[0.5,\"#f7f7f7\"],[0.6,\"#e6f5d0\"],[0.7,\"#b8e186\"],[0.8,\"#7fbc41\"],[0.9,\"#4d9221\"],[1,\"#276419\"]],\"sequential\":[[0.0,\"#0d0887\"],[0.1111111111111111,\"#46039f\"],[0.2222222222222222,\"#7201a8\"],[0.3333333333333333,\"#9c179e\"],[0.4444444444444444,\"#bd3786\"],[0.5555555555555556,\"#d8576b\"],[0.6666666666666666,\"#ed7953\"],[0.7777777777777778,\"#fb9f3a\"],[0.8888888888888888,\"#fdca26\"],[1.0,\"#f0f921\"]],\"sequentialminus\":[[0.0,\"#0d0887\"],[0.1111111111111111,\"#46039f\"],[0.2222222222222222,\"#7201a8\"],[0.3333333333333333,\"#9c179e\"],[0.4444444444444444,\"#bd3786\"],[0.5555555555555556,\"#d8576b\"],[0.6666666666666666,\"#ed7953\"],[0.7777777777777778,\"#fb9f3a\"],[0.8888888888888888,\"#fdca26\"],[1.0,\"#f0f921\"]]},\"colorway\":[\"#636efa\",\"#EF553B\",\"#00cc96\",\"#ab63fa\",\"#FFA15A\",\"#19d3f3\",\"#FF6692\",\"#B6E880\",\"#FF97FF\",\"#FECB52\"],\"font\":{\"color\":\"#2a3f5f\"},\"geo\":{\"bgcolor\":\"white\",\"lakecolor\":\"white\",\"landcolor\":\"#E5ECF6\",\"showlakes\":true,\"showland\":true,\"subunitcolor\":\"white\"},\"hoverlabel\":{\"align\":\"left\"},\"hovermode\":\"closest\",\"mapbox\":{\"style\":\"light\"},\"paper_bgcolor\":\"white\",\"plot_bgcolor\":\"#E5ECF6\",\"polar\":{\"angularaxis\":{\"gridcolor\":\"white\",\"linecolor\":\"white\",\"ticks\":\"\"},\"bgcolor\":\"#E5ECF6\",\"radialaxis\":{\"gridcolor\":\"white\",\"linecolor\":\"white\",\"ticks\":\"\"}},\"scene\":{\"xaxis\":{\"backgroundcolor\":\"#E5ECF6\",\"gridcolor\":\"white\",\"gridwidth\":2,\"linecolor\":\"white\",\"showbackground\":true,\"ticks\":\"\",\"zerolinecolor\":\"white\"},\"yaxis\":{\"backgroundcolor\":\"#E5ECF6\",\"gridcolor\":\"white\",\"gridwidth\":2,\"linecolor\":\"white\",\"showbackground\":true,\"ticks\":\"\",\"zerolinecolor\":\"white\"},\"zaxis\":{\"backgroundcolor\":\"#E5ECF6\",\"gridcolor\":\"white\",\"gridwidth\":2,\"linecolor\":\"white\",\"showbackground\":true,\"ticks\":\"\",\"zerolinecolor\":\"white\"}},\"shapedefaults\":{\"line\":{\"color\":\"#2a3f5f\"}},\"ternary\":{\"aaxis\":{\"gridcolor\":\"white\",\"linecolor\":\"white\",\"ticks\":\"\"},\"baxis\":{\"gridcolor\":\"white\",\"linecolor\":\"white\",\"ticks\":\"\"},\"bgcolor\":\"#E5ECF6\",\"caxis\":{\"gridcolor\":\"white\",\"linecolor\":\"white\",\"ticks\":\"\"}},\"title\":{\"x\":0.05},\"xaxis\":{\"automargin\":true,\"gridcolor\":\"white\",\"linecolor\":\"white\",\"ticks\":\"\",\"title\":{\"standoff\":15},\"zerolinecolor\":\"white\",\"zerolinewidth\":2},\"yaxis\":{\"automargin\":true,\"gridcolor\":\"white\",\"linecolor\":\"white\",\"ticks\":\"\",\"title\":{\"standoff\":15},\"zerolinecolor\":\"white\",\"zerolinewidth\":2}}},\"xaxis\":{\"anchor\":\"y\",\"domain\":[0.0,1.0],\"title\":{\"text\":\"x\"}},\"yaxis\":{\"anchor\":\"x\",\"domain\":[0.0,1.0],\"title\":{\"text\":\"y\"}},\"coloraxis\":{\"colorbar\":{\"title\":{\"text\":\"color\"}},\"colorscale\":[[0.0,\"#0d0887\"],[0.1111111111111111,\"#46039f\"],[0.2222222222222222,\"#7201a8\"],[0.3333333333333333,\"#9c179e\"],[0.4444444444444444,\"#bd3786\"],[0.5555555555555556,\"#d8576b\"],[0.6666666666666666,\"#ed7953\"],[0.7777777777777778,\"#fb9f3a\"],[0.8888888888888888,\"#fdca26\"],[1.0,\"#f0f921\"]]},\"legend\":{\"tracegroupgap\":0},\"margin\":{\"t\":60},\"barmode\":\"relative\"},                        {\"responsive\": true}                    ).then(function(){\n",
       "                            \n",
       "var gd = document.getElementById('f759af8c-f53e-4e58-b9f3-6f04c6f65861');\n",
       "var x = new MutationObserver(function (mutations, observer) {{\n",
       "        var display = window.getComputedStyle(gd).display;\n",
       "        if (!display || display === 'none') {{\n",
       "            console.log([gd, 'removed!']);\n",
       "            Plotly.purge(gd);\n",
       "            observer.disconnect();\n",
       "        }}\n",
       "}});\n",
       "\n",
       "// Listen for the removal of the full notebook cells\n",
       "var notebookContainer = gd.closest('#notebook-container');\n",
       "if (notebookContainer) {{\n",
       "    x.observe(notebookContainer, {childList: true});\n",
       "}}\n",
       "\n",
       "// Listen for the clearing of the current output cell\n",
       "var outputEl = gd.closest('.output');\n",
       "if (outputEl) {{\n",
       "    x.observe(outputEl, {childList: true});\n",
       "}}\n",
       "\n",
       "                        })                };                });            </script>        </div>"
      ]
     },
     "metadata": {},
     "output_type": "display_data"
    }
   ],
   "source": [
    "sgd_clf.fit(train_X_prepared,train_labels)\n",
    "y_test_pred = sgd_clf.predict(test_X_prepared)\n",
    "print(f' Test precison : {precision_score(test_labels, y_test_pred)}, Test recall {recall_score(test_labels, y_test_pred)}')\n",
    "px.bar(x=train_X.columns.to_list(),y=sgd_clf.coef_[0],color=sgd_clf.coef_[0])"
   ]
  },
  {
   "cell_type": "code",
   "execution_count": 11,
   "id": "dba966c8-5714-40b2-aaaa-f59c22f260dd",
   "metadata": {},
   "outputs": [
    {
     "data": {
      "text/plain": [
       "array([[<AxesSubplot:title={'center':'RBD__2__GLY14'}>,\n",
       "        <AxesSubplot:title={'center':'RBD__2__GLY13'}>,\n",
       "        <AxesSubplot:title={'center':'CH_CA0:ROF'}>,\n",
       "        <AxesSubplot:title={'center':'GLY13:ROF'}>,\n",
       "        <AxesSubplot:title={'center':'GLY14:DNS'}>],\n",
       "       [<AxesSubplot:title={'center':'GLY14:ROF'}>,\n",
       "        <AxesSubplot:title={'center':'RBD_CA0:ROF'}>,\n",
       "        <AxesSubplot:title={'center':'RBD__2__backbone0'}>,\n",
       "        <AxesSubplot:title={'center':'GLY14:RMSD'}>,\n",
       "        <AxesSubplot:title={'center':'RBD_CA0:DNS'}>],\n",
       "       [<AxesSubplot:title={'center':'backbone0:ROF'}>,\n",
       "        <AxesSubplot:title={'center':'CH_CA0:RMSD'}>,\n",
       "        <AxesSubplot:title={'center':'GLY12:RMSD'}>,\n",
       "        <AxesSubplot:title={'center':'backbone0:DNS'}>,\n",
       "        <AxesSubplot:title={'center':'GLY12:ROF'}>],\n",
       "       [<AxesSubplot:title={'center':'GLY4:RMSD'}>,\n",
       "        <AxesSubplot:title={'center':'GLY4:ROF'}>,\n",
       "        <AxesSubplot:title={'center':'RBD__2__GLY4'}>,\n",
       "        <AxesSubplot:title={'center':'GLY4:DNS'}>,\n",
       "        <AxesSubplot:title={'center':'GLY13:DNS'}>],\n",
       "       [<AxesSubplot:title={'center':'GLY13:RMSD'}>,\n",
       "        <AxesSubplot:title={'center':'RBD__2__GLY12'}>,\n",
       "        <AxesSubplot:title={'center':'RBD__2__CH_CA0'}>,\n",
       "        <AxesSubplot:title={'center':'GLY12:DNS'}>,\n",
       "        <AxesSubplot:title={'center':'CH_CA0:DNS'}>],\n",
       "       [<AxesSubplot:title={'center':'backbone0:RMSD'}>, <AxesSubplot:>,\n",
       "        <AxesSubplot:>, <AxesSubplot:>, <AxesSubplot:>]], dtype=object)"
      ]
     },
     "execution_count": 11,
     "metadata": {},
     "output_type": "execute_result"
    },
    {
     "data": {
      "image/png": "[encoded data removed]",
      "text/plain": [
       "<Figure size 1440x1080 with 30 Axes>"
      ]
     },
     "metadata": {
      "needs_background": "light"
     },
     "output_type": "display_data"
    }
   ],
   "source": [
    "train_X.hist(bins=50, figsize=(20,15))"
   ]
  }
 ],
 "metadata": {
  "kernelspec": {
   "display_name": "Python 3",
   "language": "python",
   "name": "python3"
  },
  "language_info": {
   "codemirror_mode": {
    "name": "ipython",
    "version": 3
   },
   "file_extension": ".py",
   "mimetype": "text/x-python",
   "name": "python",
   "nbconvert_exporter": "python",
   "pygments_lexer": "ipython3",
   "version": "3.8.5"
  }
 },
 "nbformat": 4,
 "nbformat_minor": 5
}
