{
 "cells": [
  {
   "cell_type": "code",
   "execution_count": 41,
   "id": "a02ed21b-a28d-4bf9-98c1-b3539408f47e",
   "metadata": {},
   "outputs": [],
   "source": [
    "# Python ≥3.5 is required\n",
    "import sys\n",
    "assert sys.version_info >= (3, 5)\n",
    "\n",
    "# Is this notebook running on Colab or Kaggle?\n",
    "IS_COLAB = \"google.colab\" in sys.modules\n",
    "IS_KAGGLE = \"kaggle_secrets\" in sys.modules\n",
    "\n",
    "# Scikit-Learn ≥0.20 is required\n",
    "import sklearn\n",
    "assert sklearn.__version__ >= \"0.20\"\n",
    "\n",
    "# Common imports\n",
    "import numpy as np\n",
    "import os\n",
    "import pandas as pd\n",
    "\n",
    "# to make this notebook's output stable across runs\n",
    "np.random.seed(42)\n",
    "\n",
    "# To plot pretty figures\n",
    "%matplotlib inline\n",
    "import matplotlib as mpl\n",
    "import matplotlib.pyplot as plt\n",
    "mpl.rc('axes', labelsize=14)\n",
    "mpl.rc('xtick', labelsize=12)\n",
    "mpl.rc('ytick', labelsize=12)\n",
    "\n",
    "# Where to save the figures\n",
    "PROJECT_ROOT_DIR = \".\"\n",
    "CHAPTER_ID = \"classification\"\n",
    "IMAGES_PATH = os.path.join(PROJECT_ROOT_DIR, \"images\", CHAPTER_ID)\n",
    "os.makedirs(IMAGES_PATH, exist_ok=True)\n",
    "\n",
    "def save_fig(fig_id, tight_layout=True, fig_extension=\"png\", resolution=300):\n",
    "    path = os.path.join(IMAGES_PATH, fig_id + \".\" + fig_extension)\n",
    "    print(\"Saving figure\", fig_id)\n",
    "    if tight_layout:\n",
    "        plt.tight_layout()\n",
    "    plt.savefig(path, format=fig_extension, dpi=resolution)"
   ]
  },
  {
   "cell_type": "code",
   "execution_count": 42,
   "id": "966b67ca-eb92-49f2-b86d-0a3999c00a70",
   "metadata": {},
   "outputs": [],
   "source": [
    "fname = '/net/jam-amaro-shared/dse_project/Spike_Dataset/TRAJECTORIES_spike_open_prot_glyc_amarolab/results/FinalExtractedFeature_open.csv'\n",
    "open_df = pd.read_csv(fname).assign(label = 1).iloc[:,1:]"
   ]
  },
  {
   "cell_type": "code",
   "execution_count": 43,
   "id": "b931a59c-d05a-48cc-9f8d-0de89c7155b2",
   "metadata": {},
   "outputs": [
    {
     "name": "stdout",
     "output_type": "stream",
     "text": [
      "open dcd size : (42222, 221)\n"
     ]
    },
    {
     "data": {
      "text/html": [
       "<div>\n",
       "<style scoped>\n",
       "    .dataframe tbody tr th:only-of-type {\n",
       "        vertical-align: middle;\n",
       "    }\n",
       "\n",
       "    .dataframe tbody tr th {\n",
       "        vertical-align: top;\n",
       "    }\n",
       "\n",
       "    .dataframe thead th {\n",
       "        text-align: right;\n",
       "    }\n",
       "</style>\n",
       "<table border=\"1\" class=\"dataframe\">\n",
       "  <thead>\n",
       "    <tr style=\"text-align: right;\">\n",
       "      <th></th>\n",
       "      <th>Frame Num</th>\n",
       "      <th>frame</th>\n",
       "      <th>RBD_CA0:ROF</th>\n",
       "      <th>RBD_CA0:RMSD</th>\n",
       "      <th>RBD__2__CH_CA0</th>\n",
       "      <th>CH_CA0:ROF</th>\n",
       "      <th>CH_CA0:RMSD</th>\n",
       "      <th>RBD__2__GLY0</th>\n",
       "      <th>GLY0:ROF</th>\n",
       "      <th>GLY0:RMSD</th>\n",
       "      <th>...</th>\n",
       "      <th>RBD__2__GLY8</th>\n",
       "      <th>GLY8:ROF</th>\n",
       "      <th>GLY8:RMSD</th>\n",
       "      <th>RBD__2__GLY9</th>\n",
       "      <th>GLY9:ROF</th>\n",
       "      <th>GLY9:RMSD</th>\n",
       "      <th>RBD__2__backbone0</th>\n",
       "      <th>backbone0:ROF</th>\n",
       "      <th>backbone0:RMSD</th>\n",
       "      <th>label</th>\n",
       "    </tr>\n",
       "  </thead>\n",
       "  <tbody>\n",
       "    <tr>\n",
       "      <th>0</th>\n",
       "      <td>0</td>\n",
       "      <td>frame_0</td>\n",
       "      <td>2.146310</td>\n",
       "      <td>0.135435</td>\n",
       "      <td>8.696114</td>\n",
       "      <td>2.430049</td>\n",
       "      <td>0.073119</td>\n",
       "      <td>6.597967</td>\n",
       "      <td>1.519505</td>\n",
       "      <td>0.309062</td>\n",
       "      <td>...</td>\n",
       "      <td>17.516027</td>\n",
       "      <td>2.425352</td>\n",
       "      <td>0.294207</td>\n",
       "      <td>20.553479</td>\n",
       "      <td>1.791446</td>\n",
       "      <td>0.278311</td>\n",
       "      <td>7.953154</td>\n",
       "      <td>7.455652</td>\n",
       "      <td>0.138682</td>\n",
       "      <td>1</td>\n",
       "    </tr>\n",
       "    <tr>\n",
       "      <th>1</th>\n",
       "      <td>1</td>\n",
       "      <td>frame_1</td>\n",
       "      <td>2.141260</td>\n",
       "      <td>0.170498</td>\n",
       "      <td>8.610321</td>\n",
       "      <td>2.452126</td>\n",
       "      <td>0.070816</td>\n",
       "      <td>6.323298</td>\n",
       "      <td>1.377560</td>\n",
       "      <td>0.281506</td>\n",
       "      <td>...</td>\n",
       "      <td>17.493029</td>\n",
       "      <td>2.410283</td>\n",
       "      <td>0.346432</td>\n",
       "      <td>20.551318</td>\n",
       "      <td>1.787035</td>\n",
       "      <td>0.402983</td>\n",
       "      <td>7.894130</td>\n",
       "      <td>7.443351</td>\n",
       "      <td>0.165635</td>\n",
       "      <td>1</td>\n",
       "    </tr>\n",
       "    <tr>\n",
       "      <th>2</th>\n",
       "      <td>2</td>\n",
       "      <td>frame_2</td>\n",
       "      <td>2.131270</td>\n",
       "      <td>0.153697</td>\n",
       "      <td>8.592710</td>\n",
       "      <td>2.430950</td>\n",
       "      <td>0.079461</td>\n",
       "      <td>6.274642</td>\n",
       "      <td>1.494150</td>\n",
       "      <td>0.237929</td>\n",
       "      <td>...</td>\n",
       "      <td>17.299496</td>\n",
       "      <td>2.297616</td>\n",
       "      <td>0.433491</td>\n",
       "      <td>20.409004</td>\n",
       "      <td>1.919100</td>\n",
       "      <td>0.455504</td>\n",
       "      <td>7.841270</td>\n",
       "      <td>7.439311</td>\n",
       "      <td>0.179153</td>\n",
       "      <td>1</td>\n",
       "    </tr>\n",
       "    <tr>\n",
       "      <th>3</th>\n",
       "      <td>3</td>\n",
       "      <td>frame_3</td>\n",
       "      <td>2.126830</td>\n",
       "      <td>0.181805</td>\n",
       "      <td>8.590594</td>\n",
       "      <td>2.439935</td>\n",
       "      <td>0.073912</td>\n",
       "      <td>6.287297</td>\n",
       "      <td>1.520262</td>\n",
       "      <td>0.246225</td>\n",
       "      <td>...</td>\n",
       "      <td>17.104382</td>\n",
       "      <td>2.345125</td>\n",
       "      <td>0.363078</td>\n",
       "      <td>20.299202</td>\n",
       "      <td>1.932984</td>\n",
       "      <td>0.360417</td>\n",
       "      <td>7.843353</td>\n",
       "      <td>7.431243</td>\n",
       "      <td>0.204023</td>\n",
       "      <td>1</td>\n",
       "    </tr>\n",
       "    <tr>\n",
       "      <th>4</th>\n",
       "      <td>4</td>\n",
       "      <td>frame_4</td>\n",
       "      <td>2.132262</td>\n",
       "      <td>0.173935</td>\n",
       "      <td>8.585232</td>\n",
       "      <td>2.446247</td>\n",
       "      <td>0.075612</td>\n",
       "      <td>6.173709</td>\n",
       "      <td>1.459852</td>\n",
       "      <td>0.213698</td>\n",
       "      <td>...</td>\n",
       "      <td>17.266876</td>\n",
       "      <td>2.344855</td>\n",
       "      <td>0.299472</td>\n",
       "      <td>20.380623</td>\n",
       "      <td>1.847637</td>\n",
       "      <td>0.358222</td>\n",
       "      <td>7.848105</td>\n",
       "      <td>7.426812</td>\n",
       "      <td>0.220511</td>\n",
       "      <td>1</td>\n",
       "    </tr>\n",
       "  </tbody>\n",
       "</table>\n",
       "<p>5 rows × 221 columns</p>\n",
       "</div>"
      ],
      "text/plain": [
       "   Frame Num    frame  RBD_CA0:ROF  RBD_CA0:RMSD  RBD__2__CH_CA0  CH_CA0:ROF  \\\n",
       "0          0  frame_0     2.146310      0.135435        8.696114    2.430049   \n",
       "1          1  frame_1     2.141260      0.170498        8.610321    2.452126   \n",
       "2          2  frame_2     2.131270      0.153697        8.592710    2.430950   \n",
       "3          3  frame_3     2.126830      0.181805        8.590594    2.439935   \n",
       "4          4  frame_4     2.132262      0.173935        8.585232    2.446247   \n",
       "\n",
       "   CH_CA0:RMSD  RBD__2__GLY0  GLY0:ROF  GLY0:RMSD  ...  RBD__2__GLY8  \\\n",
       "0     0.073119      6.597967  1.519505   0.309062  ...     17.516027   \n",
       "1     0.070816      6.323298  1.377560   0.281506  ...     17.493029   \n",
       "2     0.079461      6.274642  1.494150   0.237929  ...     17.299496   \n",
       "3     0.073912      6.287297  1.520262   0.246225  ...     17.104382   \n",
       "4     0.075612      6.173709  1.459852   0.213698  ...     17.266876   \n",
       "\n",
       "   GLY8:ROF  GLY8:RMSD  RBD__2__GLY9  GLY9:ROF  GLY9:RMSD  RBD__2__backbone0  \\\n",
       "0  2.425352   0.294207     20.553479  1.791446   0.278311           7.953154   \n",
       "1  2.410283   0.346432     20.551318  1.787035   0.402983           7.894130   \n",
       "2  2.297616   0.433491     20.409004  1.919100   0.455504           7.841270   \n",
       "3  2.345125   0.363078     20.299202  1.932984   0.360417           7.843353   \n",
       "4  2.344855   0.299472     20.380623  1.847637   0.358222           7.848105   \n",
       "\n",
       "   backbone0:ROF  backbone0:RMSD  label  \n",
       "0       7.455652        0.138682      1  \n",
       "1       7.443351        0.165635      1  \n",
       "2       7.439311        0.179153      1  \n",
       "3       7.431243        0.204023      1  \n",
       "4       7.426812        0.220511      1  \n",
       "\n",
       "[5 rows x 221 columns]"
      ]
     },
     "execution_count": 43,
     "metadata": {},
     "output_type": "execute_result"
    }
   ],
   "source": [
    "print(f'open dcd size : {open_df.shape}')\n",
    "open_df.head()"
   ]
  },
  {
   "cell_type": "code",
   "execution_count": 44,
   "id": "1ec8c9bc-10f4-4dc7-9cf4-f75b59e11b75",
   "metadata": {},
   "outputs": [],
   "source": [
    "fname = '/net/jam-amaro-shared/dse_project/Spike_Dataset/TRAJECTORIES_spike_closed_prot_glyc_amarolab/results/FinalExtractedFeature_closed.csv'\n",
    "closed_df = pd.read_csv(fname).assign(label = 0).iloc[:,1:]"
   ]
  },
  {
   "cell_type": "code",
   "execution_count": 45,
   "id": "d07d649b-8fba-414a-897c-d570f09f0655",
   "metadata": {},
   "outputs": [
    {
     "name": "stdout",
     "output_type": "stream",
     "text": [
      "closed dcd size : (17314, 221)\n"
     ]
    },
    {
     "data": {
      "text/html": [
       "<div>\n",
       "<style scoped>\n",
       "    .dataframe tbody tr th:only-of-type {\n",
       "        vertical-align: middle;\n",
       "    }\n",
       "\n",
       "    .dataframe tbody tr th {\n",
       "        vertical-align: top;\n",
       "    }\n",
       "\n",
       "    .dataframe thead th {\n",
       "        text-align: right;\n",
       "    }\n",
       "</style>\n",
       "<table border=\"1\" class=\"dataframe\">\n",
       "  <thead>\n",
       "    <tr style=\"text-align: right;\">\n",
       "      <th></th>\n",
       "      <th>Frame Num</th>\n",
       "      <th>frame</th>\n",
       "      <th>RBD_CA0:ROF</th>\n",
       "      <th>RBD_CA0:RMSD</th>\n",
       "      <th>RBD__2__CH_CA0</th>\n",
       "      <th>CH_CA0:ROF</th>\n",
       "      <th>CH_CA0:RMSD</th>\n",
       "      <th>RBD__2__GLY0</th>\n",
       "      <th>GLY0:ROF</th>\n",
       "      <th>GLY0:RMSD</th>\n",
       "      <th>...</th>\n",
       "      <th>RBD__2__GLY8</th>\n",
       "      <th>GLY8:ROF</th>\n",
       "      <th>GLY8:RMSD</th>\n",
       "      <th>RBD__2__GLY9</th>\n",
       "      <th>GLY9:ROF</th>\n",
       "      <th>GLY9:RMSD</th>\n",
       "      <th>RBD__2__backbone0</th>\n",
       "      <th>backbone0:ROF</th>\n",
       "      <th>backbone0:RMSD</th>\n",
       "      <th>label</th>\n",
       "    </tr>\n",
       "  </thead>\n",
       "  <tbody>\n",
       "    <tr>\n",
       "      <th>0</th>\n",
       "      <td>0</td>\n",
       "      <td>frame_0</td>\n",
       "      <td>2.064992</td>\n",
       "      <td>0.104537</td>\n",
       "      <td>7.011860</td>\n",
       "      <td>2.440622</td>\n",
       "      <td>0.071946</td>\n",
       "      <td>8.272009</td>\n",
       "      <td>1.753118</td>\n",
       "      <td>0.256231</td>\n",
       "      <td>...</td>\n",
       "      <td>15.816480</td>\n",
       "      <td>2.131665</td>\n",
       "      <td>0.296665</td>\n",
       "      <td>18.712970</td>\n",
       "      <td>2.230321</td>\n",
       "      <td>0.390132</td>\n",
       "      <td>6.132472</td>\n",
       "      <td>7.333359</td>\n",
       "      <td>0.137631</td>\n",
       "      <td>0</td>\n",
       "    </tr>\n",
       "    <tr>\n",
       "      <th>1</th>\n",
       "      <td>1</td>\n",
       "      <td>frame_1</td>\n",
       "      <td>2.082220</td>\n",
       "      <td>0.142265</td>\n",
       "      <td>7.059966</td>\n",
       "      <td>2.451281</td>\n",
       "      <td>0.067347</td>\n",
       "      <td>8.274339</td>\n",
       "      <td>1.777587</td>\n",
       "      <td>0.298775</td>\n",
       "      <td>...</td>\n",
       "      <td>15.865187</td>\n",
       "      <td>2.082916</td>\n",
       "      <td>0.267647</td>\n",
       "      <td>18.565217</td>\n",
       "      <td>2.212942</td>\n",
       "      <td>0.319875</td>\n",
       "      <td>6.172430</td>\n",
       "      <td>7.338856</td>\n",
       "      <td>0.161682</td>\n",
       "      <td>0</td>\n",
       "    </tr>\n",
       "    <tr>\n",
       "      <th>2</th>\n",
       "      <td>2</td>\n",
       "      <td>frame_2</td>\n",
       "      <td>2.079883</td>\n",
       "      <td>0.168931</td>\n",
       "      <td>7.061981</td>\n",
       "      <td>2.428138</td>\n",
       "      <td>0.075575</td>\n",
       "      <td>8.126430</td>\n",
       "      <td>1.926069</td>\n",
       "      <td>0.304831</td>\n",
       "      <td>...</td>\n",
       "      <td>15.789881</td>\n",
       "      <td>2.140586</td>\n",
       "      <td>0.278618</td>\n",
       "      <td>18.491900</td>\n",
       "      <td>2.070410</td>\n",
       "      <td>0.297723</td>\n",
       "      <td>6.154211</td>\n",
       "      <td>7.331262</td>\n",
       "      <td>0.173915</td>\n",
       "      <td>0</td>\n",
       "    </tr>\n",
       "    <tr>\n",
       "      <th>3</th>\n",
       "      <td>3</td>\n",
       "      <td>frame_3</td>\n",
       "      <td>2.105020</td>\n",
       "      <td>0.156687</td>\n",
       "      <td>7.035488</td>\n",
       "      <td>2.423324</td>\n",
       "      <td>0.076875</td>\n",
       "      <td>8.221630</td>\n",
       "      <td>1.901495</td>\n",
       "      <td>0.362107</td>\n",
       "      <td>...</td>\n",
       "      <td>15.844295</td>\n",
       "      <td>2.129400</td>\n",
       "      <td>0.294769</td>\n",
       "      <td>18.489304</td>\n",
       "      <td>2.043514</td>\n",
       "      <td>0.243517</td>\n",
       "      <td>6.143025</td>\n",
       "      <td>7.325061</td>\n",
       "      <td>0.189567</td>\n",
       "      <td>0</td>\n",
       "    </tr>\n",
       "    <tr>\n",
       "      <th>4</th>\n",
       "      <td>4</td>\n",
       "      <td>frame_4</td>\n",
       "      <td>2.107028</td>\n",
       "      <td>0.128242</td>\n",
       "      <td>6.968371</td>\n",
       "      <td>2.426547</td>\n",
       "      <td>0.086771</td>\n",
       "      <td>8.170091</td>\n",
       "      <td>1.940600</td>\n",
       "      <td>0.308735</td>\n",
       "      <td>...</td>\n",
       "      <td>15.790533</td>\n",
       "      <td>2.163263</td>\n",
       "      <td>0.299083</td>\n",
       "      <td>18.452190</td>\n",
       "      <td>2.221308</td>\n",
       "      <td>0.352847</td>\n",
       "      <td>6.106590</td>\n",
       "      <td>7.313821</td>\n",
       "      <td>0.198229</td>\n",
       "      <td>0</td>\n",
       "    </tr>\n",
       "  </tbody>\n",
       "</table>\n",
       "<p>5 rows × 221 columns</p>\n",
       "</div>"
      ],
      "text/plain": [
       "   Frame Num    frame  RBD_CA0:ROF  RBD_CA0:RMSD  RBD__2__CH_CA0  CH_CA0:ROF  \\\n",
       "0          0  frame_0     2.064992      0.104537        7.011860    2.440622   \n",
       "1          1  frame_1     2.082220      0.142265        7.059966    2.451281   \n",
       "2          2  frame_2     2.079883      0.168931        7.061981    2.428138   \n",
       "3          3  frame_3     2.105020      0.156687        7.035488    2.423324   \n",
       "4          4  frame_4     2.107028      0.128242        6.968371    2.426547   \n",
       "\n",
       "   CH_CA0:RMSD  RBD__2__GLY0  GLY0:ROF  GLY0:RMSD  ...  RBD__2__GLY8  \\\n",
       "0     0.071946      8.272009  1.753118   0.256231  ...     15.816480   \n",
       "1     0.067347      8.274339  1.777587   0.298775  ...     15.865187   \n",
       "2     0.075575      8.126430  1.926069   0.304831  ...     15.789881   \n",
       "3     0.076875      8.221630  1.901495   0.362107  ...     15.844295   \n",
       "4     0.086771      8.170091  1.940600   0.308735  ...     15.790533   \n",
       "\n",
       "   GLY8:ROF  GLY8:RMSD  RBD__2__GLY9  GLY9:ROF  GLY9:RMSD  RBD__2__backbone0  \\\n",
       "0  2.131665   0.296665     18.712970  2.230321   0.390132           6.132472   \n",
       "1  2.082916   0.267647     18.565217  2.212942   0.319875           6.172430   \n",
       "2  2.140586   0.278618     18.491900  2.070410   0.297723           6.154211   \n",
       "3  2.129400   0.294769     18.489304  2.043514   0.243517           6.143025   \n",
       "4  2.163263   0.299083     18.452190  2.221308   0.352847           6.106590   \n",
       "\n",
       "   backbone0:ROF  backbone0:RMSD  label  \n",
       "0       7.333359        0.137631      0  \n",
       "1       7.338856        0.161682      0  \n",
       "2       7.331262        0.173915      0  \n",
       "3       7.325061        0.189567      0  \n",
       "4       7.313821        0.198229      0  \n",
       "\n",
       "[5 rows x 221 columns]"
      ]
     },
     "execution_count": 45,
     "metadata": {},
     "output_type": "execute_result"
    }
   ],
   "source": [
    "print(f'closed dcd size : {closed_df.shape}')\n",
    "closed_df.head()"
   ]
  },
  {
   "cell_type": "code",
   "execution_count": 50,
   "id": "b885654e-f111-4eaf-8b3d-b6ae525ca3f6",
   "metadata": {},
   "outputs": [
    {
     "name": "stderr",
     "output_type": "stream",
     "text": [
      "/tmp/ipykernel_17737/2444760398.py:2: FutureWarning:\n",
      "\n",
      "Passing a set as an indexer is deprecated and will raise in a future version. Use a list instead.\n",
      "\n",
      "/tmp/ipykernel_17737/2444760398.py:2: FutureWarning:\n",
      "\n",
      "Passing a set as an indexer is deprecated and will raise in a future version. Use a list instead.\n",
      "\n",
      "/tmp/ipykernel_17737/2444760398.py:2: FutureWarning:\n",
      "\n",
      "The frame.append method is deprecated and will be removed from pandas in a future version. Use pandas.concat instead.\n",
      "\n"
     ]
    },
    {
     "data": {
      "text/plain": [
       "(59536, 219)"
      ]
     },
     "execution_count": 50,
     "metadata": {},
     "output_type": "execute_result"
    }
   ],
   "source": [
    "common_cols = set(open_df.columns.to_list()).intersection(closed_df.columns.to_list())\n",
    "full_df = open_df.loc[:,common_cols].append(closed_df.loc[:,common_cols]).drop(['frame','Frame Num'],axis=1)\n",
    "full_df.shape"
   ]
  },
  {
   "cell_type": "markdown",
   "id": "104dfaeb-174b-4957-a8de-2c332b6f111e",
   "metadata": {},
   "source": [
    "## Looking for Correlations"
   ]
  },
  {
   "cell_type": "code",
   "execution_count": 51,
   "id": "6645ae0e-801a-4a15-bb99-bd143aca31ff",
   "metadata": {},
   "outputs": [],
   "source": [
    "corr_matrix = full_df.corr()\n",
    "final_features = corr_matrix['RBD_CA0:RMSD'][(corr_matrix['RBD_CA0:RMSD'] < 0.65) & (corr_matrix['RBD_CA0:RMSD'] > -0.65)].reset_index().loc[:,'index'].to_list()\n",
    "clf_df = full_df.loc[:,final_features]"
   ]
  },
  {
   "cell_type": "code",
   "execution_count": 52,
   "id": "4a0d92a3-89ec-4c58-80c9-ebf4ba851c14",
   "metadata": {},
   "outputs": [
    {
     "name": "stdout",
     "output_type": "stream",
     "text": [
      "Train set : (41675, 214), Test set : (17861, 214)\n"
     ]
    }
   ],
   "source": [
    "from sklearn.model_selection import train_test_split\n",
    "train_set, test_set = train_test_split(clf_df,test_size=0.3, random_state=42,stratify=full_df.label)\n",
    "print(f'Train set : {train_set.shape}, Test set : {test_set.shape}')"
   ]
  },
  {
   "cell_type": "markdown",
   "id": "0eda6938-3b4d-48f1-8386-847fce32375f",
   "metadata": {},
   "source": [
    "# Prepare the Data for Machine Learning Algorithms"
   ]
  },
  {
   "cell_type": "code",
   "execution_count": 53,
   "id": "b942f4cc",
   "metadata": {},
   "outputs": [],
   "source": [
    "import plotly.express as px"
   ]
  },
  {
   "cell_type": "code",
   "execution_count": 54,
   "id": "282dc6ee-6e66-4a5c-b175-be965c60f0f4",
   "metadata": {},
   "outputs": [
    {
     "data": {
      "text/plain": [
       "((41675, 213), (41675,))"
      ]
     },
     "execution_count": 54,
     "metadata": {},
     "output_type": "execute_result"
    }
   ],
   "source": [
    "train_X = train_set.drop(\"label\", axis=1) # drop labels for training set\n",
    "train_labels = train_set[\"label\"].copy()\n",
    "train_X.shape,train_labels.shape"
   ]
  },
  {
   "cell_type": "code",
   "execution_count": 55,
   "id": "808a68b5-7113-431a-92e7-b50317cc0cd9",
   "metadata": {},
   "outputs": [
    {
     "data": {
      "text/plain": [
       "((17861, 213), (17861,))"
      ]
     },
     "execution_count": 55,
     "metadata": {},
     "output_type": "execute_result"
    }
   ],
   "source": [
    "test_X = test_set.drop(\"label\", axis=1) # drop labels for training set\n",
    "test_labels = test_set[\"label\"].copy()\n",
    "test_X.shape, test_labels.shape"
   ]
  },
  {
   "cell_type": "code",
   "execution_count": 56,
   "id": "23f4e771-2ece-4781-afd9-2300d2531e0e",
   "metadata": {},
   "outputs": [],
   "source": [
    "from sklearn.pipeline import Pipeline\n",
    "from sklearn.preprocessing import StandardScaler\n",
    "\n",
    "num_pipeline = Pipeline([\n",
    "       ('std_scaler', StandardScaler()),\n",
    "    ])\n",
    "\n",
    "train_X_prepared = num_pipeline.fit_transform(train_X)\n",
    "test_X_prepared = num_pipeline.transform(test_X)"
   ]
  },
  {
   "cell_type": "code",
   "execution_count": 57,
   "id": "3366204e-1081-4904-a05d-733fa15628ce",
   "metadata": {},
   "outputs": [],
   "source": [
    "from sklearn.linear_model import SGDClassifier\n",
    "sgd_clf = SGDClassifier(max_iter=100, tol=1e-3, random_state=42)"
   ]
  },
  {
   "cell_type": "code",
   "execution_count": 58,
   "id": "aba14996-5bcf-401f-b067-ae6bcce5a33c",
   "metadata": {},
   "outputs": [
    {
     "data": {
      "text/plain": [
       "array([1., 1., 1., 1., 1., 1., 1., 1., 1., 1.])"
      ]
     },
     "execution_count": 58,
     "metadata": {},
     "output_type": "execute_result"
    }
   ],
   "source": [
    "from sklearn.model_selection import cross_val_score,cross_val_predict\n",
    "y_train_pred = cross_val_predict(sgd_clf,train_X_prepared, train_labels, cv=10)\n",
    "cross_val_score(sgd_clf, train_X_prepared, train_labels, cv=10, scoring=\"accuracy\")"
   ]
  },
  {
   "cell_type": "markdown",
   "id": "3750eaaf-8215-4f7c-a3fc-21fdee87b7ef",
   "metadata": {},
   "source": [
    "## Precision and Recall"
   ]
  },
  {
   "cell_type": "code",
   "execution_count": 59,
   "id": "9f81fb9c-934d-4d0d-a1e8-c04a04d34227",
   "metadata": {},
   "outputs": [
    {
     "name": "stdout",
     "output_type": "stream",
     "text": [
      " Train precison : 1.0, train recall 1.0\n"
     ]
    }
   ],
   "source": [
    "from sklearn.metrics import confusion_matrix\n",
    "from sklearn.metrics import precision_score, recall_score\n",
    "confusion_matrix(train_labels, y_train_pred)\n",
    "print(f' Train precison : {precision_score(train_labels, y_train_pred)}, train recall {recall_score(train_labels, y_train_pred)}')"
   ]
  },
  {
   "cell_type": "code",
   "execution_count": 60,
   "id": "b12e888f-b861-43a8-bdf4-2ec963f8263d",
   "metadata": {
    "scrolled": true
   },
   "outputs": [
    {
     "name": "stdout",
     "output_type": "stream",
     "text": [
      " Test precison : 1.0, Test recall 1.0\n"
     ]
    },
    {
     "data": {
      "application/vnd.plotly.v1+json": {
       "config": {
        "plotlyServerURL": "https://plot.ly"
       },
       "data": [
        {
         "alignmentgroup": "True",
         "hovertemplate": "x=%{x}<br>y=%{y}<br>color=%{marker.color}<extra></extra>",
         "legendgroup": "",
         "marker": {
          "color": [
           0.25226084164010343,
           0.35801136420792895,
           -0.13235618004032426,
           0.08139297772019977,
           0.28999849592224825,
           -0.068957220426604,
           0.40465236573347424,
           0.28621908074841185,
           -0.2671180325944335,
           0.35285327235135344,
           -0.29706075221115763,
           0.2975109240561925,
           -0.024906732773786026,
           0.3829300158747792,
           0.299322292993378,
           -0.1520990405673312,
           -0.04372289867429757,
           -0.20233335905541736,
           -0.23842417763438364,
           0.047435867518510706,
           0.06538327242648642,
           -0.19753835789662016,
           -0.22882167190403344,
           0.34363587569099646,
           0.05370996818301303,
           0.21482297868543732,
           0.18774811723979426,
           -0.1459778030174959,
           -0.15433190961890275,
           0.2641681970806143,
           0.10872741750065361,
           0.3562839625903521,
           0.18087069257392302,
           0.1625774848281832,
           0.38233889820442385,
           -0.0006303776864944532,
           -0.05491788509796099,
           0.28628061294338175,
           0.026228116504796055,
           0.025622622740810376,
           0.3409037589226133,
           0.03255102400979413,
           -0.47199857756637087,
           0.3056654423557287,
           -0.1428348428054433,
           0.23016931401395252,
           -0.12205792110217414,
           0.00498598967660913,
           0.08984068412670403,
           0.40558086124493764,
           0.35630193397793364,
           0.09719868260666055,
           0.13378682366177297,
           0.10331335973758304,
           -0.22696629903583043,
           -0.08214509574396033,
           -0.3560475967359846,
           0.2640373112593235,
           -0.31234764305706353,
           -0.2423303879583205,
           0.0073272084586673775,
           0.2777967034125851,
           -0.08529563887825399,
           0.003109437019060936,
           0.39783809984973645,
           -0.20988260650563825,
           0.056919002701845016,
           0.31711666250650483,
           0.48007384809996195,
           0.12519839641234642,
           0.061629969556431734,
           -0.08205234775242863,
           0.1681307278122052,
           0.09411102832409979,
           -0.015373170819322225,
           -0.26427606718957614,
           0.43343568869990934,
           0.007188253021183676,
           -0.10214736347774789,
           0.08725506015654803,
           -0.07580072329348614,
           -0.280674320509076,
           -0.17959478012403485,
           0.34599172699266545,
           -0.28115384550960465,
           0.34370500876720134,
           -0.11423472813143032,
           -0.0021994599609066255,
           0.2747513662684313,
           0.21136575526566814,
           0.392889376437193,
           0.13037130425152513,
           0.05855839053388749,
           -0.20593896007153453,
           -0.009111680888205442,
           0.037866530075840926,
           0.3564518070275182,
           0.17504176116000253,
           0.3289048479944563,
           0.4240952222167609,
           0.060167926385156174,
           -0.23358838346083577,
           -0.1413386310798405,
           -0.21457513323160252,
           0.03936191607992564,
           -0.0461410680688645,
           0.4078158060257708,
           -0.13035084785222603,
           0.16147912307668064,
           -0.14951567724803907,
           -0.02108534093300011,
           0.1264261342456326,
           -0.18462027301542228,
           0.03972148311252086,
           -0.33808501044768086,
           0.16716381449692275,
           -0.0073976578047932826,
           0.10288257179542007,
           0.3129659129415552,
           0.13235738200974223,
           0.1089471044752228,
           -0.018787017025844607,
           -0.07367835202117448,
           0.08089275426654362,
           -0.34436853642813947,
           0.3995781993753579,
           -0.23281072923489124,
           0.3489099675972515,
           0.1278710915235908,
           0.2663966720827875,
           0.026156527236821537,
           0.13503046494376644,
           0.3452358993637008,
           -0.2030201995775103,
           0.04902141719222835,
           0.15751579054374062,
           0.2749247660823317,
           0.35122161608737457,
           0.06674719578205035,
           0.08713140023510521,
           0.2910757568063359,
           0.030106611723507783,
           -0.26526527219147544,
           0.2804171496991725,
           0.14089600207317396,
           0.2567085359096097,
           0.23659585950240306,
           -0.1195132472276735,
           0.1298023887833921,
           -0.13583626257077286,
           0.3734218143789477,
           0.16759283076807105,
           0.25109683492678514,
           0.426261296842129,
           0.10543216970555971,
           0.05650695027768879,
           0.20754966879445058,
           2.91106050554608e-05,
           0.28558884837110493,
           0.2170301741693345,
           0.07288805446838503,
           -0.0828765718026462,
           0.369465177978202,
           0.34282827677555855,
           0.029339725146158426,
           0.12727160040797095,
           0.05692242716380337,
           0.08174427049126429,
           -0.15461332972602396,
           0.021896543558131535,
           -0.00418986722924446,
           0.30326315671236176,
           -0.13825827644209981,
           0.33684423440059935,
           0.0798967272618168,
           0.23756821031009812,
           0.03576323812339562,
           -0.13145537767982357,
           0.2324617646907933,
           0.24856661791486986,
           0.04750600875624768,
           0.12206807651179864,
           0.06284504892931299,
           -0.2321151043722153,
           -0.040057671823106586,
           -0.0576325478727277,
           -0.2097393025459197,
           -0.14948543637129283,
           0.13328968699079363,
           -0.3558458690354746,
           0.08172236269190633,
           -0.10154683890713315,
           0.12797941605338367,
           0.01591322339217628,
           0.4147676248288117,
           0.1773623306306467,
           0.37936005657982375,
           -0.28387367821871956,
           0.01888180445419312,
           -0.10257686406910392,
           0.024296210439525474,
           0.17895372362196058,
           0.4159630640815574,
           -0.20681231722279678,
           0.4056843331587904,
           0.29428844205114574,
           -0.10604394706663695,
           0.13392465872127837,
           -0.1569162365970856,
           0.37916985462732167,
           0.3114879298775193,
           -0.23175351243741915,
           0.12603331646081165
          ],
          "coloraxis": "coloraxis",
          "pattern": {
           "shape": ""
          }
         },
         "name": "",
         "offsetgroup": "",
         "orientation": "v",
         "showlegend": false,
         "textposition": "auto",
         "type": "bar",
         "x": [
          "RBD__2__GLY46",
          "RBD__2__GLY35",
          "GLY41:ROF",
          "GLY30:ROF",
          "RBD__2__GLY18",
          "GLY38:ROF",
          "RBD__2__GLY60",
          "GLY65:RMSD",
          "GLY0:ROF",
          "RBD__2__GLY41",
          "GLY53:ROF",
          "RBD__2__GLY55",
          "GLY57:ROF",
          "RBD__2__GLY26",
          "RBD__2__GLY7",
          "GLY11:ROF",
          "RBD__2__GLY13",
          "backbone0:ROF",
          "GLY42:ROF",
          "GLY64:ROF",
          "GLY67:ROF",
          "GLY58:ROF",
          "RBD__2__GLY43",
          "RBD__2__GLY57",
          "GLY44:ROF",
          "GLY35:ROF",
          "GLY26:ROF",
          "GLY4:RMSD",
          "GLY0:RMSD",
          "GLY52:ROF",
          "CH_CA0:ROF",
          "RBD__2__GLY21",
          "GLY40:RMSD",
          "GLY17:RMSD",
          "RBD__2__GLY6",
          "GLY41:RMSD",
          "GLY51:ROF",
          "RBD__2__GLY34",
          "GLY14:RMSD",
          "GLY11:RMSD",
          "RBD__2__GLY5",
          "GLY63:RMSD",
          "GLY32:ROF",
          "GLY69:RMSD",
          "RBD__2__GLY2",
          "RBD__2__GLY14",
          "GLY9:RMSD",
          "GLY19:RMSD",
          "GLY38:RMSD",
          "RBD__2__backbone0",
          "RBD__2__GLY33",
          "GLY50:RMSD",
          "GLY12:RMSD",
          "GLY37:RMSD",
          "GLY65:ROF",
          "GLY7:ROF",
          "RBD__2__GLY42",
          "RBD__2__GLY19",
          "GLY27:ROF",
          "RBD__2__GLY1",
          "GLY20:RMSD",
          "RBD__2__GLY25",
          "GLY34:ROF",
          "GLY62:RMSD",
          "RBD__2__GLY38",
          "GLY4:ROF",
          "GLY5:RMSD",
          "RBD__2__GLY15",
          "GLY22:ROF",
          "GLY36:RMSD",
          "GLY27:RMSD",
          "GLY3:RMSD",
          "RBD__2__GLY10",
          "GLY26:RMSD",
          "GLY56:RMSD",
          "GLY59:ROF",
          "RBD__2__GLY32",
          "GLY67:RMSD",
          "GLY19:ROF",
          "RBD__2__GLY30",
          "GLY54:RMSD",
          "GLY29:ROF",
          "GLY1:RMSD",
          "RBD__2__GLY51",
          "GLY15:ROF",
          "RBD__2__GLY31",
          "GLY46:ROF",
          "GLY55:RMSD",
          "RBD__2__GLY36",
          "GLY48:ROF",
          "RBD__2__GLY27",
          "GLY46:RMSD",
          "GLY64:RMSD",
          "GLY20:ROF",
          "GLY34:RMSD",
          "GLY13:RMSD",
          "RBD__2__GLY54",
          "GLY15:RMSD",
          "RBD__2__GLY56",
          "RBD__2__GLY28",
          "GLY16:ROF",
          "RBD__2__GLY3",
          "GLY24:ROF",
          "GLY69:ROF",
          "GLY61:RMSD",
          "GLY18:ROF",
          "RBD__2__GLY17",
          "GLY40:ROF",
          "backbone0:RMSD",
          "GLY39:ROF",
          "GLY57:RMSD",
          "GLY60:ROF",
          "GLY14:ROF",
          "GLY44:RMSD",
          "RBD__2__GLY49",
          "CH_CA0:RMSD",
          "GLY30:RMSD",
          "RBD__2__GLY47",
          "RBD__2__GLY62",
          "RBD__2__GLY9",
          "GLY28:RMSD",
          "GLY31:RMSD",
          "GLY52:RMSD",
          "GLY6:RMSD",
          "GLY37:ROF",
          "RBD__2__GLY53",
          "GLY68:ROF",
          "RBD__2__GLY52",
          "GLY36:ROF",
          "RBD__2__GLY66",
          "GLY47:RMSD",
          "GLY6:ROF",
          "RBD__2__GLY37",
          "RBD__2__GLY23",
          "GLY45:RMSD",
          "GLY2:ROF",
          "RBD__2__GLY65",
          "RBD__2__GLY68",
          "GLY43:ROF",
          "RBD__2__GLY11",
          "RBD__2__GLY20",
          "GLY35:RMSD",
          "RBD__2__GLY0",
          "RBD__2__GLY24",
          "RBD__2__GLY4",
          "RBD__2__GLY50",
          "RBD__2__GLY63",
          "GLY66:ROF",
          "GLY68:RMSD",
          "GLY5:ROF",
          "RBD__2__GLY69",
          "GLY53:RMSD",
          "RBD__2__GLY67",
          "RBD__2__GLY59",
          "GLY66:RMSD",
          "GLY21:RMSD",
          "RBD__2__GLY8",
          "GLY23:ROF",
          "RBD__2__GLY22",
          "GLY24:RMSD",
          "GLY33:RMSD",
          "GLY61:ROF",
          "RBD__2__GLY39",
          "GLY9:ROF",
          "GLY28:ROF",
          "GLY25:RMSD",
          "GLY10:ROF",
          "GLY16:RMSD",
          "GLY25:ROF",
          "GLY49:RMSD",
          "GLY7:RMSD",
          "GLY13:ROF",
          "GLY56:ROF",
          "RBD__2__GLY58",
          "GLY10:RMSD",
          "RBD_CA0:ROF",
          "GLY12:ROF",
          "GLY31:ROF",
          "GLY47:ROF",
          "RBD__2__GLY64",
          "GLY23:RMSD",
          "GLY58:RMSD",
          "GLY8:RMSD",
          "GLY49:ROF",
          "GLY60:RMSD",
          "GLY21:ROF",
          "RBD__2__GLY12",
          "GLY54:ROF",
          "GLY62:ROF",
          "GLY33:ROF",
          "GLY63:ROF",
          "GLY48:RMSD",
          "GLY17:ROF",
          "GLY39:RMSD",
          "RBD__2__GLY16",
          "GLY22:RMSD",
          "RBD__2__GLY45",
          "GLY55:ROF",
          "GLY59:RMSD",
          "GLY8:ROF",
          "GLY51:RMSD",
          "GLY45:ROF",
          "RBD__2__CH_CA0",
          "RBD__2__GLY48",
          "RBD__2__GLY29",
          "RBD__2__GLY44",
          "GLY42:RMSD",
          "GLY1:ROF",
          "GLY50:ROF",
          "RBD__2__GLY40",
          "RBD__2__GLY61",
          "GLY3:ROF",
          "GLY29:RMSD"
         ],
         "xaxis": "x",
         "y": [
          0.25226084164010343,
          0.35801136420792895,
          -0.13235618004032426,
          0.08139297772019977,
          0.28999849592224825,
          -0.068957220426604,
          0.40465236573347424,
          0.28621908074841185,
          -0.2671180325944335,
          0.35285327235135344,
          -0.29706075221115763,
          0.2975109240561925,
          -0.024906732773786026,
          0.3829300158747792,
          0.299322292993378,
          -0.1520990405673312,
          -0.04372289867429757,
          -0.20233335905541736,
          -0.23842417763438364,
          0.047435867518510706,
          0.06538327242648642,
          -0.19753835789662016,
          -0.22882167190403344,
          0.34363587569099646,
          0.05370996818301303,
          0.21482297868543732,
          0.18774811723979426,
          -0.1459778030174959,
          -0.15433190961890275,
          0.2641681970806143,
          0.10872741750065361,
          0.3562839625903521,
          0.18087069257392302,
          0.1625774848281832,
          0.38233889820442385,
          -0.0006303776864944532,
          -0.05491788509796099,
          0.28628061294338175,
          0.026228116504796055,
          0.025622622740810376,
          0.3409037589226133,
          0.03255102400979413,
          -0.47199857756637087,
          0.3056654423557287,
          -0.1428348428054433,
          0.23016931401395252,
          -0.12205792110217414,
          0.00498598967660913,
          0.08984068412670403,
          0.40558086124493764,
          0.35630193397793364,
          0.09719868260666055,
          0.13378682366177297,
          0.10331335973758304,
          -0.22696629903583043,
          -0.08214509574396033,
          -0.3560475967359846,
          0.2640373112593235,
          -0.31234764305706353,
          -0.2423303879583205,
          0.0073272084586673775,
          0.2777967034125851,
          -0.08529563887825399,
          0.003109437019060936,
          0.39783809984973645,
          -0.20988260650563825,
          0.056919002701845016,
          0.31711666250650483,
          0.48007384809996195,
          0.12519839641234642,
          0.061629969556431734,
          -0.08205234775242863,
          0.1681307278122052,
          0.09411102832409979,
          -0.015373170819322225,
          -0.26427606718957614,
          0.43343568869990934,
          0.007188253021183676,
          -0.10214736347774789,
          0.08725506015654803,
          -0.07580072329348614,
          -0.280674320509076,
          -0.17959478012403485,
          0.34599172699266545,
          -0.28115384550960465,
          0.34370500876720134,
          -0.11423472813143032,
          -0.0021994599609066255,
          0.2747513662684313,
          0.21136575526566814,
          0.392889376437193,
          0.13037130425152513,
          0.05855839053388749,
          -0.20593896007153453,
          -0.009111680888205442,
          0.037866530075840926,
          0.3564518070275182,
          0.17504176116000253,
          0.3289048479944563,
          0.4240952222167609,
          0.060167926385156174,
          -0.23358838346083577,
          -0.1413386310798405,
          -0.21457513323160252,
          0.03936191607992564,
          -0.0461410680688645,
          0.4078158060257708,
          -0.13035084785222603,
          0.16147912307668064,
          -0.14951567724803907,
          -0.02108534093300011,
          0.1264261342456326,
          -0.18462027301542228,
          0.03972148311252086,
          -0.33808501044768086,
          0.16716381449692275,
          -0.0073976578047932826,
          0.10288257179542007,
          0.3129659129415552,
          0.13235738200974223,
          0.1089471044752228,
          -0.018787017025844607,
          -0.07367835202117448,
          0.08089275426654362,
          -0.34436853642813947,
          0.3995781993753579,
          -0.23281072923489124,
          0.3489099675972515,
          0.1278710915235908,
          0.2663966720827875,
          0.026156527236821537,
          0.13503046494376644,
          0.3452358993637008,
          -0.2030201995775103,
          0.04902141719222835,
          0.15751579054374062,
          0.2749247660823317,
          0.35122161608737457,
          0.06674719578205035,
          0.08713140023510521,
          0.2910757568063359,
          0.030106611723507783,
          -0.26526527219147544,
          0.2804171496991725,
          0.14089600207317396,
          0.2567085359096097,
          0.23659585950240306,
          -0.1195132472276735,
          0.1298023887833921,
          -0.13583626257077286,
          0.3734218143789477,
          0.16759283076807105,
          0.25109683492678514,
          0.426261296842129,
          0.10543216970555971,
          0.05650695027768879,
          0.20754966879445058,
          2.91106050554608e-05,
          0.28558884837110493,
          0.2170301741693345,
          0.07288805446838503,
          -0.0828765718026462,
          0.369465177978202,
          0.34282827677555855,
          0.029339725146158426,
          0.12727160040797095,
          0.05692242716380337,
          0.08174427049126429,
          -0.15461332972602396,
          0.021896543558131535,
          -0.00418986722924446,
          0.30326315671236176,
          -0.13825827644209981,
          0.33684423440059935,
          0.0798967272618168,
          0.23756821031009812,
          0.03576323812339562,
          -0.13145537767982357,
          0.2324617646907933,
          0.24856661791486986,
          0.04750600875624768,
          0.12206807651179864,
          0.06284504892931299,
          -0.2321151043722153,
          -0.040057671823106586,
          -0.0576325478727277,
          -0.2097393025459197,
          -0.14948543637129283,
          0.13328968699079363,
          -0.3558458690354746,
          0.08172236269190633,
          -0.10154683890713315,
          0.12797941605338367,
          0.01591322339217628,
          0.4147676248288117,
          0.1773623306306467,
          0.37936005657982375,
          -0.28387367821871956,
          0.01888180445419312,
          -0.10257686406910392,
          0.024296210439525474,
          0.17895372362196058,
          0.4159630640815574,
          -0.20681231722279678,
          0.4056843331587904,
          0.29428844205114574,
          -0.10604394706663695,
          0.13392465872127837,
          -0.1569162365970856,
          0.37916985462732167,
          0.3114879298775193,
          -0.23175351243741915,
          0.12603331646081165
         ],
         "yaxis": "y"
        }
       ],
       "layout": {
        "barmode": "relative",
        "coloraxis": {
         "colorbar": {
          "title": {
           "text": "color"
          }
         },
         "colorscale": [
          [
           0,
           "#0d0887"
          ],
          [
           0.1111111111111111,
           "#46039f"
          ],
          [
           0.2222222222222222,
           "#7201a8"
          ],
          [
           0.3333333333333333,
           "#9c179e"
          ],
          [
           0.4444444444444444,
           "#bd3786"
          ],
          [
           0.5555555555555556,
           "#d8576b"
          ],
          [
           0.6666666666666666,
           "#ed7953"
          ],
          [
           0.7777777777777778,
           "#fb9f3a"
          ],
          [
           0.8888888888888888,
           "#fdca26"
          ],
          [
           1,
           "#f0f921"
          ]
         ]
        },
        "legend": {
         "tracegroupgap": 0
        },
        "margin": {
         "t": 60
        },
        "template": {
         "data": {
          "bar": [
           {
            "error_x": {
             "color": "#2a3f5f"
            },
            "error_y": {
             "color": "#2a3f5f"
            },
            "marker": {
             "line": {
              "color": "#E5ECF6",
              "width": 0.5
             },
             "pattern": {
              "fillmode": "overlay",
              "size": 10,
              "solidity": 0.2
             }
            },
            "type": "bar"
           }
          ],
          "barpolar": [
           {
            "marker": {
             "line": {
              "color": "#E5ECF6",
              "width": 0.5
             },
             "pattern": {
              "fillmode": "overlay",
              "size": 10,
              "solidity": 0.2
             }
            },
            "type": "barpolar"
           }
          ],
          "carpet": [
           {
            "aaxis": {
             "endlinecolor": "#2a3f5f",
             "gridcolor": "white",
             "linecolor": "white",
             "minorgridcolor": "white",
             "startlinecolor": "#2a3f5f"
            },
            "baxis": {
             "endlinecolor": "#2a3f5f",
             "gridcolor": "white",
             "linecolor": "white",
             "minorgridcolor": "white",
             "startlinecolor": "#2a3f5f"
            },
            "type": "carpet"
           }
          ],
          "choropleth": [
           {
            "colorbar": {
             "outlinewidth": 0,
             "ticks": ""
            },
            "type": "choropleth"
           }
          ],
          "contour": [
           {
            "colorbar": {
             "outlinewidth": 0,
             "ticks": ""
            },
            "colorscale": [
             [
              0,
              "#0d0887"
             ],
             [
              0.1111111111111111,
              "#46039f"
             ],
             [
              0.2222222222222222,
              "#7201a8"
             ],
             [
              0.3333333333333333,
              "#9c179e"
             ],
             [
              0.4444444444444444,
              "#bd3786"
             ],
             [
              0.5555555555555556,
              "#d8576b"
             ],
             [
              0.6666666666666666,
              "#ed7953"
             ],
             [
              0.7777777777777778,
              "#fb9f3a"
             ],
             [
              0.8888888888888888,
              "#fdca26"
             ],
             [
              1,
              "#f0f921"
             ]
            ],
            "type": "contour"
           }
          ],
          "contourcarpet": [
           {
            "colorbar": {
             "outlinewidth": 0,
             "ticks": ""
            },
            "type": "contourcarpet"
           }
          ],
          "heatmap": [
           {
            "colorbar": {
             "outlinewidth": 0,
             "ticks": ""
            },
            "colorscale": [
             [
              0,
              "#0d0887"
             ],
             [
              0.1111111111111111,
              "#46039f"
             ],
             [
              0.2222222222222222,
              "#7201a8"
             ],
             [
              0.3333333333333333,
              "#9c179e"
             ],
             [
              0.4444444444444444,
              "#bd3786"
             ],
             [
              0.5555555555555556,
              "#d8576b"
             ],
             [
              0.6666666666666666,
              "#ed7953"
             ],
             [
              0.7777777777777778,
              "#fb9f3a"
             ],
             [
              0.8888888888888888,
              "#fdca26"
             ],
             [
              1,
              "#f0f921"
             ]
            ],
            "type": "heatmap"
           }
          ],
          "heatmapgl": [
           {
            "colorbar": {
             "outlinewidth": 0,
             "ticks": ""
            },
            "colorscale": [
             [
              0,
              "#0d0887"
             ],
             [
              0.1111111111111111,
              "#46039f"
             ],
             [
              0.2222222222222222,
              "#7201a8"
             ],
             [
              0.3333333333333333,
              "#9c179e"
             ],
             [
              0.4444444444444444,
              "#bd3786"
             ],
             [
              0.5555555555555556,
              "#d8576b"
             ],
             [
              0.6666666666666666,
              "#ed7953"
             ],
             [
              0.7777777777777778,
              "#fb9f3a"
             ],
             [
              0.8888888888888888,
              "#fdca26"
             ],
             [
              1,
              "#f0f921"
             ]
            ],
            "type": "heatmapgl"
           }
          ],
          "histogram": [
           {
            "marker": {
             "pattern": {
              "fillmode": "overlay",
              "size": 10,
              "solidity": 0.2
             }
            },
            "type": "histogram"
           }
          ],
          "histogram2d": [
           {
            "colorbar": {
             "outlinewidth": 0,
             "ticks": ""
            },
            "colorscale": [
             [
              0,
              "#0d0887"
             ],
             [
              0.1111111111111111,
              "#46039f"
             ],
             [
              0.2222222222222222,
              "#7201a8"
             ],
             [
              0.3333333333333333,
              "#9c179e"
             ],
             [
              0.4444444444444444,
              "#bd3786"
             ],
             [
              0.5555555555555556,
              "#d8576b"
             ],
             [
              0.6666666666666666,
              "#ed7953"
             ],
             [
              0.7777777777777778,
              "#fb9f3a"
             ],
             [
              0.8888888888888888,
              "#fdca26"
             ],
             [
              1,
              "#f0f921"
             ]
            ],
            "type": "histogram2d"
           }
          ],
          "histogram2dcontour": [
           {
            "colorbar": {
             "outlinewidth": 0,
             "ticks": ""
            },
            "colorscale": [
             [
              0,
              "#0d0887"
             ],
             [
              0.1111111111111111,
              "#46039f"
             ],
             [
              0.2222222222222222,
              "#7201a8"
             ],
             [
              0.3333333333333333,
              "#9c179e"
             ],
             [
              0.4444444444444444,
              "#bd3786"
             ],
             [
              0.5555555555555556,
              "#d8576b"
             ],
             [
              0.6666666666666666,
              "#ed7953"
             ],
             [
              0.7777777777777778,
              "#fb9f3a"
             ],
             [
              0.8888888888888888,
              "#fdca26"
             ],
             [
              1,
              "#f0f921"
             ]
            ],
            "type": "histogram2dcontour"
           }
          ],
          "mesh3d": [
           {
            "colorbar": {
             "outlinewidth": 0,
             "ticks": ""
            },
            "type": "mesh3d"
           }
          ],
          "parcoords": [
           {
            "line": {
             "colorbar": {
              "outlinewidth": 0,
              "ticks": ""
             }
            },
            "type": "parcoords"
           }
          ],
          "pie": [
           {
            "automargin": true,
            "type": "pie"
           }
          ],
          "scatter": [
           {
            "marker": {
             "colorbar": {
              "outlinewidth": 0,
              "ticks": ""
             }
            },
            "type": "scatter"
           }
          ],
          "scatter3d": [
           {
            "line": {
             "colorbar": {
              "outlinewidth": 0,
              "ticks": ""
             }
            },
            "marker": {
             "colorbar": {
              "outlinewidth": 0,
              "ticks": ""
             }
            },
            "type": "scatter3d"
           }
          ],
          "scattercarpet": [
           {
            "marker": {
             "colorbar": {
              "outlinewidth": 0,
              "ticks": ""
             }
            },
            "type": "scattercarpet"
           }
          ],
          "scattergeo": [
           {
            "marker": {
             "colorbar": {
              "outlinewidth": 0,
              "ticks": ""
             }
            },
            "type": "scattergeo"
           }
          ],
          "scattergl": [
           {
            "marker": {
             "colorbar": {
              "outlinewidth": 0,
              "ticks": ""
             }
            },
            "type": "scattergl"
           }
          ],
          "scattermapbox": [
           {
            "marker": {
             "colorbar": {
              "outlinewidth": 0,
              "ticks": ""
             }
            },
            "type": "scattermapbox"
           }
          ],
          "scatterpolar": [
           {
            "marker": {
             "colorbar": {
              "outlinewidth": 0,
              "ticks": ""
             }
            },
            "type": "scatterpolar"
           }
          ],
          "scatterpolargl": [
           {
            "marker": {
             "colorbar": {
              "outlinewidth": 0,
              "ticks": ""
             }
            },
            "type": "scatterpolargl"
           }
          ],
          "scatterternary": [
           {
            "marker": {
             "colorbar": {
              "outlinewidth": 0,
              "ticks": ""
             }
            },
            "type": "scatterternary"
           }
          ],
          "surface": [
           {
            "colorbar": {
             "outlinewidth": 0,
             "ticks": ""
            },
            "colorscale": [
             [
              0,
              "#0d0887"
             ],
             [
              0.1111111111111111,
              "#46039f"
             ],
             [
              0.2222222222222222,
              "#7201a8"
             ],
             [
              0.3333333333333333,
              "#9c179e"
             ],
             [
              0.4444444444444444,
              "#bd3786"
             ],
             [
              0.5555555555555556,
              "#d8576b"
             ],
             [
              0.6666666666666666,
              "#ed7953"
             ],
             [
              0.7777777777777778,
              "#fb9f3a"
             ],
             [
              0.8888888888888888,
              "#fdca26"
             ],
             [
              1,
              "#f0f921"
             ]
            ],
            "type": "surface"
           }
          ],
          "table": [
           {
            "cells": {
             "fill": {
              "color": "#EBF0F8"
             },
             "line": {
              "color": "white"
             }
            },
            "header": {
             "fill": {
              "color": "#C8D4E3"
             },
             "line": {
              "color": "white"
             }
            },
            "type": "table"
           }
          ]
         },
         "layout": {
          "annotationdefaults": {
           "arrowcolor": "#2a3f5f",
           "arrowhead": 0,
           "arrowwidth": 1
          },
          "autotypenumbers": "strict",
          "coloraxis": {
           "colorbar": {
            "outlinewidth": 0,
            "ticks": ""
           }
          },
          "colorscale": {
           "diverging": [
            [
             0,
             "#8e0152"
            ],
            [
             0.1,
             "#c51b7d"
            ],
            [
             0.2,
             "#de77ae"
            ],
            [
             0.3,
             "#f1b6da"
            ],
            [
             0.4,
             "#fde0ef"
            ],
            [
             0.5,
             "#f7f7f7"
            ],
            [
             0.6,
             "#e6f5d0"
            ],
            [
             0.7,
             "#b8e186"
            ],
            [
             0.8,
             "#7fbc41"
            ],
            [
             0.9,
             "#4d9221"
            ],
            [
             1,
             "#276419"
            ]
           ],
           "sequential": [
            [
             0,
             "#0d0887"
            ],
            [
             0.1111111111111111,
             "#46039f"
            ],
            [
             0.2222222222222222,
             "#7201a8"
            ],
            [
             0.3333333333333333,
             "#9c179e"
            ],
            [
             0.4444444444444444,
             "#bd3786"
            ],
            [
             0.5555555555555556,
             "#d8576b"
            ],
            [
             0.6666666666666666,
             "#ed7953"
            ],
            [
             0.7777777777777778,
             "#fb9f3a"
            ],
            [
             0.8888888888888888,
             "#fdca26"
            ],
            [
             1,
             "#f0f921"
            ]
           ],
           "sequentialminus": [
            [
             0,
             "#0d0887"
            ],
            [
             0.1111111111111111,
             "#46039f"
            ],
            [
             0.2222222222222222,
             "#7201a8"
            ],
            [
             0.3333333333333333,
             "#9c179e"
            ],
            [
             0.4444444444444444,
             "#bd3786"
            ],
            [
             0.5555555555555556,
             "#d8576b"
            ],
            [
             0.6666666666666666,
             "#ed7953"
            ],
            [
             0.7777777777777778,
             "#fb9f3a"
            ],
            [
             0.8888888888888888,
             "#fdca26"
            ],
            [
             1,
             "#f0f921"
            ]
           ]
          },
          "colorway": [
           "#636efa",
           "#EF553B",
           "#00cc96",
           "#ab63fa",
           "#FFA15A",
           "#19d3f3",
           "#FF6692",
           "#B6E880",
           "#FF97FF",
           "#FECB52"
          ],
          "font": {
           "color": "#2a3f5f"
          },
          "geo": {
           "bgcolor": "white",
           "lakecolor": "white",
           "landcolor": "#E5ECF6",
           "showlakes": true,
           "showland": true,
           "subunitcolor": "white"
          },
          "hoverlabel": {
           "align": "left"
          },
          "hovermode": "closest",
          "mapbox": {
           "style": "light"
          },
          "paper_bgcolor": "white",
          "plot_bgcolor": "#E5ECF6",
          "polar": {
           "angularaxis": {
            "gridcolor": "white",
            "linecolor": "white",
            "ticks": ""
           },
           "bgcolor": "#E5ECF6",
           "radialaxis": {
            "gridcolor": "white",
            "linecolor": "white",
            "ticks": ""
           }
          },
          "scene": {
           "xaxis": {
            "backgroundcolor": "#E5ECF6",
            "gridcolor": "white",
            "gridwidth": 2,
            "linecolor": "white",
            "showbackground": true,
            "ticks": "",
            "zerolinecolor": "white"
           },
           "yaxis": {
            "backgroundcolor": "#E5ECF6",
            "gridcolor": "white",
            "gridwidth": 2,
            "linecolor": "white",
            "showbackground": true,
            "ticks": "",
            "zerolinecolor": "white"
           },
           "zaxis": {
            "backgroundcolor": "#E5ECF6",
            "gridcolor": "white",
            "gridwidth": 2,
            "linecolor": "white",
            "showbackground": true,
            "ticks": "",
            "zerolinecolor": "white"
           }
          },
          "shapedefaults": {
           "line": {
            "color": "#2a3f5f"
           }
          },
          "ternary": {
           "aaxis": {
            "gridcolor": "white",
            "linecolor": "white",
            "ticks": ""
           },
           "baxis": {
            "gridcolor": "white",
            "linecolor": "white",
            "ticks": ""
           },
           "bgcolor": "#E5ECF6",
           "caxis": {
            "gridcolor": "white",
            "linecolor": "white",
            "ticks": ""
           }
          },
          "title": {
           "x": 0.05
          },
          "xaxis": {
           "automargin": true,
           "gridcolor": "white",
           "linecolor": "white",
           "ticks": "",
           "title": {
            "standoff": 15
           },
           "zerolinecolor": "white",
           "zerolinewidth": 2
          },
          "yaxis": {
           "automargin": true,
           "gridcolor": "white",
           "linecolor": "white",
           "ticks": "",
           "title": {
            "standoff": 15
           },
           "zerolinecolor": "white",
           "zerolinewidth": 2
          }
         }
        },
        "xaxis": {
         "anchor": "y",
         "categoryorder": "total ascending",
         "domain": [
          0,
          1
         ],
         "title": {
          "text": "x"
         }
        },
        "yaxis": {
         "anchor": "x",
         "domain": [
          0,
          1
         ],
         "title": {
          "text": "y"
         }
        }
       }
      },
      "text/html": [
       "<div>                            <div id=\"e4e6cf98-04ba-44d6-a7dc-ba56be5f76ac\" class=\"plotly-graph-div\" style=\"height:525px; width:100%;\"></div>            <script type=\"text/javascript\">                require([\"plotly\"], function(Plotly) {                    window.PLOTLYENV=window.PLOTLYENV || {};                                    if (document.getElementById(\"e4e6cf98-04ba-44d6-a7dc-ba56be5f76ac\")) {                    Plotly.newPlot(                        \"e4e6cf98-04ba-44d6-a7dc-ba56be5f76ac\",                        [{\"alignmentgroup\":\"True\",\"hovertemplate\":\"x=%{x}<br>y=%{y}<br>color=%{marker.color}<extra></extra>\",\"legendgroup\":\"\",\"marker\":{\"color\":[0.25226084164010343,0.35801136420792895,-0.13235618004032426,0.08139297772019977,0.28999849592224825,-0.068957220426604,0.40465236573347424,0.28621908074841185,-0.2671180325944335,0.35285327235135344,-0.29706075221115763,0.2975109240561925,-0.024906732773786026,0.3829300158747792,0.299322292993378,-0.1520990405673312,-0.04372289867429757,-0.20233335905541736,-0.23842417763438364,0.047435867518510706,0.06538327242648642,-0.19753835789662016,-0.22882167190403344,0.34363587569099646,0.05370996818301303,0.21482297868543732,0.18774811723979426,-0.1459778030174959,-0.15433190961890275,0.2641681970806143,0.10872741750065361,0.3562839625903521,0.18087069257392302,0.1625774848281832,0.38233889820442385,-0.0006303776864944532,-0.05491788509796099,0.28628061294338175,0.026228116504796055,0.025622622740810376,0.3409037589226133,0.03255102400979413,-0.47199857756637087,0.3056654423557287,-0.1428348428054433,0.23016931401395252,-0.12205792110217414,0.00498598967660913,0.08984068412670403,0.40558086124493764,0.35630193397793364,0.09719868260666055,0.13378682366177297,0.10331335973758304,-0.22696629903583043,-0.08214509574396033,-0.3560475967359846,0.2640373112593235,-0.31234764305706353,-0.2423303879583205,0.0073272084586673775,0.2777967034125851,-0.08529563887825399,0.003109437019060936,0.39783809984973645,-0.20988260650563825,0.056919002701845016,0.31711666250650483,0.48007384809996195,0.12519839641234642,0.061629969556431734,-0.08205234775242863,0.1681307278122052,0.09411102832409979,-0.015373170819322225,-0.26427606718957614,0.43343568869990934,0.007188253021183676,-0.10214736347774789,0.08725506015654803,-0.07580072329348614,-0.280674320509076,-0.17959478012403485,0.34599172699266545,-0.28115384550960465,0.34370500876720134,-0.11423472813143032,-0.0021994599609066255,0.2747513662684313,0.21136575526566814,0.392889376437193,0.13037130425152513,0.05855839053388749,-0.20593896007153453,-0.009111680888205442,0.037866530075840926,0.3564518070275182,0.17504176116000253,0.3289048479944563,0.4240952222167609,0.060167926385156174,-0.23358838346083577,-0.1413386310798405,-0.21457513323160252,0.03936191607992564,-0.0461410680688645,0.4078158060257708,-0.13035084785222603,0.16147912307668064,-0.14951567724803907,-0.02108534093300011,0.1264261342456326,-0.18462027301542228,0.03972148311252086,-0.33808501044768086,0.16716381449692275,-0.0073976578047932826,0.10288257179542007,0.3129659129415552,0.13235738200974223,0.1089471044752228,-0.018787017025844607,-0.07367835202117448,0.08089275426654362,-0.34436853642813947,0.3995781993753579,-0.23281072923489124,0.3489099675972515,0.1278710915235908,0.2663966720827875,0.026156527236821537,0.13503046494376644,0.3452358993637008,-0.2030201995775103,0.04902141719222835,0.15751579054374062,0.2749247660823317,0.35122161608737457,0.06674719578205035,0.08713140023510521,0.2910757568063359,0.030106611723507783,-0.26526527219147544,0.2804171496991725,0.14089600207317396,0.2567085359096097,0.23659585950240306,-0.1195132472276735,0.1298023887833921,-0.13583626257077286,0.3734218143789477,0.16759283076807105,0.25109683492678514,0.426261296842129,0.10543216970555971,0.05650695027768879,0.20754966879445058,2.91106050554608e-05,0.28558884837110493,0.2170301741693345,0.07288805446838503,-0.0828765718026462,0.369465177978202,0.34282827677555855,0.029339725146158426,0.12727160040797095,0.05692242716380337,0.08174427049126429,-0.15461332972602396,0.021896543558131535,-0.00418986722924446,0.30326315671236176,-0.13825827644209981,0.33684423440059935,0.0798967272618168,0.23756821031009812,0.03576323812339562,-0.13145537767982357,0.2324617646907933,0.24856661791486986,0.04750600875624768,0.12206807651179864,0.06284504892931299,-0.2321151043722153,-0.040057671823106586,-0.0576325478727277,-0.2097393025459197,-0.14948543637129283,0.13328968699079363,-0.3558458690354746,0.08172236269190633,-0.10154683890713315,0.12797941605338367,0.01591322339217628,0.4147676248288117,0.1773623306306467,0.37936005657982375,-0.28387367821871956,0.01888180445419312,-0.10257686406910392,0.024296210439525474,0.17895372362196058,0.4159630640815574,-0.20681231722279678,0.4056843331587904,0.29428844205114574,-0.10604394706663695,0.13392465872127837,-0.1569162365970856,0.37916985462732167,0.3114879298775193,-0.23175351243741915,0.12603331646081165],\"coloraxis\":\"coloraxis\",\"pattern\":{\"shape\":\"\"}},\"name\":\"\",\"offsetgroup\":\"\",\"orientation\":\"v\",\"showlegend\":false,\"textposition\":\"auto\",\"type\":\"bar\",\"x\":[\"RBD__2__GLY46\",\"RBD__2__GLY35\",\"GLY41:ROF\",\"GLY30:ROF\",\"RBD__2__GLY18\",\"GLY38:ROF\",\"RBD__2__GLY60\",\"GLY65:RMSD\",\"GLY0:ROF\",\"RBD__2__GLY41\",\"GLY53:ROF\",\"RBD__2__GLY55\",\"GLY57:ROF\",\"RBD__2__GLY26\",\"RBD__2__GLY7\",\"GLY11:ROF\",\"RBD__2__GLY13\",\"backbone0:ROF\",\"GLY42:ROF\",\"GLY64:ROF\",\"GLY67:ROF\",\"GLY58:ROF\",\"RBD__2__GLY43\",\"RBD__2__GLY57\",\"GLY44:ROF\",\"GLY35:ROF\",\"GLY26:ROF\",\"GLY4:RMSD\",\"GLY0:RMSD\",\"GLY52:ROF\",\"CH_CA0:ROF\",\"RBD__2__GLY21\",\"GLY40:RMSD\",\"GLY17:RMSD\",\"RBD__2__GLY6\",\"GLY41:RMSD\",\"GLY51:ROF\",\"RBD__2__GLY34\",\"GLY14:RMSD\",\"GLY11:RMSD\",\"RBD__2__GLY5\",\"GLY63:RMSD\",\"GLY32:ROF\",\"GLY69:RMSD\",\"RBD__2__GLY2\",\"RBD__2__GLY14\",\"GLY9:RMSD\",\"GLY19:RMSD\",\"GLY38:RMSD\",\"RBD__2__backbone0\",\"RBD__2__GLY33\",\"GLY50:RMSD\",\"GLY12:RMSD\",\"GLY37:RMSD\",\"GLY65:ROF\",\"GLY7:ROF\",\"RBD__2__GLY42\",\"RBD__2__GLY19\",\"GLY27:ROF\",\"RBD__2__GLY1\",\"GLY20:RMSD\",\"RBD__2__GLY25\",\"GLY34:ROF\",\"GLY62:RMSD\",\"RBD__2__GLY38\",\"GLY4:ROF\",\"GLY5:RMSD\",\"RBD__2__GLY15\",\"GLY22:ROF\",\"GLY36:RMSD\",\"GLY27:RMSD\",\"GLY3:RMSD\",\"RBD__2__GLY10\",\"GLY26:RMSD\",\"GLY56:RMSD\",\"GLY59:ROF\",\"RBD__2__GLY32\",\"GLY67:RMSD\",\"GLY19:ROF\",\"RBD__2__GLY30\",\"GLY54:RMSD\",\"GLY29:ROF\",\"GLY1:RMSD\",\"RBD__2__GLY51\",\"GLY15:ROF\",\"RBD__2__GLY31\",\"GLY46:ROF\",\"GLY55:RMSD\",\"RBD__2__GLY36\",\"GLY48:ROF\",\"RBD__2__GLY27\",\"GLY46:RMSD\",\"GLY64:RMSD\",\"GLY20:ROF\",\"GLY34:RMSD\",\"GLY13:RMSD\",\"RBD__2__GLY54\",\"GLY15:RMSD\",\"RBD__2__GLY56\",\"RBD__2__GLY28\",\"GLY16:ROF\",\"RBD__2__GLY3\",\"GLY24:ROF\",\"GLY69:ROF\",\"GLY61:RMSD\",\"GLY18:ROF\",\"RBD__2__GLY17\",\"GLY40:ROF\",\"backbone0:RMSD\",\"GLY39:ROF\",\"GLY57:RMSD\",\"GLY60:ROF\",\"GLY14:ROF\",\"GLY44:RMSD\",\"RBD__2__GLY49\",\"CH_CA0:RMSD\",\"GLY30:RMSD\",\"RBD__2__GLY47\",\"RBD__2__GLY62\",\"RBD__2__GLY9\",\"GLY28:RMSD\",\"GLY31:RMSD\",\"GLY52:RMSD\",\"GLY6:RMSD\",\"GLY37:ROF\",\"RBD__2__GLY53\",\"GLY68:ROF\",\"RBD__2__GLY52\",\"GLY36:ROF\",\"RBD__2__GLY66\",\"GLY47:RMSD\",\"GLY6:ROF\",\"RBD__2__GLY37\",\"RBD__2__GLY23\",\"GLY45:RMSD\",\"GLY2:ROF\",\"RBD__2__GLY65\",\"RBD__2__GLY68\",\"GLY43:ROF\",\"RBD__2__GLY11\",\"RBD__2__GLY20\",\"GLY35:RMSD\",\"RBD__2__GLY0\",\"RBD__2__GLY24\",\"RBD__2__GLY4\",\"RBD__2__GLY50\",\"RBD__2__GLY63\",\"GLY66:ROF\",\"GLY68:RMSD\",\"GLY5:ROF\",\"RBD__2__GLY69\",\"GLY53:RMSD\",\"RBD__2__GLY67\",\"RBD__2__GLY59\",\"GLY66:RMSD\",\"GLY21:RMSD\",\"RBD__2__GLY8\",\"GLY23:ROF\",\"RBD__2__GLY22\",\"GLY24:RMSD\",\"GLY33:RMSD\",\"GLY61:ROF\",\"RBD__2__GLY39\",\"GLY9:ROF\",\"GLY28:ROF\",\"GLY25:RMSD\",\"GLY10:ROF\",\"GLY16:RMSD\",\"GLY25:ROF\",\"GLY49:RMSD\",\"GLY7:RMSD\",\"GLY13:ROF\",\"GLY56:ROF\",\"RBD__2__GLY58\",\"GLY10:RMSD\",\"RBD_CA0:ROF\",\"GLY12:ROF\",\"GLY31:ROF\",\"GLY47:ROF\",\"RBD__2__GLY64\",\"GLY23:RMSD\",\"GLY58:RMSD\",\"GLY8:RMSD\",\"GLY49:ROF\",\"GLY60:RMSD\",\"GLY21:ROF\",\"RBD__2__GLY12\",\"GLY54:ROF\",\"GLY62:ROF\",\"GLY33:ROF\",\"GLY63:ROF\",\"GLY48:RMSD\",\"GLY17:ROF\",\"GLY39:RMSD\",\"RBD__2__GLY16\",\"GLY22:RMSD\",\"RBD__2__GLY45\",\"GLY55:ROF\",\"GLY59:RMSD\",\"GLY8:ROF\",\"GLY51:RMSD\",\"GLY45:ROF\",\"RBD__2__CH_CA0\",\"RBD__2__GLY48\",\"RBD__2__GLY29\",\"RBD__2__GLY44\",\"GLY42:RMSD\",\"GLY1:ROF\",\"GLY50:ROF\",\"RBD__2__GLY40\",\"RBD__2__GLY61\",\"GLY3:ROF\",\"GLY29:RMSD\"],\"xaxis\":\"x\",\"y\":[0.25226084164010343,0.35801136420792895,-0.13235618004032426,0.08139297772019977,0.28999849592224825,-0.068957220426604,0.40465236573347424,0.28621908074841185,-0.2671180325944335,0.35285327235135344,-0.29706075221115763,0.2975109240561925,-0.024906732773786026,0.3829300158747792,0.299322292993378,-0.1520990405673312,-0.04372289867429757,-0.20233335905541736,-0.23842417763438364,0.047435867518510706,0.06538327242648642,-0.19753835789662016,-0.22882167190403344,0.34363587569099646,0.05370996818301303,0.21482297868543732,0.18774811723979426,-0.1459778030174959,-0.15433190961890275,0.2641681970806143,0.10872741750065361,0.3562839625903521,0.18087069257392302,0.1625774848281832,0.38233889820442385,-0.0006303776864944532,-0.05491788509796099,0.28628061294338175,0.026228116504796055,0.025622622740810376,0.3409037589226133,0.03255102400979413,-0.47199857756637087,0.3056654423557287,-0.1428348428054433,0.23016931401395252,-0.12205792110217414,0.00498598967660913,0.08984068412670403,0.40558086124493764,0.35630193397793364,0.09719868260666055,0.13378682366177297,0.10331335973758304,-0.22696629903583043,-0.08214509574396033,-0.3560475967359846,0.2640373112593235,-0.31234764305706353,-0.2423303879583205,0.0073272084586673775,0.2777967034125851,-0.08529563887825399,0.003109437019060936,0.39783809984973645,-0.20988260650563825,0.056919002701845016,0.31711666250650483,0.48007384809996195,0.12519839641234642,0.061629969556431734,-0.08205234775242863,0.1681307278122052,0.09411102832409979,-0.015373170819322225,-0.26427606718957614,0.43343568869990934,0.007188253021183676,-0.10214736347774789,0.08725506015654803,-0.07580072329348614,-0.280674320509076,-0.17959478012403485,0.34599172699266545,-0.28115384550960465,0.34370500876720134,-0.11423472813143032,-0.0021994599609066255,0.2747513662684313,0.21136575526566814,0.392889376437193,0.13037130425152513,0.05855839053388749,-0.20593896007153453,-0.009111680888205442,0.037866530075840926,0.3564518070275182,0.17504176116000253,0.3289048479944563,0.4240952222167609,0.060167926385156174,-0.23358838346083577,-0.1413386310798405,-0.21457513323160252,0.03936191607992564,-0.0461410680688645,0.4078158060257708,-0.13035084785222603,0.16147912307668064,-0.14951567724803907,-0.02108534093300011,0.1264261342456326,-0.18462027301542228,0.03972148311252086,-0.33808501044768086,0.16716381449692275,-0.0073976578047932826,0.10288257179542007,0.3129659129415552,0.13235738200974223,0.1089471044752228,-0.018787017025844607,-0.07367835202117448,0.08089275426654362,-0.34436853642813947,0.3995781993753579,-0.23281072923489124,0.3489099675972515,0.1278710915235908,0.2663966720827875,0.026156527236821537,0.13503046494376644,0.3452358993637008,-0.2030201995775103,0.04902141719222835,0.15751579054374062,0.2749247660823317,0.35122161608737457,0.06674719578205035,0.08713140023510521,0.2910757568063359,0.030106611723507783,-0.26526527219147544,0.2804171496991725,0.14089600207317396,0.2567085359096097,0.23659585950240306,-0.1195132472276735,0.1298023887833921,-0.13583626257077286,0.3734218143789477,0.16759283076807105,0.25109683492678514,0.426261296842129,0.10543216970555971,0.05650695027768879,0.20754966879445058,2.91106050554608e-05,0.28558884837110493,0.2170301741693345,0.07288805446838503,-0.0828765718026462,0.369465177978202,0.34282827677555855,0.029339725146158426,0.12727160040797095,0.05692242716380337,0.08174427049126429,-0.15461332972602396,0.021896543558131535,-0.00418986722924446,0.30326315671236176,-0.13825827644209981,0.33684423440059935,0.0798967272618168,0.23756821031009812,0.03576323812339562,-0.13145537767982357,0.2324617646907933,0.24856661791486986,0.04750600875624768,0.12206807651179864,0.06284504892931299,-0.2321151043722153,-0.040057671823106586,-0.0576325478727277,-0.2097393025459197,-0.14948543637129283,0.13328968699079363,-0.3558458690354746,0.08172236269190633,-0.10154683890713315,0.12797941605338367,0.01591322339217628,0.4147676248288117,0.1773623306306467,0.37936005657982375,-0.28387367821871956,0.01888180445419312,-0.10257686406910392,0.024296210439525474,0.17895372362196058,0.4159630640815574,-0.20681231722279678,0.4056843331587904,0.29428844205114574,-0.10604394706663695,0.13392465872127837,-0.1569162365970856,0.37916985462732167,0.3114879298775193,-0.23175351243741915,0.12603331646081165],\"yaxis\":\"y\"}],                        {\"barmode\":\"relative\",\"coloraxis\":{\"colorbar\":{\"title\":{\"text\":\"color\"}},\"colorscale\":[[0.0,\"#0d0887\"],[0.1111111111111111,\"#46039f\"],[0.2222222222222222,\"#7201a8\"],[0.3333333333333333,\"#9c179e\"],[0.4444444444444444,\"#bd3786\"],[0.5555555555555556,\"#d8576b\"],[0.6666666666666666,\"#ed7953\"],[0.7777777777777778,\"#fb9f3a\"],[0.8888888888888888,\"#fdca26\"],[1.0,\"#f0f921\"]]},\"legend\":{\"tracegroupgap\":0},\"margin\":{\"t\":60},\"template\":{\"data\":{\"bar\":[{\"error_x\":{\"color\":\"#2a3f5f\"},\"error_y\":{\"color\":\"#2a3f5f\"},\"marker\":{\"line\":{\"color\":\"#E5ECF6\",\"width\":0.5},\"pattern\":{\"fillmode\":\"overlay\",\"size\":10,\"solidity\":0.2}},\"type\":\"bar\"}],\"barpolar\":[{\"marker\":{\"line\":{\"color\":\"#E5ECF6\",\"width\":0.5},\"pattern\":{\"fillmode\":\"overlay\",\"size\":10,\"solidity\":0.2}},\"type\":\"barpolar\"}],\"carpet\":[{\"aaxis\":{\"endlinecolor\":\"#2a3f5f\",\"gridcolor\":\"white\",\"linecolor\":\"white\",\"minorgridcolor\":\"white\",\"startlinecolor\":\"#2a3f5f\"},\"baxis\":{\"endlinecolor\":\"#2a3f5f\",\"gridcolor\":\"white\",\"linecolor\":\"white\",\"minorgridcolor\":\"white\",\"startlinecolor\":\"#2a3f5f\"},\"type\":\"carpet\"}],\"choropleth\":[{\"colorbar\":{\"outlinewidth\":0,\"ticks\":\"\"},\"type\":\"choropleth\"}],\"contour\":[{\"colorbar\":{\"outlinewidth\":0,\"ticks\":\"\"},\"colorscale\":[[0.0,\"#0d0887\"],[0.1111111111111111,\"#46039f\"],[0.2222222222222222,\"#7201a8\"],[0.3333333333333333,\"#9c179e\"],[0.4444444444444444,\"#bd3786\"],[0.5555555555555556,\"#d8576b\"],[0.6666666666666666,\"#ed7953\"],[0.7777777777777778,\"#fb9f3a\"],[0.8888888888888888,\"#fdca26\"],[1.0,\"#f0f921\"]],\"type\":\"contour\"}],\"contourcarpet\":[{\"colorbar\":{\"outlinewidth\":0,\"ticks\":\"\"},\"type\":\"contourcarpet\"}],\"heatmap\":[{\"colorbar\":{\"outlinewidth\":0,\"ticks\":\"\"},\"colorscale\":[[0.0,\"#0d0887\"],[0.1111111111111111,\"#46039f\"],[0.2222222222222222,\"#7201a8\"],[0.3333333333333333,\"#9c179e\"],[0.4444444444444444,\"#bd3786\"],[0.5555555555555556,\"#d8576b\"],[0.6666666666666666,\"#ed7953\"],[0.7777777777777778,\"#fb9f3a\"],[0.8888888888888888,\"#fdca26\"],[1.0,\"#f0f921\"]],\"type\":\"heatmap\"}],\"heatmapgl\":[{\"colorbar\":{\"outlinewidth\":0,\"ticks\":\"\"},\"colorscale\":[[0.0,\"#0d0887\"],[0.1111111111111111,\"#46039f\"],[0.2222222222222222,\"#7201a8\"],[0.3333333333333333,\"#9c179e\"],[0.4444444444444444,\"#bd3786\"],[0.5555555555555556,\"#d8576b\"],[0.6666666666666666,\"#ed7953\"],[0.7777777777777778,\"#fb9f3a\"],[0.8888888888888888,\"#fdca26\"],[1.0,\"#f0f921\"]],\"type\":\"heatmapgl\"}],\"histogram\":[{\"marker\":{\"pattern\":{\"fillmode\":\"overlay\",\"size\":10,\"solidity\":0.2}},\"type\":\"histogram\"}],\"histogram2d\":[{\"colorbar\":{\"outlinewidth\":0,\"ticks\":\"\"},\"colorscale\":[[0.0,\"#0d0887\"],[0.1111111111111111,\"#46039f\"],[0.2222222222222222,\"#7201a8\"],[0.3333333333333333,\"#9c179e\"],[0.4444444444444444,\"#bd3786\"],[0.5555555555555556,\"#d8576b\"],[0.6666666666666666,\"#ed7953\"],[0.7777777777777778,\"#fb9f3a\"],[0.8888888888888888,\"#fdca26\"],[1.0,\"#f0f921\"]],\"type\":\"histogram2d\"}],\"histogram2dcontour\":[{\"colorbar\":{\"outlinewidth\":0,\"ticks\":\"\"},\"colorscale\":[[0.0,\"#0d0887\"],[0.1111111111111111,\"#46039f\"],[0.2222222222222222,\"#7201a8\"],[0.3333333333333333,\"#9c179e\"],[0.4444444444444444,\"#bd3786\"],[0.5555555555555556,\"#d8576b\"],[0.6666666666666666,\"#ed7953\"],[0.7777777777777778,\"#fb9f3a\"],[0.8888888888888888,\"#fdca26\"],[1.0,\"#f0f921\"]],\"type\":\"histogram2dcontour\"}],\"mesh3d\":[{\"colorbar\":{\"outlinewidth\":0,\"ticks\":\"\"},\"type\":\"mesh3d\"}],\"parcoords\":[{\"line\":{\"colorbar\":{\"outlinewidth\":0,\"ticks\":\"\"}},\"type\":\"parcoords\"}],\"pie\":[{\"automargin\":true,\"type\":\"pie\"}],\"scatter\":[{\"marker\":{\"colorbar\":{\"outlinewidth\":0,\"ticks\":\"\"}},\"type\":\"scatter\"}],\"scatter3d\":[{\"line\":{\"colorbar\":{\"outlinewidth\":0,\"ticks\":\"\"}},\"marker\":{\"colorbar\":{\"outlinewidth\":0,\"ticks\":\"\"}},\"type\":\"scatter3d\"}],\"scattercarpet\":[{\"marker\":{\"colorbar\":{\"outlinewidth\":0,\"ticks\":\"\"}},\"type\":\"scattercarpet\"}],\"scattergeo\":[{\"marker\":{\"colorbar\":{\"outlinewidth\":0,\"ticks\":\"\"}},\"type\":\"scattergeo\"}],\"scattergl\":[{\"marker\":{\"colorbar\":{\"outlinewidth\":0,\"ticks\":\"\"}},\"type\":\"scattergl\"}],\"scattermapbox\":[{\"marker\":{\"colorbar\":{\"outlinewidth\":0,\"ticks\":\"\"}},\"type\":\"scattermapbox\"}],\"scatterpolar\":[{\"marker\":{\"colorbar\":{\"outlinewidth\":0,\"ticks\":\"\"}},\"type\":\"scatterpolar\"}],\"scatterpolargl\":[{\"marker\":{\"colorbar\":{\"outlinewidth\":0,\"ticks\":\"\"}},\"type\":\"scatterpolargl\"}],\"scatterternary\":[{\"marker\":{\"colorbar\":{\"outlinewidth\":0,\"ticks\":\"\"}},\"type\":\"scatterternary\"}],\"surface\":[{\"colorbar\":{\"outlinewidth\":0,\"ticks\":\"\"},\"colorscale\":[[0.0,\"#0d0887\"],[0.1111111111111111,\"#46039f\"],[0.2222222222222222,\"#7201a8\"],[0.3333333333333333,\"#9c179e\"],[0.4444444444444444,\"#bd3786\"],[0.5555555555555556,\"#d8576b\"],[0.6666666666666666,\"#ed7953\"],[0.7777777777777778,\"#fb9f3a\"],[0.8888888888888888,\"#fdca26\"],[1.0,\"#f0f921\"]],\"type\":\"surface\"}],\"table\":[{\"cells\":{\"fill\":{\"color\":\"#EBF0F8\"},\"line\":{\"color\":\"white\"}},\"header\":{\"fill\":{\"color\":\"#C8D4E3\"},\"line\":{\"color\":\"white\"}},\"type\":\"table\"}]},\"layout\":{\"annotationdefaults\":{\"arrowcolor\":\"#2a3f5f\",\"arrowhead\":0,\"arrowwidth\":1},\"autotypenumbers\":\"strict\",\"coloraxis\":{\"colorbar\":{\"outlinewidth\":0,\"ticks\":\"\"}},\"colorscale\":{\"diverging\":[[0,\"#8e0152\"],[0.1,\"#c51b7d\"],[0.2,\"#de77ae\"],[0.3,\"#f1b6da\"],[0.4,\"#fde0ef\"],[0.5,\"#f7f7f7\"],[0.6,\"#e6f5d0\"],[0.7,\"#b8e186\"],[0.8,\"#7fbc41\"],[0.9,\"#4d9221\"],[1,\"#276419\"]],\"sequential\":[[0.0,\"#0d0887\"],[0.1111111111111111,\"#46039f\"],[0.2222222222222222,\"#7201a8\"],[0.3333333333333333,\"#9c179e\"],[0.4444444444444444,\"#bd3786\"],[0.5555555555555556,\"#d8576b\"],[0.6666666666666666,\"#ed7953\"],[0.7777777777777778,\"#fb9f3a\"],[0.8888888888888888,\"#fdca26\"],[1.0,\"#f0f921\"]],\"sequentialminus\":[[0.0,\"#0d0887\"],[0.1111111111111111,\"#46039f\"],[0.2222222222222222,\"#7201a8\"],[0.3333333333333333,\"#9c179e\"],[0.4444444444444444,\"#bd3786\"],[0.5555555555555556,\"#d8576b\"],[0.6666666666666666,\"#ed7953\"],[0.7777777777777778,\"#fb9f3a\"],[0.8888888888888888,\"#fdca26\"],[1.0,\"#f0f921\"]]},\"colorway\":[\"#636efa\",\"#EF553B\",\"#00cc96\",\"#ab63fa\",\"#FFA15A\",\"#19d3f3\",\"#FF6692\",\"#B6E880\",\"#FF97FF\",\"#FECB52\"],\"font\":{\"color\":\"#2a3f5f\"},\"geo\":{\"bgcolor\":\"white\",\"lakecolor\":\"white\",\"landcolor\":\"#E5ECF6\",\"showlakes\":true,\"showland\":true,\"subunitcolor\":\"white\"},\"hoverlabel\":{\"align\":\"left\"},\"hovermode\":\"closest\",\"mapbox\":{\"style\":\"light\"},\"paper_bgcolor\":\"white\",\"plot_bgcolor\":\"#E5ECF6\",\"polar\":{\"angularaxis\":{\"gridcolor\":\"white\",\"linecolor\":\"white\",\"ticks\":\"\"},\"bgcolor\":\"#E5ECF6\",\"radialaxis\":{\"gridcolor\":\"white\",\"linecolor\":\"white\",\"ticks\":\"\"}},\"scene\":{\"xaxis\":{\"backgroundcolor\":\"#E5ECF6\",\"gridcolor\":\"white\",\"gridwidth\":2,\"linecolor\":\"white\",\"showbackground\":true,\"ticks\":\"\",\"zerolinecolor\":\"white\"},\"yaxis\":{\"backgroundcolor\":\"#E5ECF6\",\"gridcolor\":\"white\",\"gridwidth\":2,\"linecolor\":\"white\",\"showbackground\":true,\"ticks\":\"\",\"zerolinecolor\":\"white\"},\"zaxis\":{\"backgroundcolor\":\"#E5ECF6\",\"gridcolor\":\"white\",\"gridwidth\":2,\"linecolor\":\"white\",\"showbackground\":true,\"ticks\":\"\",\"zerolinecolor\":\"white\"}},\"shapedefaults\":{\"line\":{\"color\":\"#2a3f5f\"}},\"ternary\":{\"aaxis\":{\"gridcolor\":\"white\",\"linecolor\":\"white\",\"ticks\":\"\"},\"baxis\":{\"gridcolor\":\"white\",\"linecolor\":\"white\",\"ticks\":\"\"},\"bgcolor\":\"#E5ECF6\",\"caxis\":{\"gridcolor\":\"white\",\"linecolor\":\"white\",\"ticks\":\"\"}},\"title\":{\"x\":0.05},\"xaxis\":{\"automargin\":true,\"gridcolor\":\"white\",\"linecolor\":\"white\",\"ticks\":\"\",\"title\":{\"standoff\":15},\"zerolinecolor\":\"white\",\"zerolinewidth\":2},\"yaxis\":{\"automargin\":true,\"gridcolor\":\"white\",\"linecolor\":\"white\",\"ticks\":\"\",\"title\":{\"standoff\":15},\"zerolinecolor\":\"white\",\"zerolinewidth\":2}}},\"xaxis\":{\"anchor\":\"y\",\"categoryorder\":\"total ascending\",\"domain\":[0.0,1.0],\"title\":{\"text\":\"x\"}},\"yaxis\":{\"anchor\":\"x\",\"domain\":[0.0,1.0],\"title\":{\"text\":\"y\"}}},                        {\"responsive\": true}                    ).then(function(){\n",
       "                            \n",
       "var gd = document.getElementById('e4e6cf98-04ba-44d6-a7dc-ba56be5f76ac');\n",
       "var x = new MutationObserver(function (mutations, observer) {{\n",
       "        var display = window.getComputedStyle(gd).display;\n",
       "        if (!display || display === 'none') {{\n",
       "            console.log([gd, 'removed!']);\n",
       "            Plotly.purge(gd);\n",
       "            observer.disconnect();\n",
       "        }}\n",
       "}});\n",
       "\n",
       "// Listen for the removal of the full notebook cells\n",
       "var notebookContainer = gd.closest('#notebook-container');\n",
       "if (notebookContainer) {{\n",
       "    x.observe(notebookContainer, {childList: true});\n",
       "}}\n",
       "\n",
       "// Listen for the clearing of the current output cell\n",
       "var outputEl = gd.closest('.output');\n",
       "if (outputEl) {{\n",
       "    x.observe(outputEl, {childList: true});\n",
       "}}\n",
       "\n",
       "                        })                };                });            </script>        </div>"
      ]
     },
     "metadata": {},
     "output_type": "display_data"
    }
   ],
   "source": [
    "sgd_clf.fit(train_X_prepared,train_labels)\n",
    "y_test_pred = sgd_clf.predict(test_X_prepared)\n",
    "print(f' Test precison : {precision_score(test_labels, y_test_pred)}, Test recall {recall_score(test_labels, y_test_pred)}')\n",
    "px.bar(x=train_X.columns.to_list(),y=sgd_clf.coef_[0],color=sgd_clf.coef_[0]).update_xaxes(categoryorder='total ascending')"
   ]
  },
  {
   "cell_type": "code",
   "execution_count": 61,
   "id": "9b13166b",
   "metadata": {},
   "outputs": [
    {
     "data": {
      "text/plain": [
       "0.37916985462732167"
      ]
     },
     "execution_count": 61,
     "metadata": {},
     "output_type": "execute_result"
    }
   ],
   "source": [
    "sgd_clf.coef_[0][train_X.columns.to_list().index('RBD__2__GLY40')]"
   ]
  },
  {
   "cell_type": "code",
   "execution_count": 62,
   "id": "50494c6e",
   "metadata": {},
   "outputs": [
    {
     "data": {
      "text/plain": [
       "49"
      ]
     },
     "execution_count": 62,
     "metadata": {},
     "output_type": "execute_result"
    }
   ],
   "source": [
    "train_X.columns.to_list().index('RBD__2__backbone0')"
   ]
  },
  {
   "cell_type": "code",
   "execution_count": 63,
   "id": "dba966c8-5714-40b2-aaaa-f59c22f260dd",
   "metadata": {},
   "outputs": [
    {
     "data": {
      "text/plain": [
       "array([[<AxesSubplot:title={'center':'RBD__2__GLY46'}>,\n",
       "        <AxesSubplot:title={'center':'RBD__2__GLY35'}>,\n",
       "        <AxesSubplot:title={'center':'GLY41:ROF'}>,\n",
       "        <AxesSubplot:title={'center':'GLY30:ROF'}>,\n",
       "        <AxesSubplot:title={'center':'RBD__2__GLY18'}>,\n",
       "        <AxesSubplot:title={'center':'GLY38:ROF'}>,\n",
       "        <AxesSubplot:title={'center':'RBD__2__GLY60'}>,\n",
       "        <AxesSubplot:title={'center':'GLY65:RMSD'}>,\n",
       "        <AxesSubplot:title={'center':'GLY0:ROF'}>,\n",
       "        <AxesSubplot:title={'center':'RBD__2__GLY41'}>,\n",
       "        <AxesSubplot:title={'center':'GLY53:ROF'}>,\n",
       "        <AxesSubplot:title={'center':'RBD__2__GLY55'}>,\n",
       "        <AxesSubplot:title={'center':'GLY57:ROF'}>,\n",
       "        <AxesSubplot:title={'center':'RBD__2__GLY26'}>,\n",
       "        <AxesSubplot:title={'center':'RBD__2__GLY7'}>],\n",
       "       [<AxesSubplot:title={'center':'GLY11:ROF'}>,\n",
       "        <AxesSubplot:title={'center':'RBD__2__GLY13'}>,\n",
       "        <AxesSubplot:title={'center':'backbone0:ROF'}>,\n",
       "        <AxesSubplot:title={'center':'GLY42:ROF'}>,\n",
       "        <AxesSubplot:title={'center':'GLY64:ROF'}>,\n",
       "        <AxesSubplot:title={'center':'GLY67:ROF'}>,\n",
       "        <AxesSubplot:title={'center':'GLY58:ROF'}>,\n",
       "        <AxesSubplot:title={'center':'RBD__2__GLY43'}>,\n",
       "        <AxesSubplot:title={'center':'RBD__2__GLY57'}>,\n",
       "        <AxesSubplot:title={'center':'GLY44:ROF'}>,\n",
       "        <AxesSubplot:title={'center':'GLY35:ROF'}>,\n",
       "        <AxesSubplot:title={'center':'GLY26:ROF'}>,\n",
       "        <AxesSubplot:title={'center':'GLY4:RMSD'}>,\n",
       "        <AxesSubplot:title={'center':'GLY0:RMSD'}>,\n",
       "        <AxesSubplot:title={'center':'GLY52:ROF'}>],\n",
       "       [<AxesSubplot:title={'center':'CH_CA0:ROF'}>,\n",
       "        <AxesSubplot:title={'center':'RBD__2__GLY21'}>,\n",
       "        <AxesSubplot:title={'center':'GLY40:RMSD'}>,\n",
       "        <AxesSubplot:title={'center':'GLY17:RMSD'}>,\n",
       "        <AxesSubplot:title={'center':'RBD__2__GLY6'}>,\n",
       "        <AxesSubplot:title={'center':'GLY41:RMSD'}>,\n",
       "        <AxesSubplot:title={'center':'GLY51:ROF'}>,\n",
       "        <AxesSubplot:title={'center':'RBD__2__GLY34'}>,\n",
       "        <AxesSubplot:title={'center':'GLY14:RMSD'}>,\n",
       "        <AxesSubplot:title={'center':'GLY11:RMSD'}>,\n",
       "        <AxesSubplot:title={'center':'RBD__2__GLY5'}>,\n",
       "        <AxesSubplot:title={'center':'GLY63:RMSD'}>,\n",
       "        <AxesSubplot:title={'center':'GLY32:ROF'}>,\n",
       "        <AxesSubplot:title={'center':'GLY69:RMSD'}>,\n",
       "        <AxesSubplot:title={'center':'RBD__2__GLY2'}>],\n",
       "       [<AxesSubplot:title={'center':'RBD__2__GLY14'}>,\n",
       "        <AxesSubplot:title={'center':'GLY9:RMSD'}>,\n",
       "        <AxesSubplot:title={'center':'GLY19:RMSD'}>,\n",
       "        <AxesSubplot:title={'center':'GLY38:RMSD'}>,\n",
       "        <AxesSubplot:title={'center':'RBD__2__backbone0'}>,\n",
       "        <AxesSubplot:title={'center':'RBD__2__GLY33'}>,\n",
       "        <AxesSubplot:title={'center':'GLY50:RMSD'}>,\n",
       "        <AxesSubplot:title={'center':'GLY12:RMSD'}>,\n",
       "        <AxesSubplot:title={'center':'GLY37:RMSD'}>,\n",
       "        <AxesSubplot:title={'center':'GLY65:ROF'}>,\n",
       "        <AxesSubplot:title={'center':'GLY7:ROF'}>,\n",
       "        <AxesSubplot:title={'center':'RBD__2__GLY42'}>,\n",
       "        <AxesSubplot:title={'center':'RBD__2__GLY19'}>,\n",
       "        <AxesSubplot:title={'center':'GLY27:ROF'}>,\n",
       "        <AxesSubplot:title={'center':'RBD__2__GLY1'}>],\n",
       "       [<AxesSubplot:title={'center':'GLY20:RMSD'}>,\n",
       "        <AxesSubplot:title={'center':'RBD__2__GLY25'}>,\n",
       "        <AxesSubplot:title={'center':'GLY34:ROF'}>,\n",
       "        <AxesSubplot:title={'center':'GLY62:RMSD'}>,\n",
       "        <AxesSubplot:title={'center':'RBD__2__GLY38'}>,\n",
       "        <AxesSubplot:title={'center':'GLY4:ROF'}>,\n",
       "        <AxesSubplot:title={'center':'GLY5:RMSD'}>,\n",
       "        <AxesSubplot:title={'center':'RBD__2__GLY15'}>,\n",
       "        <AxesSubplot:title={'center':'GLY22:ROF'}>,\n",
       "        <AxesSubplot:title={'center':'GLY36:RMSD'}>,\n",
       "        <AxesSubplot:title={'center':'GLY27:RMSD'}>,\n",
       "        <AxesSubplot:title={'center':'GLY3:RMSD'}>,\n",
       "        <AxesSubplot:title={'center':'RBD__2__GLY10'}>,\n",
       "        <AxesSubplot:title={'center':'GLY26:RMSD'}>,\n",
       "        <AxesSubplot:title={'center':'GLY56:RMSD'}>],\n",
       "       [<AxesSubplot:title={'center':'GLY59:ROF'}>,\n",
       "        <AxesSubplot:title={'center':'RBD__2__GLY32'}>,\n",
       "        <AxesSubplot:title={'center':'GLY67:RMSD'}>,\n",
       "        <AxesSubplot:title={'center':'GLY19:ROF'}>,\n",
       "        <AxesSubplot:title={'center':'RBD__2__GLY30'}>,\n",
       "        <AxesSubplot:title={'center':'GLY54:RMSD'}>,\n",
       "        <AxesSubplot:title={'center':'GLY29:ROF'}>,\n",
       "        <AxesSubplot:title={'center':'GLY1:RMSD'}>,\n",
       "        <AxesSubplot:title={'center':'RBD__2__GLY51'}>,\n",
       "        <AxesSubplot:title={'center':'GLY15:ROF'}>,\n",
       "        <AxesSubplot:title={'center':'RBD__2__GLY31'}>,\n",
       "        <AxesSubplot:title={'center':'GLY46:ROF'}>,\n",
       "        <AxesSubplot:title={'center':'GLY55:RMSD'}>,\n",
       "        <AxesSubplot:title={'center':'RBD__2__GLY36'}>,\n",
       "        <AxesSubplot:title={'center':'GLY48:ROF'}>],\n",
       "       [<AxesSubplot:title={'center':'RBD__2__GLY27'}>,\n",
       "        <AxesSubplot:title={'center':'GLY46:RMSD'}>,\n",
       "        <AxesSubplot:title={'center':'GLY64:RMSD'}>,\n",
       "        <AxesSubplot:title={'center':'GLY20:ROF'}>,\n",
       "        <AxesSubplot:title={'center':'GLY34:RMSD'}>,\n",
       "        <AxesSubplot:title={'center':'GLY13:RMSD'}>,\n",
       "        <AxesSubplot:title={'center':'RBD__2__GLY54'}>,\n",
       "        <AxesSubplot:title={'center':'GLY15:RMSD'}>,\n",
       "        <AxesSubplot:title={'center':'RBD__2__GLY56'}>,\n",
       "        <AxesSubplot:title={'center':'RBD__2__GLY28'}>,\n",
       "        <AxesSubplot:title={'center':'GLY16:ROF'}>,\n",
       "        <AxesSubplot:title={'center':'RBD__2__GLY3'}>,\n",
       "        <AxesSubplot:title={'center':'GLY24:ROF'}>,\n",
       "        <AxesSubplot:title={'center':'GLY69:ROF'}>,\n",
       "        <AxesSubplot:title={'center':'GLY61:RMSD'}>],\n",
       "       [<AxesSubplot:title={'center':'GLY18:ROF'}>,\n",
       "        <AxesSubplot:title={'center':'RBD__2__GLY17'}>,\n",
       "        <AxesSubplot:title={'center':'GLY40:ROF'}>,\n",
       "        <AxesSubplot:title={'center':'backbone0:RMSD'}>,\n",
       "        <AxesSubplot:title={'center':'GLY39:ROF'}>,\n",
       "        <AxesSubplot:title={'center':'GLY57:RMSD'}>,\n",
       "        <AxesSubplot:title={'center':'GLY60:ROF'}>,\n",
       "        <AxesSubplot:title={'center':'GLY14:ROF'}>,\n",
       "        <AxesSubplot:title={'center':'GLY44:RMSD'}>,\n",
       "        <AxesSubplot:title={'center':'RBD__2__GLY49'}>,\n",
       "        <AxesSubplot:title={'center':'CH_CA0:RMSD'}>,\n",
       "        <AxesSubplot:title={'center':'GLY30:RMSD'}>,\n",
       "        <AxesSubplot:title={'center':'RBD__2__GLY47'}>,\n",
       "        <AxesSubplot:title={'center':'RBD__2__GLY62'}>,\n",
       "        <AxesSubplot:title={'center':'RBD__2__GLY9'}>],\n",
       "       [<AxesSubplot:title={'center':'GLY28:RMSD'}>,\n",
       "        <AxesSubplot:title={'center':'GLY31:RMSD'}>,\n",
       "        <AxesSubplot:title={'center':'GLY52:RMSD'}>,\n",
       "        <AxesSubplot:title={'center':'GLY6:RMSD'}>,\n",
       "        <AxesSubplot:title={'center':'GLY37:ROF'}>,\n",
       "        <AxesSubplot:title={'center':'RBD__2__GLY53'}>,\n",
       "        <AxesSubplot:title={'center':'GLY68:ROF'}>,\n",
       "        <AxesSubplot:title={'center':'RBD__2__GLY52'}>,\n",
       "        <AxesSubplot:title={'center':'GLY36:ROF'}>,\n",
       "        <AxesSubplot:title={'center':'RBD__2__GLY66'}>,\n",
       "        <AxesSubplot:title={'center':'GLY47:RMSD'}>,\n",
       "        <AxesSubplot:title={'center':'GLY6:ROF'}>,\n",
       "        <AxesSubplot:title={'center':'RBD__2__GLY37'}>,\n",
       "        <AxesSubplot:title={'center':'RBD__2__GLY23'}>,\n",
       "        <AxesSubplot:title={'center':'GLY45:RMSD'}>],\n",
       "       [<AxesSubplot:title={'center':'GLY2:ROF'}>,\n",
       "        <AxesSubplot:title={'center':'RBD__2__GLY65'}>,\n",
       "        <AxesSubplot:title={'center':'RBD__2__GLY68'}>,\n",
       "        <AxesSubplot:title={'center':'GLY43:ROF'}>,\n",
       "        <AxesSubplot:title={'center':'RBD__2__GLY11'}>,\n",
       "        <AxesSubplot:title={'center':'RBD__2__GLY20'}>,\n",
       "        <AxesSubplot:title={'center':'GLY35:RMSD'}>,\n",
       "        <AxesSubplot:title={'center':'RBD__2__GLY0'}>,\n",
       "        <AxesSubplot:title={'center':'RBD__2__GLY24'}>,\n",
       "        <AxesSubplot:title={'center':'RBD__2__GLY4'}>,\n",
       "        <AxesSubplot:title={'center':'RBD__2__GLY50'}>,\n",
       "        <AxesSubplot:title={'center':'RBD__2__GLY63'}>,\n",
       "        <AxesSubplot:title={'center':'GLY66:ROF'}>,\n",
       "        <AxesSubplot:title={'center':'GLY68:RMSD'}>,\n",
       "        <AxesSubplot:title={'center':'GLY5:ROF'}>],\n",
       "       [<AxesSubplot:title={'center':'RBD__2__GLY69'}>,\n",
       "        <AxesSubplot:title={'center':'GLY53:RMSD'}>,\n",
       "        <AxesSubplot:title={'center':'RBD__2__GLY67'}>,\n",
       "        <AxesSubplot:title={'center':'RBD__2__GLY59'}>,\n",
       "        <AxesSubplot:title={'center':'GLY66:RMSD'}>,\n",
       "        <AxesSubplot:title={'center':'GLY21:RMSD'}>,\n",
       "        <AxesSubplot:title={'center':'RBD__2__GLY8'}>,\n",
       "        <AxesSubplot:title={'center':'GLY23:ROF'}>,\n",
       "        <AxesSubplot:title={'center':'RBD__2__GLY22'}>,\n",
       "        <AxesSubplot:title={'center':'GLY24:RMSD'}>,\n",
       "        <AxesSubplot:title={'center':'GLY33:RMSD'}>,\n",
       "        <AxesSubplot:title={'center':'GLY61:ROF'}>,\n",
       "        <AxesSubplot:title={'center':'RBD__2__GLY39'}>,\n",
       "        <AxesSubplot:title={'center':'GLY9:ROF'}>,\n",
       "        <AxesSubplot:title={'center':'GLY28:ROF'}>],\n",
       "       [<AxesSubplot:title={'center':'GLY25:RMSD'}>,\n",
       "        <AxesSubplot:title={'center':'GLY10:ROF'}>,\n",
       "        <AxesSubplot:title={'center':'GLY16:RMSD'}>,\n",
       "        <AxesSubplot:title={'center':'GLY25:ROF'}>,\n",
       "        <AxesSubplot:title={'center':'GLY49:RMSD'}>,\n",
       "        <AxesSubplot:title={'center':'GLY7:RMSD'}>,\n",
       "        <AxesSubplot:title={'center':'GLY13:ROF'}>,\n",
       "        <AxesSubplot:title={'center':'GLY56:ROF'}>,\n",
       "        <AxesSubplot:title={'center':'RBD__2__GLY58'}>,\n",
       "        <AxesSubplot:title={'center':'GLY10:RMSD'}>,\n",
       "        <AxesSubplot:title={'center':'RBD_CA0:ROF'}>,\n",
       "        <AxesSubplot:title={'center':'GLY12:ROF'}>,\n",
       "        <AxesSubplot:title={'center':'GLY31:ROF'}>,\n",
       "        <AxesSubplot:title={'center':'GLY47:ROF'}>,\n",
       "        <AxesSubplot:title={'center':'RBD__2__GLY64'}>],\n",
       "       [<AxesSubplot:title={'center':'GLY23:RMSD'}>,\n",
       "        <AxesSubplot:title={'center':'GLY58:RMSD'}>,\n",
       "        <AxesSubplot:title={'center':'GLY8:RMSD'}>,\n",
       "        <AxesSubplot:title={'center':'GLY49:ROF'}>,\n",
       "        <AxesSubplot:title={'center':'GLY60:RMSD'}>,\n",
       "        <AxesSubplot:title={'center':'GLY21:ROF'}>,\n",
       "        <AxesSubplot:title={'center':'RBD__2__GLY12'}>,\n",
       "        <AxesSubplot:title={'center':'GLY54:ROF'}>,\n",
       "        <AxesSubplot:title={'center':'GLY62:ROF'}>,\n",
       "        <AxesSubplot:title={'center':'GLY33:ROF'}>,\n",
       "        <AxesSubplot:title={'center':'GLY63:ROF'}>,\n",
       "        <AxesSubplot:title={'center':'GLY48:RMSD'}>,\n",
       "        <AxesSubplot:title={'center':'GLY17:ROF'}>,\n",
       "        <AxesSubplot:title={'center':'GLY39:RMSD'}>,\n",
       "        <AxesSubplot:title={'center':'RBD__2__GLY16'}>],\n",
       "       [<AxesSubplot:title={'center':'GLY22:RMSD'}>,\n",
       "        <AxesSubplot:title={'center':'RBD__2__GLY45'}>,\n",
       "        <AxesSubplot:title={'center':'GLY55:ROF'}>,\n",
       "        <AxesSubplot:title={'center':'GLY59:RMSD'}>,\n",
       "        <AxesSubplot:title={'center':'GLY8:ROF'}>,\n",
       "        <AxesSubplot:title={'center':'GLY51:RMSD'}>,\n",
       "        <AxesSubplot:title={'center':'GLY45:ROF'}>,\n",
       "        <AxesSubplot:title={'center':'RBD__2__CH_CA0'}>,\n",
       "        <AxesSubplot:title={'center':'RBD__2__GLY48'}>,\n",
       "        <AxesSubplot:title={'center':'RBD__2__GLY29'}>,\n",
       "        <AxesSubplot:title={'center':'RBD__2__GLY44'}>,\n",
       "        <AxesSubplot:title={'center':'GLY42:RMSD'}>,\n",
       "        <AxesSubplot:title={'center':'GLY1:ROF'}>,\n",
       "        <AxesSubplot:title={'center':'GLY50:ROF'}>,\n",
       "        <AxesSubplot:title={'center':'RBD__2__GLY40'}>],\n",
       "       [<AxesSubplot:title={'center':'RBD__2__GLY61'}>,\n",
       "        <AxesSubplot:title={'center':'GLY3:ROF'}>,\n",
       "        <AxesSubplot:title={'center':'GLY29:RMSD'}>, <AxesSubplot:>,\n",
       "        <AxesSubplot:>, <AxesSubplot:>, <AxesSubplot:>, <AxesSubplot:>,\n",
       "        <AxesSubplot:>, <AxesSubplot:>, <AxesSubplot:>, <AxesSubplot:>,\n",
       "        <AxesSubplot:>, <AxesSubplot:>, <AxesSubplot:>]], dtype=object)"
      ]
     },
     "execution_count": 63,
     "metadata": {},
     "output_type": "execute_result"
    },
    {
     "data": {
      "image/png": "[encoded data removed]",
      "text/plain": [
       "<Figure size 1440x1080 with 225 Axes>"
      ]
     },
     "metadata": {
      "needs_background": "light"
     },
     "output_type": "display_data"
    }
   ],
   "source": [
    "train_X.hist(bins=50, figsize=(20,15))"
   ]
  },
  {
   "cell_type": "code",
   "execution_count": null,
   "id": "8a1cdbc9",
   "metadata": {},
   "outputs": [],
   "source": []
  }
 ],
 "metadata": {
  "kernelspec": {
   "display_name": "Python 3 (ipykernel)",
   "language": "python",
   "name": "python3"
  },
  "language_info": {
   "codemirror_mode": {
    "name": "ipython",
    "version": 3
   },
   "file_extension": ".py",
   "mimetype": "text/x-python",
   "name": "python",
   "nbconvert_exporter": "python",
   "pygments_lexer": "ipython3",
   "version": "3.9.7"
  }
 },
 "nbformat": 4,
 "nbformat_minor": 5
}
