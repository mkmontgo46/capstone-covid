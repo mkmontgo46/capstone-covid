{
 "cells": [
  {
   "cell_type": "code",
   "execution_count": 1,
   "id": "a02ed21b-a28d-4bf9-98c1-b3539408f47e",
   "metadata": {},
   "outputs": [],
   "source": [
    "# Python ≥3.5 is required\n",
    "import sys\n",
    "assert sys.version_info >= (3, 5)\n",
    "\n",
    "# Is this notebook running on Colab or Kaggle?\n",
    "IS_COLAB = \"google.colab\" in sys.modules\n",
    "IS_KAGGLE = \"kaggle_secrets\" in sys.modules\n",
    "\n",
    "# Scikit-Learn ≥0.20 is required\n",
    "import sklearn\n",
    "assert sklearn.__version__ >= \"0.20\"\n",
    "\n",
    "# Common imports\n",
    "import numpy as np\n",
    "import os\n",
    "import pandas as pd\n",
    "\n",
    "# to make this notebook's output stable across runs\n",
    "np.random.seed(42)\n",
    "\n",
    "# To plot pretty figures\n",
    "%matplotlib inline\n",
    "import matplotlib as mpl\n",
    "import matplotlib.pyplot as plt\n",
    "mpl.rc('axes', labelsize=14)\n",
    "mpl.rc('xtick', labelsize=12)\n",
    "mpl.rc('ytick', labelsize=12)\n",
    "\n",
    "# Where to save the figures\n",
    "PROJECT_ROOT_DIR = \".\"\n",
    "CHAPTER_ID = \"classification\"\n",
    "IMAGES_PATH = os.path.join(PROJECT_ROOT_DIR, \"images\", CHAPTER_ID)\n",
    "os.makedirs(IMAGES_PATH, exist_ok=True)\n",
    "\n",
    "def save_fig(fig_id, tight_layout=True, fig_extension=\"png\", resolution=300):\n",
    "    path = os.path.join(IMAGES_PATH, fig_id + \".\" + fig_extension)\n",
    "    print(\"Saving figure\", fig_id)\n",
    "    if tight_layout:\n",
    "        plt.tight_layout()\n",
    "    plt.savefig(path, format=fig_extension, dpi=resolution)"
   ]
  },
  {
   "cell_type": "code",
   "execution_count": 2,
   "id": "966b67ca-eb92-49f2-b86d-0a3999c00a70",
   "metadata": {},
   "outputs": [],
   "source": [
    "fname = '/net/jam-amaro-shared/dse_project/Spike_Dataset/TRAJECTORIES_spike_open_prot_glyc_amarolab/results/FinalExtractedFeature_open.csv'\n",
    "open_df = pd.read_csv(fname).assign(label = 1).iloc[:,1:]"
   ]
  },
  {
   "cell_type": "code",
   "execution_count": 3,
   "id": "b931a59c-d05a-48cc-9f8d-0de89c7155b2",
   "metadata": {},
   "outputs": [
    {
     "name": "stdout",
     "output_type": "stream",
     "text": [
      "open dcd size : (42222, 221)\n"
     ]
    },
    {
     "data": {
      "text/html": [
       "<div>\n",
       "<style scoped>\n",
       "    .dataframe tbody tr th:only-of-type {\n",
       "        vertical-align: middle;\n",
       "    }\n",
       "\n",
       "    .dataframe tbody tr th {\n",
       "        vertical-align: top;\n",
       "    }\n",
       "\n",
       "    .dataframe thead th {\n",
       "        text-align: right;\n",
       "    }\n",
       "</style>\n",
       "<table border=\"1\" class=\"dataframe\">\n",
       "  <thead>\n",
       "    <tr style=\"text-align: right;\">\n",
       "      <th></th>\n",
       "      <th>Frame Num</th>\n",
       "      <th>frame</th>\n",
       "      <th>RBD_CA0:ROF</th>\n",
       "      <th>RBD_CA0:RMSD</th>\n",
       "      <th>RBD__2__CH_CA0</th>\n",
       "      <th>CH_CA0:ROF</th>\n",
       "      <th>CH_CA0:RMSD</th>\n",
       "      <th>RBD__2__GLY0</th>\n",
       "      <th>GLY0:ROF</th>\n",
       "      <th>GLY0:RMSD</th>\n",
       "      <th>...</th>\n",
       "      <th>RBD__2__GLY8</th>\n",
       "      <th>GLY8:ROF</th>\n",
       "      <th>GLY8:RMSD</th>\n",
       "      <th>RBD__2__GLY9</th>\n",
       "      <th>GLY9:ROF</th>\n",
       "      <th>GLY9:RMSD</th>\n",
       "      <th>RBD__2__backbone0</th>\n",
       "      <th>backbone0:ROF</th>\n",
       "      <th>backbone0:RMSD</th>\n",
       "      <th>label</th>\n",
       "    </tr>\n",
       "  </thead>\n",
       "  <tbody>\n",
       "    <tr>\n",
       "      <th>0</th>\n",
       "      <td>0</td>\n",
       "      <td>frame_0</td>\n",
       "      <td>2.146310</td>\n",
       "      <td>0.135435</td>\n",
       "      <td>8.696114</td>\n",
       "      <td>2.430049</td>\n",
       "      <td>0.073119</td>\n",
       "      <td>6.597967</td>\n",
       "      <td>1.519505</td>\n",
       "      <td>0.309062</td>\n",
       "      <td>...</td>\n",
       "      <td>17.516027</td>\n",
       "      <td>2.425352</td>\n",
       "      <td>0.294207</td>\n",
       "      <td>20.553479</td>\n",
       "      <td>1.791446</td>\n",
       "      <td>0.278311</td>\n",
       "      <td>7.953154</td>\n",
       "      <td>7.455652</td>\n",
       "      <td>0.138682</td>\n",
       "      <td>1</td>\n",
       "    </tr>\n",
       "    <tr>\n",
       "      <th>1</th>\n",
       "      <td>1</td>\n",
       "      <td>frame_1</td>\n",
       "      <td>2.141260</td>\n",
       "      <td>0.170498</td>\n",
       "      <td>8.610321</td>\n",
       "      <td>2.452126</td>\n",
       "      <td>0.070816</td>\n",
       "      <td>6.323298</td>\n",
       "      <td>1.377560</td>\n",
       "      <td>0.281506</td>\n",
       "      <td>...</td>\n",
       "      <td>17.493029</td>\n",
       "      <td>2.410283</td>\n",
       "      <td>0.346432</td>\n",
       "      <td>20.551318</td>\n",
       "      <td>1.787035</td>\n",
       "      <td>0.402983</td>\n",
       "      <td>7.894130</td>\n",
       "      <td>7.443351</td>\n",
       "      <td>0.165635</td>\n",
       "      <td>1</td>\n",
       "    </tr>\n",
       "    <tr>\n",
       "      <th>2</th>\n",
       "      <td>2</td>\n",
       "      <td>frame_2</td>\n",
       "      <td>2.131270</td>\n",
       "      <td>0.153697</td>\n",
       "      <td>8.592710</td>\n",
       "      <td>2.430950</td>\n",
       "      <td>0.079461</td>\n",
       "      <td>6.274642</td>\n",
       "      <td>1.494150</td>\n",
       "      <td>0.237929</td>\n",
       "      <td>...</td>\n",
       "      <td>17.299496</td>\n",
       "      <td>2.297616</td>\n",
       "      <td>0.433491</td>\n",
       "      <td>20.409004</td>\n",
       "      <td>1.919100</td>\n",
       "      <td>0.455504</td>\n",
       "      <td>7.841270</td>\n",
       "      <td>7.439311</td>\n",
       "      <td>0.179153</td>\n",
       "      <td>1</td>\n",
       "    </tr>\n",
       "    <tr>\n",
       "      <th>3</th>\n",
       "      <td>3</td>\n",
       "      <td>frame_3</td>\n",
       "      <td>2.126830</td>\n",
       "      <td>0.181805</td>\n",
       "      <td>8.590594</td>\n",
       "      <td>2.439935</td>\n",
       "      <td>0.073912</td>\n",
       "      <td>6.287297</td>\n",
       "      <td>1.520262</td>\n",
       "      <td>0.246225</td>\n",
       "      <td>...</td>\n",
       "      <td>17.104382</td>\n",
       "      <td>2.345125</td>\n",
       "      <td>0.363078</td>\n",
       "      <td>20.299202</td>\n",
       "      <td>1.932984</td>\n",
       "      <td>0.360417</td>\n",
       "      <td>7.843353</td>\n",
       "      <td>7.431243</td>\n",
       "      <td>0.204023</td>\n",
       "      <td>1</td>\n",
       "    </tr>\n",
       "    <tr>\n",
       "      <th>4</th>\n",
       "      <td>4</td>\n",
       "      <td>frame_4</td>\n",
       "      <td>2.132262</td>\n",
       "      <td>0.173935</td>\n",
       "      <td>8.585232</td>\n",
       "      <td>2.446247</td>\n",
       "      <td>0.075612</td>\n",
       "      <td>6.173709</td>\n",
       "      <td>1.459852</td>\n",
       "      <td>0.213698</td>\n",
       "      <td>...</td>\n",
       "      <td>17.266876</td>\n",
       "      <td>2.344855</td>\n",
       "      <td>0.299472</td>\n",
       "      <td>20.380623</td>\n",
       "      <td>1.847637</td>\n",
       "      <td>0.358222</td>\n",
       "      <td>7.848105</td>\n",
       "      <td>7.426812</td>\n",
       "      <td>0.220511</td>\n",
       "      <td>1</td>\n",
       "    </tr>\n",
       "  </tbody>\n",
       "</table>\n",
       "<p>5 rows × 221 columns</p>\n",
       "</div>"
      ],
      "text/plain": [
       "   Frame Num    frame  RBD_CA0:ROF  RBD_CA0:RMSD  RBD__2__CH_CA0  CH_CA0:ROF  \\\n",
       "0          0  frame_0     2.146310      0.135435        8.696114    2.430049   \n",
       "1          1  frame_1     2.141260      0.170498        8.610321    2.452126   \n",
       "2          2  frame_2     2.131270      0.153697        8.592710    2.430950   \n",
       "3          3  frame_3     2.126830      0.181805        8.590594    2.439935   \n",
       "4          4  frame_4     2.132262      0.173935        8.585232    2.446247   \n",
       "\n",
       "   CH_CA0:RMSD  RBD__2__GLY0  GLY0:ROF  GLY0:RMSD  ...  RBD__2__GLY8  \\\n",
       "0     0.073119      6.597967  1.519505   0.309062  ...     17.516027   \n",
       "1     0.070816      6.323298  1.377560   0.281506  ...     17.493029   \n",
       "2     0.079461      6.274642  1.494150   0.237929  ...     17.299496   \n",
       "3     0.073912      6.287297  1.520262   0.246225  ...     17.104382   \n",
       "4     0.075612      6.173709  1.459852   0.213698  ...     17.266876   \n",
       "\n",
       "   GLY8:ROF  GLY8:RMSD  RBD__2__GLY9  GLY9:ROF  GLY9:RMSD  RBD__2__backbone0  \\\n",
       "0  2.425352   0.294207     20.553479  1.791446   0.278311           7.953154   \n",
       "1  2.410283   0.346432     20.551318  1.787035   0.402983           7.894130   \n",
       "2  2.297616   0.433491     20.409004  1.919100   0.455504           7.841270   \n",
       "3  2.345125   0.363078     20.299202  1.932984   0.360417           7.843353   \n",
       "4  2.344855   0.299472     20.380623  1.847637   0.358222           7.848105   \n",
       "\n",
       "   backbone0:ROF  backbone0:RMSD  label  \n",
       "0       7.455652        0.138682      1  \n",
       "1       7.443351        0.165635      1  \n",
       "2       7.439311        0.179153      1  \n",
       "3       7.431243        0.204023      1  \n",
       "4       7.426812        0.220511      1  \n",
       "\n",
       "[5 rows x 221 columns]"
      ]
     },
     "execution_count": 3,
     "metadata": {},
     "output_type": "execute_result"
    }
   ],
   "source": [
    "print(f'open dcd size : {open_df.shape}')\n",
    "open_df.head()"
   ]
  },
  {
   "cell_type": "code",
   "execution_count": 4,
   "id": "d25344c6",
   "metadata": {},
   "outputs": [],
   "source": [
    "def restrict_RBD_window(df,nm):\n",
    "    '''Function to drop features of dataframe that correspond to glycans which are outside a given RBD neighborhood (in nm)'''\n",
    "    #Get list of glycans\n",
    "    glycans = list(np.unique([x.replace('RBD__2__','') for x in df.keys().to_list() if 'RBD__2__GLY' in x]))\n",
    "    \n",
    "    for g in glycans:\n",
    "        if df['RBD__2__' + g].mean() > nm:\n",
    "            df.drop(['RBD__2__'+g,g+':ROF',g+':RMSD'],axis=1,inplace=True)\n",
    "            \n",
    "    return df\n",
    "    #for each glycan, if avg RBD__2__GLY distance > nm, drop that feature and other related features"
   ]
  },
  {
   "cell_type": "code",
   "execution_count": 5,
   "id": "1ec8c9bc-10f4-4dc7-9cf4-f75b59e11b75",
   "metadata": {},
   "outputs": [],
   "source": [
    "fname = '/net/jam-amaro-shared/dse_project/Spike_Dataset/TRAJECTORIES_spike_closed_prot_glyc_amarolab/results/FinalExtractedFeature_closed.csv'\n",
    "closed_df = pd.read_csv(fname).assign(label = 0).iloc[:,1:]"
   ]
  },
  {
   "cell_type": "code",
   "execution_count": 6,
   "id": "d07d649b-8fba-414a-897c-d570f09f0655",
   "metadata": {
    "scrolled": true
   },
   "outputs": [
    {
     "name": "stdout",
     "output_type": "stream",
     "text": [
      "closed dcd size : (17314, 221)\n"
     ]
    },
    {
     "data": {
      "text/html": [
       "<div>\n",
       "<style scoped>\n",
       "    .dataframe tbody tr th:only-of-type {\n",
       "        vertical-align: middle;\n",
       "    }\n",
       "\n",
       "    .dataframe tbody tr th {\n",
       "        vertical-align: top;\n",
       "    }\n",
       "\n",
       "    .dataframe thead th {\n",
       "        text-align: right;\n",
       "    }\n",
       "</style>\n",
       "<table border=\"1\" class=\"dataframe\">\n",
       "  <thead>\n",
       "    <tr style=\"text-align: right;\">\n",
       "      <th></th>\n",
       "      <th>Frame Num</th>\n",
       "      <th>frame</th>\n",
       "      <th>RBD_CA0:ROF</th>\n",
       "      <th>RBD_CA0:RMSD</th>\n",
       "      <th>RBD__2__CH_CA0</th>\n",
       "      <th>CH_CA0:ROF</th>\n",
       "      <th>CH_CA0:RMSD</th>\n",
       "      <th>RBD__2__GLY0</th>\n",
       "      <th>GLY0:ROF</th>\n",
       "      <th>GLY0:RMSD</th>\n",
       "      <th>...</th>\n",
       "      <th>RBD__2__GLY8</th>\n",
       "      <th>GLY8:ROF</th>\n",
       "      <th>GLY8:RMSD</th>\n",
       "      <th>RBD__2__GLY9</th>\n",
       "      <th>GLY9:ROF</th>\n",
       "      <th>GLY9:RMSD</th>\n",
       "      <th>RBD__2__backbone0</th>\n",
       "      <th>backbone0:ROF</th>\n",
       "      <th>backbone0:RMSD</th>\n",
       "      <th>label</th>\n",
       "    </tr>\n",
       "  </thead>\n",
       "  <tbody>\n",
       "    <tr>\n",
       "      <th>0</th>\n",
       "      <td>0</td>\n",
       "      <td>frame_0</td>\n",
       "      <td>2.064992</td>\n",
       "      <td>0.104537</td>\n",
       "      <td>7.011860</td>\n",
       "      <td>2.440622</td>\n",
       "      <td>0.071946</td>\n",
       "      <td>8.272009</td>\n",
       "      <td>1.753118</td>\n",
       "      <td>0.256231</td>\n",
       "      <td>...</td>\n",
       "      <td>15.816480</td>\n",
       "      <td>2.131665</td>\n",
       "      <td>0.296665</td>\n",
       "      <td>18.712970</td>\n",
       "      <td>2.230321</td>\n",
       "      <td>0.390132</td>\n",
       "      <td>6.132472</td>\n",
       "      <td>7.333359</td>\n",
       "      <td>0.137631</td>\n",
       "      <td>0</td>\n",
       "    </tr>\n",
       "    <tr>\n",
       "      <th>1</th>\n",
       "      <td>1</td>\n",
       "      <td>frame_1</td>\n",
       "      <td>2.082220</td>\n",
       "      <td>0.142265</td>\n",
       "      <td>7.059966</td>\n",
       "      <td>2.451281</td>\n",
       "      <td>0.067347</td>\n",
       "      <td>8.274339</td>\n",
       "      <td>1.777587</td>\n",
       "      <td>0.298775</td>\n",
       "      <td>...</td>\n",
       "      <td>15.865187</td>\n",
       "      <td>2.082916</td>\n",
       "      <td>0.267647</td>\n",
       "      <td>18.565217</td>\n",
       "      <td>2.212942</td>\n",
       "      <td>0.319875</td>\n",
       "      <td>6.172430</td>\n",
       "      <td>7.338856</td>\n",
       "      <td>0.161682</td>\n",
       "      <td>0</td>\n",
       "    </tr>\n",
       "    <tr>\n",
       "      <th>2</th>\n",
       "      <td>2</td>\n",
       "      <td>frame_2</td>\n",
       "      <td>2.079883</td>\n",
       "      <td>0.168931</td>\n",
       "      <td>7.061981</td>\n",
       "      <td>2.428138</td>\n",
       "      <td>0.075575</td>\n",
       "      <td>8.126430</td>\n",
       "      <td>1.926069</td>\n",
       "      <td>0.304831</td>\n",
       "      <td>...</td>\n",
       "      <td>15.789881</td>\n",
       "      <td>2.140586</td>\n",
       "      <td>0.278618</td>\n",
       "      <td>18.491900</td>\n",
       "      <td>2.070410</td>\n",
       "      <td>0.297723</td>\n",
       "      <td>6.154211</td>\n",
       "      <td>7.331262</td>\n",
       "      <td>0.173915</td>\n",
       "      <td>0</td>\n",
       "    </tr>\n",
       "    <tr>\n",
       "      <th>3</th>\n",
       "      <td>3</td>\n",
       "      <td>frame_3</td>\n",
       "      <td>2.105020</td>\n",
       "      <td>0.156687</td>\n",
       "      <td>7.035488</td>\n",
       "      <td>2.423324</td>\n",
       "      <td>0.076875</td>\n",
       "      <td>8.221630</td>\n",
       "      <td>1.901495</td>\n",
       "      <td>0.362107</td>\n",
       "      <td>...</td>\n",
       "      <td>15.844295</td>\n",
       "      <td>2.129400</td>\n",
       "      <td>0.294769</td>\n",
       "      <td>18.489304</td>\n",
       "      <td>2.043514</td>\n",
       "      <td>0.243517</td>\n",
       "      <td>6.143025</td>\n",
       "      <td>7.325061</td>\n",
       "      <td>0.189567</td>\n",
       "      <td>0</td>\n",
       "    </tr>\n",
       "    <tr>\n",
       "      <th>4</th>\n",
       "      <td>4</td>\n",
       "      <td>frame_4</td>\n",
       "      <td>2.107028</td>\n",
       "      <td>0.128242</td>\n",
       "      <td>6.968371</td>\n",
       "      <td>2.426547</td>\n",
       "      <td>0.086771</td>\n",
       "      <td>8.170091</td>\n",
       "      <td>1.940600</td>\n",
       "      <td>0.308735</td>\n",
       "      <td>...</td>\n",
       "      <td>15.790533</td>\n",
       "      <td>2.163263</td>\n",
       "      <td>0.299083</td>\n",
       "      <td>18.452190</td>\n",
       "      <td>2.221308</td>\n",
       "      <td>0.352847</td>\n",
       "      <td>6.106590</td>\n",
       "      <td>7.313821</td>\n",
       "      <td>0.198229</td>\n",
       "      <td>0</td>\n",
       "    </tr>\n",
       "  </tbody>\n",
       "</table>\n",
       "<p>5 rows × 221 columns</p>\n",
       "</div>"
      ],
      "text/plain": [
       "   Frame Num    frame  RBD_CA0:ROF  RBD_CA0:RMSD  RBD__2__CH_CA0  CH_CA0:ROF  \\\n",
       "0          0  frame_0     2.064992      0.104537        7.011860    2.440622   \n",
       "1          1  frame_1     2.082220      0.142265        7.059966    2.451281   \n",
       "2          2  frame_2     2.079883      0.168931        7.061981    2.428138   \n",
       "3          3  frame_3     2.105020      0.156687        7.035488    2.423324   \n",
       "4          4  frame_4     2.107028      0.128242        6.968371    2.426547   \n",
       "\n",
       "   CH_CA0:RMSD  RBD__2__GLY0  GLY0:ROF  GLY0:RMSD  ...  RBD__2__GLY8  \\\n",
       "0     0.071946      8.272009  1.753118   0.256231  ...     15.816480   \n",
       "1     0.067347      8.274339  1.777587   0.298775  ...     15.865187   \n",
       "2     0.075575      8.126430  1.926069   0.304831  ...     15.789881   \n",
       "3     0.076875      8.221630  1.901495   0.362107  ...     15.844295   \n",
       "4     0.086771      8.170091  1.940600   0.308735  ...     15.790533   \n",
       "\n",
       "   GLY8:ROF  GLY8:RMSD  RBD__2__GLY9  GLY9:ROF  GLY9:RMSD  RBD__2__backbone0  \\\n",
       "0  2.131665   0.296665     18.712970  2.230321   0.390132           6.132472   \n",
       "1  2.082916   0.267647     18.565217  2.212942   0.319875           6.172430   \n",
       "2  2.140586   0.278618     18.491900  2.070410   0.297723           6.154211   \n",
       "3  2.129400   0.294769     18.489304  2.043514   0.243517           6.143025   \n",
       "4  2.163263   0.299083     18.452190  2.221308   0.352847           6.106590   \n",
       "\n",
       "   backbone0:ROF  backbone0:RMSD  label  \n",
       "0       7.333359        0.137631      0  \n",
       "1       7.338856        0.161682      0  \n",
       "2       7.331262        0.173915      0  \n",
       "3       7.325061        0.189567      0  \n",
       "4       7.313821        0.198229      0  \n",
       "\n",
       "[5 rows x 221 columns]"
      ]
     },
     "execution_count": 6,
     "metadata": {},
     "output_type": "execute_result"
    }
   ],
   "source": [
    "print(f'closed dcd size : {closed_df.shape}')\n",
    "closed_df.head()"
   ]
  },
  {
   "cell_type": "code",
   "execution_count": 7,
   "id": "6d346e84",
   "metadata": {},
   "outputs": [],
   "source": [
    "# Load mutant data as well\n",
    "fname = '/net/jam-amaro-shared/dse_project/Spike_Dataset/TRAJECTORIES_spike_mutant_prot_glyc_amarolab.tar.gz/results/FinalExtractedFeature_mutant.csv'\n",
    "mutant_df = pd.read_csv(fname).assign(label=1)"
   ]
  },
  {
   "cell_type": "code",
   "execution_count": 8,
   "id": "87e9e68e",
   "metadata": {},
   "outputs": [],
   "source": [
    "# Only use glycans within 10 nm of the RBD\n",
    "open_df = restrict_RBD_window(open_df,8)\n",
    "closed_df = restrict_RBD_window(closed_df,8)\n",
    "mutant_df = restrict_RBD_window(mutant_df,8)"
   ]
  },
  {
   "cell_type": "code",
   "execution_count": 98,
   "id": "b885654e-f111-4eaf-8b3d-b6ae525ca3f6",
   "metadata": {
    "scrolled": true
   },
   "outputs": [
    {
     "name": "stderr",
     "output_type": "stream",
     "text": [
      "/tmp/ipykernel_31592/2113978704.py:2: FutureWarning:\n",
      "\n",
      "Passing a set as an indexer is deprecated and will raise in a future version. Use a list instead.\n",
      "\n",
      "/tmp/ipykernel_31592/2113978704.py:2: FutureWarning:\n",
      "\n",
      "Passing a set as an indexer is deprecated and will raise in a future version. Use a list instead.\n",
      "\n",
      "/tmp/ipykernel_31592/2113978704.py:2: FutureWarning:\n",
      "\n",
      "The frame.append method is deprecated and will be removed from pandas in a future version. Use pandas.concat instead.\n",
      "\n"
     ]
    },
    {
     "data": {
      "text/plain": [
       "(59536, 51)"
      ]
     },
     "execution_count": 98,
     "metadata": {},
     "output_type": "execute_result"
    }
   ],
   "source": [
    "common_cols = set(open_df.columns.to_list()).intersection(closed_df.columns.intersection(mutant_df.columns.to_list()))\n",
    "full_df = open_df.loc[:,common_cols].append(closed_df.loc[:,common_cols]).drop(['frame','Frame Num'],axis=1)\n",
    "full_df.shape"
   ]
  },
  {
   "cell_type": "markdown",
   "id": "104dfaeb-174b-4957-a8de-2c332b6f111e",
   "metadata": {},
   "source": [
    "## Looking for Correlations"
   ]
  },
  {
   "cell_type": "code",
   "execution_count": 99,
   "id": "6645ae0e-801a-4a15-bb99-bd143aca31ff",
   "metadata": {},
   "outputs": [],
   "source": [
    "corr_matrix = full_df.corr()\n",
    "corr_thresh = 0.5 #original was 0.65\n",
    "final_features = corr_matrix['RBD_CA0:RMSD'][(corr_matrix['RBD_CA0:RMSD'] < corr_thresh) & (corr_matrix['RBD_CA0:RMSD'] > -corr_thresh)].reset_index().loc[:,'index'].to_list()\n",
    "clf_df = full_df.loc[:,final_features]"
   ]
  },
  {
   "cell_type": "code",
   "execution_count": 100,
   "id": "4a0d92a3-89ec-4c58-80c9-ebf4ba851c14",
   "metadata": {},
   "outputs": [
    {
     "name": "stdout",
     "output_type": "stream",
     "text": [
      "Train set : (41675, 48), Test set : (17861, 48)\n"
     ]
    }
   ],
   "source": [
    "from sklearn.model_selection import train_test_split\n",
    "train_set, test_set = train_test_split(clf_df,test_size=0.3, random_state=42,stratify=full_df.label)\n",
    "print(f'Train set : {train_set.shape}, Test set : {test_set.shape}')"
   ]
  },
  {
   "cell_type": "code",
   "execution_count": 104,
   "id": "1f45d83f",
   "metadata": {},
   "outputs": [
    {
     "data": {
      "text/plain": [
       "['GLY14:ROF',\n",
       " 'CH_CA0:ROF',\n",
       " 'RBD__2__GLY11',\n",
       " 'RBD__2__GLY35',\n",
       " 'GLY4:ROF',\n",
       " 'GLY0:ROF',\n",
       " 'GLY11:ROF',\n",
       " 'GLY24:ROF',\n",
       " 'GLY35:ROF',\n",
       " 'GLY13:RMSD',\n",
       " 'RBD__2__GLY14',\n",
       " 'RBD__2__GLY24',\n",
       " 'backbone0:RMSD',\n",
       " 'RBD__2__GLY1',\n",
       " 'GLY1:RMSD',\n",
       " 'RBD__2__GLY13',\n",
       " 'RBD__2__GLY51',\n",
       " 'backbone0:ROF',\n",
       " 'GLY0:RMSD',\n",
       " 'GLY12:RMSD',\n",
       " 'RBD__2__GLY4',\n",
       " 'CH_CA0:RMSD',\n",
       " 'RBD__2__GLY2',\n",
       " 'RBD__2__CH_CA0',\n",
       " 'GLY12:ROF',\n",
       " 'GLY35:RMSD',\n",
       " 'GLY44:RMSD',\n",
       " 'GLY14:RMSD',\n",
       " 'GLY1:ROF',\n",
       " 'GLY11:RMSD',\n",
       " 'GLY23:RMSD',\n",
       " 'label',\n",
       " 'GLY4:RMSD',\n",
       " 'RBD__2__GLY3',\n",
       " 'GLY2:ROF',\n",
       " 'GLY51:ROF',\n",
       " 'RBD__2__GLY44',\n",
       " 'GLY13:ROF',\n",
       " 'GLY24:RMSD',\n",
       " 'RBD__2__GLY12',\n",
       " 'GLY3:ROF',\n",
       " 'GLY44:ROF',\n",
       " 'RBD__2__GLY23',\n",
       " 'GLY51:RMSD',\n",
       " 'RBD__2__GLY0',\n",
       " 'RBD_CA0:ROF',\n",
       " 'RBD__2__backbone0',\n",
       " 'GLY23:ROF']"
      ]
     },
     "execution_count": 104,
     "metadata": {},
     "output_type": "execute_result"
    }
   ],
   "source": [
    "train_set.keys().to_list()"
   ]
  },
  {
   "cell_type": "markdown",
   "id": "0eda6938-3b4d-48f1-8386-847fce32375f",
   "metadata": {},
   "source": [
    "# Prepare the Data for Machine Learning Algorithms"
   ]
  },
  {
   "cell_type": "code",
   "execution_count": 76,
   "id": "b942f4cc",
   "metadata": {},
   "outputs": [],
   "source": [
    "import plotly.express as px\n",
    "import time"
   ]
  },
  {
   "cell_type": "code",
   "execution_count": 77,
   "id": "282dc6ee-6e66-4a5c-b175-be965c60f0f4",
   "metadata": {},
   "outputs": [
    {
     "data": {
      "text/plain": [
       "((41675, 47), (41675,))"
      ]
     },
     "execution_count": 77,
     "metadata": {},
     "output_type": "execute_result"
    }
   ],
   "source": [
    "train_X = train_set.drop(\"label\", axis=1) # drop labels for training set\n",
    "train_labels = train_set[\"label\"].copy()\n",
    "train_X.shape,train_labels.shape"
   ]
  },
  {
   "cell_type": "code",
   "execution_count": 78,
   "id": "808a68b5-7113-431a-92e7-b50317cc0cd9",
   "metadata": {},
   "outputs": [
    {
     "data": {
      "text/plain": [
       "((17861, 47), (17861,))"
      ]
     },
     "execution_count": 78,
     "metadata": {},
     "output_type": "execute_result"
    }
   ],
   "source": [
    "test_X = test_set.drop(\"label\", axis=1) # drop labels for training set\n",
    "test_labels = test_set[\"label\"].copy()\n",
    "test_X.shape, test_labels.shape"
   ]
  },
  {
   "cell_type": "code",
   "execution_count": 79,
   "id": "23f4e771-2ece-4781-afd9-2300d2531e0e",
   "metadata": {},
   "outputs": [],
   "source": [
    "from sklearn.pipeline import Pipeline\n",
    "from sklearn.preprocessing import StandardScaler\n",
    "\n",
    "num_pipeline = Pipeline([\n",
    "       ('std_scaler', StandardScaler()),\n",
    "    ])\n",
    "\n",
    "train_X_prepared = num_pipeline.fit_transform(train_X)\n",
    "test_X_prepared = num_pipeline.transform(test_X)"
   ]
  },
  {
   "cell_type": "code",
   "execution_count": 80,
   "id": "3366204e-1081-4904-a05d-733fa15628ce",
   "metadata": {},
   "outputs": [],
   "source": [
    "from sklearn.linear_model import SGDClassifier\n",
    "sgd_clf = SGDClassifier(max_iter=100, tol=1e-3, random_state=42)"
   ]
  },
  {
   "cell_type": "code",
   "execution_count": 81,
   "id": "aba14996-5bcf-401f-b067-ae6bcce5a33c",
   "metadata": {},
   "outputs": [
    {
     "data": {
      "text/plain": [
       "array([1.        , 1.        , 1.        , 0.99976008, 1.        ,\n",
       "       0.99976002, 1.        , 1.        , 1.        , 1.        ])"
      ]
     },
     "execution_count": 81,
     "metadata": {},
     "output_type": "execute_result"
    }
   ],
   "source": [
    "from sklearn.model_selection import cross_val_score,cross_val_predict\n",
    "y_train_pred = cross_val_predict(sgd_clf,train_X_prepared, train_labels, cv=10)\n",
    "t = time.time()\n",
    "cross_val_score(sgd_clf, train_X_prepared, train_labels, cv=10, scoring=\"accuracy\")\n",
    "#print(str(time.time()-t) + ' sec elapsed')"
   ]
  },
  {
   "cell_type": "code",
   "execution_count": 96,
   "id": "e2492fae",
   "metadata": {
    "scrolled": true
   },
   "outputs": [
    {
     "name": "stderr",
     "output_type": "stream",
     "text": [
      "/tmp/ipykernel_31592/1371081159.py:1: FutureWarning:\n",
      "\n",
      "Passing a set as an indexer is deprecated and will raise in a future version. Use a list instead.\n",
      "\n"
     ]
    },
    {
     "data": {
      "text/html": [
       "<div>\n",
       "<style scoped>\n",
       "    .dataframe tbody tr th:only-of-type {\n",
       "        vertical-align: middle;\n",
       "    }\n",
       "\n",
       "    .dataframe tbody tr th {\n",
       "        vertical-align: top;\n",
       "    }\n",
       "\n",
       "    .dataframe thead th {\n",
       "        text-align: right;\n",
       "    }\n",
       "</style>\n",
       "<table border=\"1\" class=\"dataframe\">\n",
       "  <thead>\n",
       "    <tr style=\"text-align: right;\">\n",
       "      <th></th>\n",
       "      <th>GLY14:ROF</th>\n",
       "      <th>CH_CA0:ROF</th>\n",
       "      <th>RBD__2__GLY11</th>\n",
       "      <th>RBD__2__GLY35</th>\n",
       "      <th>GLY4:ROF</th>\n",
       "      <th>GLY0:ROF</th>\n",
       "      <th>GLY11:ROF</th>\n",
       "      <th>GLY2:RMSD</th>\n",
       "      <th>GLY24:ROF</th>\n",
       "      <th>GLY35:ROF</th>\n",
       "      <th>...</th>\n",
       "      <th>RBD__2__GLY12</th>\n",
       "      <th>GLY3:ROF</th>\n",
       "      <th>GLY44:ROF</th>\n",
       "      <th>RBD__2__GLY23</th>\n",
       "      <th>GLY51:RMSD</th>\n",
       "      <th>RBD_CA0:RMSD</th>\n",
       "      <th>RBD__2__GLY0</th>\n",
       "      <th>RBD_CA0:ROF</th>\n",
       "      <th>RBD__2__backbone0</th>\n",
       "      <th>GLY23:ROF</th>\n",
       "    </tr>\n",
       "  </thead>\n",
       "  <tbody>\n",
       "    <tr>\n",
       "      <th>0</th>\n",
       "      <td>3.940404</td>\n",
       "      <td>2.447579</td>\n",
       "      <td>6.569449</td>\n",
       "      <td>7.140739</td>\n",
       "      <td>3.990095</td>\n",
       "      <td>1.521675</td>\n",
       "      <td>1.892873</td>\n",
       "      <td>0.176374</td>\n",
       "      <td>3.525652</td>\n",
       "      <td>8.127645</td>\n",
       "      <td>...</td>\n",
       "      <td>4.513751</td>\n",
       "      <td>3.780843</td>\n",
       "      <td>4.858304</td>\n",
       "      <td>8.082208</td>\n",
       "      <td>0.301478</td>\n",
       "      <td>0.124956</td>\n",
       "      <td>6.221800</td>\n",
       "      <td>2.178091</td>\n",
       "      <td>7.879317</td>\n",
       "      <td>3.314490</td>\n",
       "    </tr>\n",
       "    <tr>\n",
       "      <th>1</th>\n",
       "      <td>3.887662</td>\n",
       "      <td>2.459875</td>\n",
       "      <td>6.436003</td>\n",
       "      <td>7.059873</td>\n",
       "      <td>3.964416</td>\n",
       "      <td>1.508451</td>\n",
       "      <td>1.888832</td>\n",
       "      <td>0.186999</td>\n",
       "      <td>3.561052</td>\n",
       "      <td>8.078441</td>\n",
       "      <td>...</td>\n",
       "      <td>4.299195</td>\n",
       "      <td>3.846762</td>\n",
       "      <td>4.826632</td>\n",
       "      <td>8.130166</td>\n",
       "      <td>0.406105</td>\n",
       "      <td>0.149543</td>\n",
       "      <td>6.122916</td>\n",
       "      <td>2.149317</td>\n",
       "      <td>7.772753</td>\n",
       "      <td>3.321046</td>\n",
       "    </tr>\n",
       "    <tr>\n",
       "      <th>2</th>\n",
       "      <td>3.858432</td>\n",
       "      <td>2.461492</td>\n",
       "      <td>6.403536</td>\n",
       "      <td>7.108533</td>\n",
       "      <td>3.915510</td>\n",
       "      <td>1.539993</td>\n",
       "      <td>1.758411</td>\n",
       "      <td>0.300124</td>\n",
       "      <td>3.585452</td>\n",
       "      <td>8.088689</td>\n",
       "      <td>...</td>\n",
       "      <td>4.353259</td>\n",
       "      <td>3.830398</td>\n",
       "      <td>4.773883</td>\n",
       "      <td>8.208106</td>\n",
       "      <td>0.292461</td>\n",
       "      <td>0.171919</td>\n",
       "      <td>6.110341</td>\n",
       "      <td>2.143670</td>\n",
       "      <td>7.822148</td>\n",
       "      <td>3.326981</td>\n",
       "    </tr>\n",
       "    <tr>\n",
       "      <th>3</th>\n",
       "      <td>3.865545</td>\n",
       "      <td>2.444338</td>\n",
       "      <td>6.411707</td>\n",
       "      <td>7.169412</td>\n",
       "      <td>3.989322</td>\n",
       "      <td>1.565013</td>\n",
       "      <td>1.750813</td>\n",
       "      <td>0.266255</td>\n",
       "      <td>3.512377</td>\n",
       "      <td>8.065538</td>\n",
       "      <td>...</td>\n",
       "      <td>4.502183</td>\n",
       "      <td>3.878491</td>\n",
       "      <td>4.755619</td>\n",
       "      <td>8.336375</td>\n",
       "      <td>0.363304</td>\n",
       "      <td>0.169495</td>\n",
       "      <td>6.299373</td>\n",
       "      <td>2.134737</td>\n",
       "      <td>7.861003</td>\n",
       "      <td>3.344971</td>\n",
       "    </tr>\n",
       "    <tr>\n",
       "      <th>4</th>\n",
       "      <td>3.937735</td>\n",
       "      <td>2.433935</td>\n",
       "      <td>6.299086</td>\n",
       "      <td>7.095213</td>\n",
       "      <td>4.064872</td>\n",
       "      <td>1.540981</td>\n",
       "      <td>1.806611</td>\n",
       "      <td>0.216212</td>\n",
       "      <td>3.520783</td>\n",
       "      <td>8.072303</td>\n",
       "      <td>...</td>\n",
       "      <td>4.390307</td>\n",
       "      <td>3.867792</td>\n",
       "      <td>4.788616</td>\n",
       "      <td>8.313508</td>\n",
       "      <td>0.418656</td>\n",
       "      <td>0.186895</td>\n",
       "      <td>5.990773</td>\n",
       "      <td>2.153319</td>\n",
       "      <td>7.904470</td>\n",
       "      <td>3.286622</td>\n",
       "    </tr>\n",
       "  </tbody>\n",
       "</table>\n",
       "<p>5 rows × 51 columns</p>\n",
       "</div>"
      ],
      "text/plain": [
       "   GLY14:ROF  CH_CA0:ROF  RBD__2__GLY11  RBD__2__GLY35  GLY4:ROF  GLY0:ROF  \\\n",
       "0   3.940404    2.447579       6.569449       7.140739  3.990095  1.521675   \n",
       "1   3.887662    2.459875       6.436003       7.059873  3.964416  1.508451   \n",
       "2   3.858432    2.461492       6.403536       7.108533  3.915510  1.539993   \n",
       "3   3.865545    2.444338       6.411707       7.169412  3.989322  1.565013   \n",
       "4   3.937735    2.433935       6.299086       7.095213  4.064872  1.540981   \n",
       "\n",
       "   GLY11:ROF  GLY2:RMSD  GLY24:ROF  GLY35:ROF  ...  RBD__2__GLY12  GLY3:ROF  \\\n",
       "0   1.892873   0.176374   3.525652   8.127645  ...       4.513751  3.780843   \n",
       "1   1.888832   0.186999   3.561052   8.078441  ...       4.299195  3.846762   \n",
       "2   1.758411   0.300124   3.585452   8.088689  ...       4.353259  3.830398   \n",
       "3   1.750813   0.266255   3.512377   8.065538  ...       4.502183  3.878491   \n",
       "4   1.806611   0.216212   3.520783   8.072303  ...       4.390307  3.867792   \n",
       "\n",
       "   GLY44:ROF  RBD__2__GLY23  GLY51:RMSD  RBD_CA0:RMSD  RBD__2__GLY0  \\\n",
       "0   4.858304       8.082208    0.301478      0.124956      6.221800   \n",
       "1   4.826632       8.130166    0.406105      0.149543      6.122916   \n",
       "2   4.773883       8.208106    0.292461      0.171919      6.110341   \n",
       "3   4.755619       8.336375    0.363304      0.169495      6.299373   \n",
       "4   4.788616       8.313508    0.418656      0.186895      5.990773   \n",
       "\n",
       "   RBD_CA0:ROF  RBD__2__backbone0  GLY23:ROF  \n",
       "0     2.178091           7.879317   3.314490  \n",
       "1     2.149317           7.772753   3.321046  \n",
       "2     2.143670           7.822148   3.326981  \n",
       "3     2.134737           7.861003   3.344971  \n",
       "4     2.153319           7.904470   3.286622  \n",
       "\n",
       "[5 rows x 51 columns]"
      ]
     },
     "execution_count": 96,
     "metadata": {},
     "output_type": "execute_result"
    }
   ],
   "source": [
    "mutant_df.loc[:,common_cols].drop([\"frame\",\"Frame Num\"],axis=1).head()"
   ]
  },
  {
   "cell_type": "code",
   "execution_count": 110,
   "id": "ab0dd266",
   "metadata": {},
   "outputs": [
    {
     "name": "stdout",
     "output_type": "stream",
     "text": [
      " Val precison : 1.0, Val recall 1.0\n"
     ]
    }
   ],
   "source": [
    "val_X = num_pipeline.transform(mutant_df.loc[:,train_set.keys().to_list()].drop([\"label\"],axis=1))\n",
    "val_labels = mutant_df[\"label\"].copy()\n",
    "y_val_pred = sgd_clf.predict(val_X)\n",
    "print(f' Val precison : {precision_score(val_labels, y_val_pred)}, Val recall {recall_score(val_labels, y_val_pred)}')\n"
   ]
  },
  {
   "cell_type": "markdown",
   "id": "3750eaaf-8215-4f7c-a3fc-21fdee87b7ef",
   "metadata": {},
   "source": [
    "## Precision and Recall"
   ]
  },
  {
   "cell_type": "code",
   "execution_count": 82,
   "id": "9f81fb9c-934d-4d0d-a1e8-c04a04d34227",
   "metadata": {},
   "outputs": [
    {
     "name": "stdout",
     "output_type": "stream",
     "text": [
      " Train precison : 0.999932334134046, train recall 1.0\n"
     ]
    }
   ],
   "source": [
    "from sklearn.metrics import confusion_matrix\n",
    "from sklearn.metrics import precision_score, recall_score\n",
    "confusion_matrix(train_labels, y_train_pred)\n",
    "print(f' Train precison : {precision_score(train_labels, y_train_pred)}, train recall {recall_score(train_labels, y_train_pred)}')"
   ]
  },
  {
   "cell_type": "code",
   "execution_count": 83,
   "id": "b12e888f-b861-43a8-bdf4-2ec963f8263d",
   "metadata": {
    "scrolled": false
   },
   "outputs": [
    {
     "name": "stdout",
     "output_type": "stream",
     "text": [
      " Test precison : 0.9998421343436735, Test recall 1.0\n"
     ]
    },
    {
     "data": {
      "application/vnd.plotly.v1+json": {
       "config": {
        "plotlyServerURL": "https://plot.ly"
       },
       "data": [
        {
         "alignmentgroup": "True",
         "hovertemplate": "Feature=%{x}<br>Importance=%{marker.color}<extra></extra>",
         "legendgroup": "",
         "marker": {
          "color": [
           -1.0401680255509733,
           0.6759711200385882,
           1.053930467442224,
           1.7559192052170853,
           -0.5095933609676906,
           -1.3048516916087582,
           -1.0865440894204192,
           -0.6403447325972863,
           1.0649034886672748,
           0.8752542059148165,
           1.6893345915803857,
           1.8662520985547228,
           0.46903969916083876,
           -1.2381919289610752,
           -0.04979335771583609,
           -0.9191382577137943,
           2.0807130531347675,
           -0.6056333761741918,
           -0.4076270035388156,
           0.4278561540223532,
           0.22653509404358865,
           1.009236121492984,
           -1.0233951890508737,
           2.6121450299825266,
           0.31294426138453957,
           0.49548793535759494,
           0.2631852393447791,
           -0.10843595741314759,
           0.14718016607884193,
           -0.2410629499699802,
           0.035432995163417996,
           -0.3705068893869013,
           -1.2071217677051336,
           0.6022633133179366,
           -0.08018385855836133,
           1.6032207654789608,
           1.276163347427882,
           0.9397058739687034,
           -0.8586461133583786,
           -0.9842767232346826,
           -0.08150416990755023,
           -1.3496471259332385,
           0.3952572663025587,
           -1.2165159326990054,
           1.053686588934594,
           2.653272341381275,
           0.15001771140261733
          ],
          "coloraxis": "coloraxis",
          "pattern": {
           "shape": ""
          }
         },
         "name": "",
         "offsetgroup": "",
         "orientation": "v",
         "showlegend": false,
         "textposition": "auto",
         "type": "bar",
         "x": [
          "GLY14:ROF",
          "CH_CA0:ROF",
          "RBD__2__GLY11",
          "RBD__2__GLY35",
          "GLY4:ROF",
          "GLY0:ROF",
          "GLY11:ROF",
          "GLY24:ROF",
          "GLY35:ROF",
          "GLY13:RMSD",
          "RBD__2__GLY14",
          "RBD__2__GLY24",
          "backbone0:RMSD",
          "RBD__2__GLY1",
          "GLY1:RMSD",
          "RBD__2__GLY13",
          "RBD__2__GLY51",
          "backbone0:ROF",
          "GLY0:RMSD",
          "GLY12:RMSD",
          "RBD__2__GLY4",
          "CH_CA0:RMSD",
          "RBD__2__GLY2",
          "RBD__2__CH_CA0",
          "GLY12:ROF",
          "GLY35:RMSD",
          "GLY44:RMSD",
          "GLY14:RMSD",
          "GLY1:ROF",
          "GLY11:RMSD",
          "GLY23:RMSD",
          "GLY4:RMSD",
          "RBD__2__GLY3",
          "GLY2:ROF",
          "GLY51:ROF",
          "RBD__2__GLY44",
          "GLY13:ROF",
          "GLY24:RMSD",
          "RBD__2__GLY12",
          "GLY3:ROF",
          "GLY44:ROF",
          "RBD__2__GLY23",
          "GLY51:RMSD",
          "RBD__2__GLY0",
          "RBD_CA0:ROF",
          "RBD__2__backbone0",
          "GLY23:ROF"
         ],
         "xaxis": "x",
         "y": [
          -1.0401680255509733,
          0.6759711200385882,
          1.053930467442224,
          1.7559192052170853,
          -0.5095933609676906,
          -1.3048516916087582,
          -1.0865440894204192,
          -0.6403447325972863,
          1.0649034886672748,
          0.8752542059148165,
          1.6893345915803857,
          1.8662520985547228,
          0.46903969916083876,
          -1.2381919289610752,
          -0.04979335771583609,
          -0.9191382577137943,
          2.0807130531347675,
          -0.6056333761741918,
          -0.4076270035388156,
          0.4278561540223532,
          0.22653509404358865,
          1.009236121492984,
          -1.0233951890508737,
          2.6121450299825266,
          0.31294426138453957,
          0.49548793535759494,
          0.2631852393447791,
          -0.10843595741314759,
          0.14718016607884193,
          -0.2410629499699802,
          0.035432995163417996,
          -0.3705068893869013,
          -1.2071217677051336,
          0.6022633133179366,
          -0.08018385855836133,
          1.6032207654789608,
          1.276163347427882,
          0.9397058739687034,
          -0.8586461133583786,
          -0.9842767232346826,
          -0.08150416990755023,
          -1.3496471259332385,
          0.3952572663025587,
          -1.2165159326990054,
          1.053686588934594,
          2.653272341381275,
          0.15001771140261733
         ],
         "yaxis": "y"
        }
       ],
       "layout": {
        "barmode": "relative",
        "coloraxis": {
         "colorbar": {
          "title": {
           "text": "Importance"
          }
         },
         "colorscale": [
          [
           0,
           "#0d0887"
          ],
          [
           0.1111111111111111,
           "#46039f"
          ],
          [
           0.2222222222222222,
           "#7201a8"
          ],
          [
           0.3333333333333333,
           "#9c179e"
          ],
          [
           0.4444444444444444,
           "#bd3786"
          ],
          [
           0.5555555555555556,
           "#d8576b"
          ],
          [
           0.6666666666666666,
           "#ed7953"
          ],
          [
           0.7777777777777778,
           "#fb9f3a"
          ],
          [
           0.8888888888888888,
           "#fdca26"
          ],
          [
           1,
           "#f0f921"
          ]
         ]
        },
        "legend": {
         "tracegroupgap": 0
        },
        "margin": {
         "t": 60
        },
        "template": {
         "data": {
          "bar": [
           {
            "error_x": {
             "color": "#2a3f5f"
            },
            "error_y": {
             "color": "#2a3f5f"
            },
            "marker": {
             "line": {
              "color": "#E5ECF6",
              "width": 0.5
             },
             "pattern": {
              "fillmode": "overlay",
              "size": 10,
              "solidity": 0.2
             }
            },
            "type": "bar"
           }
          ],
          "barpolar": [
           {
            "marker": {
             "line": {
              "color": "#E5ECF6",
              "width": 0.5
             },
             "pattern": {
              "fillmode": "overlay",
              "size": 10,
              "solidity": 0.2
             }
            },
            "type": "barpolar"
           }
          ],
          "carpet": [
           {
            "aaxis": {
             "endlinecolor": "#2a3f5f",
             "gridcolor": "white",
             "linecolor": "white",
             "minorgridcolor": "white",
             "startlinecolor": "#2a3f5f"
            },
            "baxis": {
             "endlinecolor": "#2a3f5f",
             "gridcolor": "white",
             "linecolor": "white",
             "minorgridcolor": "white",
             "startlinecolor": "#2a3f5f"
            },
            "type": "carpet"
           }
          ],
          "choropleth": [
           {
            "colorbar": {
             "outlinewidth": 0,
             "ticks": ""
            },
            "type": "choropleth"
           }
          ],
          "contour": [
           {
            "colorbar": {
             "outlinewidth": 0,
             "ticks": ""
            },
            "colorscale": [
             [
              0,
              "#0d0887"
             ],
             [
              0.1111111111111111,
              "#46039f"
             ],
             [
              0.2222222222222222,
              "#7201a8"
             ],
             [
              0.3333333333333333,
              "#9c179e"
             ],
             [
              0.4444444444444444,
              "#bd3786"
             ],
             [
              0.5555555555555556,
              "#d8576b"
             ],
             [
              0.6666666666666666,
              "#ed7953"
             ],
             [
              0.7777777777777778,
              "#fb9f3a"
             ],
             [
              0.8888888888888888,
              "#fdca26"
             ],
             [
              1,
              "#f0f921"
             ]
            ],
            "type": "contour"
           }
          ],
          "contourcarpet": [
           {
            "colorbar": {
             "outlinewidth": 0,
             "ticks": ""
            },
            "type": "contourcarpet"
           }
          ],
          "heatmap": [
           {
            "colorbar": {
             "outlinewidth": 0,
             "ticks": ""
            },
            "colorscale": [
             [
              0,
              "#0d0887"
             ],
             [
              0.1111111111111111,
              "#46039f"
             ],
             [
              0.2222222222222222,
              "#7201a8"
             ],
             [
              0.3333333333333333,
              "#9c179e"
             ],
             [
              0.4444444444444444,
              "#bd3786"
             ],
             [
              0.5555555555555556,
              "#d8576b"
             ],
             [
              0.6666666666666666,
              "#ed7953"
             ],
             [
              0.7777777777777778,
              "#fb9f3a"
             ],
             [
              0.8888888888888888,
              "#fdca26"
             ],
             [
              1,
              "#f0f921"
             ]
            ],
            "type": "heatmap"
           }
          ],
          "heatmapgl": [
           {
            "colorbar": {
             "outlinewidth": 0,
             "ticks": ""
            },
            "colorscale": [
             [
              0,
              "#0d0887"
             ],
             [
              0.1111111111111111,
              "#46039f"
             ],
             [
              0.2222222222222222,
              "#7201a8"
             ],
             [
              0.3333333333333333,
              "#9c179e"
             ],
             [
              0.4444444444444444,
              "#bd3786"
             ],
             [
              0.5555555555555556,
              "#d8576b"
             ],
             [
              0.6666666666666666,
              "#ed7953"
             ],
             [
              0.7777777777777778,
              "#fb9f3a"
             ],
             [
              0.8888888888888888,
              "#fdca26"
             ],
             [
              1,
              "#f0f921"
             ]
            ],
            "type": "heatmapgl"
           }
          ],
          "histogram": [
           {
            "marker": {
             "pattern": {
              "fillmode": "overlay",
              "size": 10,
              "solidity": 0.2
             }
            },
            "type": "histogram"
           }
          ],
          "histogram2d": [
           {
            "colorbar": {
             "outlinewidth": 0,
             "ticks": ""
            },
            "colorscale": [
             [
              0,
              "#0d0887"
             ],
             [
              0.1111111111111111,
              "#46039f"
             ],
             [
              0.2222222222222222,
              "#7201a8"
             ],
             [
              0.3333333333333333,
              "#9c179e"
             ],
             [
              0.4444444444444444,
              "#bd3786"
             ],
             [
              0.5555555555555556,
              "#d8576b"
             ],
             [
              0.6666666666666666,
              "#ed7953"
             ],
             [
              0.7777777777777778,
              "#fb9f3a"
             ],
             [
              0.8888888888888888,
              "#fdca26"
             ],
             [
              1,
              "#f0f921"
             ]
            ],
            "type": "histogram2d"
           }
          ],
          "histogram2dcontour": [
           {
            "colorbar": {
             "outlinewidth": 0,
             "ticks": ""
            },
            "colorscale": [
             [
              0,
              "#0d0887"
             ],
             [
              0.1111111111111111,
              "#46039f"
             ],
             [
              0.2222222222222222,
              "#7201a8"
             ],
             [
              0.3333333333333333,
              "#9c179e"
             ],
             [
              0.4444444444444444,
              "#bd3786"
             ],
             [
              0.5555555555555556,
              "#d8576b"
             ],
             [
              0.6666666666666666,
              "#ed7953"
             ],
             [
              0.7777777777777778,
              "#fb9f3a"
             ],
             [
              0.8888888888888888,
              "#fdca26"
             ],
             [
              1,
              "#f0f921"
             ]
            ],
            "type": "histogram2dcontour"
           }
          ],
          "mesh3d": [
           {
            "colorbar": {
             "outlinewidth": 0,
             "ticks": ""
            },
            "type": "mesh3d"
           }
          ],
          "parcoords": [
           {
            "line": {
             "colorbar": {
              "outlinewidth": 0,
              "ticks": ""
             }
            },
            "type": "parcoords"
           }
          ],
          "pie": [
           {
            "automargin": true,
            "type": "pie"
           }
          ],
          "scatter": [
           {
            "marker": {
             "colorbar": {
              "outlinewidth": 0,
              "ticks": ""
             }
            },
            "type": "scatter"
           }
          ],
          "scatter3d": [
           {
            "line": {
             "colorbar": {
              "outlinewidth": 0,
              "ticks": ""
             }
            },
            "marker": {
             "colorbar": {
              "outlinewidth": 0,
              "ticks": ""
             }
            },
            "type": "scatter3d"
           }
          ],
          "scattercarpet": [
           {
            "marker": {
             "colorbar": {
              "outlinewidth": 0,
              "ticks": ""
             }
            },
            "type": "scattercarpet"
           }
          ],
          "scattergeo": [
           {
            "marker": {
             "colorbar": {
              "outlinewidth": 0,
              "ticks": ""
             }
            },
            "type": "scattergeo"
           }
          ],
          "scattergl": [
           {
            "marker": {
             "colorbar": {
              "outlinewidth": 0,
              "ticks": ""
             }
            },
            "type": "scattergl"
           }
          ],
          "scattermapbox": [
           {
            "marker": {
             "colorbar": {
              "outlinewidth": 0,
              "ticks": ""
             }
            },
            "type": "scattermapbox"
           }
          ],
          "scatterpolar": [
           {
            "marker": {
             "colorbar": {
              "outlinewidth": 0,
              "ticks": ""
             }
            },
            "type": "scatterpolar"
           }
          ],
          "scatterpolargl": [
           {
            "marker": {
             "colorbar": {
              "outlinewidth": 0,
              "ticks": ""
             }
            },
            "type": "scatterpolargl"
           }
          ],
          "scatterternary": [
           {
            "marker": {
             "colorbar": {
              "outlinewidth": 0,
              "ticks": ""
             }
            },
            "type": "scatterternary"
           }
          ],
          "surface": [
           {
            "colorbar": {
             "outlinewidth": 0,
             "ticks": ""
            },
            "colorscale": [
             [
              0,
              "#0d0887"
             ],
             [
              0.1111111111111111,
              "#46039f"
             ],
             [
              0.2222222222222222,
              "#7201a8"
             ],
             [
              0.3333333333333333,
              "#9c179e"
             ],
             [
              0.4444444444444444,
              "#bd3786"
             ],
             [
              0.5555555555555556,
              "#d8576b"
             ],
             [
              0.6666666666666666,
              "#ed7953"
             ],
             [
              0.7777777777777778,
              "#fb9f3a"
             ],
             [
              0.8888888888888888,
              "#fdca26"
             ],
             [
              1,
              "#f0f921"
             ]
            ],
            "type": "surface"
           }
          ],
          "table": [
           {
            "cells": {
             "fill": {
              "color": "#EBF0F8"
             },
             "line": {
              "color": "white"
             }
            },
            "header": {
             "fill": {
              "color": "#C8D4E3"
             },
             "line": {
              "color": "white"
             }
            },
            "type": "table"
           }
          ]
         },
         "layout": {
          "annotationdefaults": {
           "arrowcolor": "#2a3f5f",
           "arrowhead": 0,
           "arrowwidth": 1
          },
          "autotypenumbers": "strict",
          "coloraxis": {
           "colorbar": {
            "outlinewidth": 0,
            "ticks": ""
           }
          },
          "colorscale": {
           "diverging": [
            [
             0,
             "#8e0152"
            ],
            [
             0.1,
             "#c51b7d"
            ],
            [
             0.2,
             "#de77ae"
            ],
            [
             0.3,
             "#f1b6da"
            ],
            [
             0.4,
             "#fde0ef"
            ],
            [
             0.5,
             "#f7f7f7"
            ],
            [
             0.6,
             "#e6f5d0"
            ],
            [
             0.7,
             "#b8e186"
            ],
            [
             0.8,
             "#7fbc41"
            ],
            [
             0.9,
             "#4d9221"
            ],
            [
             1,
             "#276419"
            ]
           ],
           "sequential": [
            [
             0,
             "#0d0887"
            ],
            [
             0.1111111111111111,
             "#46039f"
            ],
            [
             0.2222222222222222,
             "#7201a8"
            ],
            [
             0.3333333333333333,
             "#9c179e"
            ],
            [
             0.4444444444444444,
             "#bd3786"
            ],
            [
             0.5555555555555556,
             "#d8576b"
            ],
            [
             0.6666666666666666,
             "#ed7953"
            ],
            [
             0.7777777777777778,
             "#fb9f3a"
            ],
            [
             0.8888888888888888,
             "#fdca26"
            ],
            [
             1,
             "#f0f921"
            ]
           ],
           "sequentialminus": [
            [
             0,
             "#0d0887"
            ],
            [
             0.1111111111111111,
             "#46039f"
            ],
            [
             0.2222222222222222,
             "#7201a8"
            ],
            [
             0.3333333333333333,
             "#9c179e"
            ],
            [
             0.4444444444444444,
             "#bd3786"
            ],
            [
             0.5555555555555556,
             "#d8576b"
            ],
            [
             0.6666666666666666,
             "#ed7953"
            ],
            [
             0.7777777777777778,
             "#fb9f3a"
            ],
            [
             0.8888888888888888,
             "#fdca26"
            ],
            [
             1,
             "#f0f921"
            ]
           ]
          },
          "colorway": [
           "#636efa",
           "#EF553B",
           "#00cc96",
           "#ab63fa",
           "#FFA15A",
           "#19d3f3",
           "#FF6692",
           "#B6E880",
           "#FF97FF",
           "#FECB52"
          ],
          "font": {
           "color": "#2a3f5f"
          },
          "geo": {
           "bgcolor": "white",
           "lakecolor": "white",
           "landcolor": "#E5ECF6",
           "showlakes": true,
           "showland": true,
           "subunitcolor": "white"
          },
          "hoverlabel": {
           "align": "left"
          },
          "hovermode": "closest",
          "mapbox": {
           "style": "light"
          },
          "paper_bgcolor": "white",
          "plot_bgcolor": "#E5ECF6",
          "polar": {
           "angularaxis": {
            "gridcolor": "white",
            "linecolor": "white",
            "ticks": ""
           },
           "bgcolor": "#E5ECF6",
           "radialaxis": {
            "gridcolor": "white",
            "linecolor": "white",
            "ticks": ""
           }
          },
          "scene": {
           "xaxis": {
            "backgroundcolor": "#E5ECF6",
            "gridcolor": "white",
            "gridwidth": 2,
            "linecolor": "white",
            "showbackground": true,
            "ticks": "",
            "zerolinecolor": "white"
           },
           "yaxis": {
            "backgroundcolor": "#E5ECF6",
            "gridcolor": "white",
            "gridwidth": 2,
            "linecolor": "white",
            "showbackground": true,
            "ticks": "",
            "zerolinecolor": "white"
           },
           "zaxis": {
            "backgroundcolor": "#E5ECF6",
            "gridcolor": "white",
            "gridwidth": 2,
            "linecolor": "white",
            "showbackground": true,
            "ticks": "",
            "zerolinecolor": "white"
           }
          },
          "shapedefaults": {
           "line": {
            "color": "#2a3f5f"
           }
          },
          "ternary": {
           "aaxis": {
            "gridcolor": "white",
            "linecolor": "white",
            "ticks": ""
           },
           "baxis": {
            "gridcolor": "white",
            "linecolor": "white",
            "ticks": ""
           },
           "bgcolor": "#E5ECF6",
           "caxis": {
            "gridcolor": "white",
            "linecolor": "white",
            "ticks": ""
           }
          },
          "title": {
           "x": 0.05
          },
          "xaxis": {
           "automargin": true,
           "gridcolor": "white",
           "linecolor": "white",
           "ticks": "",
           "title": {
            "standoff": 15
           },
           "zerolinecolor": "white",
           "zerolinewidth": 2
          },
          "yaxis": {
           "automargin": true,
           "gridcolor": "white",
           "linecolor": "white",
           "ticks": "",
           "title": {
            "standoff": 15
           },
           "zerolinecolor": "white",
           "zerolinewidth": 2
          }
         }
        },
        "xaxis": {
         "anchor": "y",
         "categoryorder": "total ascending",
         "domain": [
          0,
          1
         ],
         "title": {
          "text": "Feature"
         }
        },
        "yaxis": {
         "anchor": "x",
         "domain": [
          0,
          1
         ],
         "title": {
          "text": "Importance"
         }
        }
       }
      },
      "text/html": [
       "<div>                            <div id=\"23d2b5d0-8dcf-4e3d-887b-f91ecd97b6ed\" class=\"plotly-graph-div\" style=\"height:525px; width:100%;\"></div>            <script type=\"text/javascript\">                require([\"plotly\"], function(Plotly) {                    window.PLOTLYENV=window.PLOTLYENV || {};                                    if (document.getElementById(\"23d2b5d0-8dcf-4e3d-887b-f91ecd97b6ed\")) {                    Plotly.newPlot(                        \"23d2b5d0-8dcf-4e3d-887b-f91ecd97b6ed\",                        [{\"alignmentgroup\":\"True\",\"hovertemplate\":\"Feature=%{x}<br>Importance=%{marker.color}<extra></extra>\",\"legendgroup\":\"\",\"marker\":{\"color\":[-1.0401680255509733,0.6759711200385882,1.053930467442224,1.7559192052170853,-0.5095933609676906,-1.3048516916087582,-1.0865440894204192,-0.6403447325972863,1.0649034886672748,0.8752542059148165,1.6893345915803857,1.8662520985547228,0.46903969916083876,-1.2381919289610752,-0.04979335771583609,-0.9191382577137943,2.0807130531347675,-0.6056333761741918,-0.4076270035388156,0.4278561540223532,0.22653509404358865,1.009236121492984,-1.0233951890508737,2.6121450299825266,0.31294426138453957,0.49548793535759494,0.2631852393447791,-0.10843595741314759,0.14718016607884193,-0.2410629499699802,0.035432995163417996,-0.3705068893869013,-1.2071217677051336,0.6022633133179366,-0.08018385855836133,1.6032207654789608,1.276163347427882,0.9397058739687034,-0.8586461133583786,-0.9842767232346826,-0.08150416990755023,-1.3496471259332385,0.3952572663025587,-1.2165159326990054,1.053686588934594,2.653272341381275,0.15001771140261733],\"coloraxis\":\"coloraxis\",\"pattern\":{\"shape\":\"\"}},\"name\":\"\",\"offsetgroup\":\"\",\"orientation\":\"v\",\"showlegend\":false,\"textposition\":\"auto\",\"type\":\"bar\",\"x\":[\"GLY14:ROF\",\"CH_CA0:ROF\",\"RBD__2__GLY11\",\"RBD__2__GLY35\",\"GLY4:ROF\",\"GLY0:ROF\",\"GLY11:ROF\",\"GLY24:ROF\",\"GLY35:ROF\",\"GLY13:RMSD\",\"RBD__2__GLY14\",\"RBD__2__GLY24\",\"backbone0:RMSD\",\"RBD__2__GLY1\",\"GLY1:RMSD\",\"RBD__2__GLY13\",\"RBD__2__GLY51\",\"backbone0:ROF\",\"GLY0:RMSD\",\"GLY12:RMSD\",\"RBD__2__GLY4\",\"CH_CA0:RMSD\",\"RBD__2__GLY2\",\"RBD__2__CH_CA0\",\"GLY12:ROF\",\"GLY35:RMSD\",\"GLY44:RMSD\",\"GLY14:RMSD\",\"GLY1:ROF\",\"GLY11:RMSD\",\"GLY23:RMSD\",\"GLY4:RMSD\",\"RBD__2__GLY3\",\"GLY2:ROF\",\"GLY51:ROF\",\"RBD__2__GLY44\",\"GLY13:ROF\",\"GLY24:RMSD\",\"RBD__2__GLY12\",\"GLY3:ROF\",\"GLY44:ROF\",\"RBD__2__GLY23\",\"GLY51:RMSD\",\"RBD__2__GLY0\",\"RBD_CA0:ROF\",\"RBD__2__backbone0\",\"GLY23:ROF\"],\"xaxis\":\"x\",\"y\":[-1.0401680255509733,0.6759711200385882,1.053930467442224,1.7559192052170853,-0.5095933609676906,-1.3048516916087582,-1.0865440894204192,-0.6403447325972863,1.0649034886672748,0.8752542059148165,1.6893345915803857,1.8662520985547228,0.46903969916083876,-1.2381919289610752,-0.04979335771583609,-0.9191382577137943,2.0807130531347675,-0.6056333761741918,-0.4076270035388156,0.4278561540223532,0.22653509404358865,1.009236121492984,-1.0233951890508737,2.6121450299825266,0.31294426138453957,0.49548793535759494,0.2631852393447791,-0.10843595741314759,0.14718016607884193,-0.2410629499699802,0.035432995163417996,-0.3705068893869013,-1.2071217677051336,0.6022633133179366,-0.08018385855836133,1.6032207654789608,1.276163347427882,0.9397058739687034,-0.8586461133583786,-0.9842767232346826,-0.08150416990755023,-1.3496471259332385,0.3952572663025587,-1.2165159326990054,1.053686588934594,2.653272341381275,0.15001771140261733],\"yaxis\":\"y\"}],                        {\"barmode\":\"relative\",\"coloraxis\":{\"colorbar\":{\"title\":{\"text\":\"Importance\"}},\"colorscale\":[[0.0,\"#0d0887\"],[0.1111111111111111,\"#46039f\"],[0.2222222222222222,\"#7201a8\"],[0.3333333333333333,\"#9c179e\"],[0.4444444444444444,\"#bd3786\"],[0.5555555555555556,\"#d8576b\"],[0.6666666666666666,\"#ed7953\"],[0.7777777777777778,\"#fb9f3a\"],[0.8888888888888888,\"#fdca26\"],[1.0,\"#f0f921\"]]},\"legend\":{\"tracegroupgap\":0},\"margin\":{\"t\":60},\"template\":{\"data\":{\"bar\":[{\"error_x\":{\"color\":\"#2a3f5f\"},\"error_y\":{\"color\":\"#2a3f5f\"},\"marker\":{\"line\":{\"color\":\"#E5ECF6\",\"width\":0.5},\"pattern\":{\"fillmode\":\"overlay\",\"size\":10,\"solidity\":0.2}},\"type\":\"bar\"}],\"barpolar\":[{\"marker\":{\"line\":{\"color\":\"#E5ECF6\",\"width\":0.5},\"pattern\":{\"fillmode\":\"overlay\",\"size\":10,\"solidity\":0.2}},\"type\":\"barpolar\"}],\"carpet\":[{\"aaxis\":{\"endlinecolor\":\"#2a3f5f\",\"gridcolor\":\"white\",\"linecolor\":\"white\",\"minorgridcolor\":\"white\",\"startlinecolor\":\"#2a3f5f\"},\"baxis\":{\"endlinecolor\":\"#2a3f5f\",\"gridcolor\":\"white\",\"linecolor\":\"white\",\"minorgridcolor\":\"white\",\"startlinecolor\":\"#2a3f5f\"},\"type\":\"carpet\"}],\"choropleth\":[{\"colorbar\":{\"outlinewidth\":0,\"ticks\":\"\"},\"type\":\"choropleth\"}],\"contour\":[{\"colorbar\":{\"outlinewidth\":0,\"ticks\":\"\"},\"colorscale\":[[0.0,\"#0d0887\"],[0.1111111111111111,\"#46039f\"],[0.2222222222222222,\"#7201a8\"],[0.3333333333333333,\"#9c179e\"],[0.4444444444444444,\"#bd3786\"],[0.5555555555555556,\"#d8576b\"],[0.6666666666666666,\"#ed7953\"],[0.7777777777777778,\"#fb9f3a\"],[0.8888888888888888,\"#fdca26\"],[1.0,\"#f0f921\"]],\"type\":\"contour\"}],\"contourcarpet\":[{\"colorbar\":{\"outlinewidth\":0,\"ticks\":\"\"},\"type\":\"contourcarpet\"}],\"heatmap\":[{\"colorbar\":{\"outlinewidth\":0,\"ticks\":\"\"},\"colorscale\":[[0.0,\"#0d0887\"],[0.1111111111111111,\"#46039f\"],[0.2222222222222222,\"#7201a8\"],[0.3333333333333333,\"#9c179e\"],[0.4444444444444444,\"#bd3786\"],[0.5555555555555556,\"#d8576b\"],[0.6666666666666666,\"#ed7953\"],[0.7777777777777778,\"#fb9f3a\"],[0.8888888888888888,\"#fdca26\"],[1.0,\"#f0f921\"]],\"type\":\"heatmap\"}],\"heatmapgl\":[{\"colorbar\":{\"outlinewidth\":0,\"ticks\":\"\"},\"colorscale\":[[0.0,\"#0d0887\"],[0.1111111111111111,\"#46039f\"],[0.2222222222222222,\"#7201a8\"],[0.3333333333333333,\"#9c179e\"],[0.4444444444444444,\"#bd3786\"],[0.5555555555555556,\"#d8576b\"],[0.6666666666666666,\"#ed7953\"],[0.7777777777777778,\"#fb9f3a\"],[0.8888888888888888,\"#fdca26\"],[1.0,\"#f0f921\"]],\"type\":\"heatmapgl\"}],\"histogram\":[{\"marker\":{\"pattern\":{\"fillmode\":\"overlay\",\"size\":10,\"solidity\":0.2}},\"type\":\"histogram\"}],\"histogram2d\":[{\"colorbar\":{\"outlinewidth\":0,\"ticks\":\"\"},\"colorscale\":[[0.0,\"#0d0887\"],[0.1111111111111111,\"#46039f\"],[0.2222222222222222,\"#7201a8\"],[0.3333333333333333,\"#9c179e\"],[0.4444444444444444,\"#bd3786\"],[0.5555555555555556,\"#d8576b\"],[0.6666666666666666,\"#ed7953\"],[0.7777777777777778,\"#fb9f3a\"],[0.8888888888888888,\"#fdca26\"],[1.0,\"#f0f921\"]],\"type\":\"histogram2d\"}],\"histogram2dcontour\":[{\"colorbar\":{\"outlinewidth\":0,\"ticks\":\"\"},\"colorscale\":[[0.0,\"#0d0887\"],[0.1111111111111111,\"#46039f\"],[0.2222222222222222,\"#7201a8\"],[0.3333333333333333,\"#9c179e\"],[0.4444444444444444,\"#bd3786\"],[0.5555555555555556,\"#d8576b\"],[0.6666666666666666,\"#ed7953\"],[0.7777777777777778,\"#fb9f3a\"],[0.8888888888888888,\"#fdca26\"],[1.0,\"#f0f921\"]],\"type\":\"histogram2dcontour\"}],\"mesh3d\":[{\"colorbar\":{\"outlinewidth\":0,\"ticks\":\"\"},\"type\":\"mesh3d\"}],\"parcoords\":[{\"line\":{\"colorbar\":{\"outlinewidth\":0,\"ticks\":\"\"}},\"type\":\"parcoords\"}],\"pie\":[{\"automargin\":true,\"type\":\"pie\"}],\"scatter\":[{\"marker\":{\"colorbar\":{\"outlinewidth\":0,\"ticks\":\"\"}},\"type\":\"scatter\"}],\"scatter3d\":[{\"line\":{\"colorbar\":{\"outlinewidth\":0,\"ticks\":\"\"}},\"marker\":{\"colorbar\":{\"outlinewidth\":0,\"ticks\":\"\"}},\"type\":\"scatter3d\"}],\"scattercarpet\":[{\"marker\":{\"colorbar\":{\"outlinewidth\":0,\"ticks\":\"\"}},\"type\":\"scattercarpet\"}],\"scattergeo\":[{\"marker\":{\"colorbar\":{\"outlinewidth\":0,\"ticks\":\"\"}},\"type\":\"scattergeo\"}],\"scattergl\":[{\"marker\":{\"colorbar\":{\"outlinewidth\":0,\"ticks\":\"\"}},\"type\":\"scattergl\"}],\"scattermapbox\":[{\"marker\":{\"colorbar\":{\"outlinewidth\":0,\"ticks\":\"\"}},\"type\":\"scattermapbox\"}],\"scatterpolar\":[{\"marker\":{\"colorbar\":{\"outlinewidth\":0,\"ticks\":\"\"}},\"type\":\"scatterpolar\"}],\"scatterpolargl\":[{\"marker\":{\"colorbar\":{\"outlinewidth\":0,\"ticks\":\"\"}},\"type\":\"scatterpolargl\"}],\"scatterternary\":[{\"marker\":{\"colorbar\":{\"outlinewidth\":0,\"ticks\":\"\"}},\"type\":\"scatterternary\"}],\"surface\":[{\"colorbar\":{\"outlinewidth\":0,\"ticks\":\"\"},\"colorscale\":[[0.0,\"#0d0887\"],[0.1111111111111111,\"#46039f\"],[0.2222222222222222,\"#7201a8\"],[0.3333333333333333,\"#9c179e\"],[0.4444444444444444,\"#bd3786\"],[0.5555555555555556,\"#d8576b\"],[0.6666666666666666,\"#ed7953\"],[0.7777777777777778,\"#fb9f3a\"],[0.8888888888888888,\"#fdca26\"],[1.0,\"#f0f921\"]],\"type\":\"surface\"}],\"table\":[{\"cells\":{\"fill\":{\"color\":\"#EBF0F8\"},\"line\":{\"color\":\"white\"}},\"header\":{\"fill\":{\"color\":\"#C8D4E3\"},\"line\":{\"color\":\"white\"}},\"type\":\"table\"}]},\"layout\":{\"annotationdefaults\":{\"arrowcolor\":\"#2a3f5f\",\"arrowhead\":0,\"arrowwidth\":1},\"autotypenumbers\":\"strict\",\"coloraxis\":{\"colorbar\":{\"outlinewidth\":0,\"ticks\":\"\"}},\"colorscale\":{\"diverging\":[[0,\"#8e0152\"],[0.1,\"#c51b7d\"],[0.2,\"#de77ae\"],[0.3,\"#f1b6da\"],[0.4,\"#fde0ef\"],[0.5,\"#f7f7f7\"],[0.6,\"#e6f5d0\"],[0.7,\"#b8e186\"],[0.8,\"#7fbc41\"],[0.9,\"#4d9221\"],[1,\"#276419\"]],\"sequential\":[[0.0,\"#0d0887\"],[0.1111111111111111,\"#46039f\"],[0.2222222222222222,\"#7201a8\"],[0.3333333333333333,\"#9c179e\"],[0.4444444444444444,\"#bd3786\"],[0.5555555555555556,\"#d8576b\"],[0.6666666666666666,\"#ed7953\"],[0.7777777777777778,\"#fb9f3a\"],[0.8888888888888888,\"#fdca26\"],[1.0,\"#f0f921\"]],\"sequentialminus\":[[0.0,\"#0d0887\"],[0.1111111111111111,\"#46039f\"],[0.2222222222222222,\"#7201a8\"],[0.3333333333333333,\"#9c179e\"],[0.4444444444444444,\"#bd3786\"],[0.5555555555555556,\"#d8576b\"],[0.6666666666666666,\"#ed7953\"],[0.7777777777777778,\"#fb9f3a\"],[0.8888888888888888,\"#fdca26\"],[1.0,\"#f0f921\"]]},\"colorway\":[\"#636efa\",\"#EF553B\",\"#00cc96\",\"#ab63fa\",\"#FFA15A\",\"#19d3f3\",\"#FF6692\",\"#B6E880\",\"#FF97FF\",\"#FECB52\"],\"font\":{\"color\":\"#2a3f5f\"},\"geo\":{\"bgcolor\":\"white\",\"lakecolor\":\"white\",\"landcolor\":\"#E5ECF6\",\"showlakes\":true,\"showland\":true,\"subunitcolor\":\"white\"},\"hoverlabel\":{\"align\":\"left\"},\"hovermode\":\"closest\",\"mapbox\":{\"style\":\"light\"},\"paper_bgcolor\":\"white\",\"plot_bgcolor\":\"#E5ECF6\",\"polar\":{\"angularaxis\":{\"gridcolor\":\"white\",\"linecolor\":\"white\",\"ticks\":\"\"},\"bgcolor\":\"#E5ECF6\",\"radialaxis\":{\"gridcolor\":\"white\",\"linecolor\":\"white\",\"ticks\":\"\"}},\"scene\":{\"xaxis\":{\"backgroundcolor\":\"#E5ECF6\",\"gridcolor\":\"white\",\"gridwidth\":2,\"linecolor\":\"white\",\"showbackground\":true,\"ticks\":\"\",\"zerolinecolor\":\"white\"},\"yaxis\":{\"backgroundcolor\":\"#E5ECF6\",\"gridcolor\":\"white\",\"gridwidth\":2,\"linecolor\":\"white\",\"showbackground\":true,\"ticks\":\"\",\"zerolinecolor\":\"white\"},\"zaxis\":{\"backgroundcolor\":\"#E5ECF6\",\"gridcolor\":\"white\",\"gridwidth\":2,\"linecolor\":\"white\",\"showbackground\":true,\"ticks\":\"\",\"zerolinecolor\":\"white\"}},\"shapedefaults\":{\"line\":{\"color\":\"#2a3f5f\"}},\"ternary\":{\"aaxis\":{\"gridcolor\":\"white\",\"linecolor\":\"white\",\"ticks\":\"\"},\"baxis\":{\"gridcolor\":\"white\",\"linecolor\":\"white\",\"ticks\":\"\"},\"bgcolor\":\"#E5ECF6\",\"caxis\":{\"gridcolor\":\"white\",\"linecolor\":\"white\",\"ticks\":\"\"}},\"title\":{\"x\":0.05},\"xaxis\":{\"automargin\":true,\"gridcolor\":\"white\",\"linecolor\":\"white\",\"ticks\":\"\",\"title\":{\"standoff\":15},\"zerolinecolor\":\"white\",\"zerolinewidth\":2},\"yaxis\":{\"automargin\":true,\"gridcolor\":\"white\",\"linecolor\":\"white\",\"ticks\":\"\",\"title\":{\"standoff\":15},\"zerolinecolor\":\"white\",\"zerolinewidth\":2}}},\"xaxis\":{\"anchor\":\"y\",\"categoryorder\":\"total ascending\",\"domain\":[0.0,1.0],\"title\":{\"text\":\"Feature\"}},\"yaxis\":{\"anchor\":\"x\",\"domain\":[0.0,1.0],\"title\":{\"text\":\"Importance\"}}},                        {\"responsive\": true}                    ).then(function(){\n",
       "                            \n",
       "var gd = document.getElementById('23d2b5d0-8dcf-4e3d-887b-f91ecd97b6ed');\n",
       "var x = new MutationObserver(function (mutations, observer) {{\n",
       "        var display = window.getComputedStyle(gd).display;\n",
       "        if (!display || display === 'none') {{\n",
       "            console.log([gd, 'removed!']);\n",
       "            Plotly.purge(gd);\n",
       "            observer.disconnect();\n",
       "        }}\n",
       "}});\n",
       "\n",
       "// Listen for the removal of the full notebook cells\n",
       "var notebookContainer = gd.closest('#notebook-container');\n",
       "if (notebookContainer) {{\n",
       "    x.observe(notebookContainer, {childList: true});\n",
       "}}\n",
       "\n",
       "// Listen for the clearing of the current output cell\n",
       "var outputEl = gd.closest('.output');\n",
       "if (outputEl) {{\n",
       "    x.observe(outputEl, {childList: true});\n",
       "}}\n",
       "\n",
       "                        })                };                });            </script>        </div>"
      ]
     },
     "metadata": {},
     "output_type": "display_data"
    }
   ],
   "source": [
    "sgd_clf.fit(train_X_prepared,train_labels)\n",
    "y_test_pred = sgd_clf.predict(test_X_prepared)\n",
    "print(f' Test precison : {precision_score(test_labels, y_test_pred)}, Test recall {recall_score(test_labels, y_test_pred)}')\n",
    "px.bar(x=train_X.columns.to_list(),y=sgd_clf.coef_[0],color=sgd_clf.coef_[0],labels={'x':'Feature','y':'Importance','color':'Importance'}).update_xaxes(categoryorder='total ascending')"
   ]
  },
  {
   "cell_type": "code",
   "execution_count": null,
   "id": "7e65d203",
   "metadata": {},
   "outputs": [],
   "source": []
  },
  {
   "cell_type": "code",
   "execution_count": 54,
   "id": "9b13166b",
   "metadata": {
    "scrolled": false
   },
   "outputs": [
    {
     "ename": "ValueError",
     "evalue": "'RBD__2__GLY40' is not in list",
     "output_type": "error",
     "traceback": [
      "\u001b[0;31m---------------------------------------------------------------------------\u001b[0m",
      "\u001b[0;31mValueError\u001b[0m                                Traceback (most recent call last)",
      "\u001b[0;32m/tmp/ipykernel_31592/2347671.py\u001b[0m in \u001b[0;36m<module>\u001b[0;34m\u001b[0m\n\u001b[0;32m----> 1\u001b[0;31m \u001b[0msgd_clf\u001b[0m\u001b[0;34m.\u001b[0m\u001b[0mcoef_\u001b[0m\u001b[0;34m[\u001b[0m\u001b[0;36m0\u001b[0m\u001b[0;34m]\u001b[0m\u001b[0;34m[\u001b[0m\u001b[0mtrain_X\u001b[0m\u001b[0;34m.\u001b[0m\u001b[0mcolumns\u001b[0m\u001b[0;34m.\u001b[0m\u001b[0mto_list\u001b[0m\u001b[0;34m(\u001b[0m\u001b[0;34m)\u001b[0m\u001b[0;34m.\u001b[0m\u001b[0mindex\u001b[0m\u001b[0;34m(\u001b[0m\u001b[0;34m'RBD__2__GLY40'\u001b[0m\u001b[0;34m)\u001b[0m\u001b[0;34m]\u001b[0m\u001b[0;34m\u001b[0m\u001b[0;34m\u001b[0m\u001b[0m\n\u001b[0m",
      "\u001b[0;31mValueError\u001b[0m: 'RBD__2__GLY40' is not in list"
     ]
    }
   ],
   "source": [
    "sgd_clf.coef_[0][train_X.columns.to_list().index('RBD__2__GLY40')]"
   ]
  },
  {
   "cell_type": "code",
   "execution_count": null,
   "id": "50494c6e",
   "metadata": {},
   "outputs": [],
   "source": [
    "train_X.columns.to_list().index('RBD__2__backbone0')"
   ]
  },
  {
   "cell_type": "code",
   "execution_count": null,
   "id": "f05e6a18",
   "metadata": {},
   "outputs": [],
   "source": [
    "train_X.keys()"
   ]
  },
  {
   "cell_type": "code",
   "execution_count": 60,
   "id": "f16d96be",
   "metadata": {},
   "outputs": [
    {
     "data": {
      "image/png": "[encoded data removed]",
      "text/plain": [
       "<Figure size 2160x1296 with 14 Axes>"
      ]
     },
     "metadata": {
      "needs_background": "light"
     },
     "output_type": "display_data"
    }
   ],
   "source": [
    "import matplotlib.pyplot as plt\n",
    "\n",
    "feat = 'RBD__2__GLY51'\n",
    "def overlapping_hist(open_df,closed_df,feat):\n",
    "    open_df[feat].hist(bins=50)\n",
    "    closed_df[feat].hist(bins=50)\n",
    "    mutant_df[feat].hist(bins=50)\n",
    "    plt.legend(['Open','Closed','Mutant (open)'])\n",
    "    plt.title(feat)\n",
    "    if 'RBD__2__' in feat:\n",
    "        plt.xlabel('nm')\n",
    "\n",
    "feats = list(np.unique([x for x in train_set.keys().to_list() if 'RBD__2__GLY' in x]))        \n",
    "#feats = ['RBD__2__GLY51','RBD__2__GLY24','RBD__2__GLY14','RBD__2__GLY3']   \n",
    "#feats = ['GLY22:ROF','RBD__2__CH_CA0','RBD__2__backbone0','RBD__2__GLY32','RBD__2__GLY51']\n",
    "plt.figure(figsize=(30,18))\n",
    "for i in range(len(feats)):\n",
    "    plt.subplot(3,5,i+1)\n",
    "    overlapping_hist(open_df,closed_df,feats[i])"
   ]
  },
  {
   "cell_type": "code",
   "execution_count": null,
   "id": "dba966c8-5714-40b2-aaaa-f59c22f260dd",
   "metadata": {},
   "outputs": [],
   "source": [
    "train_X.hist(bins=50, figsize=(20,15))"
   ]
  },
  {
   "cell_type": "code",
   "execution_count": null,
   "id": "1d867c48",
   "metadata": {},
   "outputs": [],
   "source": []
  }
 ],
 "metadata": {
  "kernelspec": {
   "display_name": "Python 3 (ipykernel)",
   "language": "python",
   "name": "python3"
  },
  "language_info": {
   "codemirror_mode": {
    "name": "ipython",
    "version": 3
   },
   "file_extension": ".py",
   "mimetype": "text/x-python",
   "name": "python",
   "nbconvert_exporter": "python",
   "pygments_lexer": "ipython3",
   "version": "3.9.7"
  }
 },
 "nbformat": 4,
 "nbformat_minor": 5
}
