{
 "cells": [
  {
   "cell_type": "code",
   "execution_count": 62,
   "id": "a02ed21b-a28d-4bf9-98c1-b3539408f47e",
   "metadata": {},
   "outputs": [],
   "source": [
    "# Python ≥3.5 is required\n",
    "import sys\n",
    "assert sys.version_info >= (3, 5)\n",
    "\n",
    "# Is this notebook running on Colab or Kaggle?\n",
    "IS_COLAB = \"google.colab\" in sys.modules\n",
    "IS_KAGGLE = \"kaggle_secrets\" in sys.modules\n",
    "\n",
    "# Scikit-Learn ≥0.20 is required\n",
    "import sklearn\n",
    "assert sklearn.__version__ >= \"0.20\"\n",
    "\n",
    "# Common imports\n",
    "import numpy as np\n",
    "import os\n",
    "import pandas as pd\n",
    "\n",
    "# to make this notebook's output stable across runs\n",
    "np.random.seed(42)\n",
    "\n",
    "# To plot pretty figures\n",
    "%matplotlib inline\n",
    "import matplotlib as mpl\n",
    "import matplotlib.pyplot as plt\n",
    "mpl.rc('axes', labelsize=14)\n",
    "mpl.rc('xtick', labelsize=12)\n",
    "mpl.rc('ytick', labelsize=12)\n",
    "\n",
    "# Where to save the figures\n",
    "PROJECT_ROOT_DIR = \".\"\n",
    "CHAPTER_ID = \"classification\"\n",
    "IMAGES_PATH = os.path.join(PROJECT_ROOT_DIR, \"images\", CHAPTER_ID)\n",
    "os.makedirs(IMAGES_PATH, exist_ok=True)\n",
    "\n",
    "def save_fig(fig_id, tight_layout=True, fig_extension=\"png\", resolution=300):\n",
    "    path = os.path.join(IMAGES_PATH, fig_id + \".\" + fig_extension)\n",
    "    print(\"Saving figure\", fig_id)\n",
    "    if tight_layout:\n",
    "        plt.tight_layout()\n",
    "    plt.savefig(path, format=fig_extension, dpi=resolution)"
   ]
  },
  {
   "cell_type": "code",
   "execution_count": 63,
   "id": "966b67ca-eb92-49f2-b86d-0a3999c00a70",
   "metadata": {},
   "outputs": [],
   "source": [
    "fname = '/net/jam-amaro-shared/dse_project/Spike_Dataset/TRAJECTORIES_spike_open_prot_glyc_amarolab/results/FinalExtractedFeature_open.csv'\n",
    "open_df = pd.read_csv(fname).assign(label = 1).iloc[:,1:]"
   ]
  },
  {
   "cell_type": "code",
   "execution_count": 64,
   "id": "b931a59c-d05a-48cc-9f8d-0de89c7155b2",
   "metadata": {},
   "outputs": [
    {
     "name": "stdout",
     "output_type": "stream",
     "text": [
      "open dcd size : (42222, 221)\n"
     ]
    },
    {
     "data": {
      "text/html": [
       "<div>\n",
       "<style scoped>\n",
       "    .dataframe tbody tr th:only-of-type {\n",
       "        vertical-align: middle;\n",
       "    }\n",
       "\n",
       "    .dataframe tbody tr th {\n",
       "        vertical-align: top;\n",
       "    }\n",
       "\n",
       "    .dataframe thead th {\n",
       "        text-align: right;\n",
       "    }\n",
       "</style>\n",
       "<table border=\"1\" class=\"dataframe\">\n",
       "  <thead>\n",
       "    <tr style=\"text-align: right;\">\n",
       "      <th></th>\n",
       "      <th>Frame Num</th>\n",
       "      <th>frame</th>\n",
       "      <th>RBD_CA0:ROF</th>\n",
       "      <th>RBD_CA0:RMSD</th>\n",
       "      <th>RBD__2__CH_CA0</th>\n",
       "      <th>CH_CA0:ROF</th>\n",
       "      <th>CH_CA0:RMSD</th>\n",
       "      <th>RBD__2__GLY0</th>\n",
       "      <th>GLY0:ROF</th>\n",
       "      <th>GLY0:RMSD</th>\n",
       "      <th>...</th>\n",
       "      <th>RBD__2__GLY8</th>\n",
       "      <th>GLY8:ROF</th>\n",
       "      <th>GLY8:RMSD</th>\n",
       "      <th>RBD__2__GLY9</th>\n",
       "      <th>GLY9:ROF</th>\n",
       "      <th>GLY9:RMSD</th>\n",
       "      <th>RBD__2__backbone0</th>\n",
       "      <th>backbone0:ROF</th>\n",
       "      <th>backbone0:RMSD</th>\n",
       "      <th>label</th>\n",
       "    </tr>\n",
       "  </thead>\n",
       "  <tbody>\n",
       "    <tr>\n",
       "      <th>0</th>\n",
       "      <td>0</td>\n",
       "      <td>frame_0</td>\n",
       "      <td>2.146310</td>\n",
       "      <td>0.135435</td>\n",
       "      <td>8.696114</td>\n",
       "      <td>2.430049</td>\n",
       "      <td>0.073119</td>\n",
       "      <td>6.597967</td>\n",
       "      <td>1.519505</td>\n",
       "      <td>0.309062</td>\n",
       "      <td>...</td>\n",
       "      <td>17.516027</td>\n",
       "      <td>2.425352</td>\n",
       "      <td>0.294207</td>\n",
       "      <td>20.553479</td>\n",
       "      <td>1.791446</td>\n",
       "      <td>0.278311</td>\n",
       "      <td>7.953154</td>\n",
       "      <td>7.455652</td>\n",
       "      <td>0.138682</td>\n",
       "      <td>1</td>\n",
       "    </tr>\n",
       "    <tr>\n",
       "      <th>1</th>\n",
       "      <td>1</td>\n",
       "      <td>frame_1</td>\n",
       "      <td>2.141260</td>\n",
       "      <td>0.170498</td>\n",
       "      <td>8.610321</td>\n",
       "      <td>2.452126</td>\n",
       "      <td>0.070816</td>\n",
       "      <td>6.323298</td>\n",
       "      <td>1.377560</td>\n",
       "      <td>0.281506</td>\n",
       "      <td>...</td>\n",
       "      <td>17.493029</td>\n",
       "      <td>2.410283</td>\n",
       "      <td>0.346432</td>\n",
       "      <td>20.551318</td>\n",
       "      <td>1.787035</td>\n",
       "      <td>0.402983</td>\n",
       "      <td>7.894130</td>\n",
       "      <td>7.443351</td>\n",
       "      <td>0.165635</td>\n",
       "      <td>1</td>\n",
       "    </tr>\n",
       "    <tr>\n",
       "      <th>2</th>\n",
       "      <td>2</td>\n",
       "      <td>frame_2</td>\n",
       "      <td>2.131270</td>\n",
       "      <td>0.153697</td>\n",
       "      <td>8.592710</td>\n",
       "      <td>2.430950</td>\n",
       "      <td>0.079461</td>\n",
       "      <td>6.274642</td>\n",
       "      <td>1.494150</td>\n",
       "      <td>0.237929</td>\n",
       "      <td>...</td>\n",
       "      <td>17.299496</td>\n",
       "      <td>2.297616</td>\n",
       "      <td>0.433491</td>\n",
       "      <td>20.409004</td>\n",
       "      <td>1.919100</td>\n",
       "      <td>0.455504</td>\n",
       "      <td>7.841270</td>\n",
       "      <td>7.439311</td>\n",
       "      <td>0.179153</td>\n",
       "      <td>1</td>\n",
       "    </tr>\n",
       "    <tr>\n",
       "      <th>3</th>\n",
       "      <td>3</td>\n",
       "      <td>frame_3</td>\n",
       "      <td>2.126830</td>\n",
       "      <td>0.181805</td>\n",
       "      <td>8.590594</td>\n",
       "      <td>2.439935</td>\n",
       "      <td>0.073912</td>\n",
       "      <td>6.287297</td>\n",
       "      <td>1.520262</td>\n",
       "      <td>0.246225</td>\n",
       "      <td>...</td>\n",
       "      <td>17.104382</td>\n",
       "      <td>2.345125</td>\n",
       "      <td>0.363078</td>\n",
       "      <td>20.299202</td>\n",
       "      <td>1.932984</td>\n",
       "      <td>0.360417</td>\n",
       "      <td>7.843353</td>\n",
       "      <td>7.431243</td>\n",
       "      <td>0.204023</td>\n",
       "      <td>1</td>\n",
       "    </tr>\n",
       "    <tr>\n",
       "      <th>4</th>\n",
       "      <td>4</td>\n",
       "      <td>frame_4</td>\n",
       "      <td>2.132262</td>\n",
       "      <td>0.173935</td>\n",
       "      <td>8.585232</td>\n",
       "      <td>2.446247</td>\n",
       "      <td>0.075612</td>\n",
       "      <td>6.173709</td>\n",
       "      <td>1.459852</td>\n",
       "      <td>0.213698</td>\n",
       "      <td>...</td>\n",
       "      <td>17.266876</td>\n",
       "      <td>2.344855</td>\n",
       "      <td>0.299472</td>\n",
       "      <td>20.380623</td>\n",
       "      <td>1.847637</td>\n",
       "      <td>0.358222</td>\n",
       "      <td>7.848105</td>\n",
       "      <td>7.426812</td>\n",
       "      <td>0.220511</td>\n",
       "      <td>1</td>\n",
       "    </tr>\n",
       "  </tbody>\n",
       "</table>\n",
       "<p>5 rows × 221 columns</p>\n",
       "</div>"
      ],
      "text/plain": [
       "   Frame Num    frame  RBD_CA0:ROF  RBD_CA0:RMSD  RBD__2__CH_CA0  CH_CA0:ROF  \\\n",
       "0          0  frame_0     2.146310      0.135435        8.696114    2.430049   \n",
       "1          1  frame_1     2.141260      0.170498        8.610321    2.452126   \n",
       "2          2  frame_2     2.131270      0.153697        8.592710    2.430950   \n",
       "3          3  frame_3     2.126830      0.181805        8.590594    2.439935   \n",
       "4          4  frame_4     2.132262      0.173935        8.585232    2.446247   \n",
       "\n",
       "   CH_CA0:RMSD  RBD__2__GLY0  GLY0:ROF  GLY0:RMSD  ...  RBD__2__GLY8  \\\n",
       "0     0.073119      6.597967  1.519505   0.309062  ...     17.516027   \n",
       "1     0.070816      6.323298  1.377560   0.281506  ...     17.493029   \n",
       "2     0.079461      6.274642  1.494150   0.237929  ...     17.299496   \n",
       "3     0.073912      6.287297  1.520262   0.246225  ...     17.104382   \n",
       "4     0.075612      6.173709  1.459852   0.213698  ...     17.266876   \n",
       "\n",
       "   GLY8:ROF  GLY8:RMSD  RBD__2__GLY9  GLY9:ROF  GLY9:RMSD  RBD__2__backbone0  \\\n",
       "0  2.425352   0.294207     20.553479  1.791446   0.278311           7.953154   \n",
       "1  2.410283   0.346432     20.551318  1.787035   0.402983           7.894130   \n",
       "2  2.297616   0.433491     20.409004  1.919100   0.455504           7.841270   \n",
       "3  2.345125   0.363078     20.299202  1.932984   0.360417           7.843353   \n",
       "4  2.344855   0.299472     20.380623  1.847637   0.358222           7.848105   \n",
       "\n",
       "   backbone0:ROF  backbone0:RMSD  label  \n",
       "0       7.455652        0.138682      1  \n",
       "1       7.443351        0.165635      1  \n",
       "2       7.439311        0.179153      1  \n",
       "3       7.431243        0.204023      1  \n",
       "4       7.426812        0.220511      1  \n",
       "\n",
       "[5 rows x 221 columns]"
      ]
     },
     "execution_count": 64,
     "metadata": {},
     "output_type": "execute_result"
    }
   ],
   "source": [
    "print(f'open dcd size : {open_df.shape}')\n",
    "open_df.head()"
   ]
  },
  {
   "cell_type": "code",
   "execution_count": 65,
   "id": "d25344c6",
   "metadata": {},
   "outputs": [],
   "source": [
    "def restrict_RBD_window(df,nm):\n",
    "    '''Function to drop features of dataframe that correspond to glycans which are outside a given RBD neighborhood (in nm)'''\n",
    "    #Get list of glycans\n",
    "    glycans = list(np.unique([x.replace('RBD__2__','') for x in df.keys().to_list() if 'RBD__2__GLY' in x]))\n",
    "    \n",
    "    for g in glycans:\n",
    "        if df['RBD__2__' + g].mean() > nm:\n",
    "            df.drop(['RBD__2__'+g,g+':ROF',g+':RMSD'],axis=1,inplace=True)\n",
    "            \n",
    "    return df\n",
    "    #for each glycan, if avg RBD__2__GLY distance > nm, drop that feature and other related features"
   ]
  },
  {
   "cell_type": "code",
   "execution_count": 66,
   "id": "1ec8c9bc-10f4-4dc7-9cf4-f75b59e11b75",
   "metadata": {},
   "outputs": [],
   "source": [
    "fname = '/net/jam-amaro-shared/dse_project/Spike_Dataset/TRAJECTORIES_spike_closed_prot_glyc_amarolab/results/FinalExtractedFeature_closed.csv'\n",
    "closed_df = pd.read_csv(fname).assign(label = 0).iloc[:,1:]"
   ]
  },
  {
   "cell_type": "code",
   "execution_count": 67,
   "id": "d07d649b-8fba-414a-897c-d570f09f0655",
   "metadata": {
    "scrolled": true
   },
   "outputs": [
    {
     "name": "stdout",
     "output_type": "stream",
     "text": [
      "closed dcd size : (17314, 221)\n"
     ]
    },
    {
     "data": {
      "text/html": [
       "<div>\n",
       "<style scoped>\n",
       "    .dataframe tbody tr th:only-of-type {\n",
       "        vertical-align: middle;\n",
       "    }\n",
       "\n",
       "    .dataframe tbody tr th {\n",
       "        vertical-align: top;\n",
       "    }\n",
       "\n",
       "    .dataframe thead th {\n",
       "        text-align: right;\n",
       "    }\n",
       "</style>\n",
       "<table border=\"1\" class=\"dataframe\">\n",
       "  <thead>\n",
       "    <tr style=\"text-align: right;\">\n",
       "      <th></th>\n",
       "      <th>Frame Num</th>\n",
       "      <th>frame</th>\n",
       "      <th>RBD_CA0:ROF</th>\n",
       "      <th>RBD_CA0:RMSD</th>\n",
       "      <th>RBD__2__CH_CA0</th>\n",
       "      <th>CH_CA0:ROF</th>\n",
       "      <th>CH_CA0:RMSD</th>\n",
       "      <th>RBD__2__GLY0</th>\n",
       "      <th>GLY0:ROF</th>\n",
       "      <th>GLY0:RMSD</th>\n",
       "      <th>...</th>\n",
       "      <th>RBD__2__GLY8</th>\n",
       "      <th>GLY8:ROF</th>\n",
       "      <th>GLY8:RMSD</th>\n",
       "      <th>RBD__2__GLY9</th>\n",
       "      <th>GLY9:ROF</th>\n",
       "      <th>GLY9:RMSD</th>\n",
       "      <th>RBD__2__backbone0</th>\n",
       "      <th>backbone0:ROF</th>\n",
       "      <th>backbone0:RMSD</th>\n",
       "      <th>label</th>\n",
       "    </tr>\n",
       "  </thead>\n",
       "  <tbody>\n",
       "    <tr>\n",
       "      <th>0</th>\n",
       "      <td>0</td>\n",
       "      <td>frame_0</td>\n",
       "      <td>2.064992</td>\n",
       "      <td>0.104537</td>\n",
       "      <td>7.011860</td>\n",
       "      <td>2.440622</td>\n",
       "      <td>0.071946</td>\n",
       "      <td>8.272009</td>\n",
       "      <td>1.753118</td>\n",
       "      <td>0.256231</td>\n",
       "      <td>...</td>\n",
       "      <td>15.816480</td>\n",
       "      <td>2.131665</td>\n",
       "      <td>0.296665</td>\n",
       "      <td>18.712970</td>\n",
       "      <td>2.230321</td>\n",
       "      <td>0.390132</td>\n",
       "      <td>6.132472</td>\n",
       "      <td>7.333359</td>\n",
       "      <td>0.137631</td>\n",
       "      <td>0</td>\n",
       "    </tr>\n",
       "    <tr>\n",
       "      <th>1</th>\n",
       "      <td>1</td>\n",
       "      <td>frame_1</td>\n",
       "      <td>2.082220</td>\n",
       "      <td>0.142265</td>\n",
       "      <td>7.059966</td>\n",
       "      <td>2.451281</td>\n",
       "      <td>0.067347</td>\n",
       "      <td>8.274339</td>\n",
       "      <td>1.777587</td>\n",
       "      <td>0.298775</td>\n",
       "      <td>...</td>\n",
       "      <td>15.865187</td>\n",
       "      <td>2.082916</td>\n",
       "      <td>0.267647</td>\n",
       "      <td>18.565217</td>\n",
       "      <td>2.212942</td>\n",
       "      <td>0.319875</td>\n",
       "      <td>6.172430</td>\n",
       "      <td>7.338856</td>\n",
       "      <td>0.161682</td>\n",
       "      <td>0</td>\n",
       "    </tr>\n",
       "    <tr>\n",
       "      <th>2</th>\n",
       "      <td>2</td>\n",
       "      <td>frame_2</td>\n",
       "      <td>2.079883</td>\n",
       "      <td>0.168931</td>\n",
       "      <td>7.061981</td>\n",
       "      <td>2.428138</td>\n",
       "      <td>0.075575</td>\n",
       "      <td>8.126430</td>\n",
       "      <td>1.926069</td>\n",
       "      <td>0.304831</td>\n",
       "      <td>...</td>\n",
       "      <td>15.789881</td>\n",
       "      <td>2.140586</td>\n",
       "      <td>0.278618</td>\n",
       "      <td>18.491900</td>\n",
       "      <td>2.070410</td>\n",
       "      <td>0.297723</td>\n",
       "      <td>6.154211</td>\n",
       "      <td>7.331262</td>\n",
       "      <td>0.173915</td>\n",
       "      <td>0</td>\n",
       "    </tr>\n",
       "    <tr>\n",
       "      <th>3</th>\n",
       "      <td>3</td>\n",
       "      <td>frame_3</td>\n",
       "      <td>2.105020</td>\n",
       "      <td>0.156687</td>\n",
       "      <td>7.035488</td>\n",
       "      <td>2.423324</td>\n",
       "      <td>0.076875</td>\n",
       "      <td>8.221630</td>\n",
       "      <td>1.901495</td>\n",
       "      <td>0.362107</td>\n",
       "      <td>...</td>\n",
       "      <td>15.844295</td>\n",
       "      <td>2.129400</td>\n",
       "      <td>0.294769</td>\n",
       "      <td>18.489304</td>\n",
       "      <td>2.043514</td>\n",
       "      <td>0.243517</td>\n",
       "      <td>6.143025</td>\n",
       "      <td>7.325061</td>\n",
       "      <td>0.189567</td>\n",
       "      <td>0</td>\n",
       "    </tr>\n",
       "    <tr>\n",
       "      <th>4</th>\n",
       "      <td>4</td>\n",
       "      <td>frame_4</td>\n",
       "      <td>2.107028</td>\n",
       "      <td>0.128242</td>\n",
       "      <td>6.968371</td>\n",
       "      <td>2.426547</td>\n",
       "      <td>0.086771</td>\n",
       "      <td>8.170091</td>\n",
       "      <td>1.940600</td>\n",
       "      <td>0.308735</td>\n",
       "      <td>...</td>\n",
       "      <td>15.790533</td>\n",
       "      <td>2.163263</td>\n",
       "      <td>0.299083</td>\n",
       "      <td>18.452190</td>\n",
       "      <td>2.221308</td>\n",
       "      <td>0.352847</td>\n",
       "      <td>6.106590</td>\n",
       "      <td>7.313821</td>\n",
       "      <td>0.198229</td>\n",
       "      <td>0</td>\n",
       "    </tr>\n",
       "  </tbody>\n",
       "</table>\n",
       "<p>5 rows × 221 columns</p>\n",
       "</div>"
      ],
      "text/plain": [
       "   Frame Num    frame  RBD_CA0:ROF  RBD_CA0:RMSD  RBD__2__CH_CA0  CH_CA0:ROF  \\\n",
       "0          0  frame_0     2.064992      0.104537        7.011860    2.440622   \n",
       "1          1  frame_1     2.082220      0.142265        7.059966    2.451281   \n",
       "2          2  frame_2     2.079883      0.168931        7.061981    2.428138   \n",
       "3          3  frame_3     2.105020      0.156687        7.035488    2.423324   \n",
       "4          4  frame_4     2.107028      0.128242        6.968371    2.426547   \n",
       "\n",
       "   CH_CA0:RMSD  RBD__2__GLY0  GLY0:ROF  GLY0:RMSD  ...  RBD__2__GLY8  \\\n",
       "0     0.071946      8.272009  1.753118   0.256231  ...     15.816480   \n",
       "1     0.067347      8.274339  1.777587   0.298775  ...     15.865187   \n",
       "2     0.075575      8.126430  1.926069   0.304831  ...     15.789881   \n",
       "3     0.076875      8.221630  1.901495   0.362107  ...     15.844295   \n",
       "4     0.086771      8.170091  1.940600   0.308735  ...     15.790533   \n",
       "\n",
       "   GLY8:ROF  GLY8:RMSD  RBD__2__GLY9  GLY9:ROF  GLY9:RMSD  RBD__2__backbone0  \\\n",
       "0  2.131665   0.296665     18.712970  2.230321   0.390132           6.132472   \n",
       "1  2.082916   0.267647     18.565217  2.212942   0.319875           6.172430   \n",
       "2  2.140586   0.278618     18.491900  2.070410   0.297723           6.154211   \n",
       "3  2.129400   0.294769     18.489304  2.043514   0.243517           6.143025   \n",
       "4  2.163263   0.299083     18.452190  2.221308   0.352847           6.106590   \n",
       "\n",
       "   backbone0:ROF  backbone0:RMSD  label  \n",
       "0       7.333359        0.137631      0  \n",
       "1       7.338856        0.161682      0  \n",
       "2       7.331262        0.173915      0  \n",
       "3       7.325061        0.189567      0  \n",
       "4       7.313821        0.198229      0  \n",
       "\n",
       "[5 rows x 221 columns]"
      ]
     },
     "execution_count": 67,
     "metadata": {},
     "output_type": "execute_result"
    }
   ],
   "source": [
    "print(f'closed dcd size : {closed_df.shape}')\n",
    "closed_df.head()"
   ]
  },
  {
   "cell_type": "code",
   "execution_count": 93,
   "id": "87e9e68e",
   "metadata": {},
   "outputs": [],
   "source": [
    "# Only use glycans within 10 nm of the RBD\n",
    "open_df = restrict_RBD_window(open_df,8)\n",
    "closed_df = restrict_RBD_window(closed_df,8)\n"
   ]
  },
  {
   "cell_type": "code",
   "execution_count": 94,
   "id": "b885654e-f111-4eaf-8b3d-b6ae525ca3f6",
   "metadata": {
    "scrolled": true
   },
   "outputs": [
    {
     "name": "stderr",
     "output_type": "stream",
     "text": [
      "/tmp/ipykernel_8032/2444760398.py:2: FutureWarning:\n",
      "\n",
      "Passing a set as an indexer is deprecated and will raise in a future version. Use a list instead.\n",
      "\n",
      "/tmp/ipykernel_8032/2444760398.py:2: FutureWarning:\n",
      "\n",
      "Passing a set as an indexer is deprecated and will raise in a future version. Use a list instead.\n",
      "\n",
      "/tmp/ipykernel_8032/2444760398.py:2: FutureWarning:\n",
      "\n",
      "The frame.append method is deprecated and will be removed from pandas in a future version. Use pandas.concat instead.\n",
      "\n"
     ]
    },
    {
     "data": {
      "text/plain": [
       "(59536, 105)"
      ]
     },
     "execution_count": 94,
     "metadata": {},
     "output_type": "execute_result"
    }
   ],
   "source": [
    "common_cols = set(open_df.columns.to_list()).intersection(closed_df.columns.to_list())\n",
    "full_df = open_df.loc[:,common_cols].append(closed_df.loc[:,common_cols]).drop(['frame','Frame Num'],axis=1)\n",
    "full_df.shape"
   ]
  },
  {
   "cell_type": "markdown",
   "id": "104dfaeb-174b-4957-a8de-2c332b6f111e",
   "metadata": {},
   "source": [
    "## Looking for Correlations"
   ]
  },
  {
   "cell_type": "code",
   "execution_count": 95,
   "id": "6645ae0e-801a-4a15-bb99-bd143aca31ff",
   "metadata": {},
   "outputs": [],
   "source": [
    "corr_matrix = full_df.corr()\n",
    "corr_thresh = 0.5 #original was 0.65\n",
    "final_features = corr_matrix['RBD_CA0:RMSD'][(corr_matrix['RBD_CA0:RMSD'] < corr_thresh) & (corr_matrix['RBD_CA0:RMSD'] > -corr_thresh)].reset_index().loc[:,'index'].to_list()\n",
    "clf_df = full_df.loc[:,final_features]"
   ]
  },
  {
   "cell_type": "code",
   "execution_count": 96,
   "id": "4a0d92a3-89ec-4c58-80c9-ebf4ba851c14",
   "metadata": {},
   "outputs": [
    {
     "name": "stdout",
     "output_type": "stream",
     "text": [
      "Train set : (41675, 97), Test set : (17861, 97)\n"
     ]
    }
   ],
   "source": [
    "from sklearn.model_selection import train_test_split\n",
    "train_set, test_set = train_test_split(clf_df,test_size=0.3, random_state=42,stratify=full_df.label)\n",
    "print(f'Train set : {train_set.shape}, Test set : {test_set.shape}')"
   ]
  },
  {
   "cell_type": "code",
   "execution_count": 106,
   "id": "1a605f2a",
   "metadata": {
    "collapsed": true
   },
   "outputs": [
    {
     "data": {
      "text/plain": [
       "['GLY0',\n",
       " 'GLY1',\n",
       " 'GLY11',\n",
       " 'GLY12',\n",
       " 'GLY13',\n",
       " 'GLY14',\n",
       " 'GLY15',\n",
       " 'GLY2',\n",
       " 'GLY22',\n",
       " 'GLY23',\n",
       " 'GLY24',\n",
       " 'GLY25',\n",
       " 'GLY26',\n",
       " 'GLY3',\n",
       " 'GLY32',\n",
       " 'GLY35',\n",
       " 'GLY37',\n",
       " 'GLY4',\n",
       " 'GLY42',\n",
       " 'GLY43',\n",
       " 'GLY44',\n",
       " 'GLY48',\n",
       " 'GLY49',\n",
       " 'GLY5',\n",
       " 'GLY50',\n",
       " 'GLY51',\n",
       " 'GLY55',\n",
       " 'GLY56',\n",
       " 'GLY57',\n",
       " 'GLY66',\n",
       " 'GLY67',\n",
       " 'GLY69']"
      ]
     },
     "execution_count": 106,
     "metadata": {},
     "output_type": "execute_result"
    }
   ],
   "source": [
    "# List glycans included\n",
    "list(np.unique([x.replace('RBD__2__','') for x in train_set.keys().to_list() if 'RBD__2__GLY' in x]))"
   ]
  },
  {
   "cell_type": "markdown",
   "id": "0eda6938-3b4d-48f1-8386-847fce32375f",
   "metadata": {},
   "source": [
    "# Prepare the Data for Machine Learning Algorithms"
   ]
  },
  {
   "cell_type": "code",
   "execution_count": 107,
   "id": "b942f4cc",
   "metadata": {},
   "outputs": [],
   "source": [
    "import plotly.express as px\n",
    "import time"
   ]
  },
  {
   "cell_type": "code",
   "execution_count": 98,
   "id": "282dc6ee-6e66-4a5c-b175-be965c60f0f4",
   "metadata": {},
   "outputs": [
    {
     "data": {
      "text/plain": [
       "((41675, 96), (41675,))"
      ]
     },
     "execution_count": 98,
     "metadata": {},
     "output_type": "execute_result"
    }
   ],
   "source": [
    "train_X = train_set.drop(\"label\", axis=1) # drop labels for training set\n",
    "train_labels = train_set[\"label\"].copy()\n",
    "train_X.shape,train_labels.shape"
   ]
  },
  {
   "cell_type": "code",
   "execution_count": 99,
   "id": "808a68b5-7113-431a-92e7-b50317cc0cd9",
   "metadata": {},
   "outputs": [
    {
     "data": {
      "text/plain": [
       "((17861, 96), (17861,))"
      ]
     },
     "execution_count": 99,
     "metadata": {},
     "output_type": "execute_result"
    }
   ],
   "source": [
    "test_X = test_set.drop(\"label\", axis=1) # drop labels for training set\n",
    "test_labels = test_set[\"label\"].copy()\n",
    "test_X.shape, test_labels.shape"
   ]
  },
  {
   "cell_type": "code",
   "execution_count": 100,
   "id": "23f4e771-2ece-4781-afd9-2300d2531e0e",
   "metadata": {},
   "outputs": [],
   "source": [
    "from sklearn.pipeline import Pipeline\n",
    "from sklearn.preprocessing import StandardScaler\n",
    "\n",
    "num_pipeline = Pipeline([\n",
    "       ('std_scaler', StandardScaler()),\n",
    "    ])\n",
    "\n",
    "train_X_prepared = num_pipeline.fit_transform(train_X)\n",
    "test_X_prepared = num_pipeline.transform(test_X)"
   ]
  },
  {
   "cell_type": "code",
   "execution_count": 101,
   "id": "3366204e-1081-4904-a05d-733fa15628ce",
   "metadata": {},
   "outputs": [],
   "source": [
    "from sklearn.linear_model import SGDClassifier\n",
    "sgd_clf = SGDClassifier(max_iter=100, tol=1e-3, random_state=42)"
   ]
  },
  {
   "cell_type": "code",
   "execution_count": 109,
   "id": "aba14996-5bcf-401f-b067-ae6bcce5a33c",
   "metadata": {},
   "outputs": [
    {
     "name": "stdout",
     "output_type": "stream",
     "text": [
      "1.21116042137146 sec elapsed\n"
     ]
    }
   ],
   "source": [
    "from sklearn.model_selection import cross_val_score,cross_val_predict\n",
    "y_train_pred = cross_val_predict(sgd_clf,train_X_prepared, train_labels, cv=10)\n",
    "t = time.time()\n",
    "cross_val_score(sgd_clf, train_X_prepared, train_labels, cv=10, scoring=\"accuracy\")\n",
    "print(str(time.time()-t) + ' sec elapsed')"
   ]
  },
  {
   "cell_type": "markdown",
   "id": "3750eaaf-8215-4f7c-a3fc-21fdee87b7ef",
   "metadata": {},
   "source": [
    "## Precision and Recall"
   ]
  },
  {
   "cell_type": "code",
   "execution_count": 103,
   "id": "9f81fb9c-934d-4d0d-a1e8-c04a04d34227",
   "metadata": {},
   "outputs": [
    {
     "name": "stdout",
     "output_type": "stream",
     "text": [
      " Train precison : 1.0, train recall 1.0\n"
     ]
    }
   ],
   "source": [
    "from sklearn.metrics import confusion_matrix\n",
    "from sklearn.metrics import precision_score, recall_score\n",
    "confusion_matrix(train_labels, y_train_pred)\n",
    "print(f' Train precison : {precision_score(train_labels, y_train_pred)}, train recall {recall_score(train_labels, y_train_pred)}')"
   ]
  },
  {
   "cell_type": "code",
   "execution_count": 104,
   "id": "b12e888f-b861-43a8-bdf4-2ec963f8263d",
   "metadata": {
    "scrolled": false
   },
   "outputs": [
    {
     "name": "stdout",
     "output_type": "stream",
     "text": [
      " Test precison : 1.0, Test recall 1.0\n"
     ]
    },
    {
     "data": {
      "application/vnd.plotly.v1+json": {
       "config": {
        "plotlyServerURL": "https://plot.ly"
       },
       "data": [
        {
         "alignmentgroup": "True",
         "hovertemplate": "x=%{x}<br>y=%{y}<br>color=%{marker.color}<extra></extra>",
         "legendgroup": "",
         "marker": {
          "color": [
           -0.23121550103499622,
           -0.13774976107650766,
           0.5120541132805068,
           0.39796724027411523,
           -0.2900319474318601,
           -0.2530451171024669,
           0.13646951264533871,
           -0.0014528827856521592,
           -0.22534292134463246,
           0.26878993734899853,
           0.3059473214193371,
           0.23297403935864702,
           -0.036338349281454824,
           -0.22434047055727402,
           0.2133850175016509,
           0.4625634327721321,
           -0.19970203695572378,
           0.22249517128539778,
           0.3071737033280726,
           0.3494150706387232,
           0.09087319485984084,
           0.2072261660950152,
           -0.21766850930658987,
           -0.22303909842049996,
           0.08314307729163206,
           0.4818463485322693,
           0.1423274073291469,
           0.33892949829761837,
           -0.297149694249489,
           0.06375263149340182,
           0.07553838335734511,
           0.36767931779140256,
           0.0602288597321271,
           -0.2288064121450401,
           0.009112745081624803,
           -0.2172854256907645,
           0.2900098231589746,
           0.06528956840781891,
           0.2693374673798212,
           -0.07521345014695659,
           0.29519517677561335,
           -0.27372940207827395,
           -0.2718079005070784,
           0.1685274441368319,
           -0.1404647625159841,
           -0.34123009061056403,
           0.05149358045398648,
           0.16637034112817395,
           0.31939474336113777,
           0.4702007695781335,
           0.018864234453895325,
           0.0523357445741334,
           -0.1267522709871787,
           0.03012136819937854,
           -0.31702319326520906,
           0.1997464706394801,
           0.24244629449505312,
           0.16046414537726617,
           -0.14655403352670823,
           0.13236994681646508,
           0.06632688294459418,
           -0.07936599384257438,
           0.4646598029880333,
           0.1991808146842111,
           0.2761027109270031,
           -0.18816901373489645,
           0.3050451411070412,
           0.35460098993821304,
           -0.25641426852737625,
           0.0379447649113419,
           0.10529627934572651,
           -0.31051514008155,
           0.3644663927262343,
           -0.29955145432971614,
           0.15106808647743825,
           -0.23056015176278777,
           -0.3582222064119142,
           0.031926295395141274,
           -0.29119803912618836,
           -0.14146002520810855,
           0.031972291285508804,
           -0.15530592696120613,
           0.02215883686097915,
           0.005046961910861894,
           0.06863483411089556,
           -0.2826323057467708,
           0.12274274596505592,
           -0.2401458927998409,
           -0.0533861911646871,
           -0.10716655049026297,
           -0.1765280132233735,
           -0.12537152085798342,
           0.138314972713308,
           0.06538462827421261,
           -0.1111643570382678,
           0.24206643019975904
          ],
          "coloraxis": "coloraxis",
          "pattern": {
           "shape": ""
          }
         },
         "name": "",
         "offsetgroup": "",
         "orientation": "v",
         "showlegend": false,
         "textposition": "auto",
         "type": "bar",
         "x": [
          "GLY25:ROF",
          "RBD__2__GLY13",
          "GLY22:ROF",
          "RBD__2__GLY69",
          "RBD__2__GLY48",
          "RBD__2__GLY23",
          "GLY15:RMSD",
          "GLY43:ROF",
          "RBD__2__GLY2",
          "GLY22:RMSD",
          "RBD__2__GLY55",
          "RBD__2__GLY57",
          "GLY11:RMSD",
          "RBD__2__GLY43",
          "GLY24:RMSD",
          "RBD__2__GLY51",
          "GLY66:ROF",
          "RBD__2__GLY44",
          "RBD__2__GLY35",
          "RBD__2__GLY15",
          "CH_CA0:RMSD",
          "RBD__2__GLY67",
          "GLY15:ROF",
          "GLY5:ROF",
          "backbone0:RMSD",
          "RBD__2__backbone0",
          "CH_CA0:ROF",
          "RBD__2__GLY25",
          "RBD__2__GLY42",
          "GLY23:RMSD",
          "GLY26:ROF",
          "RBD__2__GLY26",
          "GLY51:RMSD",
          "GLY14:ROF",
          "GLY67:ROF",
          "GLY55:ROF",
          "RBD__2__GLY14",
          "RBD__2__GLY11",
          "RBD__2__GLY56",
          "backbone0:ROF",
          "RBD__2__GLY50",
          "RBD__2__GLY0",
          "RBD__2__GLY12",
          "GLY25:RMSD",
          "GLY42:RMSD",
          "GLY32:ROF",
          "GLY23:ROF",
          "GLY13:RMSD",
          "RBD__2__GLY24",
          "RBD__2__CH_CA0",
          "GLY14:RMSD",
          "GLY55:RMSD",
          "GLY24:ROF",
          "GLY48:RMSD",
          "RBD__2__GLY49",
          "RBD__2__GLY66",
          "GLY13:ROF",
          "GLY1:ROF",
          "GLY4:ROF",
          "GLY35:ROF",
          "GLY56:RMSD",
          "GLY57:ROF",
          "RBD__2__GLY32",
          "GLY26:RMSD",
          "RBD__2__GLY22",
          "RBD__2__GLY3",
          "GLY69:RMSD",
          "RBD__2__GLY5",
          "GLY3:ROF",
          "GLY5:RMSD",
          "GLY48:ROF",
          "GLY42:ROF",
          "RBD__2__GLY37",
          "RBD__2__GLY1",
          "RBD_CA0:ROF",
          "GLY69:ROF",
          "GLY0:ROF",
          "RBD__2__GLY4",
          "GLY49:ROF",
          "GLY56:ROF",
          "GLY4:RMSD",
          "GLY51:ROF",
          "GLY50:RMSD",
          "GLY12:ROF",
          "GLY57:RMSD",
          "GLY11:ROF",
          "GLY35:RMSD",
          "GLY37:ROF",
          "GLY44:ROF",
          "GLY0:RMSD",
          "GLY1:RMSD",
          "GLY50:ROF",
          "GLY2:ROF",
          "GLY44:RMSD",
          "GLY49:RMSD",
          "GLY12:RMSD"
         ],
         "xaxis": "x",
         "y": [
          -0.23121550103499622,
          -0.13774976107650766,
          0.5120541132805068,
          0.39796724027411523,
          -0.2900319474318601,
          -0.2530451171024669,
          0.13646951264533871,
          -0.0014528827856521592,
          -0.22534292134463246,
          0.26878993734899853,
          0.3059473214193371,
          0.23297403935864702,
          -0.036338349281454824,
          -0.22434047055727402,
          0.2133850175016509,
          0.4625634327721321,
          -0.19970203695572378,
          0.22249517128539778,
          0.3071737033280726,
          0.3494150706387232,
          0.09087319485984084,
          0.2072261660950152,
          -0.21766850930658987,
          -0.22303909842049996,
          0.08314307729163206,
          0.4818463485322693,
          0.1423274073291469,
          0.33892949829761837,
          -0.297149694249489,
          0.06375263149340182,
          0.07553838335734511,
          0.36767931779140256,
          0.0602288597321271,
          -0.2288064121450401,
          0.009112745081624803,
          -0.2172854256907645,
          0.2900098231589746,
          0.06528956840781891,
          0.2693374673798212,
          -0.07521345014695659,
          0.29519517677561335,
          -0.27372940207827395,
          -0.2718079005070784,
          0.1685274441368319,
          -0.1404647625159841,
          -0.34123009061056403,
          0.05149358045398648,
          0.16637034112817395,
          0.31939474336113777,
          0.4702007695781335,
          0.018864234453895325,
          0.0523357445741334,
          -0.1267522709871787,
          0.03012136819937854,
          -0.31702319326520906,
          0.1997464706394801,
          0.24244629449505312,
          0.16046414537726617,
          -0.14655403352670823,
          0.13236994681646508,
          0.06632688294459418,
          -0.07936599384257438,
          0.4646598029880333,
          0.1991808146842111,
          0.2761027109270031,
          -0.18816901373489645,
          0.3050451411070412,
          0.35460098993821304,
          -0.25641426852737625,
          0.0379447649113419,
          0.10529627934572651,
          -0.31051514008155,
          0.3644663927262343,
          -0.29955145432971614,
          0.15106808647743825,
          -0.23056015176278777,
          -0.3582222064119142,
          0.031926295395141274,
          -0.29119803912618836,
          -0.14146002520810855,
          0.031972291285508804,
          -0.15530592696120613,
          0.02215883686097915,
          0.005046961910861894,
          0.06863483411089556,
          -0.2826323057467708,
          0.12274274596505592,
          -0.2401458927998409,
          -0.0533861911646871,
          -0.10716655049026297,
          -0.1765280132233735,
          -0.12537152085798342,
          0.138314972713308,
          0.06538462827421261,
          -0.1111643570382678,
          0.24206643019975904
         ],
         "yaxis": "y"
        }
       ],
       "layout": {
        "barmode": "relative",
        "coloraxis": {
         "colorbar": {
          "title": {
           "text": "color"
          }
         },
         "colorscale": [
          [
           0,
           "#0d0887"
          ],
          [
           0.1111111111111111,
           "#46039f"
          ],
          [
           0.2222222222222222,
           "#7201a8"
          ],
          [
           0.3333333333333333,
           "#9c179e"
          ],
          [
           0.4444444444444444,
           "#bd3786"
          ],
          [
           0.5555555555555556,
           "#d8576b"
          ],
          [
           0.6666666666666666,
           "#ed7953"
          ],
          [
           0.7777777777777778,
           "#fb9f3a"
          ],
          [
           0.8888888888888888,
           "#fdca26"
          ],
          [
           1,
           "#f0f921"
          ]
         ]
        },
        "legend": {
         "tracegroupgap": 0
        },
        "margin": {
         "t": 60
        },
        "template": {
         "data": {
          "bar": [
           {
            "error_x": {
             "color": "#2a3f5f"
            },
            "error_y": {
             "color": "#2a3f5f"
            },
            "marker": {
             "line": {
              "color": "#E5ECF6",
              "width": 0.5
             },
             "pattern": {
              "fillmode": "overlay",
              "size": 10,
              "solidity": 0.2
             }
            },
            "type": "bar"
           }
          ],
          "barpolar": [
           {
            "marker": {
             "line": {
              "color": "#E5ECF6",
              "width": 0.5
             },
             "pattern": {
              "fillmode": "overlay",
              "size": 10,
              "solidity": 0.2
             }
            },
            "type": "barpolar"
           }
          ],
          "carpet": [
           {
            "aaxis": {
             "endlinecolor": "#2a3f5f",
             "gridcolor": "white",
             "linecolor": "white",
             "minorgridcolor": "white",
             "startlinecolor": "#2a3f5f"
            },
            "baxis": {
             "endlinecolor": "#2a3f5f",
             "gridcolor": "white",
             "linecolor": "white",
             "minorgridcolor": "white",
             "startlinecolor": "#2a3f5f"
            },
            "type": "carpet"
           }
          ],
          "choropleth": [
           {
            "colorbar": {
             "outlinewidth": 0,
             "ticks": ""
            },
            "type": "choropleth"
           }
          ],
          "contour": [
           {
            "colorbar": {
             "outlinewidth": 0,
             "ticks": ""
            },
            "colorscale": [
             [
              0,
              "#0d0887"
             ],
             [
              0.1111111111111111,
              "#46039f"
             ],
             [
              0.2222222222222222,
              "#7201a8"
             ],
             [
              0.3333333333333333,
              "#9c179e"
             ],
             [
              0.4444444444444444,
              "#bd3786"
             ],
             [
              0.5555555555555556,
              "#d8576b"
             ],
             [
              0.6666666666666666,
              "#ed7953"
             ],
             [
              0.7777777777777778,
              "#fb9f3a"
             ],
             [
              0.8888888888888888,
              "#fdca26"
             ],
             [
              1,
              "#f0f921"
             ]
            ],
            "type": "contour"
           }
          ],
          "contourcarpet": [
           {
            "colorbar": {
             "outlinewidth": 0,
             "ticks": ""
            },
            "type": "contourcarpet"
           }
          ],
          "heatmap": [
           {
            "colorbar": {
             "outlinewidth": 0,
             "ticks": ""
            },
            "colorscale": [
             [
              0,
              "#0d0887"
             ],
             [
              0.1111111111111111,
              "#46039f"
             ],
             [
              0.2222222222222222,
              "#7201a8"
             ],
             [
              0.3333333333333333,
              "#9c179e"
             ],
             [
              0.4444444444444444,
              "#bd3786"
             ],
             [
              0.5555555555555556,
              "#d8576b"
             ],
             [
              0.6666666666666666,
              "#ed7953"
             ],
             [
              0.7777777777777778,
              "#fb9f3a"
             ],
             [
              0.8888888888888888,
              "#fdca26"
             ],
             [
              1,
              "#f0f921"
             ]
            ],
            "type": "heatmap"
           }
          ],
          "heatmapgl": [
           {
            "colorbar": {
             "outlinewidth": 0,
             "ticks": ""
            },
            "colorscale": [
             [
              0,
              "#0d0887"
             ],
             [
              0.1111111111111111,
              "#46039f"
             ],
             [
              0.2222222222222222,
              "#7201a8"
             ],
             [
              0.3333333333333333,
              "#9c179e"
             ],
             [
              0.4444444444444444,
              "#bd3786"
             ],
             [
              0.5555555555555556,
              "#d8576b"
             ],
             [
              0.6666666666666666,
              "#ed7953"
             ],
             [
              0.7777777777777778,
              "#fb9f3a"
             ],
             [
              0.8888888888888888,
              "#fdca26"
             ],
             [
              1,
              "#f0f921"
             ]
            ],
            "type": "heatmapgl"
           }
          ],
          "histogram": [
           {
            "marker": {
             "pattern": {
              "fillmode": "overlay",
              "size": 10,
              "solidity": 0.2
             }
            },
            "type": "histogram"
           }
          ],
          "histogram2d": [
           {
            "colorbar": {
             "outlinewidth": 0,
             "ticks": ""
            },
            "colorscale": [
             [
              0,
              "#0d0887"
             ],
             [
              0.1111111111111111,
              "#46039f"
             ],
             [
              0.2222222222222222,
              "#7201a8"
             ],
             [
              0.3333333333333333,
              "#9c179e"
             ],
             [
              0.4444444444444444,
              "#bd3786"
             ],
             [
              0.5555555555555556,
              "#d8576b"
             ],
             [
              0.6666666666666666,
              "#ed7953"
             ],
             [
              0.7777777777777778,
              "#fb9f3a"
             ],
             [
              0.8888888888888888,
              "#fdca26"
             ],
             [
              1,
              "#f0f921"
             ]
            ],
            "type": "histogram2d"
           }
          ],
          "histogram2dcontour": [
           {
            "colorbar": {
             "outlinewidth": 0,
             "ticks": ""
            },
            "colorscale": [
             [
              0,
              "#0d0887"
             ],
             [
              0.1111111111111111,
              "#46039f"
             ],
             [
              0.2222222222222222,
              "#7201a8"
             ],
             [
              0.3333333333333333,
              "#9c179e"
             ],
             [
              0.4444444444444444,
              "#bd3786"
             ],
             [
              0.5555555555555556,
              "#d8576b"
             ],
             [
              0.6666666666666666,
              "#ed7953"
             ],
             [
              0.7777777777777778,
              "#fb9f3a"
             ],
             [
              0.8888888888888888,
              "#fdca26"
             ],
             [
              1,
              "#f0f921"
             ]
            ],
            "type": "histogram2dcontour"
           }
          ],
          "mesh3d": [
           {
            "colorbar": {
             "outlinewidth": 0,
             "ticks": ""
            },
            "type": "mesh3d"
           }
          ],
          "parcoords": [
           {
            "line": {
             "colorbar": {
              "outlinewidth": 0,
              "ticks": ""
             }
            },
            "type": "parcoords"
           }
          ],
          "pie": [
           {
            "automargin": true,
            "type": "pie"
           }
          ],
          "scatter": [
           {
            "marker": {
             "colorbar": {
              "outlinewidth": 0,
              "ticks": ""
             }
            },
            "type": "scatter"
           }
          ],
          "scatter3d": [
           {
            "line": {
             "colorbar": {
              "outlinewidth": 0,
              "ticks": ""
             }
            },
            "marker": {
             "colorbar": {
              "outlinewidth": 0,
              "ticks": ""
             }
            },
            "type": "scatter3d"
           }
          ],
          "scattercarpet": [
           {
            "marker": {
             "colorbar": {
              "outlinewidth": 0,
              "ticks": ""
             }
            },
            "type": "scattercarpet"
           }
          ],
          "scattergeo": [
           {
            "marker": {
             "colorbar": {
              "outlinewidth": 0,
              "ticks": ""
             }
            },
            "type": "scattergeo"
           }
          ],
          "scattergl": [
           {
            "marker": {
             "colorbar": {
              "outlinewidth": 0,
              "ticks": ""
             }
            },
            "type": "scattergl"
           }
          ],
          "scattermapbox": [
           {
            "marker": {
             "colorbar": {
              "outlinewidth": 0,
              "ticks": ""
             }
            },
            "type": "scattermapbox"
           }
          ],
          "scatterpolar": [
           {
            "marker": {
             "colorbar": {
              "outlinewidth": 0,
              "ticks": ""
             }
            },
            "type": "scatterpolar"
           }
          ],
          "scatterpolargl": [
           {
            "marker": {
             "colorbar": {
              "outlinewidth": 0,
              "ticks": ""
             }
            },
            "type": "scatterpolargl"
           }
          ],
          "scatterternary": [
           {
            "marker": {
             "colorbar": {
              "outlinewidth": 0,
              "ticks": ""
             }
            },
            "type": "scatterternary"
           }
          ],
          "surface": [
           {
            "colorbar": {
             "outlinewidth": 0,
             "ticks": ""
            },
            "colorscale": [
             [
              0,
              "#0d0887"
             ],
             [
              0.1111111111111111,
              "#46039f"
             ],
             [
              0.2222222222222222,
              "#7201a8"
             ],
             [
              0.3333333333333333,
              "#9c179e"
             ],
             [
              0.4444444444444444,
              "#bd3786"
             ],
             [
              0.5555555555555556,
              "#d8576b"
             ],
             [
              0.6666666666666666,
              "#ed7953"
             ],
             [
              0.7777777777777778,
              "#fb9f3a"
             ],
             [
              0.8888888888888888,
              "#fdca26"
             ],
             [
              1,
              "#f0f921"
             ]
            ],
            "type": "surface"
           }
          ],
          "table": [
           {
            "cells": {
             "fill": {
              "color": "#EBF0F8"
             },
             "line": {
              "color": "white"
             }
            },
            "header": {
             "fill": {
              "color": "#C8D4E3"
             },
             "line": {
              "color": "white"
             }
            },
            "type": "table"
           }
          ]
         },
         "layout": {
          "annotationdefaults": {
           "arrowcolor": "#2a3f5f",
           "arrowhead": 0,
           "arrowwidth": 1
          },
          "autotypenumbers": "strict",
          "coloraxis": {
           "colorbar": {
            "outlinewidth": 0,
            "ticks": ""
           }
          },
          "colorscale": {
           "diverging": [
            [
             0,
             "#8e0152"
            ],
            [
             0.1,
             "#c51b7d"
            ],
            [
             0.2,
             "#de77ae"
            ],
            [
             0.3,
             "#f1b6da"
            ],
            [
             0.4,
             "#fde0ef"
            ],
            [
             0.5,
             "#f7f7f7"
            ],
            [
             0.6,
             "#e6f5d0"
            ],
            [
             0.7,
             "#b8e186"
            ],
            [
             0.8,
             "#7fbc41"
            ],
            [
             0.9,
             "#4d9221"
            ],
            [
             1,
             "#276419"
            ]
           ],
           "sequential": [
            [
             0,
             "#0d0887"
            ],
            [
             0.1111111111111111,
             "#46039f"
            ],
            [
             0.2222222222222222,
             "#7201a8"
            ],
            [
             0.3333333333333333,
             "#9c179e"
            ],
            [
             0.4444444444444444,
             "#bd3786"
            ],
            [
             0.5555555555555556,
             "#d8576b"
            ],
            [
             0.6666666666666666,
             "#ed7953"
            ],
            [
             0.7777777777777778,
             "#fb9f3a"
            ],
            [
             0.8888888888888888,
             "#fdca26"
            ],
            [
             1,
             "#f0f921"
            ]
           ],
           "sequentialminus": [
            [
             0,
             "#0d0887"
            ],
            [
             0.1111111111111111,
             "#46039f"
            ],
            [
             0.2222222222222222,
             "#7201a8"
            ],
            [
             0.3333333333333333,
             "#9c179e"
            ],
            [
             0.4444444444444444,
             "#bd3786"
            ],
            [
             0.5555555555555556,
             "#d8576b"
            ],
            [
             0.6666666666666666,
             "#ed7953"
            ],
            [
             0.7777777777777778,
             "#fb9f3a"
            ],
            [
             0.8888888888888888,
             "#fdca26"
            ],
            [
             1,
             "#f0f921"
            ]
           ]
          },
          "colorway": [
           "#636efa",
           "#EF553B",
           "#00cc96",
           "#ab63fa",
           "#FFA15A",
           "#19d3f3",
           "#FF6692",
           "#B6E880",
           "#FF97FF",
           "#FECB52"
          ],
          "font": {
           "color": "#2a3f5f"
          },
          "geo": {
           "bgcolor": "white",
           "lakecolor": "white",
           "landcolor": "#E5ECF6",
           "showlakes": true,
           "showland": true,
           "subunitcolor": "white"
          },
          "hoverlabel": {
           "align": "left"
          },
          "hovermode": "closest",
          "mapbox": {
           "style": "light"
          },
          "paper_bgcolor": "white",
          "plot_bgcolor": "#E5ECF6",
          "polar": {
           "angularaxis": {
            "gridcolor": "white",
            "linecolor": "white",
            "ticks": ""
           },
           "bgcolor": "#E5ECF6",
           "radialaxis": {
            "gridcolor": "white",
            "linecolor": "white",
            "ticks": ""
           }
          },
          "scene": {
           "xaxis": {
            "backgroundcolor": "#E5ECF6",
            "gridcolor": "white",
            "gridwidth": 2,
            "linecolor": "white",
            "showbackground": true,
            "ticks": "",
            "zerolinecolor": "white"
           },
           "yaxis": {
            "backgroundcolor": "#E5ECF6",
            "gridcolor": "white",
            "gridwidth": 2,
            "linecolor": "white",
            "showbackground": true,
            "ticks": "",
            "zerolinecolor": "white"
           },
           "zaxis": {
            "backgroundcolor": "#E5ECF6",
            "gridcolor": "white",
            "gridwidth": 2,
            "linecolor": "white",
            "showbackground": true,
            "ticks": "",
            "zerolinecolor": "white"
           }
          },
          "shapedefaults": {
           "line": {
            "color": "#2a3f5f"
           }
          },
          "ternary": {
           "aaxis": {
            "gridcolor": "white",
            "linecolor": "white",
            "ticks": ""
           },
           "baxis": {
            "gridcolor": "white",
            "linecolor": "white",
            "ticks": ""
           },
           "bgcolor": "#E5ECF6",
           "caxis": {
            "gridcolor": "white",
            "linecolor": "white",
            "ticks": ""
           }
          },
          "title": {
           "x": 0.05
          },
          "xaxis": {
           "automargin": true,
           "gridcolor": "white",
           "linecolor": "white",
           "ticks": "",
           "title": {
            "standoff": 15
           },
           "zerolinecolor": "white",
           "zerolinewidth": 2
          },
          "yaxis": {
           "automargin": true,
           "gridcolor": "white",
           "linecolor": "white",
           "ticks": "",
           "title": {
            "standoff": 15
           },
           "zerolinecolor": "white",
           "zerolinewidth": 2
          }
         }
        },
        "xaxis": {
         "anchor": "y",
         "categoryorder": "total ascending",
         "domain": [
          0,
          1
         ],
         "title": {
          "text": "x"
         }
        },
        "yaxis": {
         "anchor": "x",
         "domain": [
          0,
          1
         ],
         "title": {
          "text": "y"
         }
        }
       }
      },
      "text/html": [
       "<div>                            <div id=\"32d83004-647a-4405-8e68-78fc886ee4d1\" class=\"plotly-graph-div\" style=\"height:525px; width:100%;\"></div>            <script type=\"text/javascript\">                require([\"plotly\"], function(Plotly) {                    window.PLOTLYENV=window.PLOTLYENV || {};                                    if (document.getElementById(\"32d83004-647a-4405-8e68-78fc886ee4d1\")) {                    Plotly.newPlot(                        \"32d83004-647a-4405-8e68-78fc886ee4d1\",                        [{\"alignmentgroup\":\"True\",\"hovertemplate\":\"x=%{x}<br>y=%{y}<br>color=%{marker.color}<extra></extra>\",\"legendgroup\":\"\",\"marker\":{\"color\":[-0.23121550103499622,-0.13774976107650766,0.5120541132805068,0.39796724027411523,-0.2900319474318601,-0.2530451171024669,0.13646951264533871,-0.0014528827856521592,-0.22534292134463246,0.26878993734899853,0.3059473214193371,0.23297403935864702,-0.036338349281454824,-0.22434047055727402,0.2133850175016509,0.4625634327721321,-0.19970203695572378,0.22249517128539778,0.3071737033280726,0.3494150706387232,0.09087319485984084,0.2072261660950152,-0.21766850930658987,-0.22303909842049996,0.08314307729163206,0.4818463485322693,0.1423274073291469,0.33892949829761837,-0.297149694249489,0.06375263149340182,0.07553838335734511,0.36767931779140256,0.0602288597321271,-0.2288064121450401,0.009112745081624803,-0.2172854256907645,0.2900098231589746,0.06528956840781891,0.2693374673798212,-0.07521345014695659,0.29519517677561335,-0.27372940207827395,-0.2718079005070784,0.1685274441368319,-0.1404647625159841,-0.34123009061056403,0.05149358045398648,0.16637034112817395,0.31939474336113777,0.4702007695781335,0.018864234453895325,0.0523357445741334,-0.1267522709871787,0.03012136819937854,-0.31702319326520906,0.1997464706394801,0.24244629449505312,0.16046414537726617,-0.14655403352670823,0.13236994681646508,0.06632688294459418,-0.07936599384257438,0.4646598029880333,0.1991808146842111,0.2761027109270031,-0.18816901373489645,0.3050451411070412,0.35460098993821304,-0.25641426852737625,0.0379447649113419,0.10529627934572651,-0.31051514008155,0.3644663927262343,-0.29955145432971614,0.15106808647743825,-0.23056015176278777,-0.3582222064119142,0.031926295395141274,-0.29119803912618836,-0.14146002520810855,0.031972291285508804,-0.15530592696120613,0.02215883686097915,0.005046961910861894,0.06863483411089556,-0.2826323057467708,0.12274274596505592,-0.2401458927998409,-0.0533861911646871,-0.10716655049026297,-0.1765280132233735,-0.12537152085798342,0.138314972713308,0.06538462827421261,-0.1111643570382678,0.24206643019975904],\"coloraxis\":\"coloraxis\",\"pattern\":{\"shape\":\"\"}},\"name\":\"\",\"offsetgroup\":\"\",\"orientation\":\"v\",\"showlegend\":false,\"textposition\":\"auto\",\"type\":\"bar\",\"x\":[\"GLY25:ROF\",\"RBD__2__GLY13\",\"GLY22:ROF\",\"RBD__2__GLY69\",\"RBD__2__GLY48\",\"RBD__2__GLY23\",\"GLY15:RMSD\",\"GLY43:ROF\",\"RBD__2__GLY2\",\"GLY22:RMSD\",\"RBD__2__GLY55\",\"RBD__2__GLY57\",\"GLY11:RMSD\",\"RBD__2__GLY43\",\"GLY24:RMSD\",\"RBD__2__GLY51\",\"GLY66:ROF\",\"RBD__2__GLY44\",\"RBD__2__GLY35\",\"RBD__2__GLY15\",\"CH_CA0:RMSD\",\"RBD__2__GLY67\",\"GLY15:ROF\",\"GLY5:ROF\",\"backbone0:RMSD\",\"RBD__2__backbone0\",\"CH_CA0:ROF\",\"RBD__2__GLY25\",\"RBD__2__GLY42\",\"GLY23:RMSD\",\"GLY26:ROF\",\"RBD__2__GLY26\",\"GLY51:RMSD\",\"GLY14:ROF\",\"GLY67:ROF\",\"GLY55:ROF\",\"RBD__2__GLY14\",\"RBD__2__GLY11\",\"RBD__2__GLY56\",\"backbone0:ROF\",\"RBD__2__GLY50\",\"RBD__2__GLY0\",\"RBD__2__GLY12\",\"GLY25:RMSD\",\"GLY42:RMSD\",\"GLY32:ROF\",\"GLY23:ROF\",\"GLY13:RMSD\",\"RBD__2__GLY24\",\"RBD__2__CH_CA0\",\"GLY14:RMSD\",\"GLY55:RMSD\",\"GLY24:ROF\",\"GLY48:RMSD\",\"RBD__2__GLY49\",\"RBD__2__GLY66\",\"GLY13:ROF\",\"GLY1:ROF\",\"GLY4:ROF\",\"GLY35:ROF\",\"GLY56:RMSD\",\"GLY57:ROF\",\"RBD__2__GLY32\",\"GLY26:RMSD\",\"RBD__2__GLY22\",\"RBD__2__GLY3\",\"GLY69:RMSD\",\"RBD__2__GLY5\",\"GLY3:ROF\",\"GLY5:RMSD\",\"GLY48:ROF\",\"GLY42:ROF\",\"RBD__2__GLY37\",\"RBD__2__GLY1\",\"RBD_CA0:ROF\",\"GLY69:ROF\",\"GLY0:ROF\",\"RBD__2__GLY4\",\"GLY49:ROF\",\"GLY56:ROF\",\"GLY4:RMSD\",\"GLY51:ROF\",\"GLY50:RMSD\",\"GLY12:ROF\",\"GLY57:RMSD\",\"GLY11:ROF\",\"GLY35:RMSD\",\"GLY37:ROF\",\"GLY44:ROF\",\"GLY0:RMSD\",\"GLY1:RMSD\",\"GLY50:ROF\",\"GLY2:ROF\",\"GLY44:RMSD\",\"GLY49:RMSD\",\"GLY12:RMSD\"],\"xaxis\":\"x\",\"y\":[-0.23121550103499622,-0.13774976107650766,0.5120541132805068,0.39796724027411523,-0.2900319474318601,-0.2530451171024669,0.13646951264533871,-0.0014528827856521592,-0.22534292134463246,0.26878993734899853,0.3059473214193371,0.23297403935864702,-0.036338349281454824,-0.22434047055727402,0.2133850175016509,0.4625634327721321,-0.19970203695572378,0.22249517128539778,0.3071737033280726,0.3494150706387232,0.09087319485984084,0.2072261660950152,-0.21766850930658987,-0.22303909842049996,0.08314307729163206,0.4818463485322693,0.1423274073291469,0.33892949829761837,-0.297149694249489,0.06375263149340182,0.07553838335734511,0.36767931779140256,0.0602288597321271,-0.2288064121450401,0.009112745081624803,-0.2172854256907645,0.2900098231589746,0.06528956840781891,0.2693374673798212,-0.07521345014695659,0.29519517677561335,-0.27372940207827395,-0.2718079005070784,0.1685274441368319,-0.1404647625159841,-0.34123009061056403,0.05149358045398648,0.16637034112817395,0.31939474336113777,0.4702007695781335,0.018864234453895325,0.0523357445741334,-0.1267522709871787,0.03012136819937854,-0.31702319326520906,0.1997464706394801,0.24244629449505312,0.16046414537726617,-0.14655403352670823,0.13236994681646508,0.06632688294459418,-0.07936599384257438,0.4646598029880333,0.1991808146842111,0.2761027109270031,-0.18816901373489645,0.3050451411070412,0.35460098993821304,-0.25641426852737625,0.0379447649113419,0.10529627934572651,-0.31051514008155,0.3644663927262343,-0.29955145432971614,0.15106808647743825,-0.23056015176278777,-0.3582222064119142,0.031926295395141274,-0.29119803912618836,-0.14146002520810855,0.031972291285508804,-0.15530592696120613,0.02215883686097915,0.005046961910861894,0.06863483411089556,-0.2826323057467708,0.12274274596505592,-0.2401458927998409,-0.0533861911646871,-0.10716655049026297,-0.1765280132233735,-0.12537152085798342,0.138314972713308,0.06538462827421261,-0.1111643570382678,0.24206643019975904],\"yaxis\":\"y\"}],                        {\"barmode\":\"relative\",\"coloraxis\":{\"colorbar\":{\"title\":{\"text\":\"color\"}},\"colorscale\":[[0.0,\"#0d0887\"],[0.1111111111111111,\"#46039f\"],[0.2222222222222222,\"#7201a8\"],[0.3333333333333333,\"#9c179e\"],[0.4444444444444444,\"#bd3786\"],[0.5555555555555556,\"#d8576b\"],[0.6666666666666666,\"#ed7953\"],[0.7777777777777778,\"#fb9f3a\"],[0.8888888888888888,\"#fdca26\"],[1.0,\"#f0f921\"]]},\"legend\":{\"tracegroupgap\":0},\"margin\":{\"t\":60},\"template\":{\"data\":{\"bar\":[{\"error_x\":{\"color\":\"#2a3f5f\"},\"error_y\":{\"color\":\"#2a3f5f\"},\"marker\":{\"line\":{\"color\":\"#E5ECF6\",\"width\":0.5},\"pattern\":{\"fillmode\":\"overlay\",\"size\":10,\"solidity\":0.2}},\"type\":\"bar\"}],\"barpolar\":[{\"marker\":{\"line\":{\"color\":\"#E5ECF6\",\"width\":0.5},\"pattern\":{\"fillmode\":\"overlay\",\"size\":10,\"solidity\":0.2}},\"type\":\"barpolar\"}],\"carpet\":[{\"aaxis\":{\"endlinecolor\":\"#2a3f5f\",\"gridcolor\":\"white\",\"linecolor\":\"white\",\"minorgridcolor\":\"white\",\"startlinecolor\":\"#2a3f5f\"},\"baxis\":{\"endlinecolor\":\"#2a3f5f\",\"gridcolor\":\"white\",\"linecolor\":\"white\",\"minorgridcolor\":\"white\",\"startlinecolor\":\"#2a3f5f\"},\"type\":\"carpet\"}],\"choropleth\":[{\"colorbar\":{\"outlinewidth\":0,\"ticks\":\"\"},\"type\":\"choropleth\"}],\"contour\":[{\"colorbar\":{\"outlinewidth\":0,\"ticks\":\"\"},\"colorscale\":[[0.0,\"#0d0887\"],[0.1111111111111111,\"#46039f\"],[0.2222222222222222,\"#7201a8\"],[0.3333333333333333,\"#9c179e\"],[0.4444444444444444,\"#bd3786\"],[0.5555555555555556,\"#d8576b\"],[0.6666666666666666,\"#ed7953\"],[0.7777777777777778,\"#fb9f3a\"],[0.8888888888888888,\"#fdca26\"],[1.0,\"#f0f921\"]],\"type\":\"contour\"}],\"contourcarpet\":[{\"colorbar\":{\"outlinewidth\":0,\"ticks\":\"\"},\"type\":\"contourcarpet\"}],\"heatmap\":[{\"colorbar\":{\"outlinewidth\":0,\"ticks\":\"\"},\"colorscale\":[[0.0,\"#0d0887\"],[0.1111111111111111,\"#46039f\"],[0.2222222222222222,\"#7201a8\"],[0.3333333333333333,\"#9c179e\"],[0.4444444444444444,\"#bd3786\"],[0.5555555555555556,\"#d8576b\"],[0.6666666666666666,\"#ed7953\"],[0.7777777777777778,\"#fb9f3a\"],[0.8888888888888888,\"#fdca26\"],[1.0,\"#f0f921\"]],\"type\":\"heatmap\"}],\"heatmapgl\":[{\"colorbar\":{\"outlinewidth\":0,\"ticks\":\"\"},\"colorscale\":[[0.0,\"#0d0887\"],[0.1111111111111111,\"#46039f\"],[0.2222222222222222,\"#7201a8\"],[0.3333333333333333,\"#9c179e\"],[0.4444444444444444,\"#bd3786\"],[0.5555555555555556,\"#d8576b\"],[0.6666666666666666,\"#ed7953\"],[0.7777777777777778,\"#fb9f3a\"],[0.8888888888888888,\"#fdca26\"],[1.0,\"#f0f921\"]],\"type\":\"heatmapgl\"}],\"histogram\":[{\"marker\":{\"pattern\":{\"fillmode\":\"overlay\",\"size\":10,\"solidity\":0.2}},\"type\":\"histogram\"}],\"histogram2d\":[{\"colorbar\":{\"outlinewidth\":0,\"ticks\":\"\"},\"colorscale\":[[0.0,\"#0d0887\"],[0.1111111111111111,\"#46039f\"],[0.2222222222222222,\"#7201a8\"],[0.3333333333333333,\"#9c179e\"],[0.4444444444444444,\"#bd3786\"],[0.5555555555555556,\"#d8576b\"],[0.6666666666666666,\"#ed7953\"],[0.7777777777777778,\"#fb9f3a\"],[0.8888888888888888,\"#fdca26\"],[1.0,\"#f0f921\"]],\"type\":\"histogram2d\"}],\"histogram2dcontour\":[{\"colorbar\":{\"outlinewidth\":0,\"ticks\":\"\"},\"colorscale\":[[0.0,\"#0d0887\"],[0.1111111111111111,\"#46039f\"],[0.2222222222222222,\"#7201a8\"],[0.3333333333333333,\"#9c179e\"],[0.4444444444444444,\"#bd3786\"],[0.5555555555555556,\"#d8576b\"],[0.6666666666666666,\"#ed7953\"],[0.7777777777777778,\"#fb9f3a\"],[0.8888888888888888,\"#fdca26\"],[1.0,\"#f0f921\"]],\"type\":\"histogram2dcontour\"}],\"mesh3d\":[{\"colorbar\":{\"outlinewidth\":0,\"ticks\":\"\"},\"type\":\"mesh3d\"}],\"parcoords\":[{\"line\":{\"colorbar\":{\"outlinewidth\":0,\"ticks\":\"\"}},\"type\":\"parcoords\"}],\"pie\":[{\"automargin\":true,\"type\":\"pie\"}],\"scatter\":[{\"marker\":{\"colorbar\":{\"outlinewidth\":0,\"ticks\":\"\"}},\"type\":\"scatter\"}],\"scatter3d\":[{\"line\":{\"colorbar\":{\"outlinewidth\":0,\"ticks\":\"\"}},\"marker\":{\"colorbar\":{\"outlinewidth\":0,\"ticks\":\"\"}},\"type\":\"scatter3d\"}],\"scattercarpet\":[{\"marker\":{\"colorbar\":{\"outlinewidth\":0,\"ticks\":\"\"}},\"type\":\"scattercarpet\"}],\"scattergeo\":[{\"marker\":{\"colorbar\":{\"outlinewidth\":0,\"ticks\":\"\"}},\"type\":\"scattergeo\"}],\"scattergl\":[{\"marker\":{\"colorbar\":{\"outlinewidth\":0,\"ticks\":\"\"}},\"type\":\"scattergl\"}],\"scattermapbox\":[{\"marker\":{\"colorbar\":{\"outlinewidth\":0,\"ticks\":\"\"}},\"type\":\"scattermapbox\"}],\"scatterpolar\":[{\"marker\":{\"colorbar\":{\"outlinewidth\":0,\"ticks\":\"\"}},\"type\":\"scatterpolar\"}],\"scatterpolargl\":[{\"marker\":{\"colorbar\":{\"outlinewidth\":0,\"ticks\":\"\"}},\"type\":\"scatterpolargl\"}],\"scatterternary\":[{\"marker\":{\"colorbar\":{\"outlinewidth\":0,\"ticks\":\"\"}},\"type\":\"scatterternary\"}],\"surface\":[{\"colorbar\":{\"outlinewidth\":0,\"ticks\":\"\"},\"colorscale\":[[0.0,\"#0d0887\"],[0.1111111111111111,\"#46039f\"],[0.2222222222222222,\"#7201a8\"],[0.3333333333333333,\"#9c179e\"],[0.4444444444444444,\"#bd3786\"],[0.5555555555555556,\"#d8576b\"],[0.6666666666666666,\"#ed7953\"],[0.7777777777777778,\"#fb9f3a\"],[0.8888888888888888,\"#fdca26\"],[1.0,\"#f0f921\"]],\"type\":\"surface\"}],\"table\":[{\"cells\":{\"fill\":{\"color\":\"#EBF0F8\"},\"line\":{\"color\":\"white\"}},\"header\":{\"fill\":{\"color\":\"#C8D4E3\"},\"line\":{\"color\":\"white\"}},\"type\":\"table\"}]},\"layout\":{\"annotationdefaults\":{\"arrowcolor\":\"#2a3f5f\",\"arrowhead\":0,\"arrowwidth\":1},\"autotypenumbers\":\"strict\",\"coloraxis\":{\"colorbar\":{\"outlinewidth\":0,\"ticks\":\"\"}},\"colorscale\":{\"diverging\":[[0,\"#8e0152\"],[0.1,\"#c51b7d\"],[0.2,\"#de77ae\"],[0.3,\"#f1b6da\"],[0.4,\"#fde0ef\"],[0.5,\"#f7f7f7\"],[0.6,\"#e6f5d0\"],[0.7,\"#b8e186\"],[0.8,\"#7fbc41\"],[0.9,\"#4d9221\"],[1,\"#276419\"]],\"sequential\":[[0.0,\"#0d0887\"],[0.1111111111111111,\"#46039f\"],[0.2222222222222222,\"#7201a8\"],[0.3333333333333333,\"#9c179e\"],[0.4444444444444444,\"#bd3786\"],[0.5555555555555556,\"#d8576b\"],[0.6666666666666666,\"#ed7953\"],[0.7777777777777778,\"#fb9f3a\"],[0.8888888888888888,\"#fdca26\"],[1.0,\"#f0f921\"]],\"sequentialminus\":[[0.0,\"#0d0887\"],[0.1111111111111111,\"#46039f\"],[0.2222222222222222,\"#7201a8\"],[0.3333333333333333,\"#9c179e\"],[0.4444444444444444,\"#bd3786\"],[0.5555555555555556,\"#d8576b\"],[0.6666666666666666,\"#ed7953\"],[0.7777777777777778,\"#fb9f3a\"],[0.8888888888888888,\"#fdca26\"],[1.0,\"#f0f921\"]]},\"colorway\":[\"#636efa\",\"#EF553B\",\"#00cc96\",\"#ab63fa\",\"#FFA15A\",\"#19d3f3\",\"#FF6692\",\"#B6E880\",\"#FF97FF\",\"#FECB52\"],\"font\":{\"color\":\"#2a3f5f\"},\"geo\":{\"bgcolor\":\"white\",\"lakecolor\":\"white\",\"landcolor\":\"#E5ECF6\",\"showlakes\":true,\"showland\":true,\"subunitcolor\":\"white\"},\"hoverlabel\":{\"align\":\"left\"},\"hovermode\":\"closest\",\"mapbox\":{\"style\":\"light\"},\"paper_bgcolor\":\"white\",\"plot_bgcolor\":\"#E5ECF6\",\"polar\":{\"angularaxis\":{\"gridcolor\":\"white\",\"linecolor\":\"white\",\"ticks\":\"\"},\"bgcolor\":\"#E5ECF6\",\"radialaxis\":{\"gridcolor\":\"white\",\"linecolor\":\"white\",\"ticks\":\"\"}},\"scene\":{\"xaxis\":{\"backgroundcolor\":\"#E5ECF6\",\"gridcolor\":\"white\",\"gridwidth\":2,\"linecolor\":\"white\",\"showbackground\":true,\"ticks\":\"\",\"zerolinecolor\":\"white\"},\"yaxis\":{\"backgroundcolor\":\"#E5ECF6\",\"gridcolor\":\"white\",\"gridwidth\":2,\"linecolor\":\"white\",\"showbackground\":true,\"ticks\":\"\",\"zerolinecolor\":\"white\"},\"zaxis\":{\"backgroundcolor\":\"#E5ECF6\",\"gridcolor\":\"white\",\"gridwidth\":2,\"linecolor\":\"white\",\"showbackground\":true,\"ticks\":\"\",\"zerolinecolor\":\"white\"}},\"shapedefaults\":{\"line\":{\"color\":\"#2a3f5f\"}},\"ternary\":{\"aaxis\":{\"gridcolor\":\"white\",\"linecolor\":\"white\",\"ticks\":\"\"},\"baxis\":{\"gridcolor\":\"white\",\"linecolor\":\"white\",\"ticks\":\"\"},\"bgcolor\":\"#E5ECF6\",\"caxis\":{\"gridcolor\":\"white\",\"linecolor\":\"white\",\"ticks\":\"\"}},\"title\":{\"x\":0.05},\"xaxis\":{\"automargin\":true,\"gridcolor\":\"white\",\"linecolor\":\"white\",\"ticks\":\"\",\"title\":{\"standoff\":15},\"zerolinecolor\":\"white\",\"zerolinewidth\":2},\"yaxis\":{\"automargin\":true,\"gridcolor\":\"white\",\"linecolor\":\"white\",\"ticks\":\"\",\"title\":{\"standoff\":15},\"zerolinecolor\":\"white\",\"zerolinewidth\":2}}},\"xaxis\":{\"anchor\":\"y\",\"categoryorder\":\"total ascending\",\"domain\":[0.0,1.0],\"title\":{\"text\":\"x\"}},\"yaxis\":{\"anchor\":\"x\",\"domain\":[0.0,1.0],\"title\":{\"text\":\"y\"}}},                        {\"responsive\": true}                    ).then(function(){\n",
       "                            \n",
       "var gd = document.getElementById('32d83004-647a-4405-8e68-78fc886ee4d1');\n",
       "var x = new MutationObserver(function (mutations, observer) {{\n",
       "        var display = window.getComputedStyle(gd).display;\n",
       "        if (!display || display === 'none') {{\n",
       "            console.log([gd, 'removed!']);\n",
       "            Plotly.purge(gd);\n",
       "            observer.disconnect();\n",
       "        }}\n",
       "}});\n",
       "\n",
       "// Listen for the removal of the full notebook cells\n",
       "var notebookContainer = gd.closest('#notebook-container');\n",
       "if (notebookContainer) {{\n",
       "    x.observe(notebookContainer, {childList: true});\n",
       "}}\n",
       "\n",
       "// Listen for the clearing of the current output cell\n",
       "var outputEl = gd.closest('.output');\n",
       "if (outputEl) {{\n",
       "    x.observe(outputEl, {childList: true});\n",
       "}}\n",
       "\n",
       "                        })                };                });            </script>        </div>"
      ]
     },
     "metadata": {},
     "output_type": "display_data"
    }
   ],
   "source": [
    "sgd_clf.fit(train_X_prepared,train_labels)\n",
    "y_test_pred = sgd_clf.predict(test_X_prepared)\n",
    "print(f' Test precison : {precision_score(test_labels, y_test_pred)}, Test recall {recall_score(test_labels, y_test_pred)}')\n",
    "px.bar(x=train_X.columns.to_list(),y=sgd_clf.coef_[0],color=sgd_clf.coef_[0]).update_xaxes(categoryorder='total ascending')"
   ]
  },
  {
   "cell_type": "code",
   "execution_count": 92,
   "id": "9b13166b",
   "metadata": {
    "scrolled": true
   },
   "outputs": [
    {
     "data": {
      "text/plain": [
       "0.3505202334708687"
      ]
     },
     "execution_count": 92,
     "metadata": {},
     "output_type": "execute_result"
    }
   ],
   "source": [
    "sgd_clf.coef_[0][train_X.columns.to_list().index('RBD__2__GLY40')]"
   ]
  },
  {
   "cell_type": "code",
   "execution_count": 18,
   "id": "50494c6e",
   "metadata": {},
   "outputs": [
    {
     "data": {
      "text/plain": [
       "53"
      ]
     },
     "execution_count": 18,
     "metadata": {},
     "output_type": "execute_result"
    }
   ],
   "source": [
    "train_X.columns.to_list().index('RBD__2__backbone0')"
   ]
  },
  {
   "cell_type": "code",
   "execution_count": 121,
   "id": "f05e6a18",
   "metadata": {},
   "outputs": [
    {
     "data": {
      "text/plain": [
       "Index(['GLY25:ROF', 'RBD__2__GLY13', 'GLY22:ROF', 'RBD__2__GLY69',\n",
       "       'RBD__2__GLY48', 'RBD__2__GLY23', 'GLY15:RMSD', 'GLY43:ROF',\n",
       "       'RBD__2__GLY2', 'GLY22:RMSD', 'RBD__2__GLY55', 'RBD__2__GLY57',\n",
       "       'GLY11:RMSD', 'RBD__2__GLY43', 'GLY24:RMSD', 'RBD__2__GLY51',\n",
       "       'GLY66:ROF', 'RBD__2__GLY44', 'RBD__2__GLY35', 'RBD__2__GLY15',\n",
       "       'CH_CA0:RMSD', 'RBD__2__GLY67', 'GLY15:ROF', 'GLY5:ROF',\n",
       "       'backbone0:RMSD', 'RBD__2__backbone0', 'CH_CA0:ROF', 'RBD__2__GLY25',\n",
       "       'RBD__2__GLY42', 'GLY23:RMSD', 'GLY26:ROF', 'RBD__2__GLY26',\n",
       "       'GLY51:RMSD', 'GLY14:ROF', 'GLY67:ROF', 'GLY55:ROF', 'RBD__2__GLY14',\n",
       "       'RBD__2__GLY11', 'RBD__2__GLY56', 'backbone0:ROF', 'RBD__2__GLY50',\n",
       "       'RBD__2__GLY0', 'RBD__2__GLY12', 'GLY25:RMSD', 'GLY42:RMSD',\n",
       "       'GLY32:ROF', 'GLY23:ROF', 'GLY13:RMSD', 'RBD__2__GLY24',\n",
       "       'RBD__2__CH_CA0', 'GLY14:RMSD', 'GLY55:RMSD', 'GLY24:ROF', 'GLY48:RMSD',\n",
       "       'RBD__2__GLY49', 'RBD__2__GLY66', 'GLY13:ROF', 'GLY1:ROF', 'GLY4:ROF',\n",
       "       'GLY35:ROF', 'GLY56:RMSD', 'GLY57:ROF', 'RBD__2__GLY32', 'GLY26:RMSD',\n",
       "       'RBD__2__GLY22', 'RBD__2__GLY3', 'GLY69:RMSD', 'RBD__2__GLY5',\n",
       "       'GLY3:ROF', 'GLY5:RMSD', 'GLY48:ROF', 'GLY42:ROF', 'RBD__2__GLY37',\n",
       "       'RBD__2__GLY1', 'RBD_CA0:ROF', 'GLY69:ROF', 'GLY0:ROF', 'RBD__2__GLY4',\n",
       "       'GLY49:ROF', 'GLY56:ROF', 'GLY4:RMSD', 'GLY51:ROF', 'GLY50:RMSD',\n",
       "       'GLY12:ROF', 'GLY57:RMSD', 'GLY11:ROF', 'GLY35:RMSD', 'GLY37:ROF',\n",
       "       'GLY44:ROF', 'GLY0:RMSD', 'GLY1:RMSD', 'GLY50:ROF', 'GLY2:ROF',\n",
       "       'GLY44:RMSD', 'GLY49:RMSD', 'GLY12:RMSD'],\n",
       "      dtype='object')"
      ]
     },
     "execution_count": 121,
     "metadata": {},
     "output_type": "execute_result"
    }
   ],
   "source": [
    "train_X.keys()"
   ]
  },
  {
   "cell_type": "code",
   "execution_count": 148,
   "id": "f16d96be",
   "metadata": {},
   "outputs": [
    {
     "data": {
      "image/png": "[encoded data removed]",
      "text/plain": [
       "<Figure size 1296x864 with 5 Axes>"
      ]
     },
     "metadata": {
      "needs_background": "light"
     },
     "output_type": "display_data"
    }
   ],
   "source": [
    "import matplotlib.pyplot as plt\n",
    "\n",
    "feat = 'RBD__2__GLY51'\n",
    "def overlapping_hist(open_df,closed_df,feat):\n",
    "    open_df[feat].hist(bins=50)\n",
    "    closed_df[feat].hist(bins=50)\n",
    "    plt.legend(['Open','Closed'])\n",
    "    plt.title(feat)\n",
    "    if 'RBD__2__' in feat:\n",
    "        plt.xlabel('nm')\n",
    "    \n",
    "feats = ['GLY22:ROF','RBD__2__CH_CA0','RBD__2__backbone0','RBD__2__GLY32','RBD__2__GLY51']\n",
    "plt.figure(figsize=(18,12))\n",
    "for i in range(len(feats)):\n",
    "    plt.subplot(2,3,i+1)\n",
    "    overlapping_hist(open_df,closed_df,feats[i])"
   ]
  },
  {
   "cell_type": "code",
   "execution_count": 110,
   "id": "dba966c8-5714-40b2-aaaa-f59c22f260dd",
   "metadata": {},
   "outputs": [
    {
     "data": {
      "text/plain": [
       "array([[<AxesSubplot:title={'center':'GLY25:ROF'}>,\n",
       "        <AxesSubplot:title={'center':'RBD__2__GLY13'}>,\n",
       "        <AxesSubplot:title={'center':'GLY22:ROF'}>,\n",
       "        <AxesSubplot:title={'center':'RBD__2__GLY69'}>,\n",
       "        <AxesSubplot:title={'center':'RBD__2__GLY48'}>,\n",
       "        <AxesSubplot:title={'center':'RBD__2__GLY23'}>,\n",
       "        <AxesSubplot:title={'center':'GLY15:RMSD'}>,\n",
       "        <AxesSubplot:title={'center':'GLY43:ROF'}>,\n",
       "        <AxesSubplot:title={'center':'RBD__2__GLY2'}>,\n",
       "        <AxesSubplot:title={'center':'GLY22:RMSD'}>],\n",
       "       [<AxesSubplot:title={'center':'RBD__2__GLY55'}>,\n",
       "        <AxesSubplot:title={'center':'RBD__2__GLY57'}>,\n",
       "        <AxesSubplot:title={'center':'GLY11:RMSD'}>,\n",
       "        <AxesSubplot:title={'center':'RBD__2__GLY43'}>,\n",
       "        <AxesSubplot:title={'center':'GLY24:RMSD'}>,\n",
       "        <AxesSubplot:title={'center':'RBD__2__GLY51'}>,\n",
       "        <AxesSubplot:title={'center':'GLY66:ROF'}>,\n",
       "        <AxesSubplot:title={'center':'RBD__2__GLY44'}>,\n",
       "        <AxesSubplot:title={'center':'RBD__2__GLY35'}>,\n",
       "        <AxesSubplot:title={'center':'RBD__2__GLY15'}>],\n",
       "       [<AxesSubplot:title={'center':'CH_CA0:RMSD'}>,\n",
       "        <AxesSubplot:title={'center':'RBD__2__GLY67'}>,\n",
       "        <AxesSubplot:title={'center':'GLY15:ROF'}>,\n",
       "        <AxesSubplot:title={'center':'GLY5:ROF'}>,\n",
       "        <AxesSubplot:title={'center':'backbone0:RMSD'}>,\n",
       "        <AxesSubplot:title={'center':'RBD__2__backbone0'}>,\n",
       "        <AxesSubplot:title={'center':'CH_CA0:ROF'}>,\n",
       "        <AxesSubplot:title={'center':'RBD__2__GLY25'}>,\n",
       "        <AxesSubplot:title={'center':'RBD__2__GLY42'}>,\n",
       "        <AxesSubplot:title={'center':'GLY23:RMSD'}>],\n",
       "       [<AxesSubplot:title={'center':'GLY26:ROF'}>,\n",
       "        <AxesSubplot:title={'center':'RBD__2__GLY26'}>,\n",
       "        <AxesSubplot:title={'center':'GLY51:RMSD'}>,\n",
       "        <AxesSubplot:title={'center':'GLY14:ROF'}>,\n",
       "        <AxesSubplot:title={'center':'GLY67:ROF'}>,\n",
       "        <AxesSubplot:title={'center':'GLY55:ROF'}>,\n",
       "        <AxesSubplot:title={'center':'RBD__2__GLY14'}>,\n",
       "        <AxesSubplot:title={'center':'RBD__2__GLY11'}>,\n",
       "        <AxesSubplot:title={'center':'RBD__2__GLY56'}>,\n",
       "        <AxesSubplot:title={'center':'backbone0:ROF'}>],\n",
       "       [<AxesSubplot:title={'center':'RBD__2__GLY50'}>,\n",
       "        <AxesSubplot:title={'center':'RBD__2__GLY0'}>,\n",
       "        <AxesSubplot:title={'center':'RBD__2__GLY12'}>,\n",
       "        <AxesSubplot:title={'center':'GLY25:RMSD'}>,\n",
       "        <AxesSubplot:title={'center':'GLY42:RMSD'}>,\n",
       "        <AxesSubplot:title={'center':'GLY32:ROF'}>,\n",
       "        <AxesSubplot:title={'center':'GLY23:ROF'}>,\n",
       "        <AxesSubplot:title={'center':'GLY13:RMSD'}>,\n",
       "        <AxesSubplot:title={'center':'RBD__2__GLY24'}>,\n",
       "        <AxesSubplot:title={'center':'RBD__2__CH_CA0'}>],\n",
       "       [<AxesSubplot:title={'center':'GLY14:RMSD'}>,\n",
       "        <AxesSubplot:title={'center':'GLY55:RMSD'}>,\n",
       "        <AxesSubplot:title={'center':'GLY24:ROF'}>,\n",
       "        <AxesSubplot:title={'center':'GLY48:RMSD'}>,\n",
       "        <AxesSubplot:title={'center':'RBD__2__GLY49'}>,\n",
       "        <AxesSubplot:title={'center':'RBD__2__GLY66'}>,\n",
       "        <AxesSubplot:title={'center':'GLY13:ROF'}>,\n",
       "        <AxesSubplot:title={'center':'GLY1:ROF'}>,\n",
       "        <AxesSubplot:title={'center':'GLY4:ROF'}>,\n",
       "        <AxesSubplot:title={'center':'GLY35:ROF'}>],\n",
       "       [<AxesSubplot:title={'center':'GLY56:RMSD'}>,\n",
       "        <AxesSubplot:title={'center':'GLY57:ROF'}>,\n",
       "        <AxesSubplot:title={'center':'RBD__2__GLY32'}>,\n",
       "        <AxesSubplot:title={'center':'GLY26:RMSD'}>,\n",
       "        <AxesSubplot:title={'center':'RBD__2__GLY22'}>,\n",
       "        <AxesSubplot:title={'center':'RBD__2__GLY3'}>,\n",
       "        <AxesSubplot:title={'center':'GLY69:RMSD'}>,\n",
       "        <AxesSubplot:title={'center':'RBD__2__GLY5'}>,\n",
       "        <AxesSubplot:title={'center':'GLY3:ROF'}>,\n",
       "        <AxesSubplot:title={'center':'GLY5:RMSD'}>],\n",
       "       [<AxesSubplot:title={'center':'GLY48:ROF'}>,\n",
       "        <AxesSubplot:title={'center':'GLY42:ROF'}>,\n",
       "        <AxesSubplot:title={'center':'RBD__2__GLY37'}>,\n",
       "        <AxesSubplot:title={'center':'RBD__2__GLY1'}>,\n",
       "        <AxesSubplot:title={'center':'RBD_CA0:ROF'}>,\n",
       "        <AxesSubplot:title={'center':'GLY69:ROF'}>,\n",
       "        <AxesSubplot:title={'center':'GLY0:ROF'}>,\n",
       "        <AxesSubplot:title={'center':'RBD__2__GLY4'}>,\n",
       "        <AxesSubplot:title={'center':'GLY49:ROF'}>,\n",
       "        <AxesSubplot:title={'center':'GLY56:ROF'}>],\n",
       "       [<AxesSubplot:title={'center':'GLY4:RMSD'}>,\n",
       "        <AxesSubplot:title={'center':'GLY51:ROF'}>,\n",
       "        <AxesSubplot:title={'center':'GLY50:RMSD'}>,\n",
       "        <AxesSubplot:title={'center':'GLY12:ROF'}>,\n",
       "        <AxesSubplot:title={'center':'GLY57:RMSD'}>,\n",
       "        <AxesSubplot:title={'center':'GLY11:ROF'}>,\n",
       "        <AxesSubplot:title={'center':'GLY35:RMSD'}>,\n",
       "        <AxesSubplot:title={'center':'GLY37:ROF'}>,\n",
       "        <AxesSubplot:title={'center':'GLY44:ROF'}>,\n",
       "        <AxesSubplot:title={'center':'GLY0:RMSD'}>],\n",
       "       [<AxesSubplot:title={'center':'GLY1:RMSD'}>,\n",
       "        <AxesSubplot:title={'center':'GLY50:ROF'}>,\n",
       "        <AxesSubplot:title={'center':'GLY2:ROF'}>,\n",
       "        <AxesSubplot:title={'center':'GLY44:RMSD'}>,\n",
       "        <AxesSubplot:title={'center':'GLY49:RMSD'}>,\n",
       "        <AxesSubplot:title={'center':'GLY12:RMSD'}>, <AxesSubplot:>,\n",
       "        <AxesSubplot:>, <AxesSubplot:>, <AxesSubplot:>]], dtype=object)"
      ]
     },
     "execution_count": 110,
     "metadata": {},
     "output_type": "execute_result"
    },
    {
     "data": {
      "image/png": "[encoded data removed]",
      "text/plain": [
       "<Figure size 1440x1080 with 100 Axes>"
      ]
     },
     "metadata": {
      "needs_background": "light"
     },
     "output_type": "display_data"
    }
   ],
   "source": [
    "train_X.hist(bins=50, figsize=(20,15))"
   ]
  }
 ],
 "metadata": {
  "kernelspec": {
   "display_name": "Python 3 (ipykernel)",
   "language": "python",
   "name": "python3"
  },
  "language_info": {
   "codemirror_mode": {
    "name": "ipython",
    "version": 3
   },
   "file_extension": ".py",
   "mimetype": "text/x-python",
   "name": "python",
   "nbconvert_exporter": "python",
   "pygments_lexer": "ipython3",
   "version": "3.9.7"
  }
 },
 "nbformat": 4,
 "nbformat_minor": 5
}
