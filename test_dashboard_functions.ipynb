{
 "cells": [
  {
   "cell_type": "code",
   "execution_count": null,
   "id": "1ebd00c9",
   "metadata": {},
   "outputs": [],
   "source": [
    "# Import custom libaries\n",
    "import classification_utils as clu\n",
    "import md_utils as mdu\n",
    "# Import common libraries\n",
    "import time\n",
    "import plotly_express as px"
   ]
  },
  {
   "cell_type": "code",
   "execution_count": null,
   "id": "dbac4af4",
   "metadata": {},
   "outputs": [],
   "source": [
    "# Set input variables\n",
    "fnames = ['/net/jam-amaro-shared/dse_project/Spike_Dataset/TRAJECTORIES_spike_open_prot_glyc_amarolab/results/FinalExtractedFeature_open.csv',\n",
    "        '/net/jam-amaro-shared/dse_project/Spike_Dataset/TRAJECTORIES_spike_closed_prot_glyc_amarolab/results/FinalExtractedFeature_closed.csv']\n",
    "is_open = [1, 0]\n",
    "traj_dir = '/net/jam-amaro-shared/dse_project/Spike_Dataset/TRAJECTORIES_spike_open_prot_glyc_amarolab/'"
   ]
  },
  {
   "cell_type": "code",
   "execution_count": null,
   "id": "ef5211ec",
   "metadata": {},
   "outputs": [],
   "source": [
    "# Test loading of data\n",
    "# Load data\n",
    "df = clu.load_data(fnames,is_open)\n"
   ]
  },
  {
   "cell_type": "code",
   "execution_count": null,
   "id": "bdc65596",
   "metadata": {},
   "outputs": [],
   "source": [
    "# Test model training \n",
    "t0 = time.time()\n",
    "tr_p, tr_r, ts_p, ts_r, df_feat = clu.train_sgd_model(fnames,is_open,feat_incl=['_x','_y','_z','RMSD','ROF'])\n",
    "print('Train precision: ' + str(tr_p) + ', Train recall: ' + str(tr_r))\n",
    "print('Test precision: ' + str(ts_p) + ', Test recall: ' + str(ts_r))\n",
    "print(time.time()-t0)"
   ]
  },
  {
   "cell_type": "code",
   "execution_count": null,
   "id": "c9d2a650",
   "metadata": {},
   "outputs": [],
   "source": [
    "# Test bar chart\n",
    "fig1 = clu.plot_feature_importances(df_feat)\n",
    "fig1.show()"
   ]
  },
  {
   "cell_type": "code",
   "execution_count": null,
   "id": "40391a52",
   "metadata": {},
   "outputs": [],
   "source": [
    "# Test spike viz\n",
    "\n",
    "# Load\n",
    "t0 = time.time()\n",
    "traj = mdu.load_traj(traj_dir)\n",
    "t1 = time.time()\n",
    "print(str(t1 - t0) + ' sec to load')\n",
    "\n",
    "# Parse\n",
    "atom_id = mdu.parse_traj(traj)\n",
    "t2 = time.time()\n",
    "print(str(t2-t1) + ' sec to parse')\n",
    "\n",
    "# Viz\n",
    "fig2 = mdu.viz_traj(traj,atom_id,df_feat,'Open Spike')\n",
    "t3 = time.time()\n",
    "print(str(t3-t2) + ' sec to viz')\n",
    "fig2.show()"
   ]
  },
  {
   "cell_type": "code",
   "execution_count": null,
   "id": "d1e5d7a8",
   "metadata": {},
   "outputs": [],
   "source": []
  }
 ],
 "metadata": {
  "kernelspec": {
   "display_name": "Python 3 (ipykernel)",
   "language": "python",
   "name": "python3"
  },
  "language_info": {
   "codemirror_mode": {
    "name": "ipython",
    "version": 3
   },
   "file_extension": ".py",
   "mimetype": "text/x-python",
   "name": "python",
   "nbconvert_exporter": "python",
   "pygments_lexer": "ipython3",
   "version": "3.9.7"
  }
 },
 "nbformat": 4,
 "nbformat_minor": 5
}
