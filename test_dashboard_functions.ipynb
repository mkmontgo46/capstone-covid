{
 "cells": [
  {
   "cell_type": "code",
   "execution_count": 8,
   "id": "1ebd00c9",
   "metadata": {},
   "outputs": [],
   "source": [
    "# Import custom libaries\n",
    "import classification_utils as clu\n",
    "import md_utils as mdu\n",
    "import glycan_bionames\n",
    "# Import common libraries\n",
    "import time\n",
    "import plotly_express as px\n",
    "import plotly.graph_objects as go\n",
    "import plotly.figure_factory as ff\n",
    "import os, glob\n",
    "import pandas as pd\n"
   ]
  },
  {
   "cell_type": "code",
   "execution_count": 58,
   "id": "dbac4af4",
   "metadata": {},
   "outputs": [],
   "source": [
    "# Set input variables\n",
    "fnames = ['/net/jam-amaro-shared/dse_project/Spike_Dataset/TRAJECTORIES_spike_open_prot_glyc_amarolab/results/FinalExtractedFeature_1.csv',\n",
    "          '/net/jam-amaro-shared/dse_project/Spike_Dataset/TRAJECTORIES_spike_open_prot_glyc_amarolab/results/FinalExtractedFeature_2.csv',\n",
    "          '/net/jam-amaro-shared/dse_project/Spike_Dataset/TRAJECTORIES_spike_open_prot_glyc_amarolab/results/FinalExtractedFeature_3.csv',\n",
    "          '/net/jam-amaro-shared/dse_project/Spike_Dataset/TRAJECTORIES_spike_open_prot_glyc_amarolab/results/FinalExtractedFeature_4.csv',\n",
    "          '/net/jam-amaro-shared/dse_project/Spike_Dataset/TRAJECTORIES_spike_open_prot_glyc_amarolab/results/FinalExtractedFeature_5.csv',\n",
    "          '/net/jam-amaro-shared/dse_project/Spike_Dataset/TRAJECTORIES_spike_open_prot_glyc_amarolab/results/FinalExtractedFeature_6.csv',\n",
    "        '/net/jam-amaro-shared/dse_project/Spike_Dataset/TRAJECTORIES_spike_closed_prot_glyc_amarolab/results/FinalExtractedFeature_1.csv',\n",
    "         '/net/jam-amaro-shared/dse_project/Spike_Dataset/TRAJECTORIES_spike_closed_prot_glyc_amarolab/results/FinalExtractedFeature_2.csv',\n",
    "         '/net/jam-amaro-shared/dse_project/Spike_Dataset/TRAJECTORIES_spike_closed_prot_glyc_amarolab/results/FinalExtractedFeature_3.csv']\n",
    "is_open = [1,1,1,1,1,1,0,0,0]\n",
    "traj_dir = '/net/jam-amaro-shared/dse_project/Spike_Dataset/TRAJECTORIES_spike_open_prot_glyc_amarolab/'"
   ]
  },
  {
   "cell_type": "code",
   "execution_count": null,
   "id": "0ec7cdd4",
   "metadata": {},
   "outputs": [],
   "source": [
    "def load_data(fnames, is_open):\n",
    "    '''Load and concatenate all datasets'''\n",
    "    # fnames = list of files corresponding to featuresets to use in training. Should include full path\n",
    "    # is_open = list of labels for corresponding fnames. 1 is open & 0 is closed\n",
    "    openlabels = ['Closed','Open']\n",
    "    dfs = []\n",
    "    for f in range(len(fnames)):\n",
    "        df = pd.read_csv(fnames[f]).assign(label = is_open[f]).iloc[:,1:]\n",
    "        df['Replicant'] = '/'.join(fnames[f].split('/')[-3:])\n",
    "#         df['Replicant'] = os.path.basename(fnames[f])# basename leaves duplicates (csvs in different datasets have same names)\n",
    "        df['isopen'] = is_open[f]\n",
    "#         df['Replicant'] = openlabels[is_open[f]] +'_'+os.path.basename(fnames[f])\n",
    "        dfs.append(df)\n",
    "    return pd.concat(dfs,join='inner')"
   ]
  },
  {
   "cell_type": "code",
   "execution_count": 76,
   "id": "ef5211ec",
   "metadata": {},
   "outputs": [
    {
     "name": "stdout",
     "output_type": "stream",
     "text": [
      "0.7967977523803711\n",
      "0.001234292984008789\n",
      "0.0004851818084716797\n",
      "3.5762786865234375e-05\n",
      "0.8084406852722168\n"
     ]
    }
   ],
   "source": [
    "# Test loading of data\n",
    "# Load data\n",
    "t0 = time.time()\n",
    "openlabels = ['Closed','Open']\n",
    "dfs = []\n",
    "for f in range(1):# range(len(fnames)):\n",
    "    df = pd.read_csv(fnames[f]).assign(label = is_open[f]).iloc[:,1:]\n",
    "    t1 = time.time(); print(t1-t0)\n",
    "    df['Replicant'] = '/'.join(fnames[f].split('/')[-3:])\n",
    "    t2 = time.time(); print(t2-t1)\n",
    "    df['isopen'] = is_open[f]\n",
    "    t3 = time.time(); print(t3-t2)\n",
    "    dfs.append(df)\n",
    "    t4 = time.time(); print(t4-t3)\n",
    "    \n",
    "df = pd.concat(dfs,join='inner')\n",
    "    \n",
    "# df = clu.load_data(fnames,is_open)\n",
    "print(time.time()-t0)\n",
    "#print(df['Replicant'].unique())"
   ]
  },
  {
   "cell_type": "code",
   "execution_count": 60,
   "id": "720f759b",
   "metadata": {},
   "outputs": [
    {
     "name": "stdout",
     "output_type": "stream",
     "text": [
      "16.641210079193115\n"
     ]
    }
   ],
   "source": [
    "# Test curation of features\n",
    "t0 = time.time()\n",
    "df = clu.curate_feats(df)\n",
    "print(time.time()-t0)"
   ]
  },
  {
   "cell_type": "code",
   "execution_count": 74,
   "id": "2f07b38b",
   "metadata": {},
   "outputs": [],
   "source": [
    "def restrict_RBD_window(df,nm):\n",
    "    '''Function to drop features of dataframe that correspond to glycans which are outside a given RBD neighborhood (in nm)'''\n",
    "    #Get list of glycans\n",
    "    glycans = list(np.unique([x.replace('RBD__2__','') for x in df.keys().to_list() if 'RBD__2__GLY' in x]))\n",
    "    \n",
    "    flist = []\n",
    "    for g in glycans:\n",
    "        if df['RBD__2__' + g].mean() > nm:\n",
    "            for f in ['RBD__2__'+g,g+':ROF',g+':RMSD',g+'_x',g+'_y',g+'_z']:\n",
    "                if f in df.keys().to_list():\n",
    "                    flist.append(f)\n",
    "    df.drop(flist,axis=1,inplace=True)  \n",
    "    return df"
   ]
  },
  {
   "cell_type": "code",
   "execution_count": 75,
   "id": "33117551",
   "metadata": {},
   "outputs": [
    {
     "name": "stdout",
     "output_type": "stream",
     "text": [
      "0.027315616607666016\n",
      "0.4967517852783203\n",
      "0.0007059574127197266\n"
     ]
    }
   ],
   "source": [
    "nm=4;feat_incl=['_x','_y','_z','RBD__2__','ROF','RMSD'];corr_thresh=0.5\n",
    "\n",
    "t0 = time.time()\n",
    "\n",
    "# Limit RBD_window\n",
    "df = restrict_RBD_window(df,rbd_wind)\n",
    "\n",
    "all_feats = ['_x','_y','_z','RBD__2__','ROF','RMSD']\n",
    "\n",
    "t1 = time.time()\n",
    "print(t1-t0)\n",
    "\n",
    "# Remove highly correlated features\n",
    "df = clu.remove_corr_feats(df,corr_thresh)\n",
    "\n",
    "t2 = time.time()\n",
    "print(t2-t1)\n",
    "\n",
    "# Drop features user selected not to include\n",
    "for f in all_feats:\n",
    "    if f not in feat_incl:\n",
    "        df=clu.drop_feats(df,f)\n",
    "\n",
    "t3 = time.time()\n",
    "print(t3-t2)"
   ]
  },
  {
   "cell_type": "code",
   "execution_count": 61,
   "id": "2f92d605",
   "metadata": {},
   "outputs": [
    {
     "name": "stdout",
     "output_type": "stream",
     "text": [
      "Train set : (41675, 199), Test set : (17861, 199)\n",
      "0.6037869453430176\n"
     ]
    }
   ],
   "source": [
    "# Test model training\n",
    "t0 = time.time()\n",
    "clu.train_sgd_model_new(df)\n",
    "print(time.time()-t0)"
   ]
  },
  {
   "cell_type": "code",
   "execution_count": null,
   "id": "bdc65596",
   "metadata": {},
   "outputs": [],
   "source": [
    "# Test model training \n",
    "t0 = time.time()\n",
    "tr_p, tr_r, ts_p, ts_r, df_feat = clu.train_sgd_model(df,feat_incl=['_x','_y','_z','RMSD','ROF'])\n",
    "print('Train precision: ' + str(tr_p) + ', Train recall: ' + str(tr_r))\n",
    "print('Test precision: ' + str(ts_p) + ', Test recall: ' + str(ts_r))\n",
    "print(time.time()-t0)"
   ]
  },
  {
   "cell_type": "code",
   "execution_count": null,
   "id": "0ef81e53",
   "metadata": {},
   "outputs": [],
   "source": [
    "fig = clu.trace_single_feat(df,glycan_bionames.get_elem(df_feat.iloc[0]['feats'],'feat'),'blue')\n",
    "fig.show()"
   ]
  },
  {
   "cell_type": "code",
   "execution_count": null,
   "id": "6a9d70bd",
   "metadata": {},
   "outputs": [],
   "source": [
    "df_r = df[['Replicant','isopen']].drop_duplicates()\n",
    "cmap = {}; colors = ['red','blue']\n",
    "for i in range(len(df_r)):\n",
    "    cmap[df_r.iloc[i]['Replicant']] = colors[df_r.iloc[i]['isopen']]\n",
    "cmap"
   ]
  },
  {
   "cell_type": "code",
   "execution_count": null,
   "id": "945004d8",
   "metadata": {},
   "outputs": [],
   "source": [
    "df_f = pd.DataFrame()\n",
    "df_r = df[['Replicant','isopen']].drop_duplicates()\n",
    "cmap = {}; colors = ['red','blue']\n",
    "for i in range(len(df_r)):\n",
    "    cmap[df_r.iloc[i]['Replicant']] = colors[df_r.iloc[i]['isopen']]\n",
    "    "
   ]
  },
  {
   "cell_type": "code",
   "execution_count": null,
   "id": "8a50ffb3",
   "metadata": {},
   "outputs": [],
   "source": [
    "f = df_feat.iloc[0]['feats']"
   ]
  },
  {
   "cell_type": "code",
   "execution_count": null,
   "id": "9154a594",
   "metadata": {},
   "outputs": [],
   "source": [
    "for r in df['Replicant'].unique():\n",
    "   df_f[r] = df.loc[df['Replicant']==r][f]\n",
    "\n",
    "\n",
    "fig = px.line(df_f,title=f,color_discrete_map=cmap)\n",
    "fig.show()\n",
    "#fig.update_layout(template='simple_white')"
   ]
  },
  {
   "cell_type": "code",
   "execution_count": null,
   "id": "c17bfc7e",
   "metadata": {},
   "outputs": [],
   "source": [
    "def plot_feature_importances(df_feats):\n",
    "    '''Plot bar chart of feature importances'''\n",
    "    x_vals = [glycan_bionames.get_elem(i,'feat') for i in df_feats['feats'].to_list()]\n",
    "    y_vals = df_feats['importance'].to_list() \n",
    "    col_vals = [glycan_bionames.get_elem(i,'chain') for i in df_feats['feats'].to_list()]\n",
    "    cmap = {'Monomer A':'royalblue','Monomer B':'indianred','Monomer C':'forestgreen','Core':'orange','RBD_CA0:ROF':'mediumpurple'}\n",
    "\n",
    "    fig1 = px.bar(x=x_vals,y=y_vals,color=col_vals,title='Important Features',color_discrete_map=cmap, labels={'x':'Feature','y':'Importance','color':'Substructure'}).update_xaxes(categoryorder='total ascending')\n",
    "    return fig1\n",
    "plot_feature_importances(df_feat)"
   ]
  },
  {
   "cell_type": "code",
   "execution_count": null,
   "id": "c9d2a650",
   "metadata": {},
   "outputs": [],
   "source": [
    "# Test bar chart\n",
    "fig1 = clu.plot_feature_importances(df_feat)\n",
    "fig1.show()"
   ]
  },
  {
   "cell_type": "code",
   "execution_count": null,
   "id": "40391a52",
   "metadata": {
    "scrolled": true
   },
   "outputs": [],
   "source": [
    "# Test spike viz\n",
    "\n",
    "# Load\n",
    "t0 = time.time()\n",
    "traj = mdu.load_traj(traj_dir)\n",
    "t1 = time.time()\n",
    "print(str(t1 - t0) + ' sec to load')\n",
    "\n",
    "# Parse\n",
    "atom_id = mdu.parse_traj(traj)\n",
    "t2 = time.time()\n",
    "print(str(t2-t1) + ' sec to parse')\n",
    "\n",
    "# Viz\n",
    "fig2 = mdu.viz_traj(traj,atom_id,df_feat,'Open Spike','blue')\n",
    "t3 = time.time()\n",
    "print(str(t3-t2) + ' sec to viz')\n",
    "fig2.show()"
   ]
  },
  {
   "cell_type": "code",
   "execution_count": null,
   "id": "25b01313",
   "metadata": {},
   "outputs": [],
   "source": [
    "coord_df['Substructure'].unique()"
   ]
  },
  {
   "cell_type": "code",
   "execution_count": null,
   "id": "658d00d6",
   "metadata": {},
   "outputs": [],
   "source": [
    "dfFeats = df_feat\n",
    "atom_id_LUP = atom_id\n",
    "title_str = 'Open Spike'\n",
    "title_clr = 'blue'\n",
    "\n",
    "\n",
    "# Get names of substructures\n",
    "dfFeats.sort_values(by='importance',axis=0,inplace=True,ascending=False)\n",
    "feats = []; \n",
    "bionames = {'sidechain':'Sidechain','RBD_CA':'RBD','CH_CA':'Central Helix','GLY':'Glycans','backbone':'Backbone'}\n",
    "for i in dfFeats['feats']:\n",
    "    try:\n",
    "        featname = f'G{int(gly_4m_featname(i))+1}'\n",
    "        feats.append(featname)\n",
    "        glyname = f'GLY{int(gly_4m_featname(i))}'\n",
    "        bionames[featname] = glycan_bionames.get_elem(glyname,'position') + '_' + glycan_bionames.get_elem(glyname,'chain')\n",
    "    except:\n",
    "        continue\n",
    "\n",
    "for j in feats[:5]:\n",
    "    name = 'segname ' + j\n",
    "    atom_id_LUP[j] = traj.top.select(name)\n",
    "\n",
    "\n",
    "# Prep most important features for visualization\n",
    "keyNames =['sidechain','RBD_CA', 'CH_CA', 'GLY','backbone']+feats[:5]\n",
    "coord_df = mdu.gen_xyz_Table_4_LUP(LUP=atom_id_LUP,traj=traj, keyNames =keyNames)\n",
    "\n",
    "# Rename features to use bionames\n",
    "coord_df['Substructure'] = coord_df.apply(lambda row: bionames[row['type']],axis=1)\n",
    "\n",
    "# Add viz info - size and color\n",
    "coord_df['marker_size'] = coord_df.apply(lambda row: mdu.assign_marker(row['type'],'size'),axis=1)\n",
    "coord_df['marker_clr'] = coord_df.apply(lambda row: mdu.assign_marker(row['type'],'color'),axis=1)\n",
    "\n",
    "# Display most important features\n",
    "fig1 = px.scatter_3d(coord_df, title=title_str, x='x', y='y', z='z',\n",
    "          color='Substructure',width=800,height=800,opacity=0.5, template='simple_white',\n",
    "                     size = 'marker_size', color_discrete_map = coord_df.marker_clr.to_dict()\n",
    "            )\n",
    "# Remove tick labels on all 3 axes\n",
    "fig1.update_layout(scene=dict(xaxis=dict(showticklabels=False),\n",
    "                         yaxis = dict(showticklabels=False),\n",
    "                         zaxis = dict(showticklabels=False)),\n",
    "                   title={'font':{'color':title_clr}})\n",
    "fig1.show()"
   ]
  },
  {
   "cell_type": "code",
   "execution_count": null,
   "id": "b18ca27f",
   "metadata": {},
   "outputs": [],
   "source": [
    "# Create custom colormap\n",
    "cmap = {}; bkg = ['Backbone','Sidechain','Glycans','RBD','Central Helix']\n",
    "colors = px.\n",
    "for s in coord_df['Substructure'].unique():\n",
    "    print(s)\n",
    "    if s in bkg:\n",
    "        cmap[s] = '#d3d3d3'\n",
    "    else:\n",
    "        cmap[s] = 'red'\n",
    "cmap"
   ]
  },
  {
   "cell_type": "code",
   "execution_count": null,
   "id": "112202f3",
   "metadata": {},
   "outputs": [],
   "source": [
    "df['Replicant'].unique"
   ]
  },
  {
   "cell_type": "code",
   "execution_count": null,
   "id": "d48deb53",
   "metadata": {},
   "outputs": [],
   "source": [
    "df = pd.read_csv('./current_tmp_df.csv')\n",
    "df[df['Replicant']=='Closed_FinalExtractedFeature_2.csv']['RBD__2__GLY32']"
   ]
  }
 ],
 "metadata": {
  "kernelspec": {
   "display_name": "Python 3 (ipykernel)",
   "language": "python",
   "name": "python3"
  },
  "language_info": {
   "codemirror_mode": {
    "name": "ipython",
    "version": 3
   },
   "file_extension": ".py",
   "mimetype": "text/x-python",
   "name": "python",
   "nbconvert_exporter": "python",
   "pygments_lexer": "ipython3",
   "version": "3.9.7"
  }
 },
 "nbformat": 4,
 "nbformat_minor": 5
}
