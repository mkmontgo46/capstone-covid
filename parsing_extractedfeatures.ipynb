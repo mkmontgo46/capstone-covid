{
 "cells": [
  {
   "cell_type": "code",
   "execution_count": 2,
   "id": "2b48c8bf",
   "metadata": {},
   "outputs": [],
   "source": [
    "import pandas as pd\n",
    "import os"
   ]
  },
  {
   "cell_type": "markdown",
   "id": "109ee465",
   "metadata": {},
   "source": [
    "### Closed Data"
   ]
  },
  {
   "cell_type": "code",
   "execution_count": 47,
   "id": "bbb9267d",
   "metadata": {},
   "outputs": [],
   "source": [
    "# Read data\n",
    "closed_dir = '/net/jam-amaro-shared/dse_project/Spike_Dataset/TRAJECTORIES_spike_closed_prot_glyc_amarolab/results/'\n",
    "dfs = []; lens = []\n",
    "for i in range(1,4):\n",
    "    df = pd.read_csv(os.path.join(closed_dir,'FinalExtractedFeature_' + str(i) + '.csv'))\n",
    "    df.rename(columns={'Unnamed: 0':'Frame Num'},inplace=True)\n",
    "    \n",
    "    if i > 1:\n",
    "        df['Frame Num'] = df.apply(lambda x: x['Frame Num']+ sum(lens),axis=1)\n",
    "        \n",
    "    lens.append(len(df))\n",
    "    dfs.append(df)"
   ]
  },
  {
   "cell_type": "code",
   "execution_count": 48,
   "id": "594e6574",
   "metadata": {},
   "outputs": [],
   "source": [
    "# Append data\n",
    "df_out = pd.concat(dfs)"
   ]
  },
  {
   "cell_type": "code",
   "execution_count": 49,
   "id": "dde22b17",
   "metadata": {},
   "outputs": [],
   "source": [
    "# Write to file\n",
    "df_out.to_csv(os.path.join(closed_dir,'FinalExtractedFeature_closed.csv'))"
   ]
  },
  {
   "cell_type": "markdown",
   "id": "61233958",
   "metadata": {},
   "source": [
    "### Open Data"
   ]
  },
  {
   "cell_type": "code",
   "execution_count": 19,
   "id": "a516c48a",
   "metadata": {},
   "outputs": [],
   "source": [
    "# Read data\n",
    "open_dir = '/net/jam-amaro-shared/dse_project/Spike_Dataset/TRAJECTORIES_spike_open_prot_glyc_amarolab/results/'\n",
    "dfs = []; lens = []\n",
    "for i in range(1,7):\n",
    "    df = pd.read_csv(os.path.join(open_dir,'FinalExtractedFeature_' + str(i) + '.csv'))\n",
    "    df.rename(columns={'Unnamed: 0':'Frame Num'},inplace=True)\n",
    "    \n",
    "    if i > 1:\n",
    "        df['Frame Num'] = df.apply(lambda x: x['Frame Num']+ sum(lens),axis=1)\n",
    "        \n",
    "    lens.append(len(df))\n",
    "    dfs.append(df)"
   ]
  },
  {
   "cell_type": "code",
   "execution_count": 23,
   "id": "d08f5687",
   "metadata": {},
   "outputs": [],
   "source": [
    "# Append data\n",
    "df_out = pd.concat(dfs)"
   ]
  },
  {
   "cell_type": "code",
   "execution_count": 24,
   "id": "10ceca35",
   "metadata": {},
   "outputs": [],
   "source": [
    "# Write to file\n",
    "df_out.to_csv(os.path.join(open_dir,'FinalExtractedFeature_open.csv'))"
   ]
  },
  {
   "cell_type": "markdown",
   "id": "695d9aa9",
   "metadata": {},
   "source": [
    "### Mutated Data (Open)"
   ]
  },
  {
   "cell_type": "code",
   "execution_count": 3,
   "id": "7d72d6d3",
   "metadata": {},
   "outputs": [],
   "source": [
    "# Read data\n",
    "open_dir = '/net/jam-amaro-shared/dse_project/Spike_Dataset/TRAJECTORIES_spike_mutant_prot_glyc_amarolab.tar.gz/results/'\n",
    "dfs = []; lens = []\n",
    "for i in range(1,7):\n",
    "    df = pd.read_csv(os.path.join(open_dir,'FinalExtractedFeature_' + str(i) + '.csv'))\n",
    "    df.rename(columns={'Unnamed: 0':'Frame Num'},inplace=True)\n",
    "    \n",
    "    if i > 1:\n",
    "        df['Frame Num'] = df.apply(lambda x: x['Frame Num']+ sum(lens),axis=1)\n",
    "        \n",
    "    lens.append(len(df))\n",
    "    dfs.append(df)"
   ]
  },
  {
   "cell_type": "code",
   "execution_count": 4,
   "id": "9b1fa7ff",
   "metadata": {},
   "outputs": [],
   "source": [
    "# Append data\n",
    "df_out = pd.concat(dfs)"
   ]
  },
  {
   "cell_type": "code",
   "execution_count": 5,
   "id": "02046b20",
   "metadata": {},
   "outputs": [],
   "source": [
    "# Write to file\n",
    "df_out.to_csv(os.path.join(open_dir,'FinalExtractedFeature_mutant.csv'))"
   ]
  }
 ],
 "metadata": {
  "kernelspec": {
   "display_name": "Python 3 (ipykernel)",
   "language": "python",
   "name": "python3"
  },
  "language_info": {
   "codemirror_mode": {
    "name": "ipython",
    "version": 3
   },
   "file_extension": ".py",
   "mimetype": "text/x-python",
   "name": "python",
   "nbconvert_exporter": "python",
   "pygments_lexer": "ipython3",
   "version": "3.9.7"
  }
 },
 "nbformat": 4,
 "nbformat_minor": 5
}
