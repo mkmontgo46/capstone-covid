{
 "cells": [
  {
   "cell_type": "code",
   "execution_count": 1,
   "id": "2b48c8bf",
   "metadata": {},
   "outputs": [],
   "source": [
    "import pandas as pd\n",
    "import os\n",
    "import glob"
   ]
  },
  {
   "cell_type": "code",
   "execution_count": 13,
   "id": "f2c74f72",
   "metadata": {},
   "outputs": [],
   "source": [
    "data_dir = '/net/jam-amaro-shared/dse_project/Spike_Dataset/TRAJECTORIES_spike_closed_prot_glyc_amarolab/results/'\n",
    "files = glob.glob(os.path.join(data_dir,'*.csv'))\n",
    "# df1 = pd.read_csv(os.path.join(data_dir,'FinalExtractedFeature_2.csv'))\n",
    "# df2 = pd.read_csv(os.path.join(data_dir,'Feature_hBond_2.csv'))"
   ]
  },
  {
   "cell_type": "code",
   "execution_count": 8,
   "id": "e13dd9d6",
   "metadata": {},
   "outputs": [
    {
     "data": {
      "text/html": [
       "<div>\n",
       "<style scoped>\n",
       "    .dataframe tbody tr th:only-of-type {\n",
       "        vertical-align: middle;\n",
       "    }\n",
       "\n",
       "    .dataframe tbody tr th {\n",
       "        vertical-align: top;\n",
       "    }\n",
       "\n",
       "    .dataframe thead th {\n",
       "        text-align: right;\n",
       "    }\n",
       "</style>\n",
       "<table border=\"1\" class=\"dataframe\">\n",
       "  <thead>\n",
       "    <tr style=\"text-align: right;\">\n",
       "      <th></th>\n",
       "      <th>Unnamed: 0</th>\n",
       "      <th>frame</th>\n",
       "      <th>RBD_CA0:ROF</th>\n",
       "      <th>RBD_CA0:RMSD</th>\n",
       "      <th>RBD__2__CH_CA0</th>\n",
       "      <th>CH_CA0_x</th>\n",
       "      <th>CH_CA0_y</th>\n",
       "      <th>CH_CA0_z</th>\n",
       "      <th>CH_CA0:ROF</th>\n",
       "      <th>CH_CA0:RMSD</th>\n",
       "      <th>...</th>\n",
       "      <th>GLY9_y</th>\n",
       "      <th>GLY9_z</th>\n",
       "      <th>GLY9:ROF</th>\n",
       "      <th>GLY9:RMSD</th>\n",
       "      <th>RBD__2__backbone0</th>\n",
       "      <th>backbone0_x</th>\n",
       "      <th>backbone0_y</th>\n",
       "      <th>backbone0_z</th>\n",
       "      <th>backbone0:ROF</th>\n",
       "      <th>backbone0:RMSD</th>\n",
       "    </tr>\n",
       "  </thead>\n",
       "  <tbody>\n",
       "    <tr>\n",
       "      <th>0</th>\n",
       "      <td>0</td>\n",
       "      <td>frame_0</td>\n",
       "      <td>2.116789</td>\n",
       "      <td>0.112972</td>\n",
       "      <td>8.712101</td>\n",
       "      <td>0.154694</td>\n",
       "      <td>1.158976</td>\n",
       "      <td>17.816623</td>\n",
       "      <td>2.428101</td>\n",
       "      <td>0.079981</td>\n",
       "      <td>...</td>\n",
       "      <td>0.496452</td>\n",
       "      <td>6.026901</td>\n",
       "      <td>2.002471</td>\n",
       "      <td>0.285087</td>\n",
       "      <td>7.938426</td>\n",
       "      <td>-0.067021</td>\n",
       "      <td>-0.146222</td>\n",
       "      <td>18.206236</td>\n",
       "      <td>7.407213</td>\n",
       "      <td>0.136997</td>\n",
       "    </tr>\n",
       "    <tr>\n",
       "      <th>1</th>\n",
       "      <td>1</td>\n",
       "      <td>frame_1</td>\n",
       "      <td>2.140735</td>\n",
       "      <td>0.152970</td>\n",
       "      <td>8.768023</td>\n",
       "      <td>0.195938</td>\n",
       "      <td>1.129925</td>\n",
       "      <td>17.821366</td>\n",
       "      <td>2.444078</td>\n",
       "      <td>0.089409</td>\n",
       "      <td>...</td>\n",
       "      <td>0.554314</td>\n",
       "      <td>6.068583</td>\n",
       "      <td>1.979486</td>\n",
       "      <td>0.316865</td>\n",
       "      <td>7.978728</td>\n",
       "      <td>-0.052046</td>\n",
       "      <td>-0.194393</td>\n",
       "      <td>18.206253</td>\n",
       "      <td>7.417393</td>\n",
       "      <td>0.167378</td>\n",
       "    </tr>\n",
       "    <tr>\n",
       "      <th>2</th>\n",
       "      <td>2</td>\n",
       "      <td>frame_2</td>\n",
       "      <td>2.133114</td>\n",
       "      <td>0.154895</td>\n",
       "      <td>8.814266</td>\n",
       "      <td>0.254415</td>\n",
       "      <td>1.131852</td>\n",
       "      <td>17.816140</td>\n",
       "      <td>2.425940</td>\n",
       "      <td>0.078111</td>\n",
       "      <td>...</td>\n",
       "      <td>0.444531</td>\n",
       "      <td>6.161727</td>\n",
       "      <td>1.940991</td>\n",
       "      <td>0.294000</td>\n",
       "      <td>8.012170</td>\n",
       "      <td>-0.038830</td>\n",
       "      <td>-0.205160</td>\n",
       "      <td>18.203443</td>\n",
       "      <td>7.415116</td>\n",
       "      <td>0.202820</td>\n",
       "    </tr>\n",
       "    <tr>\n",
       "      <th>3</th>\n",
       "      <td>3</td>\n",
       "      <td>frame_3</td>\n",
       "      <td>2.137500</td>\n",
       "      <td>0.156855</td>\n",
       "      <td>8.784527</td>\n",
       "      <td>0.200139</td>\n",
       "      <td>1.203177</td>\n",
       "      <td>17.779988</td>\n",
       "      <td>2.433058</td>\n",
       "      <td>0.067106</td>\n",
       "      <td>...</td>\n",
       "      <td>0.523173</td>\n",
       "      <td>6.059414</td>\n",
       "      <td>1.908534</td>\n",
       "      <td>0.216838</td>\n",
       "      <td>7.982055</td>\n",
       "      <td>-0.064856</td>\n",
       "      <td>-0.185265</td>\n",
       "      <td>18.150527</td>\n",
       "      <td>7.406703</td>\n",
       "      <td>0.219833</td>\n",
       "    </tr>\n",
       "    <tr>\n",
       "      <th>4</th>\n",
       "      <td>4</td>\n",
       "      <td>frame_4</td>\n",
       "      <td>2.146934</td>\n",
       "      <td>0.195697</td>\n",
       "      <td>8.763188</td>\n",
       "      <td>0.231398</td>\n",
       "      <td>1.209977</td>\n",
       "      <td>17.803266</td>\n",
       "      <td>2.430306</td>\n",
       "      <td>0.091843</td>\n",
       "      <td>...</td>\n",
       "      <td>0.505250</td>\n",
       "      <td>5.979833</td>\n",
       "      <td>1.994664</td>\n",
       "      <td>0.299322</td>\n",
       "      <td>7.978649</td>\n",
       "      <td>-0.053702</td>\n",
       "      <td>-0.165852</td>\n",
       "      <td>18.157534</td>\n",
       "      <td>7.406320</td>\n",
       "      <td>0.237076</td>\n",
       "    </tr>\n",
       "  </tbody>\n",
       "</table>\n",
       "<p>5 rows × 436 columns</p>\n",
       "</div>"
      ],
      "text/plain": [
       "   Unnamed: 0    frame  RBD_CA0:ROF  RBD_CA0:RMSD  RBD__2__CH_CA0  CH_CA0_x  \\\n",
       "0           0  frame_0     2.116789      0.112972        8.712101  0.154694   \n",
       "1           1  frame_1     2.140735      0.152970        8.768023  0.195938   \n",
       "2           2  frame_2     2.133114      0.154895        8.814266  0.254415   \n",
       "3           3  frame_3     2.137500      0.156855        8.784527  0.200139   \n",
       "4           4  frame_4     2.146934      0.195697        8.763188  0.231398   \n",
       "\n",
       "   CH_CA0_y   CH_CA0_z  CH_CA0:ROF  CH_CA0:RMSD  ...    GLY9_y    GLY9_z  \\\n",
       "0  1.158976  17.816623    2.428101     0.079981  ...  0.496452  6.026901   \n",
       "1  1.129925  17.821366    2.444078     0.089409  ...  0.554314  6.068583   \n",
       "2  1.131852  17.816140    2.425940     0.078111  ...  0.444531  6.161727   \n",
       "3  1.203177  17.779988    2.433058     0.067106  ...  0.523173  6.059414   \n",
       "4  1.209977  17.803266    2.430306     0.091843  ...  0.505250  5.979833   \n",
       "\n",
       "   GLY9:ROF  GLY9:RMSD  RBD__2__backbone0  backbone0_x  backbone0_y  \\\n",
       "0  2.002471   0.285087           7.938426    -0.067021    -0.146222   \n",
       "1  1.979486   0.316865           7.978728    -0.052046    -0.194393   \n",
       "2  1.940991   0.294000           8.012170    -0.038830    -0.205160   \n",
       "3  1.908534   0.216838           7.982055    -0.064856    -0.185265   \n",
       "4  1.994664   0.299322           7.978649    -0.053702    -0.165852   \n",
       "\n",
       "   backbone0_z  backbone0:ROF  backbone0:RMSD  \n",
       "0    18.206236       7.407213        0.136997  \n",
       "1    18.206253       7.417393        0.167378  \n",
       "2    18.203443       7.415116        0.202820  \n",
       "3    18.150527       7.406703        0.219833  \n",
       "4    18.157534       7.406320        0.237076  \n",
       "\n",
       "[5 rows x 436 columns]"
      ]
     },
     "execution_count": 8,
     "metadata": {},
     "output_type": "execute_result"
    }
   ],
   "source": [
    "df1.head()"
   ]
  },
  {
   "cell_type": "code",
   "execution_count": 12,
   "id": "e1a6c143",
   "metadata": {},
   "outputs": [
    {
     "data": {
      "text/html": [
       "<div>\n",
       "<style scoped>\n",
       "    .dataframe tbody tr th:only-of-type {\n",
       "        vertical-align: middle;\n",
       "    }\n",
       "\n",
       "    .dataframe tbody tr th {\n",
       "        vertical-align: top;\n",
       "    }\n",
       "\n",
       "    .dataframe thead th {\n",
       "        text-align: right;\n",
       "    }\n",
       "</style>\n",
       "<table border=\"1\" class=\"dataframe\">\n",
       "  <thead>\n",
       "    <tr style=\"text-align: right;\">\n",
       "      <th></th>\n",
       "      <th>Unnamed: 0</th>\n",
       "      <th>RBD_GYC_interHbondTyp1</th>\n",
       "      <th>RBD_GYC_interHbondTyp2</th>\n",
       "      <th>GYC_IntraHbond</th>\n",
       "    </tr>\n",
       "  </thead>\n",
       "  <tbody>\n",
       "    <tr>\n",
       "      <th>0</th>\n",
       "      <td>0</td>\n",
       "      <td>0</td>\n",
       "      <td>0</td>\n",
       "      <td>0</td>\n",
       "    </tr>\n",
       "    <tr>\n",
       "      <th>1</th>\n",
       "      <td>1</td>\n",
       "      <td>0</td>\n",
       "      <td>0</td>\n",
       "      <td>0</td>\n",
       "    </tr>\n",
       "    <tr>\n",
       "      <th>2</th>\n",
       "      <td>2</td>\n",
       "      <td>0</td>\n",
       "      <td>0</td>\n",
       "      <td>0</td>\n",
       "    </tr>\n",
       "    <tr>\n",
       "      <th>3</th>\n",
       "      <td>3</td>\n",
       "      <td>0</td>\n",
       "      <td>0</td>\n",
       "      <td>0</td>\n",
       "    </tr>\n",
       "    <tr>\n",
       "      <th>4</th>\n",
       "      <td>4</td>\n",
       "      <td>0</td>\n",
       "      <td>0</td>\n",
       "      <td>0</td>\n",
       "    </tr>\n",
       "  </tbody>\n",
       "</table>\n",
       "</div>"
      ],
      "text/plain": [
       "   Unnamed: 0  RBD_GYC_interHbondTyp1  RBD_GYC_interHbondTyp2  GYC_IntraHbond\n",
       "0           0                       0                       0               0\n",
       "1           1                       0                       0               0\n",
       "2           2                       0                       0               0\n",
       "3           3                       0                       0               0\n",
       "4           4                       0                       0               0"
      ]
     },
     "execution_count": 12,
     "metadata": {},
     "output_type": "execute_result"
    }
   ],
   "source": [
    "df2.head()"
   ]
  },
  {
   "cell_type": "code",
   "execution_count": 11,
   "id": "a3de639a",
   "metadata": {},
   "outputs": [
    {
     "data": {
      "text/plain": [
       "Unnamed: 0                    1\n",
       "RBD_GYC_interHbondTyp1    10003\n",
       "RBD_GYC_interHbondTyp2    10003\n",
       "GYC_IntraHbond             7088\n",
       "dtype: int64"
      ]
     },
     "execution_count": 11,
     "metadata": {},
     "output_type": "execute_result"
    }
   ],
   "source": [
    "import numpy as np\n",
    "np.sum(df2==0)"
   ]
  },
  {
   "cell_type": "code",
   "execution_count": 14,
   "id": "9165ceca",
   "metadata": {},
   "outputs": [
    {
     "name": "stdout",
     "output_type": "stream",
     "text": [
      "/net/jam-amaro-shared/dse_project/Spike_Dataset/TRAJECTORIES_spike_closed_prot_glyc_amarolab/results/Feature_hBond_3.csv\n",
      "/net/jam-amaro-shared/dse_project/Spike_Dataset/TRAJECTORIES_spike_closed_prot_glyc_amarolab/results/FinalExtractedFeature_1.csv\n",
      "/net/jam-amaro-shared/dse_project/Spike_Dataset/TRAJECTORIES_spike_closed_prot_glyc_amarolab/results/Feature_hBond_2.csv\n",
      "/net/jam-amaro-shared/dse_project/Spike_Dataset/TRAJECTORIES_spike_closed_prot_glyc_amarolab/results/AllFeatures_closed.csv\n",
      "/net/jam-amaro-shared/dse_project/Spike_Dataset/TRAJECTORIES_spike_closed_prot_glyc_amarolab/results/FinalExtractedFeature_3.csv\n",
      "/net/jam-amaro-shared/dse_project/Spike_Dataset/TRAJECTORIES_spike_closed_prot_glyc_amarolab/results/FinalExtractedFeature_2.csv\n"
     ]
    }
   ],
   "source": [
    "for f in files:\n",
    "    print(f)"
   ]
  },
  {
   "cell_type": "markdown",
   "id": "109ee465",
   "metadata": {},
   "source": [
    "### Closed Data"
   ]
  },
  {
   "cell_type": "code",
   "execution_count": 14,
   "id": "bbb9267d",
   "metadata": {},
   "outputs": [],
   "source": [
    "# Read data\n",
    "closed_dir = '/net/jam-amaro-shared/dse_project/Spike_Dataset/TRAJECTORIES_spike_closed_prot_glyc_amarolab/results/'\n",
    "dfs = []; lens = []\n",
    "for i in range(1,4):\n",
    "    df = pd.read_csv(os.path.join(closed_dir,'FinalExtractedFeature_' + str(i) + '.csv'))\n",
    "    df.rename(columns={'Unnamed: 0':'Frame Num'},inplace=True)\n",
    "    df['Replicant'] = 'C'+str(i)\n",
    "    if i > 1:\n",
    "        df['Frame Num'] = df.apply(lambda x: x['Frame Num']+ sum(lens),axis=1)\n",
    "        \n",
    "    lens.append(len(df))\n",
    "    dfs.append(df)"
   ]
  },
  {
   "cell_type": "code",
   "execution_count": 15,
   "id": "594e6574",
   "metadata": {},
   "outputs": [],
   "source": [
    "# Append data\n",
    "df_out = pd.concat(dfs)"
   ]
  },
  {
   "cell_type": "code",
   "execution_count": 16,
   "id": "dde22b17",
   "metadata": {},
   "outputs": [],
   "source": [
    "# Write to file\n",
    "df_out.to_csv(os.path.join(closed_dir,'FinalExtractedFeature_closed.csv'))"
   ]
  },
  {
   "cell_type": "markdown",
   "id": "61233958",
   "metadata": {},
   "source": [
    "### Open Data"
   ]
  },
  {
   "cell_type": "code",
   "execution_count": 17,
   "id": "a516c48a",
   "metadata": {},
   "outputs": [],
   "source": [
    "# Read data\n",
    "open_dir = '/net/jam-amaro-shared/dse_project/Spike_Dataset/TRAJECTORIES_spike_open_prot_glyc_amarolab/results/'\n",
    "dfs = []; lens = []\n",
    "for i in range(1,7):\n",
    "    df = pd.read_csv(os.path.join(open_dir,'FinalExtractedFeature_' + str(i) + '.csv'))\n",
    "    df.rename(columns={'Unnamed: 0':'Frame Num'},inplace=True)\n",
    "    df['Replicant'] = 'O'+str(i)\n",
    "    if i > 1:\n",
    "        df['Frame Num'] = df.apply(lambda x: x['Frame Num']+ sum(lens),axis=1)\n",
    "        \n",
    "    lens.append(len(df))\n",
    "    dfs.append(df)"
   ]
  },
  {
   "cell_type": "code",
   "execution_count": 18,
   "id": "d08f5687",
   "metadata": {},
   "outputs": [],
   "source": [
    "# Append data\n",
    "df_out = pd.concat(dfs)"
   ]
  },
  {
   "cell_type": "code",
   "execution_count": 19,
   "id": "10ceca35",
   "metadata": {},
   "outputs": [],
   "source": [
    "# Write to file\n",
    "df_out.to_csv(os.path.join(open_dir,'FinalExtractedFeature_open.csv'))"
   ]
  },
  {
   "cell_type": "markdown",
   "id": "695d9aa9",
   "metadata": {},
   "source": [
    "### Mutated Data (Open)"
   ]
  },
  {
   "cell_type": "code",
   "execution_count": 5,
   "id": "7d72d6d3",
   "metadata": {},
   "outputs": [],
   "source": [
    "# Read data\n",
    "open_dir = '/net/jam-amaro-shared/dse_project/Spike_Dataset/TRAJECTORIES_spike_mutant_prot_glyc_amarolab/results/'\n",
    "dfs = []; lens = []\n",
    "for i in range(1,7):\n",
    "    df = pd.read_csv(os.path.join(open_dir,'FinalExtractedFeature_' + str(i) + '.csv'))\n",
    "    df.rename(columns={'Unnamed: 0':'Frame Num'},inplace=True)\n",
    "    \n",
    "    if i > 1:\n",
    "        df['Frame Num'] = df.apply(lambda x: x['Frame Num']+ sum(lens),axis=1)\n",
    "        \n",
    "    lens.append(len(df))\n",
    "    dfs.append(df)"
   ]
  },
  {
   "cell_type": "code",
   "execution_count": 6,
   "id": "9b1fa7ff",
   "metadata": {},
   "outputs": [],
   "source": [
    "# Append data\n",
    "df_out = pd.concat(dfs)"
   ]
  },
  {
   "cell_type": "code",
   "execution_count": 7,
   "id": "02046b20",
   "metadata": {},
   "outputs": [],
   "source": [
    "# Write to file\n",
    "df_out.to_csv(os.path.join(open_dir,'FinalExtractedFeature_mutant.csv'))"
   ]
  }
 ],
 "metadata": {
  "kernelspec": {
   "display_name": "Python 3 (ipykernel)",
   "language": "python",
   "name": "python3"
  },
  "language_info": {
   "codemirror_mode": {
    "name": "ipython",
    "version": 3
   },
   "file_extension": ".py",
   "mimetype": "text/x-python",
   "name": "python",
   "nbconvert_exporter": "python",
   "pygments_lexer": "ipython3",
   "version": "3.9.7"
  }
 },
 "nbformat": 4,
 "nbformat_minor": 5
}
