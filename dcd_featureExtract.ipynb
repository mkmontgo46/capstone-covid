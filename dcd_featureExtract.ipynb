{
 "cells": [
  {
   "cell_type": "code",
   "execution_count": null,
   "id": "fbd28680-c69f-423e-8a26-ecb3e4d1852d",
   "metadata": {},
   "outputs": [],
   "source": [
    "# Import libraries\n",
    "import os,sys,tarfile,re\n",
    "import time \n",
    "import numpy as np\n",
    "import pandas as pd\n",
    "import mdtraj as md\n",
    "from biopandas.pdb import PandasPdb\n",
    "\n",
    "import logging\n",
    "from queue import Queue\n",
    "from threading import Thread\n",
    "from time import time"
   ]
  },
  {
   "cell_type": "code",
   "execution_count": null,
   "id": "d12bf9ec-05d8-4308-9691-77d4e27934c7",
   "metadata": {},
   "outputs": [],
   "source": [
    "import plotly.graph_objects as go\n",
    "import plotly.express as px\n",
    "import numpy as np\n",
    "from plotly.subplots import make_subplots"
   ]
  },
  {
   "cell_type": "code",
   "execution_count": null,
   "id": "7561fd69-b090-44dc-a830-4f54a987f367",
   "metadata": {
    "jupyter": {
     "outputs_hidden": true
    },
    "tags": []
   },
   "outputs": [],
   "source": [
    "# Unzip folder\n",
    "zip_path = './DCD_FeatureExt_02_21_2022/DCD_FeatureExt_02_21_2022/bckup.tar.gz'\n",
    "with tarfile.open(name=zip_path, mode=\"r\") as tf:\n",
    "                print(f'Extracting {zip_path} : {tf.getnames()}')\n",
    "                fnames = tf.getnames()\n",
    "                tf.extractall('./')"
   ]
  },
  {
   "cell_type": "code",
   "execution_count": null,
   "id": "9c8ba73f-4b38-46bb-8ab6-0497dc834f7a",
   "metadata": {},
   "outputs": [],
   "source": [
    "# ID dcd and psf files\n",
    "dcdFile = './bckup/frame012.dcd'\n",
    "psfFile = './bckup/spike_WE_renumbered.psf'\n",
    "#dcdFile = './amarolab_covid19/TRAJECTORIES_continuous_spike_opening_WE_chong_and_amarolab/spike_WE.dcd'\n",
    "#psfFile = './amarolab_covid19/TRAJECTORIES_continuous_spike_opening_WE_chong_and_amarolab/spike_WE_renumbered.psf'\n",
    "trajDir = os.path.dirname(dcdFile)"
   ]
  },
  {
   "cell_type": "code",
   "execution_count": null,
   "id": "c85833b1-cc69-40fd-844e-40017db4e1da",
   "metadata": {},
   "outputs": [],
   "source": [
    "# Load dcd file as trajectory\n",
    "dcd_traj = md.load(dcdFile, top = psfFile)"
   ]
  },
  {
   "cell_type": "code",
   "execution_count": null,
   "id": "56e943c6-6604-44c2-955d-31e6e950970f",
   "metadata": {},
   "outputs": [],
   "source": [
    "def extract_glycan_residues_4m_pdb(dcdObj):\n",
    "    '''Extract glycans from dcd object. Glycans=atoms w/ segment_id == G1, G2, etc'''\n",
    "    dcdObj[0].save_pdb('.tmp.pdb')\n",
    "    pdb_df = PandasPdb().read_pdb('.tmp.pdb')\n",
    "       \n",
    "    pdb_atom_df = pdb_df.df['ATOM']\n",
    "    glycan_mask =  pdb_atom_df.segment_id.apply(lambda x : True if re.match('G\\d+', x) else False)\n",
    "    glycan_residues = pdb_atom_df[glycan_mask].residue_name.unique()\n",
    "    if os.path.exists('.tmp.pdb'):\n",
    "        os.remove('.tmp.pdb')\n",
    "    del pdb_df\n",
    "    return glycan_residues    "
   ]
  },
  {
   "cell_type": "code",
   "execution_count": null,
   "id": "bb4949f5-bd34-4da3-9174-f4cda81fa90b",
   "metadata": {},
   "outputs": [],
   "source": [
    "def get_atom_ids_for_feature(dcd_traj,feature='protein'):\n",
    "    '''Get atom ids for top-level structures using mdtraj'''\n",
    "    try:\n",
    "        result = (i for i in dcd_traj.top.select(feature))\n",
    "    except :\n",
    "        print(f'[ERROR] {feature} not recognized for atom filtering')\n",
    "        result = []\n",
    "    else :\n",
    "        #print(f'[INFO] # of atoms : {len(list(result))} filtered for {feature}')\n",
    "        return list(result)\n",
    "\n",
    "def build_atom_lup_4_common_features(dcd_traj,flist = ['protein', 'backbone','sidechain']):\n",
    "    '''Pull atoms for all top-level structures from dcd'''\n",
    "    return {f: get_atom_ids_for_feature(dcd_traj,f) for f in flist}"
   ]
  },
  {
   "cell_type": "code",
   "execution_count": null,
   "id": "df4388e6-a2f5-4e9e-9146-5276bfc14294",
   "metadata": {},
   "outputs": [],
   "source": [
    "def metric_4m_mDtraj(dcdObj):\n",
    "    '''Compute radius of gyration, density, & COM for dcd object'''\n",
    "    return {'Rofguration' : md.compute_rg(dcdObj),\n",
    "            'density' : md.density(dcdObj),\n",
    "            'compute_center_of_mass' : md.compute_center_of_mass(dcdObj)\n",
    "            }"
   ]
  },
  {
   "cell_type": "code",
   "execution_count": null,
   "id": "a390aea9-141b-4c8c-9216-84674ff96906",
   "metadata": {},
   "outputs": [],
   "source": [
    "def rmsd_by_mdTraj(f1,f2):\n",
    "    '''Calculate rmsd using mdtraj'''\n",
    "    return md.rmsd(f1,f2)[0]\n",
    "def gen_frame_tuples(dcdObj):\n",
    "    '''Create tuples for use in calculating rmsd'''\n",
    "    return ((i+1,i) for i in range(dcdObj.n_frames -1 ))"
   ]
  },
  {
   "cell_type": "code",
   "execution_count": null,
   "id": "7dc3e62f-b06f-45cb-bcf8-35dfcebfb10a",
   "metadata": {},
   "outputs": [],
   "source": [
    "def save_dcdMetric(addon_metrics,fileOut = f'{trajDir}/dcd_ExtractedMetrics.csv'):    \n",
    "    '''Write extracted features to csv'''\n",
    "    dcd_metricOut_df = pd.DataFrame()\n",
    "    for k in addon_metrics.keys():\n",
    "        if (( type(addon_metrics[k]) == list) or ( len(addon_metrics[k].shape) == 1)):\n",
    "            dcd_metricOut_df[k] = addon_metrics[k]\n",
    "        else :\n",
    "            for y in range(addon_metrics[k].shape[1]):\n",
    "\n",
    "                dcd_metricOut_df[k + '_' + str(y)] = addon_metrics[k][:,y]\n",
    "    dcd_metric_Out_df = (dcd_metricOut_df\n",
    "     .assign(frame = lambda df : [ f'frame_{i}' for i in range(df.shape[0]) ])\n",
    "     .rename(columns = {'Rofguration' : 'rofgyration' , \n",
    "                        'compute_center_of_mass_0' : 'COM_x',\n",
    "                        'compute_center_of_mass_1' : 'COM_y',\n",
    "                        'compute_center_of_mass_2' : 'COM_z'\n",
    "                       }\n",
    "            )\n",
    "     .loc[:, ['frame','rofgyration','density',\n",
    "     'rmsd', \n",
    "     'COM_x',\n",
    "     'COM_y',\n",
    "     'COM_z',\n",
    "     ]]\n",
    "\n",
    "    )\n",
    "    if not os.path.exists(os.path.dirname(fileOut)):\n",
    "        os.mkdir(os.path.dirname(fileOut))\n",
    "        \n",
    "    dcd_metric_Out_df.to_csv(fileOut)\n",
    "    #print(f'[INFO] metric dumped ==> {fileOut}')\n",
    "    return dcd_metric_Out_df\n"
   ]
  },
  {
   "cell_type": "code",
   "execution_count": null,
   "id": "1a6669c7-92c6-4153-808f-61048d056c5d",
   "metadata": {},
   "outputs": [],
   "source": [
    "def extract_features_4m_filteredTraj(trajObj,trajName):\n",
    "    '''Extract top-level features, put into dataframe and write to file'''\n",
    "    addon_metrics = metric_4m_mDtraj(trajObj)\n",
    "    addon_metrics['rmsd'] = [md.rmsd(trajObj[i+1],trajObj[0])[0] for i in range(trajObj.n_frames - 1)]\n",
    "    addon_metrics['rmsd'].append(md.rmsd(trajObj[-1],trajObj[0])[0])\n",
    "    df = save_dcdMetric(addon_metrics,fileOut=f'{trajDir}/{trajName}/featureMetric.csv')\n",
    "    return df.assign(tracjectory_KEY = trajName)"
   ]
  },
  {
   "cell_type": "code",
   "execution_count": null,
   "id": "249cfec3-4749-4c21-a3e0-53c30742b39c",
   "metadata": {},
   "outputs": [],
   "source": [
    "def extract_featuresPerChain_4m_filteredTraj(trajObj,trajName, chainIds = []):\n",
    "    '''Extract chain-level features, put into dataframe, and write to file'''\n",
    "    # Initialize\n",
    "    df = pd.DataFrame()\n",
    "    if len(chainIds) == 0 :\n",
    "        chainIds = range(trajObj.n_chains)\n",
    "    \n",
    "    # Extract atom ids for each chain\n",
    "    chain_LUP = {f'chainID_{c}' : get_atom_ids_for_feature(trajObj,f'chainid == {c}') for c in range(trajObj.n_chains) if c in chainIds}\n",
    "    print(f'[INFO] {trajName} {len(list(chain_LUP.keys()))} chains considered for feature extraction')\n",
    "    for k in chain_LUP.keys():\n",
    "        \n",
    "        # Derive chain trajectory\n",
    "        cur_time = time()\n",
    "        print(f'[INFO] deriving Chain {k} tracjectory')\n",
    "        chainObj = derive_trajectory(trajObj,frames=list(range(trajObj.n_frames)),atom_key= f'{k}',LUP = chain_LUP) \n",
    "        print(f'[INFO] Chain {k} tracjectory derivation completed in {round(time() - cur_time,2) } seconds')\n",
    "        # Extract metrics for chain\n",
    "        cur_time = time()\n",
    "        addon_metrics = metric_4m_mDtraj(chainObj) #radius of gyration, density, COM\n",
    "        addon_metrics['rmsd'] = [md.rmsd(chainObj[i+1],chainObj[0])[0] for i in range(chainObj.n_frames - 1)]\n",
    "        addon_metrics['rmsd'].append(md.rmsd(chainObj[-1],chainObj[0])[0]) #rmsd\n",
    "        del chainObj\n",
    "        # Insert extracted metrics into dataframe and write to file\n",
    "        df = (df.append(\n",
    "                save_dcdMetric(addon_metrics,fileOut=f'{trajDir}/{trajName}/featureMetric__{k}.csv')\n",
    "                .assign(chain_ID = k)\n",
    "                .assign(tracjectory_KEY = trajName)\n",
    "                )\n",
    "             )\n",
    "        print(f'[INFO] Feature extraction for chain {k} completed in {round(time() - cur_time,2) } seconds')\n",
    "        \n",
    "    return df"
   ]
  },
  {
   "cell_type": "code",
   "execution_count": null,
   "id": "e6729def-f6cf-4905-baa4-c70f5ad9d377",
   "metadata": {},
   "outputs": [],
   "source": [
    "def derive_trajectory(traj_Full,frames=[0], atom_key = 'backbone', LUP = {}):\n",
    "    '''Take subset of trajectory for relevant atoms'''\n",
    "    return traj_Full[frames].atom_slice(LUP[atom_key])"
   ]
  },
  {
   "cell_type": "code",
   "execution_count": null,
   "id": "83d04148-4801-4804-ac60-fc710821d831",
   "metadata": {},
   "outputs": [],
   "source": [
    "# Pull atom ids for top-level strucutes from trajectory\n",
    "atom_id_LUP = build_atom_lup_4_common_features(dcd_traj)\n",
    "atom_id_LUP['GLY'] =[]"
   ]
  },
  {
   "cell_type": "code",
   "execution_count": null,
   "id": "8bb15eae-85df-4f93-89e2-912cf37e4222",
   "metadata": {},
   "outputs": [],
   "source": [
    "# Extract glycan atom ids\n",
    "for gly in extract_glycan_residues_4m_pdb(dcd_traj):\n",
    "    for gly_atom in get_atom_ids_for_feature(dcd_traj,f\"resn =~ {gly}\"):\n",
    "        atom_id_LUP['GLY'].append(gly_atom)"
   ]
  },
  {
   "cell_type": "code",
   "execution_count": null,
   "id": "14744313-d580-4e95-a56a-0c6d02bbdb37",
   "metadata": {},
   "outputs": [],
   "source": [
    "# Extract atom ids for RBD and Central Helix (CH)\n",
    "atom_id_LUP['RBD_CA'] = get_atom_ids_for_feature(dcd_traj,\"resid >= 330 and resid <= 530 and name == CA\")\n",
    "atom_id_LUP['CH_CA'] = get_atom_ids_for_feature(dcd_traj,\"((resid >= 747 and resid <= 784) or (resid >= 946 and resid <= 967) or (resid >= 986 and resid <= 1034)) and (name == CA)\")"
   ]
  },
  {
   "cell_type": "code",
   "execution_count": null,
   "id": "b1d578ad-ac3b-4966-aedc-48236b41a17d",
   "metadata": {
    "tags": []
   },
   "outputs": [],
   "source": [
    "#atom_id_LUP.keys()"
   ]
  },
  {
   "cell_type": "markdown",
   "id": "1a3614ce-6b19-4796-b1b1-3800c81ce407",
   "metadata": {},
   "source": [
    "#### Find GLY chian atoms within 4A of RBD"
   ]
  },
  {
   "cell_type": "code",
   "execution_count": null,
   "id": "f5fbbbd8-0e85-45e1-a995-c4c862b72cc8",
   "metadata": {},
   "outputs": [],
   "source": [
    "## build trajectore from filtered atoms of RBD and GLY, use only frame-0\n",
    "traj_GLY_F0 = derive_trajectory(dcd_traj,atom_key='GLY', LUP=atom_id_LUP)\n",
    "traj_RBD_F0 = derive_trajectory(dcd_traj,atom_key='RBD_CA', LUP=atom_id_LUP)"
   ]
  },
  {
   "cell_type": "code",
   "execution_count": null,
   "id": "be9dc904-11bb-456b-8137-ef98e35ef558",
   "metadata": {
    "jupyter": {
     "outputs_hidden": true
    },
    "tags": []
   },
   "outputs": [],
   "source": [
    "## get COM of all chains in GLY-trajectory of frame1\n",
    "GLY_RBD_proximity_df = pd.DataFrame(columns=['chain','x','y','z'])\n",
    "# Get atom ids\n",
    "GLY_chain_LUP = {f'chainID_{c}' : get_atom_ids_for_feature(traj_GLY_F0,f'chainid == {c}')  for c in range(traj_GLY_F0.n_chains)}\n",
    "GLY_chain_COM = {}\n",
    "for k in GLY_chain_LUP.keys():\n",
    "        #print(f'[INFO] deriving Chain {k} tracjectory')\n",
    "        # Derive trajectory\n",
    "        chainObj = derive_trajectory(traj_GLY_F0,frames=list(range(traj_GLY_F0.n_frames)),atom_key= f'{k}',LUP = GLY_chain_LUP)\n",
    "        # Calculate COM\n",
    "        GLY_chain_COM[k] = md.compute_center_of_mass(chainObj)\n",
    "        # Add to dataframe\n",
    "        GLY_RBD_proximity_df = GLY_RBD_proximity_df.append(pd.DataFrame(columns =['x','y','z'], data =[GLY_chain_COM[k][0]]).assign(chain = k))"
   ]
  },
  {
   "cell_type": "code",
   "execution_count": null,
   "id": "1ca04411-e2c8-46ea-a577-cfa35c17b582",
   "metadata": {},
   "outputs": [],
   "source": [
    "# Compute COM of RBD (x,y,z)\n",
    "RBD_COM = md.compute_center_of_mass(traj_RBD_F0)\n",
    "GLY_RBD_proximity_df['RBD_x'] = RBD_COM[0][0]\n",
    "GLY_RBD_proximity_df['RBD_y'] = RBD_COM[0][1]\n",
    "GLY_RBD_proximity_df['RBD_z'] = RBD_COM[0][2]"
   ]
  },
  {
   "cell_type": "code",
   "execution_count": null,
   "id": "367b76e1-cc58-4254-b534-310c18fa0a73",
   "metadata": {},
   "outputs": [],
   "source": [
    "### calculate the distance in center of mass of RBD vs GLY_chains and drop all GLY chains > 4A\n",
    "GLY_RBD_proximity_df = (GLY_RBD_proximity_df\n",
    "    .assign(distance = lambda df : np.sqrt((np.square(df.x - df.RBD_x) + np.square(df.y - df.RBD_y) + np.square(df.z - df.RBD_z)).astype(float)))\n",
    "    .sort_values(by = ['distance'],ascending=True)    \n",
    ")\n",
    "GLY_chain_ids_next_to_RBD =  [int(s_c[0]) for s_c in GLY_RBD_proximity_df[GLY_RBD_proximity_df.distance <= 4].chain.str.extract(r'chainID_(\\d+)').values]\n",
    "#GLY_chain_ids_next_to_RBD, atom_id_LUP.keys()"
   ]
  },
  {
   "cell_type": "markdown",
   "id": "92f363ce-b8b6-432a-ad17-e33d3b0f3e90",
   "metadata": {},
   "source": [
    "#### Extract feature matrix from backbone , RBD & CH without sub-fracturing into chains\n",
    "#### Extract feature matrix from each shortlisted Glycan chain in GLY_chain_ids_next_to_RBD"
   ]
  },
  {
   "cell_type": "code",
   "execution_count": null,
   "id": "26cc1be2-b366-4abf-95dc-de83c2274376",
   "metadata": {
    "tags": []
   },
   "outputs": [],
   "source": [
    "def launchFeatureExract(dcdObj,gly_chains, LUP=atom_id_LUP):\n",
    "    '''Extract features for the RBD, CH, backbone, and each glycan close to RBD. Write each feature set to file.'''\n",
    "    \n",
    "    df_Traj_chains = pd.DataFrame()    \n",
    "    start_0 = time()\n",
    "    for k in atom_id_LUP.keys():\n",
    "        if k == 'protein' or k == 'sidechain':\n",
    "            continue\n",
    "        cur_time = time()\n",
    "        print(f'[INFO] deriving Tracjectory for {k}')\n",
    "        curTraj = derive_trajectory(dcdObj,frames=list(range(dcdObj.n_frames)),atom_key=k ,LUP = atom_id_LUP)\n",
    "        print(f'[INFO] Tracjectory derivation completed in {round(time() - cur_time,2) } seconds')\n",
    "       \n",
    "        if k == 'GLY' :\n",
    "            print(f'[INFO] Starting Feature extraction for {gly_chains} of feature {k}')\n",
    "            extract_featuresPerChain_4m_filteredTraj(curTraj,k, chainIds = gly_chains)\n",
    "\n",
    "        else : \n",
    "            print(f'[INFO] Starting Feature extraction for {k}')\n",
    "            extract_features_4m_filteredTraj(curTraj,k)\n",
    "\n",
    "        print(f'[INFO] Feature extraction for  {k} completed in {round(time() - cur_time,2) } seconds')\n",
    "        del curTraj\n",
    "\n",
    "    print(f'[INFO] Time elapsed for Feature extraction {round(time() - start_0,2) } seconds')\n",
    "    "
   ]
  },
  {
   "cell_type": "code",
   "execution_count": null,
   "id": "dd3ccaf9-d76d-4070-a556-b8edfa578c3f",
   "metadata": {
    "tags": []
   },
   "outputs": [],
   "source": [
    "#Extract features for the RBD, CH, backbone, and each glycan close to RBD. Write each feature set to file.\n",
    "#dcd_traj[:3].save_dcd(f'{trajDir}/frame012.dcd')\n",
    "launchFeatureExract(dcd_traj,GLY_chain_ids_next_to_RBD)"
   ]
  },
  {
   "cell_type": "markdown",
   "id": "73271384-108c-4c9d-b41f-bb4afd48b6fc",
   "metadata": {},
   "source": [
    "####  Gen 3D scatter to help visualize"
   ]
  },
  {
   "cell_type": "code",
   "execution_count": null,
   "id": "02a6893a-7165-4a2a-b522-80735b79b9a9",
   "metadata": {},
   "outputs": [],
   "source": [
    "def get_xyz_perFrame(traj,atom_ids):\n",
    "    return pd.DataFrame(columns=['x','y','z'], data=traj.xyz[0,atom_ids])"
   ]
  },
  {
   "cell_type": "code",
   "execution_count": null,
   "id": "15c3359a-2b4f-4575-ac72-8e4889b6e8a8",
   "metadata": {},
   "outputs": [],
   "source": [
    "def gen_xyz_Table_4_LUP(LUP = atom_id_LUP, keyNames =['sidechain','RBD_CA', 'CH_CA', 'GLY','backbone'] ):\n",
    "    frame_0_coord_df = pd.DataFrame(columns=['type','typeID','x','y','z'])\n",
    "    i = 0 \n",
    "    for k in LUP.keys():\n",
    "        if k in keyNames:\n",
    "            frame_0_coord_df = (frame_0_coord_df\n",
    "            .append(get_xyz_perFrame(dcd_traj,LUP[k]).assign(type = k).assign(typeID = i))\n",
    "                               )\n",
    "            i += 1\n",
    "    return frame_0_coord_df"
   ]
  },
  {
   "cell_type": "code",
   "execution_count": null,
   "id": "9cdd7b95-c13b-4cfc-8d54-39c022b9f032",
   "metadata": {
    "tags": []
   },
   "outputs": [],
   "source": [
    "frame_0_coord_df = gen_xyz_Table_4_LUP()\n",
    "fig = px.scatter_3d(frame_0_coord_df, x='x', y='y', z='z',\n",
    "          color='type',width=800,height=800,opacity=0.5, \n",
    "                    #size = [20 for i in range(frame_0_coord_df.shape[0])]\n",
    "            )\n"
   ]
  },
  {
   "cell_type": "code",
   "execution_count": null,
   "id": "714e824b-ae3e-4836-abb2-5c3ead26b6af",
   "metadata": {},
   "outputs": [],
   "source": [
    "fig.show()"
   ]
  },
  {
   "cell_type": "markdown",
   "id": "9115346f-5362-4630-bf30-98968f279e8b",
   "metadata": {},
   "source": [
    "\n",
    "- RBD , CH  (com)\n",
    "- sidechain + glycans -->  (G1-G70)  AI (Anand/Lorenzo)\n",
    "- Monomer A/B/C  --> (Needs Info)  AI (Anand/Lorenzo)\n",
    "- backbone (low prioroty) \n",
    "\n",
    "\n",
    "- Monomer A/B/C are comprised of group of chains. these chainIDs need to be provided by Lab/Data experts?\n"
   ]
  },
  {
   "cell_type": "markdown",
   "id": "73642219-5102-463a-9990-1102a7235b07",
   "metadata": {},
   "source": [
    "#### Read-in extracted feature per chain for RBD/backbone/CH"
   ]
  },
  {
   "cell_type": "code",
   "execution_count": null,
   "id": "a4df3f3e-dfd0-43e5-aca8-8801ef6680b7",
   "metadata": {},
   "outputs": [],
   "source": [
    "import glob"
   ]
  },
  {
   "cell_type": "code",
   "execution_count": null,
   "id": "70ab5a4a-64e5-461d-834c-6d9344115645",
   "metadata": {
    "tags": []
   },
   "outputs": [],
   "source": [
    "#Read in extracted features from csvs\n",
    "featureFile_dict = {k : glob.glob(f'./bckup/{k}/*csv') for k in ['backbone','RBD_CA', 'CH_CA', 'GLY']}   \n",
    "feature_df = pd.DataFrame()\n",
    "# Put in single dataframe\n",
    "for k in featureFile_dict.keys():\n",
    "    for f in  featureFile_dict[k]:\n",
    "        if 'chain' in f:\n",
    "            cid = int(os.path.basename(f).split('_')[-1].replace('.csv',''))\n",
    "            if k == 'GLY':\n",
    "                if cid in GLY_chain_ids_next_to_RBD:\n",
    "                    feature_df = feature_df.append(pd.read_csv(f).assign(feature = k).assign(chainID = cid )  )\n",
    "                else :\n",
    "                    continue\n",
    "        else :\n",
    "            feature_df = feature_df.append(pd.read_csv(f).assign(feature = k).assign(chainID = 0)  )\n",
    "feature_df = feature_df.drop(['Unnamed: 0'],axis=1)"
   ]
  },
  {
   "cell_type": "code",
   "execution_count": null,
   "id": "e043b421-980a-45dc-8fe3-fa9eaf61e44e",
   "metadata": {},
   "outputs": [],
   "source": [
    "# Name features as: structure name + chain ID\n",
    "feature_df = feature_df.assign(feature_chain = lambda df  : df.feature +  df.chainID.astype(str))"
   ]
  },
  {
   "cell_type": "code",
   "execution_count": null,
   "id": "4305066d-bd23-46e8-9a9e-acefb817ae64",
   "metadata": {},
   "outputs": [],
   "source": [
    "# Plot atom locations for frame 0\n",
    "fig = px.scatter_3d((feature_df[(feature_df.frame == 'frame_0') ]\n",
    ".iloc[:,4:]\n",
    ".assign(feature_chain = lambda df : df.feature_chain.apply(lambda x : x + '_COM'))\n",
    ".rename(columns= {'COM_x' : 'x', 'COM_y' : 'y', 'COM_z' : 'z', 'feature_chain' : 'type', 'chainID' : 'typeID'})\n",
    ".loc[:,['type','typeID','x','y','z']]\n",
    ".append(frame_0_coord_df[frame_0_coord_df.type.isin(['RBD_CA','CH_CA'])])\n",
    "),\n",
    "x='x', y='y', z='z',  color='type',width=800,height=800,opacity=0.5,\n",
    ")"
   ]
  },
  {
   "cell_type": "markdown",
   "id": "398afa7b-6bfa-4a0e-a775-62f9e1fc9d1f",
   "metadata": {},
   "source": [
    "#### Center of Mass off Filtered Glycan chains in the vicinity of RBD"
   ]
  },
  {
   "cell_type": "code",
   "execution_count": null,
   "id": "6a28602b-91a1-43b8-973e-7a95ad5709f9",
   "metadata": {},
   "outputs": [],
   "source": [
    "fig.show()"
   ]
  },
  {
   "cell_type": "code",
   "execution_count": null,
   "id": "8229a694-0080-416f-ac2b-46d3559318da",
   "metadata": {},
   "outputs": [],
   "source": [
    "def extract_distance_metric(df1,df2):\n",
    "   \n",
    "    return (df1\n",
    "     .merge(df2, left_on=['frame'], right_on=['frame'], how = 'inner', suffixes = ['_1','_2'])\n",
    "     .assign(metric = lambda dfx : np.sqrt((np.square(dfx.COM_x_1 - dfx.COM_x_2) + np.square(dfx.COM_y_1 - dfx.COM_y_2) + np.square(dfx.COM_z_1 - dfx.COM_z_2) ).astype(float)))\n",
    "     .metric.to_list()\n",
    "    )"
   ]
  },
  {
   "cell_type": "code",
   "execution_count": null,
   "id": "e6c7a7d6-b6ab-44aa-a6ce-342cf84bb76f",
   "metadata": {},
   "outputs": [],
   "source": [
    "feature_df.head()"
   ]
  },
  {
   "cell_type": "code",
   "execution_count": null,
   "id": "8ad79be2-92be-46bb-8f4b-1da3fcbf6c88",
   "metadata": {
    "tags": []
   },
   "outputs": [],
   "source": [
    "common_features = ['rofgyration','density','rmsd']\n",
    "final_feature_df = pd.DataFrame(columns=['frame'], data = feature_df[feature_df.feature == 'RBD_CA'].frame.to_list())\n",
    "for c in common_features:\n",
    "            final_feature_df[f'RBD_CA0:{c}'] = feature_df[feature_df.feature_chain == 'RBD_CA0'][c]\n",
    "        \n",
    "for f in sorted(feature_df.feature_chain.unique()):\n",
    "    if f != 'RBD_CA0' and not re.match(r'sidechain\\d+',f) :\n",
    "        match_object = re.match(r'GLY(\\d+)',f)\n",
    "        if match_object != None:\n",
    "            if int(match_object.group(1)) not in GLY_chain_ids_next_to_RBD:\n",
    "                continue\n",
    "        final_feature_df[f'RBD__2__{f}'] = extract_distance_metric(feature_df[feature_df.feature_chain == 'RBD_CA0'], feature_df[feature_df.feature_chain == f])\n",
    "        for c in common_features:\n",
    "            final_feature_df[f'{f}:{c}'] = feature_df[feature_df.feature_chain == f][c]\n",
    "\n"
   ]
  },
  {
   "cell_type": "code",
   "execution_count": null,
   "id": "5d2aad6b-1932-4080-815b-af076c9b84f7",
   "metadata": {},
   "outputs": [],
   "source": [
    "final_feature_df"
   ]
  },
  {
   "cell_type": "code",
   "execution_count": null,
   "id": "926b382e-f265-4264-a723-9e49921bf41b",
   "metadata": {},
   "outputs": [],
   "source": [
    "!pwd"
   ]
  },
  {
   "cell_type": "markdown",
   "id": "9c495885-a5eb-4741-b570-53701c32b804",
   "metadata": {},
   "source": [
    "### OLD Review Plots"
   ]
  },
  {
   "cell_type": "markdown",
   "id": "102eafc8-d334-4b41-b9b4-7513cf5c0f82",
   "metadata": {
    "tags": []
   },
   "source": [
    "#### RBD and CH COM "
   ]
  },
  {
   "cell_type": "code",
   "execution_count": null,
   "id": "3578c949-2cc5-46c0-9d20-ebc97d0dd493",
   "metadata": {},
   "outputs": [],
   "source": [
    "feature_df_F0 = feature_df[(feature_df.frame == 'frame_0') & feature_df.feature.str.contains('_CA')].assign(feature_chain =  lambda df : df.feature + df.chainID)\n",
    "feature_chain_trace =  go.Scatter3d(\n",
    "    x=feature_df_F0.COM_x,\n",
    "    y=feature_df_F0.COM_y,\n",
    "    z=feature_df_F0.COM_z,\n",
    "    mode='markers',\n",
    "    name='RBD_n_CH_COM',\n",
    "    hovertext= feature_df_F0.feature_chain,\n",
    "    marker=dict(\n",
    "        size=18,\n",
    "        #color=feature_df_F0.chainID,                # set color to an array/list of desired values\n",
    "        color ='black',\n",
    "        colorscale='Viridis',   # choose a colorscale\n",
    "        opacity=0.8\n",
    "    ),\n",
    "   \n",
    ")\n",
    "feature_df_F0"
   ]
  },
  {
   "cell_type": "code",
   "execution_count": null,
   "id": "eff10fc7-b869-490f-987b-7381681702c1",
   "metadata": {},
   "outputs": [],
   "source": [
    "frame_0_trace = go.Scatter3d(\n",
    "    x=frame_0_coord_df.x,\n",
    "    y=frame_0_coord_df.y,\n",
    "    z=frame_0_coord_df.z,\n",
    "    mode='markers',\n",
    "    name='frame_0_scatter',\n",
    "    hovertext= frame_0_coord_df.type,\n",
    "    marker=dict(\n",
    "        size=12,\n",
    "        color=frame_0_coord_df.typeID,                # set color to an array/list of desired values\n",
    "        colorscale='Viridis',   # choose a colorscale\n",
    "        opacity=0.5\n",
    "    ),\n",
    "   \n",
    ")\n",
    "fig = go.Figure(data=[frame_0_trace,feature_chain_trace])\n",
    "\n",
    "fig.update_layout(\n",
    "    #autosize=False,\n",
    "    width=800,\n",
    "    height=800\n",
    "    \n",
    ")\n",
    "fig.show()"
   ]
  },
  {
   "cell_type": "markdown",
   "id": "c97cb951-7b82-4231-8f96-c7946e36c16c",
   "metadata": {},
   "source": [
    "#### Filtered GLY Chain COM close to RBD. \n",
    "- see that black dots in plot below"
   ]
  },
  {
   "cell_type": "code",
   "execution_count": null,
   "id": "d6ed9a89-1add-4ab7-aed5-218ca000fc4f",
   "metadata": {},
   "outputs": [],
   "source": [
    "feature_df[(feature_df.frame == 'frame_0')  & feature_df.feature.str.contains('GL') & feature_df.chainID.astype(int).isin(GLY_chain_ids_next_to_RBD)].sort_values(by=['chainID'])"
   ]
  },
  {
   "cell_type": "code",
   "execution_count": null,
   "id": "77447e17-c203-4b19-a516-e8b196c74ad8",
   "metadata": {},
   "outputs": [],
   "source": [
    "feature_df_F0 =feature_df[(feature_df.frame == 'frame_0')  & feature_df.feature.str.contains('GL') & feature_df.chainID.astype(int).isin(GLY_chain_ids_next_to_RBD)].sort_values(by=['chainID']).assign(feature_chain =  lambda df : df.feature + df.chainID)\n",
    "feature_chain_trace =  go.Scatter3d(\n",
    "    x=feature_df_F0.COM_x,\n",
    "    y=feature_df_F0.COM_y,\n",
    "    z=feature_df_F0.COM_z,\n",
    "    mode='markers',\n",
    "    name='GLY_chains',\n",
    "    hovertext= feature_df_F0.feature_chain,\n",
    "    marker=dict(\n",
    "        size=18,\n",
    "        #color=feature_df_F0.chainID,                # set color to an array/list of desired values\n",
    "        color ='black',\n",
    "        colorscale='Viridis',   # choose a colorscale\n",
    "        opacity=0.8\n",
    "    ),\n",
    "   \n",
    ")\n"
   ]
  },
  {
   "cell_type": "code",
   "execution_count": null,
   "id": "45279c84-ed8c-43ad-af6d-1db6cf38a0af",
   "metadata": {},
   "outputs": [],
   "source": [
    "fig = go.Figure(data=[frame_0_trace,feature_chain_trace])\n",
    "\n",
    "fig.update_layout(\n",
    "    #autosize=False,\n",
    "    width=800,\n",
    "    height=800\n",
    "    \n",
    ")\n",
    "fig.show()"
   ]
  },
  {
   "cell_type": "markdown",
   "id": "c6f0c035-3522-4ec4-abc3-fe32554abed3",
   "metadata": {},
   "source": [
    "#### backbone and 6 chains of it with their COMs"
   ]
  },
  {
   "cell_type": "code",
   "execution_count": null,
   "id": "1e3cd4ce-584f-4c3b-92cb-88e6ee73c8c6",
   "metadata": {},
   "outputs": [],
   "source": [
    "feature_df_F0_b = feature_df[(feature_df.frame == 'frame_0') & feature_df.feature.str.endswith('backbone')].assign(feature_chain =  lambda df : df.feature + df.chainID)\n",
    "feature_chain_trace_b =  go.Scatter3d(\n",
    "    x=feature_df_F0_b.COM_x,\n",
    "    y=feature_df_F0_b.COM_y,\n",
    "    z=feature_df_F0_b.COM_z,\n",
    "    name='backbone_COM',\n",
    "    mode='markers',\n",
    "    hovertext= feature_df_F0_b.feature_chain,\n",
    "    marker=dict(\n",
    "        size=18,\n",
    "        #color=feature_df_F0.chainID,                # set color to an array/list of desired values\n",
    "        color ='cyan',\n",
    "        colorscale='Viridis',   # choose a colorscale\n",
    "        opacity=0.4\n",
    "    ),\n",
    "   \n",
    ")\n",
    "feature_df_F0_b_GLY = feature_df[(feature_df.frame == 'frame_0') & feature_df.feature.str.endswith('backbone_GLY')].assign(feature_chain =  lambda df : df.feature + df.chainID)\n",
    "feature_chain_trace_b_GLY =  go.Scatter3d(\n",
    "    x=feature_df_F0_b_GLY.COM_x,\n",
    "    y=feature_df_F0_b_GLY.COM_y,\n",
    "    z=feature_df_F0_b_GLY.COM_z,\n",
    "    name='backbone_GLY_COM',\n",
    "    mode='markers',\n",
    "    hovertext= feature_df_F0_b_GLY.feature_chain,\n",
    "    marker=dict(\n",
    "        size=18,\n",
    "        #color=feature_df_F0.chainID,                # set color to an array/list of desired values\n",
    "        color ='purple',\n",
    "        colorscale='Viridis',   # choose a colorscale\n",
    "        opacity=0.8\n",
    "    ),\n",
    "   \n",
    ")\n",
    "feature_df_F0_b_GLY"
   ]
  },
  {
   "cell_type": "code",
   "execution_count": null,
   "id": "60ae03fd-a20b-45a1-a620-a2e199592786",
   "metadata": {},
   "outputs": [],
   "source": [
    "\n",
    "fig = go.Figure(data=[frame_0_trace,feature_chain_trace_b,feature_chain_trace_b_GLY])\n",
    "\n",
    "fig.update_layout(\n",
    "    #autosize=False,\n",
    "    width=800,\n",
    "    height=800\n",
    "    \n",
    ")\n",
    "fig.show()"
   ]
  },
  {
   "cell_type": "code",
   "execution_count": null,
   "id": "bac6bde6-fad2-4088-b667-36919ead4d28",
   "metadata": {},
   "outputs": [],
   "source": [
    "print(f'count of chains = {dcd_traj.top.n_chains}, \\\n",
    "         count of residues = {dcd_traj.top.n_residues},\\\n",
    "        count of potential Glycans = {len([r for r in dcd_traj.top.residues if str(r).startswith(\"GLY\")]) } '\n",
    ")"
   ]
  },
  {
   "cell_type": "code",
   "execution_count": null,
   "id": "d3f93bac-f5ca-4823-bc6d-e0f27dacd108",
   "metadata": {
    "jupyter": {
     "outputs_hidden": true
    },
    "tags": []
   },
   "outputs": [],
   "source": [
    "[r for r in dcd_traj.top.residues if str(r).startswith('GLY')]"
   ]
  },
  {
   "cell_type": "code",
   "execution_count": null,
   "id": "07e7bf63-7d0a-416d-98ed-d1d575794a90",
   "metadata": {},
   "outputs": [],
   "source": [
    "dcd_traj.top.select(\"resn =~ 'GLY*'\")"
   ]
  },
  {
   "cell_type": "code",
   "execution_count": null,
   "id": "108af6e0-f89d-461a-b1f6-771194f067a6",
   "metadata": {},
   "outputs": [],
   "source": [
    "atom_id_LUP_chains = {f'chainID_{c}' : get_atom_ids_for_feature(dcd_traj,f'chainid == {c}') for c in range(dcd_traj.n_chains)}"
   ]
  },
  {
   "cell_type": "code",
   "execution_count": null,
   "id": "3c78e059-a89c-459b-8793-0c99da664b2c",
   "metadata": {
    "jupyter": {
     "outputs_hidden": true
    },
    "tags": []
   },
   "outputs": [],
   "source": [
    "fig = px.scatter_3d(gen_xyz_Table_4_LUP(LUP=atom_id_LUP_chains,keyNames=list(atom_id_LUP_chains.keys())), x='x', y='y', z='z',\n",
    "          color='type',width=800,height=800,opacity=0.4, \n",
    "                    #size = [5 for i in range(frame_0_coord_df.shape[0])]\n",
    "            )\n"
   ]
  },
  {
   "cell_type": "code",
   "execution_count": null,
   "id": "7e3b8601-7106-4c18-8d36-3025a157dafe",
   "metadata": {},
   "outputs": [],
   "source": [
    "fig.show()"
   ]
  },
  {
   "cell_type": "code",
   "execution_count": null,
   "id": "715c27c0-8299-4a2d-96ab-ab774f0a6079",
   "metadata": {},
   "outputs": [],
   "source": []
  }
 ],
 "metadata": {
  "kernelspec": {
   "display_name": "Python 3 (ipykernel)",
   "language": "python",
   "name": "python3"
  },
  "language_info": {
   "codemirror_mode": {
    "name": "ipython",
    "version": 3
   },
   "file_extension": ".py",
   "mimetype": "text/x-python",
   "name": "python",
   "nbconvert_exporter": "python",
   "pygments_lexer": "ipython3",
   "version": "3.8.11"
  }
 },
 "nbformat": 4,
 "nbformat_minor": 5
}
